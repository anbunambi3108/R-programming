{
 "cells": [
  {
   "cell_type": "code",
   "execution_count": 1,
   "metadata": {},
   "outputs": [
    {
     "name": "stdout",
     "output_type": "stream",
     "text": [
      "[1] 1 2 3 4\n"
     ]
    },
    {
     "data": {
      "text/html": [
       "'double'"
      ],
      "text/latex": [
       "'double'"
      ],
      "text/markdown": [
       "'double'"
      ],
      "text/plain": [
       "[1] \"double\""
      ]
     },
     "metadata": {},
     "output_type": "display_data"
    }
   ],
   "source": [
    "a<-c(1,2,3,4)\n",
    "print(a)\n",
    "typeof(a)"
   ]
  },
  {
   "cell_type": "code",
   "execution_count": 8,
   "metadata": {},
   "outputs": [
    {
     "name": "stdout",
     "output_type": "stream",
     "text": [
      "       ca1 ca2 ca3 FA\n",
      "python  11  12  13 39\n",
      "R       15  14  13 38\n",
      "[1] 12\n",
      "python      R \n",
      "    39     38 \n",
      "ca1 ca2 ca3  FA \n",
      " 15  14  13  38 \n"
     ]
    }
   ],
   "source": [
    "rownames = c(\"python\",\"R\")\n",
    "colnames = c(\"ca1\",\"ca2\",\"ca3\",\"FA\")\n",
    "P <- matrix(c(11,12,13,39,15,14,13,38),nrow = 2,byrow=TRUE,dimnames = list( rownames,colnames ))\n",
    "print( P )\n",
    "print(P[1,2])\n",
    "print(P[,4])\n",
    "print(P[2,])"
   ]
  },
  {
   "cell_type": "code",
   "execution_count": 9,
   "metadata": {},
   "outputs": [
    {
     "name": "stdout",
     "output_type": "stream",
     "text": [
      "     Col1 col2 col3\n",
      "row1    1    2    3\n",
      "row2   10  100   11\n"
     ]
    },
    {
     "data": {
      "text/html": [
       "<dl class=dl-horizontal>\n",
       "\t<dt>ca1</dt>\n",
       "\t\t<dd>26</dd>\n",
       "\t<dt>ca2</dt>\n",
       "\t\t<dd>26</dd>\n",
       "\t<dt>ca3</dt>\n",
       "\t\t<dd>26</dd>\n",
       "\t<dt>FA</dt>\n",
       "\t\t<dd>77</dd>\n",
       "</dl>\n"
      ],
      "text/latex": [
       "\\begin{description*}\n",
       "\\item[ca1] 26\n",
       "\\item[ca2] 26\n",
       "\\item[ca3] 26\n",
       "\\item[FA] 77\n",
       "\\end{description*}\n"
      ],
      "text/markdown": [
       "ca1\n",
       ":   26ca2\n",
       ":   26ca3\n",
       ":   26FA\n",
       ":   77\n",
       "\n"
      ],
      "text/plain": [
       "ca1 ca2 ca3  FA \n",
       " 26  26  26  77 "
      ]
     },
     "metadata": {},
     "output_type": "display_data"
    },
    {
     "data": {
      "text/html": [
       "<dl class=dl-horizontal>\n",
       "\t<dt>python</dt>\n",
       "\t\t<dd>75</dd>\n",
       "\t<dt>R</dt>\n",
       "\t\t<dd>80</dd>\n",
       "</dl>\n"
      ],
      "text/latex": [
       "\\begin{description*}\n",
       "\\item[python] 75\n",
       "\\item[R] 80\n",
       "\\end{description*}\n"
      ],
      "text/markdown": [
       "python\n",
       ":   75R\n",
       ":   80\n",
       "\n"
      ],
      "text/plain": [
       "python      R \n",
       "    75     80 "
      ]
     },
     "metadata": {},
     "output_type": "display_data"
    },
    {
     "data": {
      "text/html": [
       "<dl class=dl-horizontal>\n",
       "\t<dt>python</dt>\n",
       "\t\t<dd>18.75</dd>\n",
       "\t<dt>R</dt>\n",
       "\t\t<dd>20</dd>\n",
       "</dl>\n"
      ],
      "text/latex": [
       "\\begin{description*}\n",
       "\\item[python] 18.75\n",
       "\\item[R] 20\n",
       "\\end{description*}\n"
      ],
      "text/markdown": [
       "python\n",
       ":   18.75R\n",
       ":   20\n",
       "\n"
      ],
      "text/plain": [
       "python      R \n",
       " 18.75  20.00 "
      ]
     },
     "metadata": {},
     "output_type": "display_data"
    },
    {
     "data": {
      "text/html": [
       "<table>\n",
       "<thead><tr><th></th><th scope=col>python</th><th scope=col>R</th></tr></thead>\n",
       "<tbody>\n",
       "\t<tr><th scope=row>ca1</th><td>11</td><td>15</td></tr>\n",
       "\t<tr><th scope=row>ca2</th><td>12</td><td>14</td></tr>\n",
       "\t<tr><th scope=row>ca3</th><td>13</td><td>13</td></tr>\n",
       "\t<tr><th scope=row>FA</th><td>39</td><td>38</td></tr>\n",
       "</tbody>\n",
       "</table>\n"
      ],
      "text/latex": [
       "\\begin{tabular}{r|ll}\n",
       "  & python & R\\\\\n",
       "\\hline\n",
       "\tca1 & 11 & 15\\\\\n",
       "\tca2 & 12 & 14\\\\\n",
       "\tca3 & 13 & 13\\\\\n",
       "\tFA & 39 & 38\\\\\n",
       "\\end{tabular}\n"
      ],
      "text/markdown": [
       "\n",
       "| <!--/--> | python | R |\n",
       "|---|---|---|\n",
       "| ca1 | 11 | 15 |\n",
       "| ca2 | 12 | 14 |\n",
       "| ca3 | 13 | 13 |\n",
       "| FA | 39 | 38 |\n",
       "\n"
      ],
      "text/plain": [
       "    python R \n",
       "ca1 11     15\n",
       "ca2 12     14\n",
       "ca3 13     13\n",
       "FA  39     38"
      ]
     },
     "metadata": {},
     "output_type": "display_data"
    }
   ],
   "source": [
    "a=matrix(c(1,2,3,10,100,11),nrow=2,ncol = 3,byrow = TRUE,dimname=list(c(\"row1\",\"row2\"),c(\"Col1\",\"col2\",\"col3\")))\n",
    "print(a)\n",
    "colSums(P)\n",
    "rowSums(P)\n",
    "rowMeans(P)\n",
    "t(P)"
   ]
  },
  {
   "cell_type": "code",
   "execution_count": 13,
   "metadata": {},
   "outputs": [
    {
     "name": "stdout",
     "output_type": "stream",
     "text": [
      "[1] \"hello\"\n",
      "enter val45\n",
      "[1] \"45\"\n"
     ]
    }
   ],
   "source": [
    "b<-10\n",
    "b=\"hello\"\n",
    "print(b)\n",
    "b=readline(prompt='enter val')\n",
    "print(b)"
   ]
  },
  {
   "cell_type": "code",
   "execution_count": 14,
   "metadata": {},
   "outputs": [
    {
     "data": {
      "text/html": [
       "45"
      ],
      "text/latex": [
       "45"
      ],
      "text/markdown": [
       "45"
      ],
      "text/plain": [
       "[1] 45"
      ]
     },
     "metadata": {},
     "output_type": "display_data"
    },
    {
     "data": {
      "text/html": [],
      "text/latex": [],
      "text/markdown": [],
      "text/plain": [
       "character(0)"
      ]
     },
     "metadata": {},
     "output_type": "display_data"
    },
    {
     "name": "stdout",
     "output_type": "stream",
     "text": [
      "[1] \"45\"\n"
     ]
    }
   ],
   "source": [
    "c=as.integer(b)\n",
    "as.numeric(b)\n",
    "as.character()\n",
    "print(b)"
   ]
  },
  {
   "cell_type": "code",
   "execution_count": 15,
   "metadata": {},
   "outputs": [
    {
     "name": "stdout",
     "output_type": "stream",
     "text": [
      "   name lang rank\n",
      "1 arjun    c    3\n",
      "2  ajay   py    2\n",
      "3  adhi    r    1\n"
     ]
    },
    {
     "data": {
      "text/plain": [
       "    name   lang        rank    \n",
       " adhi :1   c :1   Min.   :1.0  \n",
       " ajay :1   py:1   1st Qu.:1.5  \n",
       " arjun:1   r :1   Median :2.0  \n",
       "                  Mean   :2.0  \n",
       "                  3rd Qu.:2.5  \n",
       "                  Max.   :3.0  "
      ]
     },
     "metadata": {},
     "output_type": "display_data"
    }
   ],
   "source": [
    "name=c(\"arjun\",\"ajay\",\"adhi\")\n",
    "lang=c(\"c\",\"py\",\"r\")\n",
    "rank=c(3,2,1)\n",
    "df=data.frame(name,lang,rank)\n",
    "print(df)\n",
    "summary(df)"
   ]
  },
  {
   "cell_type": "code",
   "execution_count": 16,
   "metadata": {},
   "outputs": [
    {
     "name": "stdout",
     "output_type": "stream",
     "text": [
      "     [,1] [,2]\n",
      "[1,]    9   10\n",
      "[2,]   11   12\n",
      "[3,]   13   14\n",
      "[4,]   15   16\n"
     ]
    }
   ],
   "source": [
    "M = matrix( c(9,10,11,12,13,14,15,16), nrow = 4, ncol = 2, byrow = TRUE)\n",
    "print(M)"
   ]
  },
  {
   "cell_type": "code",
   "execution_count": 17,
   "metadata": {},
   "outputs": [
    {
     "name": "stdout",
     "output_type": "stream",
     "text": [
      "Enter ID: 119053\n",
      "Enter Branch: ai\n",
      "119053 ai \n"
     ]
    }
   ],
   "source": [
    "userID <- readline(\"Enter ID: \")\n",
    "branch <- readline(\"Enter Branch: \")\n",
    "cat(userID,branch,'\\n')"
   ]
  },
  {
   "cell_type": "code",
   "execution_count": 18,
   "metadata": {},
   "outputs": [
    {
     "name": "stdout",
     "output_type": "stream",
     "text": [
      "   name subject score rank\n",
      "1 harry   maths    95    3\n",
      "2 niall science    97    2\n",
      "3  zayn      gk    99    1\n"
     ]
    }
   ],
   "source": [
    "report <- data.frame(\n",
    "  name= c('harry','niall','zayn'),\n",
    "  subject = c ('maths','science','gk'),\n",
    "  score =c(95,97,99),\n",
    "  rank =c(3,2,1))\n",
    "print(report)"
   ]
  },
  {
   "cell_type": "code",
   "execution_count": 19,
   "metadata": {},
   "outputs": [
    {
     "data": {
      "text/plain": [
       "    name      subject      score         rank    \n",
       " harry:1   gk     :1   Min.   :95   Min.   :1.0  \n",
       " niall:1   maths  :1   1st Qu.:96   1st Qu.:1.5  \n",
       " zayn :1   science:1   Median :97   Median :2.0  \n",
       "                       Mean   :97   Mean   :2.0  \n",
       "                       3rd Qu.:98   3rd Qu.:2.5  \n",
       "                       Max.   :99   Max.   :3.0  "
      ]
     },
     "metadata": {},
     "output_type": "display_data"
    }
   ],
   "source": [
    "summary(report)"
   ]
  },
  {
   "cell_type": "code",
   "execution_count": 20,
   "metadata": {},
   "outputs": [
    {
     "name": "stdout",
     "output_type": "stream",
     "text": [
      "[1] \"extracted column:\"\n",
      "[1] harry niall zayn \n",
      "Levels: harry niall zayn\n"
     ]
    }
   ],
   "source": [
    "print(\"extracted column:\")\n",
    "print(report$name)"
   ]
  },
  {
   "cell_type": "code",
   "execution_count": 21,
   "metadata": {},
   "outputs": [
    {
     "name": "stdout",
     "output_type": "stream",
     "text": [
      "[1] \"extractetd first two rows:\"\n",
      "   name subject score rank\n",
      "1 harry   maths    95    3\n",
      "2 niall science    97    2\n"
     ]
    }
   ],
   "source": [
    "print(\"extractetd first two rows:\")\n",
    "rows <- report[1:2,]\n",
    "print(rows)"
   ]
  },
  {
   "cell_type": "code",
   "execution_count": 24,
   "metadata": {},
   "outputs": [],
   "source": [
    "name=c(\"harry\",\"niall\",\"zayn\")\n",
    "marks=c(39,37,35)\n",
    "attempts=c(0,2,1)\n",
    "qualify=c(\"yes\",\"yes\",\"yes\")\n",
    "df=data.frame(name,marks,attempts,qualify)\n",
    "new_df=data.frame(name=c(\"liam\",\"louis\"),marks=c(34,33),attempts=c(3,4),qualify=c(\"yes\",\"yes\"))"
   ]
  },
  {
   "cell_type": "code",
   "execution_count": 25,
   "metadata": {},
   "outputs": [
    {
     "name": "stdout",
     "output_type": "stream",
     "text": [
      "   name marks attempts qualify\n",
      "1 harry    39        0     yes\n",
      "2 niall    37        2     yes\n",
      "3  zayn    35        1     yes\n",
      "4  liam    34        3     yes\n",
      "5 louis    33        4     yes\n",
      "'data.frame':\t5 obs. of  4 variables:\n",
      " $ name    : Factor w/ 5 levels \"harry\",\"niall\",..: 1 2 3 4 5\n",
      " $ marks   : num  39 37 35 34 33\n",
      " $ attempts: num  0 2 1 3 4\n",
      " $ qualify : Factor w/ 1 level \"yes\": 1 1 1 1 1\n"
     ]
    }
   ],
   "source": [
    "#df=cbind(df,new_df)#cbind to bind the column to the existing data\n",
    "df=rbind(df,new_df)#rbind to add rows to the existing data\n",
    "print(df)\n",
    "str(df)"
   ]
  },
  {
   "cell_type": "code",
   "execution_count": 26,
   "metadata": {},
   "outputs": [
    {
     "name": "stdout",
     "output_type": "stream",
     "text": [
      "  marks attempts\n",
      "2    37        2\n",
      "3    35        1\n",
      "4    34        3\n",
      "  marks attempts\n",
      "1    39        0\n",
      "3    35        1\n",
      "5    33        4\n"
     ]
    }
   ],
   "source": [
    "##delete the column -> sunset and select=-c()\n",
    "new_df1=subset(df,select=-c(name,qualify))\n",
    "rdf=new_df1[-c(1,5),]\n",
    "print(rdf)\n",
    "cdf=new_df1[-c(2,4),]\n",
    "print(cdf)"
   ]
  },
  {
   "cell_type": "code",
   "execution_count": 27,
   "metadata": {},
   "outputs": [
    {
     "name": "stdout",
     "output_type": "stream",
     "text": [
      "  student name marks attempts qualify\n",
      "1        harry    39        0     yes\n",
      "2        niall    37        2     yes\n",
      "3         zayn    35        1     yes\n",
      "4         liam    34        3     yes\n",
      "5        louis    33        4     yes\n"
     ]
    }
   ],
   "source": [
    "#to change the column name\n",
    "colnames(df)[which(names(df)==\"name\")]=\"student name\"\n",
    "print(df)"
   ]
  },
  {
   "cell_type": "code",
   "execution_count": 28,
   "metadata": {},
   "outputs": [
    {
     "name": "stdout",
     "output_type": "stream",
     "text": [
      " [1] a a a a b a b b b c\n",
      "Levels: a b c\n",
      "f1\n",
      "a b c \n",
      "5 4 1 \n"
     ]
    }
   ],
   "source": [
    "#factors-which are used to categorize the data and store it as levels\n",
    "f=c(\"a\",\"a\",\"a\",\"a\",\"b\",\"a\",\"b\",\"b\",\"b\",\"c\")\n",
    "f1=factor(f)\n",
    "print(f1)\n",
    "print(table(f1))# prints a table "
   ]
  },
  {
   "cell_type": "code",
   "execution_count": 29,
   "metadata": {},
   "outputs": [
    {
     "data": {
      "text/html": [
       "2.23606797749979"
      ],
      "text/latex": [
       "2.23606797749979"
      ],
      "text/markdown": [
       "2.23606797749979"
      ],
      "text/plain": [
       "[1] 2.236068"
      ]
     },
     "metadata": {},
     "output_type": "display_data"
    }
   ],
   "source": [
    "#square root:\n",
    "sqrt(5)"
   ]
  },
  {
   "cell_type": "code",
   "execution_count": 30,
   "metadata": {},
   "outputs": [
    {
     "name": "stdout",
     "output_type": "stream",
     "text": [
      "[1] -2.30103\n"
     ]
    }
   ],
   "source": [
    "#log function\n",
    "v=log10(200)*cos(pi)\n",
    "print(v)"
   ]
  },
  {
   "cell_type": "code",
   "execution_count": 31,
   "metadata": {},
   "outputs": [
    {
     "data": {
      "text/html": [
       "<ol class=list-inline>\n",
       "\t<li>94</li>\n",
       "\t<li>54</li>\n",
       "\t<li>66</li>\n",
       "\t<li>76</li>\n",
       "\t<li>50</li>\n",
       "\t<li>72</li>\n",
       "\t<li>68</li>\n",
       "\t<li>38</li>\n",
       "\t<li>88</li>\n",
       "\t<li>44</li>\n",
       "</ol>\n"
      ],
      "text/latex": [
       "\\begin{enumerate*}\n",
       "\\item 94\n",
       "\\item 54\n",
       "\\item 66\n",
       "\\item 76\n",
       "\\item 50\n",
       "\\item 72\n",
       "\\item 68\n",
       "\\item 38\n",
       "\\item 88\n",
       "\\item 44\n",
       "\\end{enumerate*}\n"
      ],
      "text/markdown": [
       "1. 94\n",
       "2. 54\n",
       "3. 66\n",
       "4. 76\n",
       "5. 50\n",
       "6. 72\n",
       "7. 68\n",
       "8. 38\n",
       "9. 88\n",
       "10. 44\n",
       "\n",
       "\n"
      ],
      "text/plain": [
       " [1] 94 54 66 76 50 72 68 38 88 44"
      ]
     },
     "metadata": {},
     "output_type": "display_data"
    },
    {
     "data": {
      "text/html": [
       "<ol class=list-inline>\n",
       "\t<li>24.2</li>\n",
       "\t<li>83.46</li>\n",
       "\t<li>65.46</li>\n",
       "\t<li>65.31</li>\n",
       "\t<li>42.24</li>\n",
       "\t<li>89.8</li>\n",
       "\t<li>45.83</li>\n",
       "\t<li>27.81</li>\n",
       "\t<li>41.65</li>\n",
       "\t<li>22.35</li>\n",
       "</ol>\n"
      ],
      "text/latex": [
       "\\begin{enumerate*}\n",
       "\\item 24.2\n",
       "\\item 83.46\n",
       "\\item 65.46\n",
       "\\item 65.31\n",
       "\\item 42.24\n",
       "\\item 89.8\n",
       "\\item 45.83\n",
       "\\item 27.81\n",
       "\\item 41.65\n",
       "\\item 22.35\n",
       "\\end{enumerate*}\n"
      ],
      "text/markdown": [
       "1. 24.2\n",
       "2. 83.46\n",
       "3. 65.46\n",
       "4. 65.31\n",
       "5. 42.24\n",
       "6. 89.8\n",
       "7. 45.83\n",
       "8. 27.81\n",
       "9. 41.65\n",
       "10. 22.35\n",
       "\n",
       "\n"
      ],
      "text/plain": [
       " [1] 24.20 83.46 65.46 65.31 42.24 89.80 45.83 27.81 41.65 22.35"
      ]
     },
     "metadata": {},
     "output_type": "display_data"
    }
   ],
   "source": [
    "#to generate random value\n",
    "sample(1:100,10)\n",
    "round(runif(10,0,100),2)"
   ]
  },
  {
   "cell_type": "code",
   "execution_count": 32,
   "metadata": {},
   "outputs": [
    {
     "data": {
      "text/html": [
       "<ol class=list-inline>\n",
       "\t<li>1</li>\n",
       "\t<li>3</li>\n",
       "\t<li>6</li>\n",
       "</ol>\n"
      ],
      "text/latex": [
       "\\begin{enumerate*}\n",
       "\\item 1\n",
       "\\item 3\n",
       "\\item 6\n",
       "\\end{enumerate*}\n"
      ],
      "text/markdown": [
       "1. 1\n",
       "2. 3\n",
       "3. 6\n",
       "\n",
       "\n"
      ],
      "text/plain": [
       "[1] 1 3 6"
      ]
     },
     "metadata": {},
     "output_type": "display_data"
    },
    {
     "name": "stdout",
     "output_type": "stream",
     "text": [
      "[1]   1 100  12  30  50\n"
     ]
    },
    {
     "data": {
      "text/html": [
       "100"
      ],
      "text/latex": [
       "100"
      ],
      "text/markdown": [
       "100"
      ],
      "text/plain": [
       "[1] 100"
      ]
     },
     "metadata": {},
     "output_type": "display_data"
    },
    {
     "data": {
      "text/html": [
       "1"
      ],
      "text/latex": [
       "1"
      ],
      "text/markdown": [
       "1"
      ],
      "text/plain": [
       "[1] 1"
      ]
     },
     "metadata": {},
     "output_type": "display_data"
    },
    {
     "data": {
      "text/html": [
       "1"
      ],
      "text/latex": [
       "1"
      ],
      "text/markdown": [
       "1"
      ],
      "text/plain": [
       "[1] 1"
      ]
     },
     "metadata": {},
     "output_type": "display_data"
    },
    {
     "data": {
      "text/html": [
       "1523.8"
      ],
      "text/latex": [
       "1523.8"
      ],
      "text/markdown": [
       "1523.8"
      ],
      "text/plain": [
       "[1] 1523.8"
      ]
     },
     "metadata": {},
     "output_type": "display_data"
    }
   ],
   "source": [
    "#cumsum\n",
    "cumsum(c(1,2,3))\n",
    "v=c(1,100,12,30,50)\n",
    "print(v)\n",
    "max(v)\n",
    "min(v)\n",
    "length(c)\n",
    "var(v)"
   ]
  },
  {
   "cell_type": "code",
   "execution_count": 33,
   "metadata": {},
   "outputs": [
    {
     "name": "stdout",
     "output_type": "stream",
     "text": [
      " [1] \"1 leass than 10\"  \"2 leass than 10\"  \"3 leass than 10\"  \"4 leass than 10\" \n",
      " [5] \"5 leass than 10\"  \"6 leass than 10\"  \"7 leass than 10\"  \"8 leass than 10\" \n",
      " [9] \"9 leass than 10\"  \"10 leass than 10\"\n"
     ]
    }
   ],
   "source": [
    "##control statements:\n",
    "##if \n",
    "value <- 1:10\n",
    "if(sample(value,1)<=10){\n",
    "  print(paste(value,\"leass than 10\"))}"
   ]
  },
  {
   "cell_type": "code",
   "execution_count": 34,
   "metadata": {},
   "outputs": [
    {
     "name": "stdout",
     "output_type": "stream",
     "text": [
      "[1] \"val is less val2\"\n"
     ]
    }
   ],
   "source": [
    "## if -else\n",
    "x=50\n",
    "x1=100\n",
    "if(x>x1){\n",
    "  print(\"val is > val2\")\n",
    "}else{\n",
    "  print(\"val is less val2\")\n",
    "}"
   ]
  },
  {
   "cell_type": "code",
   "execution_count": 36,
   "metadata": {},
   "outputs": [
    {
     "name": "stdout",
     "output_type": "stream",
     "text": [
      "[1] \"a\"\n",
      "[1] \"b\"\n",
      "[1] \"c\"\n",
      "[1] \"d\"\n",
      "[1] \"e\"\n",
      "[1] \"f\"\n",
      "[1] \"g\"\n",
      "[1] \"h\"\n",
      "[1] \"i\"\n",
      "[1] \"j\"\n"
     ]
    }
   ],
   "source": [
    "#for \n",
    "x <- letters[1:10]\n",
    "for(i in x){\n",
    "  print (i)\n",
    "}"
   ]
  },
  {
   "cell_type": "code",
   "execution_count": 39,
   "metadata": {},
   "outputs": [
    {
     "name": "stdout",
     "output_type": "stream",
     "text": [
      "     [,1] [,2] [,3] [,4] [,5] [,6] [,7] [,8] [,9] [,10]\n",
      "[1,]    4    6    8   10   12   14   16   18   20    22\n",
      "[2,]    5    7    9   11   13   15   17   19   21    23\n",
      "[1] 4\n",
      "[1] 6\n",
      "[1] 5\n",
      "[1] 7\n"
     ]
    },
    {
     "ename": "ERROR",
     "evalue": "Error in mat1[val1, val2]: subscript out of bounds\n",
     "output_type": "error",
     "traceback": [
      "Error in mat1[val1, val2]: subscript out of bounds\nTraceback:\n",
      "1. print(mat1[val1, val2])"
     ]
    }
   ],
   "source": [
    "#nested loop:\n",
    "  mat1=matrix(4:23,2)\n",
    "print(mat1)\n",
    "for(val1 in seq(ncol(mat1))){\n",
    "  for(val2 in seq(nrow(mat1))){\n",
    "    print(mat1[val1,val2])\n",
    "  }\n",
    "}"
   ]
  },
  {
   "cell_type": "code",
   "execution_count": 40,
   "metadata": {},
   "outputs": [
    {
     "name": "stdout",
     "output_type": "stream",
     "text": [
      "[1] -5\n",
      "[1] -4\n",
      "[1] -3\n",
      "[1] -2\n",
      "[1] -1\n",
      "[1] 0\n",
      "[1] 1\n",
      "[1] 2\n",
      "[1] 3\n",
      "[1] 4\n",
      "[1] 5\n"
     ]
    }
   ],
   "source": [
    "## while\n",
    "x=-5\n",
    "while(x<=5){\n",
    "  print(x)\n",
    "  x=x+1\n",
    "}"
   ]
  },
  {
   "cell_type": "code",
   "execution_count": 42,
   "metadata": {},
   "outputs": [
    {
     "name": "stdout",
     "output_type": "stream",
     "text": [
      "[1] 4.358899\n"
     ]
    }
   ],
   "source": [
    "#1\n",
    "num =19\n",
    "if(num > 0){\n",
    "  print(sqrt(num))\n",
    "}else {\n",
    "  print(NA)\n",
    "}"
   ]
  },
  {
   "cell_type": "code",
   "execution_count": 43,
   "metadata": {},
   "outputs": [
    {
     "data": {
      "text/html": [
       "<ol class=list-inline>\n",
       "\t<li>'a'</li>\n",
       "\t<li>'b'</li>\n",
       "\t<li>'c'</li>\n",
       "\t<li>'d'</li>\n",
       "\t<li>'e'</li>\n",
       "\t<li>'f'</li>\n",
       "\t<li>'g'</li>\n",
       "\t<li>'h'</li>\n",
       "\t<li>'i'</li>\n",
       "\t<li>'j'</li>\n",
       "\t<li>'k'</li>\n",
       "\t<li>'l'</li>\n",
       "\t<li>'m'</li>\n",
       "\t<li>'n'</li>\n",
       "\t<li>'o'</li>\n",
       "\t<li>'p'</li>\n",
       "\t<li>'q'</li>\n",
       "\t<li>'r'</li>\n",
       "\t<li>'s'</li>\n",
       "\t<li>'t'</li>\n",
       "\t<li>'u'</li>\n",
       "\t<li>'v'</li>\n",
       "\t<li>'w'</li>\n",
       "\t<li>'x'</li>\n",
       "\t<li>'y'</li>\n",
       "\t<li>'z'</li>\n",
       "</ol>\n"
      ],
      "text/latex": [
       "\\begin{enumerate*}\n",
       "\\item 'a'\n",
       "\\item 'b'\n",
       "\\item 'c'\n",
       "\\item 'd'\n",
       "\\item 'e'\n",
       "\\item 'f'\n",
       "\\item 'g'\n",
       "\\item 'h'\n",
       "\\item 'i'\n",
       "\\item 'j'\n",
       "\\item 'k'\n",
       "\\item 'l'\n",
       "\\item 'm'\n",
       "\\item 'n'\n",
       "\\item 'o'\n",
       "\\item 'p'\n",
       "\\item 'q'\n",
       "\\item 'r'\n",
       "\\item 's'\n",
       "\\item 't'\n",
       "\\item 'u'\n",
       "\\item 'v'\n",
       "\\item 'w'\n",
       "\\item 'x'\n",
       "\\item 'y'\n",
       "\\item 'z'\n",
       "\\end{enumerate*}\n"
      ],
      "text/markdown": [
       "1. 'a'\n",
       "2. 'b'\n",
       "3. 'c'\n",
       "4. 'd'\n",
       "5. 'e'\n",
       "6. 'f'\n",
       "7. 'g'\n",
       "8. 'h'\n",
       "9. 'i'\n",
       "10. 'j'\n",
       "11. 'k'\n",
       "12. 'l'\n",
       "13. 'm'\n",
       "14. 'n'\n",
       "15. 'o'\n",
       "16. 'p'\n",
       "17. 'q'\n",
       "18. 'r'\n",
       "19. 's'\n",
       "20. 't'\n",
       "21. 'u'\n",
       "22. 'v'\n",
       "23. 'w'\n",
       "24. 'x'\n",
       "25. 'y'\n",
       "26. 'z'\n",
       "\n",
       "\n"
      ],
      "text/plain": [
       " [1] \"a\" \"b\" \"c\" \"d\" \"e\" \"f\" \"g\" \"h\" \"i\" \"j\" \"k\" \"l\" \"m\" \"n\" \"o\" \"p\" \"q\" \"r\" \"s\"\n",
       "[20] \"t\" \"u\" \"v\" \"w\" \"x\" \"y\" \"z\""
      ]
     },
     "metadata": {},
     "output_type": "display_data"
    },
    {
     "data": {
      "text/html": [
       "<ol class=list-inline>\n",
       "\t<li>'A'</li>\n",
       "\t<li>'B'</li>\n",
       "\t<li>'C'</li>\n",
       "\t<li>'D'</li>\n",
       "\t<li>'E'</li>\n",
       "\t<li>'F'</li>\n",
       "\t<li>'G'</li>\n",
       "\t<li>'H'</li>\n",
       "\t<li>'I'</li>\n",
       "\t<li>'J'</li>\n",
       "\t<li>'K'</li>\n",
       "\t<li>'L'</li>\n",
       "\t<li>'M'</li>\n",
       "\t<li>'N'</li>\n",
       "\t<li>'O'</li>\n",
       "\t<li>'P'</li>\n",
       "\t<li>'Q'</li>\n",
       "\t<li>'R'</li>\n",
       "\t<li>'S'</li>\n",
       "\t<li>'T'</li>\n",
       "\t<li>'U'</li>\n",
       "\t<li>'V'</li>\n",
       "\t<li>'W'</li>\n",
       "\t<li>'X'</li>\n",
       "\t<li>'Y'</li>\n",
       "\t<li>'Z'</li>\n",
       "</ol>\n"
      ],
      "text/latex": [
       "\\begin{enumerate*}\n",
       "\\item 'A'\n",
       "\\item 'B'\n",
       "\\item 'C'\n",
       "\\item 'D'\n",
       "\\item 'E'\n",
       "\\item 'F'\n",
       "\\item 'G'\n",
       "\\item 'H'\n",
       "\\item 'I'\n",
       "\\item 'J'\n",
       "\\item 'K'\n",
       "\\item 'L'\n",
       "\\item 'M'\n",
       "\\item 'N'\n",
       "\\item 'O'\n",
       "\\item 'P'\n",
       "\\item 'Q'\n",
       "\\item 'R'\n",
       "\\item 'S'\n",
       "\\item 'T'\n",
       "\\item 'U'\n",
       "\\item 'V'\n",
       "\\item 'W'\n",
       "\\item 'X'\n",
       "\\item 'Y'\n",
       "\\item 'Z'\n",
       "\\end{enumerate*}\n"
      ],
      "text/markdown": [
       "1. 'A'\n",
       "2. 'B'\n",
       "3. 'C'\n",
       "4. 'D'\n",
       "5. 'E'\n",
       "6. 'F'\n",
       "7. 'G'\n",
       "8. 'H'\n",
       "9. 'I'\n",
       "10. 'J'\n",
       "11. 'K'\n",
       "12. 'L'\n",
       "13. 'M'\n",
       "14. 'N'\n",
       "15. 'O'\n",
       "16. 'P'\n",
       "17. 'Q'\n",
       "18. 'R'\n",
       "19. 'S'\n",
       "20. 'T'\n",
       "21. 'U'\n",
       "22. 'V'\n",
       "23. 'W'\n",
       "24. 'X'\n",
       "25. 'Y'\n",
       "26. 'Z'\n",
       "\n",
       "\n"
      ],
      "text/plain": [
       " [1] \"A\" \"B\" \"C\" \"D\" \"E\" \"F\" \"G\" \"H\" \"I\" \"J\" \"K\" \"L\" \"M\" \"N\" \"O\" \"P\" \"Q\" \"R\" \"S\"\n",
       "[20] \"T\" \"U\" \"V\" \"W\" \"X\" \"Y\" \"Z\""
      ]
     },
     "metadata": {},
     "output_type": "display_data"
    }
   ],
   "source": [
    "#2\n",
    "letters\n",
    "LETTERS"
   ]
  },
  {
   "cell_type": "code",
   "execution_count": 44,
   "metadata": {},
   "outputs": [
    {
     "data": {
      "text/html": [
       "<ol class=list-inline>\n",
       "\t<li>50</li>\n",
       "\t<li>12</li>\n",
       "\t<li>1</li>\n",
       "</ol>\n"
      ],
      "text/latex": [
       "\\begin{enumerate*}\n",
       "\\item 50\n",
       "\\item 12\n",
       "\\item 1\n",
       "\\end{enumerate*}\n"
      ],
      "text/markdown": [
       "1. 50\n",
       "2. 12\n",
       "3. 1\n",
       "\n",
       "\n"
      ],
      "text/plain": [
       "[1] 50 12  1"
      ]
     },
     "metadata": {},
     "output_type": "display_data"
    }
   ],
   "source": [
    "#3\n",
    "x = c(1,50,12)\n",
    "sort(x,decreasing=TRUE)"
   ]
  },
  {
   "cell_type": "code",
   "execution_count": 46,
   "metadata": {},
   "outputs": [
    {
     "name": "stdout",
     "output_type": "stream",
     "text": [
      "[1] 1 2 4 5\n",
      "[1] \"Mean= 3\"\n",
      "[1] \"amount of values that are larger than mean = 2\"\n"
     ]
    }
   ],
   "source": [
    "#4\n",
    "v = c(1,2,4,5)\n",
    "n=0\n",
    "print(v)\n",
    "v1=mean(v)\n",
    "print(paste(\"Mean=\",v1))\n",
    "for(i in 1:length(v)){\n",
    "if (v[i] > v1){\n",
    "  n=n+1\n",
    "}\n",
    "}\n",
    "print(paste(\"amount of values that are larger than mean =\",n))"
   ]
  },
  {
   "cell_type": "code",
   "execution_count": 47,
   "metadata": {},
   "outputs": [
    {
     "name": "stdout",
     "output_type": "stream",
     "text": [
      "[1] 1\n",
      "[1] 2\n",
      "[1] 3\n",
      "[1] 4\n",
      "[1] 5\n",
      "[1] 6\n",
      "[1] 7\n",
      "[1] 8\n",
      "[1] 9\n",
      "[1] 10\n",
      "[1] 2\n",
      "[1] 3\n",
      "[1] 4\n",
      "[1] 5\n",
      "[1] 6\n",
      "[1] 7\n",
      "[1] 8\n",
      "[1] 9\n",
      "[1] 10\n",
      "[1] 11\n",
      "[1] 3\n",
      "[1] 4\n",
      "[1] 5\n",
      "[1] 6\n",
      "[1] 7\n",
      "[1] 8\n",
      "[1] 9\n",
      "[1] 10\n",
      "[1] 11\n",
      "[1] 12\n"
     ]
    }
   ],
   "source": [
    "#5\n",
    "  for (i in 1:length(1:3)) {\n",
    "    for (j in 1:10) {\n",
    "      print(j+i-1)\n",
    "    }}"
   ]
  },
  {
   "cell_type": "code",
   "execution_count": 48,
   "metadata": {},
   "outputs": [
    {
     "name": "stdout",
     "output_type": "stream",
     "text": [
      "   a  b f  d\n",
      "1  3  2 5 NA\n",
      "2  7 NA 2  3\n",
      "3 NA  9 5  4\n",
      "4  9  3 6 NA\n",
      "   a  b f  d e\n",
      "1  3  2 5 NA 5\n",
      "2  7 NA 2  3 3\n",
      "3 NA  9 5  4 9\n",
      "4  9  3 6 NA 6\n"
     ]
    }
   ],
   "source": [
    "#6\n",
    "mydf=data.frame(\n",
    "  a=c(3,7,NA,9),\n",
    "  b=c(2,NA,9,3),\n",
    "  f=c(5,2,5,6),\n",
    "  d=c(NA,3,4,NA)\n",
    ")\n",
    "print(mydf)\n",
    "new_mydf=data.frame(e=c(ifelse(is.na(mydf[,1]) & !is.na(mydf[,2]),\n",
    "                               mydf[,2],ifelse(is.na(mydf[,2]) & !is.na(mydf[,4]),\n",
    "                                               mydf[,4], mydf[,3]))))\n",
    "mydf = cbind(mydf,new_mydf)\n",
    "print(mydf)"
   ]
  },
  {
   "cell_type": "code",
   "execution_count": 53,
   "metadata": {},
   "outputs": [
    {
     "name": "stdout",
     "output_type": "stream",
     "text": [
      "[1] 1\n",
      "[1] 2\n",
      "[1] 3\n",
      "[1] 4\n",
      "[1] 5\n",
      "[1] 6\n",
      "[1] 8\n",
      "[1] 9\n",
      "[1] 10\n",
      "[1] 11\n",
      "[1] 12\n",
      "[1] 13\n",
      "[1] 14\n",
      "[1] 15\n",
      "[1] 16\n",
      "[1] 17\n",
      "[1] 18\n",
      "[1] 19\n",
      "[1] 20\n",
      "[1] 21\n",
      "[1] 22\n",
      "[1] 23\n",
      "[1] 24\n",
      "[1] 25\n",
      "[1] 26\n",
      "[1] 27\n",
      "[1] 28\n",
      "[1] 29\n",
      "[1] 30\n",
      "[1] 31\n",
      "[1] 32\n",
      "[1] 33\n",
      "[1] 34\n",
      "[1] 35\n"
     ]
    }
   ],
   "source": [
    "#7\n",
    "x=0\n",
    "while(x<35){\n",
    "  x=x+1    \n",
    "    if(x==7)next\n",
    "    print(x)\n",
    " }"
   ]
  },
  {
   "cell_type": "code",
   "execution_count": 54,
   "metadata": {},
   "outputs": [
    {
     "name": "stdout",
     "output_type": "stream",
     "text": [
      "   name marks attempts qualify\n",
      "1 harry    39        0     yes\n",
      "2 niall    37        2     yes\n",
      "3  zayn    35        1     yes\n",
      "[1] \"after deleteing row-1\"\n",
      "  marks attempts qualify\n",
      "1    39        0     yes\n",
      "2    37        2     yes\n",
      "3    35        1     yes\n",
      "[1] \"after deleteing column-1\"\n",
      "   name marks attempts qualify\n",
      "2 niall    37        2     yes\n",
      "3  zayn    35        1     yes\n"
     ]
    }
   ],
   "source": [
    "#10\n",
    "name=c(\"harry\",\"niall\",\"zayn\")\n",
    "marks=c(39,37,35)\n",
    "attempts=c(0,2,1)\n",
    "qualify=c(\"yes\",\"yes\",\"yes\")\n",
    "df=data.frame(name,marks,attempts,qualify)\n",
    "print(df)\n",
    "rowdf = df[,-c(1,1)]##deletes the row\n",
    "print(\"after deleteing row-1\")\n",
    "print(rowdf)\n",
    "coldf=df[-c(1,1),]##deletes the column\n",
    "print(\"after deleteing column-1\")\n",
    "print(coldf)"
   ]
  },
  {
   "cell_type": "code",
   "execution_count": 55,
   "metadata": {},
   "outputs": [
    {
     "name": "stdout",
     "output_type": "stream",
     "text": [
      "[1] \"A\"\n",
      "[1] \"B\"\n",
      "[1] \"C\"\n",
      "[1] \"D\"\n",
      "[1] \"E\"\n",
      "[1] \"F\"\n",
      "[1] \"G\"\n",
      "[1] \"H\"\n",
      "[1] \"I\"\n",
      "[1] \"J\"\n",
      "[1] \"K\"\n",
      "[1] \"L\"\n",
      "[1] \"M\"\n",
      "[1] \"N\"\n",
      "[1] \"P\"\n",
      "[1] \"Q\"\n"
     ]
    }
   ],
   "source": [
    "# next statement:\n",
    "x<-LETTERS[ 1:17]\n",
    "for(i in x){\n",
    "  if(i==\"O\"){\n",
    "    next\n",
    "  }\n",
    "  print(i)\n",
    "}"
   ]
  },
  {
   "cell_type": "code",
   "execution_count": 56,
   "metadata": {},
   "outputs": [
    {
     "name": "stdout",
     "output_type": "stream",
     "text": [
      "[1] \"A\"\n",
      "[1] \"B\"\n",
      "[1] \"C\"\n",
      "[1] \"E\"\n",
      "[1] \"F\"\n"
     ]
    }
   ],
   "source": [
    "##\n",
    "v = LETTERS[1:6]\n",
    "for (i in v){\n",
    "  if(i==\"D\"){\n",
    "    next\n",
    "  }\n",
    "  print(i)\n",
    "}"
   ]
  },
  {
   "cell_type": "code",
   "execution_count": 2,
   "metadata": {},
   "outputs": [],
   "source": [
    "##synatax of switch in r\n",
    "\n",
    "#switch(expression,list)\n",
    "\n",
    "##ex-1\n",
    "switch(0,\"black\",\"white\",\"blue\",\"teal\",\"salmon\")"
   ]
  },
  {
   "cell_type": "code",
   "execution_count": 3,
   "metadata": {},
   "outputs": [
    {
     "name": "stdout",
     "output_type": "stream",
     "text": [
      "[1] \"select operation: \"\n",
      "[1] \"1.add\"\n",
      "[1] \"2.sub\"\n",
      "enter choice[1/2]:1\n",
      "enter num1:2\n",
      "enter num2:2\n",
      "[1] \"2 + 2 = 4\"\n"
     ]
    }
   ],
   "source": [
    "##simple calculator:\n",
    "add <- function(x,y){\n",
    "  return(x+y)\n",
    "}\n",
    "sub <- function(x,y){\n",
    "  return(x-y)\n",
    "}\n",
    "print(\"select operation: \")\n",
    "print(\"1.add\")\n",
    "print(\"2.sub\")\n",
    "uin=as.integer(readline(\"enter choice[1/2]:\"))\n",
    "num1=as.integer(readline(\"enter num1:\"))\n",
    "num2=as.integer(readline(\"enter num2:\"))\n",
    "op<- switch(uin,\"+\",\"-\")\n",
    "r <- switch(uin,add(num1,num2),sub(num1,num2))\n",
    "print(paste(num1,op,num2,\"=\",r))"
   ]
  },
  {
   "cell_type": "code",
   "execution_count": 4,
   "metadata": {},
   "outputs": [
    {
     "name": "stdout",
     "output_type": "stream",
     "text": [
      "[1] \"hello-how-i am doing good\"\n"
     ]
    }
   ],
   "source": [
    "##concat string\n",
    "#paste()\n",
    "##syntax(...,sep=\"\",collapse=NULL)\n",
    "##collapse-to eliminate the space between two strings\n",
    "a<-\"hello\"\n",
    "b<-\"how\"\n",
    "c<-\"i am doing good\"\n",
    "print(paste(a,b,c,sep=\"-\",collapse = \"\"))"
   ]
  },
  {
   "cell_type": "code",
   "execution_count": 5,
   "metadata": {},
   "outputs": [
    {
     "data": {
      "text/html": [
       "16"
      ],
      "text/latex": [
       "16"
      ],
      "text/markdown": [
       "16"
      ],
      "text/plain": [
       "[1] 16"
      ]
     },
     "metadata": {},
     "output_type": "display_data"
    },
    {
     "data": {
      "text/html": [
       "12"
      ],
      "text/latex": [
       "12"
      ],
      "text/markdown": [
       "12"
      ],
      "text/plain": [
       "[1] 12"
      ]
     },
     "metadata": {},
     "output_type": "display_data"
    },
    {
     "data": {
      "text/html": [
       "10"
      ],
      "text/latex": [
       "10"
      ],
      "text/markdown": [
       "10"
      ],
      "text/plain": [
       "[1] 10"
      ]
     },
     "metadata": {},
     "output_type": "display_data"
    }
   ],
   "source": [
    "##to find length of the string:\n",
    "#the function str_length()\n",
    "#inbuilt function- nchar()\n",
    "library(stringr)\n",
    "str_length(\"hellohow are you\")\n",
    "nchar(\"harry-styles\")\n",
    "nchar(\"h****el'lo\")"
   ]
  },
  {
   "cell_type": "code",
   "execution_count": 6,
   "metadata": {},
   "outputs": [
    {
     "data": {
      "text/html": [
       "'H'"
      ],
      "text/latex": [
       "'H'"
      ],
      "text/markdown": [
       "'H'"
      ],
      "text/plain": [
       "[1] \"H\""
      ]
     },
     "metadata": {},
     "output_type": "display_data"
    },
    {
     "data": {
      "text/html": [
       "'arry'"
      ],
      "text/latex": [
       "'arry'"
      ],
      "text/markdown": [
       "'arry'"
      ],
      "text/plain": [
       "[1] \"arry\""
      ]
     },
     "metadata": {},
     "output_type": "display_data"
    },
    {
     "data": {
      "text/html": [
       "'y'"
      ],
      "text/latex": [
       "'y'"
      ],
      "text/markdown": [
       "'y'"
      ],
      "text/plain": [
       "[1] \"y\""
      ]
     },
     "metadata": {},
     "output_type": "display_data"
    },
    {
     "name": "stdout",
     "output_type": "stream",
     "text": [
      "[1] \"12\"\n",
      "[1] \"s\"\n",
      "[1] \"\"\n",
      "[1] \"les\"\n",
      "[1] \"Harry\"\n"
     ]
    }
   ],
   "source": [
    "##to acces some parts of the string:\n",
    "#substr(....,start,end)\n",
    "#substring(.....,start,end)\n",
    "substr(\"Harry styles is the best-artist\",1,1)\n",
    "substr(\"Harry styles is the best-artist\",2,5)\n",
    "substr(\"Harry styles is the best-artist\",5,5)\n",
    "str<- \"Harry styles\"\n",
    "len<-nchar(str)\n",
    "print(paste(len))#12\n",
    "print(substring(str,len,len))#since len is given prints letter @ position 12\n",
    "print(substring(str,len+1,len+1))\n",
    "print(substring(str,len-2,len))\n",
    "print(substr(str,1,5))"
   ]
  },
  {
   "cell_type": "code",
   "execution_count": 7,
   "metadata": {},
   "outputs": [
    {
     "name": "stdout",
     "output_type": "stream",
     "text": [
      "[1] \"HARRY STYLES\"\n",
      "[1] \"harry styles\"\n",
      "[1] \"HARRY STYLES\"\n",
      "[1] \"harry styles\"\n"
     ]
    }
   ],
   "source": [
    "##case conversion:\n",
    "##toupper()\n",
    "##tolower()\n",
    "## casefold-ignorence of character\n",
    "##syntax-casefold(...,upper=TRUE/FALSE)\n",
    "str <-\"HaRrY StYlEs\"\n",
    "print(toupper(str))\n",
    "print(tolower(str))\n",
    "print(casefold(str,upper=TRUE))\n",
    "print(casefold(str,upper=FALSE))"
   ]
  },
  {
   "cell_type": "code",
   "execution_count": 8,
   "metadata": {
    "scrolled": true
   },
   "outputs": [
    {
     "data": {
      "text/html": [
       "TRUE"
      ],
      "text/latex": [
       "TRUE"
      ],
      "text/markdown": [
       "TRUE"
      ],
      "text/plain": [
       "[1] TRUE"
      ]
     },
     "metadata": {},
     "output_type": "display_data"
    },
    {
     "data": {
      "text/html": [
       "FALSE"
      ],
      "text/latex": [
       "FALSE"
      ],
      "text/markdown": [
       "FALSE"
      ],
      "text/plain": [
       "[1] FALSE"
      ]
     },
     "metadata": {},
     "output_type": "display_data"
    },
    {
     "data": {
      "text/html": [
       "TRUE"
      ],
      "text/latex": [
       "TRUE"
      ],
      "text/markdown": [
       "TRUE"
      ],
      "text/plain": [
       "[1] TRUE"
      ]
     },
     "metadata": {},
     "output_type": "display_data"
    },
    {
     "data": {
      "text/html": [
       "FALSE"
      ],
      "text/latex": [
       "FALSE"
      ],
      "text/markdown": [
       "FALSE"
      ],
      "text/plain": [
       "[1] FALSE"
      ]
     },
     "metadata": {},
     "output_type": "display_data"
    },
    {
     "data": {
      "text/html": [
       "<ol class=list-inline>\n",
       "\t<li>FALSE</li>\n",
       "\t<li>TRUE</li>\n",
       "\t<li>FALSE</li>\n",
       "\t<li>FALSE</li>\n",
       "\t<li>FALSE</li>\n",
       "\t<li>TRUE</li>\n",
       "\t<li>TRUE</li>\n",
       "</ol>\n"
      ],
      "text/latex": [
       "\\begin{enumerate*}\n",
       "\\item FALSE\n",
       "\\item TRUE\n",
       "\\item FALSE\n",
       "\\item FALSE\n",
       "\\item FALSE\n",
       "\\item TRUE\n",
       "\\item TRUE\n",
       "\\end{enumerate*}\n"
      ],
      "text/markdown": [
       "1. FALSE\n",
       "2. TRUE\n",
       "3. FALSE\n",
       "4. FALSE\n",
       "5. FALSE\n",
       "6. TRUE\n",
       "7. TRUE\n",
       "\n",
       "\n"
      ],
      "text/plain": [
       "[1] FALSE  TRUE FALSE FALSE FALSE  TRUE  TRUE"
      ]
     },
     "metadata": {},
     "output_type": "display_data"
    },
    {
     "data": {
      "text/html": [
       "<ol class=list-inline>\n",
       "\t<li>2</li>\n",
       "\t<li>6</li>\n",
       "\t<li>7</li>\n",
       "</ol>\n"
      ],
      "text/latex": [
       "\\begin{enumerate*}\n",
       "\\item 2\n",
       "\\item 6\n",
       "\\item 7\n",
       "\\end{enumerate*}\n"
      ],
      "text/markdown": [
       "1. 2\n",
       "2. 6\n",
       "3. 7\n",
       "\n",
       "\n"
      ],
      "text/plain": [
       "[1] 2 6 7"
      ]
     },
     "metadata": {},
     "output_type": "display_data"
    }
   ],
   "source": [
    "#regular expression\n",
    "#grepl\n",
    "#grep\n",
    "txt <- \"hey how are you\"\n",
    "grepl(\"you\",txt)\n",
    "grepl(\"hello\",txt)\n",
    "grepl(\"are you\",txt)\n",
    "grepl(\"hey you\",txt)\n",
    "let <- c('a','b','c','d','e','b','b')\n",
    "grepl('b',let)\n",
    "grep('b',let)"
   ]
  },
  {
   "cell_type": "code",
   "execution_count": 21,
   "metadata": {},
   "outputs": [
    {
     "ename": "ERROR",
     "evalue": "Error in sub(\"Planetary\", \"Earth\", df): unused argument (df)\n",
     "output_type": "error",
     "traceback": [
      "Error in sub(\"Planetary\", \"Earth\", df): unused argument (df)\nTraceback:\n"
     ]
    }
   ],
   "source": [
    "## sub and gsub\n",
    "df<- \"The Earth surface is 71% water covered. Earth has 29 % of land\"\n",
    "sub('Planetary','Earth',df)"
   ]
  },
  {
   "cell_type": "code",
   "execution_count": 22,
   "metadata": {},
   "outputs": [
    {
     "ename": "ERROR",
     "evalue": "Error in sub(pattern = \"you\", replacement = \"I\", msg): unused arguments (pattern = \"you\", replacement = \"I\")\n",
     "output_type": "error",
     "traceback": [
      "Error in sub(pattern = \"you\", replacement = \"I\", msg): unused arguments (pattern = \"you\", replacement = \"I\")\nTraceback:\n"
     ]
    }
   ],
   "source": [
    "msg<-c(\"I like maths\",\"you like English\")\n",
    "swe<-sub(pattern=\"you\",replacement=\"I\",msg)\n",
    "p<-gsub(pattern=\" \",replacement=\"_\",msg)\n",
    "print(swe)\n",
    "print(p)"
   ]
  },
  {
   "cell_type": "code",
   "execution_count": 26,
   "metadata": {},
   "outputs": [
    {
     "name": "stderr",
     "output_type": "stream",
     "text": [
      "Warning message:\n",
      "\"package 'e1071' is in use and will not be installed\""
     ]
    }
   ],
   "source": [
    "#install.packages(\"e1071\")"
   ]
  },
  {
   "cell_type": "code",
   "execution_count": 25,
   "metadata": {},
   "outputs": [
    {
     "data": {
      "text/plain": [
       "\n",
       "\tWelch Two Sample t-test\n",
       "\n",
       "data:  s1 and s2\n",
       "t = -1.9005, df = 17.977, p-value = 0.07353\n",
       "alternative hypothesis: true difference in means is not equal to 0\n",
       "95 percent confidence interval:\n",
       " -13.9732668   0.7005395\n",
       "sample estimates:\n",
       "mean of x mean of y \n",
       " 15.18182  21.81818 \n"
      ]
     },
     "metadata": {},
     "output_type": "display_data"
    }
   ],
   "source": [
    "#1. T-Test ( score 1 and score 2)\n",
    "#Manual calculation for the T-value\n",
    "#Excel sheet\n",
    "#R- Program\n",
    "library(e1071)\n",
    "s1<-c(3,3,3,12,15,16,17,19,23,24,32)\n",
    "s2<-c(20,13,13,20,29,32,23,20,25,15,30)\n",
    "t.test(s1,s2)"
   ]
  },
  {
   "cell_type": "code",
   "execution_count": 27,
   "metadata": {},
   "outputs": [
    {
     "data": {
      "text/html": [
       "<table>\n",
       "<thead><tr><th scope=col>a</th><th scope=col>b</th><th scope=col>c</th></tr></thead>\n",
       "<tbody>\n",
       "\t<tr><td> 0</td><td> 1</td><td> 1</td></tr>\n",
       "\t<tr><td> 2</td><td> 2</td><td> 4</td></tr>\n",
       "\t<tr><td> 3</td><td> 3</td><td> 5</td></tr>\n",
       "\t<tr><td> 5</td><td> 9</td><td> 5</td></tr>\n",
       "\t<tr><td> 8</td><td>10</td><td> 8</td></tr>\n",
       "\t<tr><td>10</td><td>10</td><td> 9</td></tr>\n",
       "\t<tr><td>12</td><td>11</td><td>10</td></tr>\n",
       "</tbody>\n",
       "</table>\n"
      ],
      "text/latex": [
       "\\begin{tabular}{r|lll}\n",
       " a & b & c\\\\\n",
       "\\hline\n",
       "\t  0 &  1 &  1\\\\\n",
       "\t  2 &  2 &  4\\\\\n",
       "\t  3 &  3 &  5\\\\\n",
       "\t  5 &  9 &  5\\\\\n",
       "\t  8 & 10 &  8\\\\\n",
       "\t 10 & 10 &  9\\\\\n",
       "\t 12 & 11 & 10\\\\\n",
       "\\end{tabular}\n"
      ],
      "text/markdown": [
       "\n",
       "| a | b | c |\n",
       "|---|---|---|\n",
       "|  0 |  1 |  1 |\n",
       "|  2 |  2 |  4 |\n",
       "|  3 |  3 |  5 |\n",
       "|  5 |  9 |  5 |\n",
       "|  8 | 10 |  8 |\n",
       "| 10 | 10 |  9 |\n",
       "| 12 | 11 | 10 |\n",
       "\n"
      ],
      "text/plain": [
       "  a  b  c \n",
       "1  0  1  1\n",
       "2  2  2  4\n",
       "3  3  3  5\n",
       "4  5  9  5\n",
       "5  8 10  8\n",
       "6 10 10  9\n",
       "7 12 11 10"
      ]
     },
     "metadata": {},
     "output_type": "display_data"
    },
    {
     "data": {
      "text/html": [
       "<table>\n",
       "<thead><tr><th scope=col>values</th><th scope=col>ind</th></tr></thead>\n",
       "<tbody>\n",
       "\t<tr><td> 0</td><td>a </td></tr>\n",
       "\t<tr><td> 2</td><td>a </td></tr>\n",
       "\t<tr><td> 3</td><td>a </td></tr>\n",
       "\t<tr><td> 5</td><td>a </td></tr>\n",
       "\t<tr><td> 8</td><td>a </td></tr>\n",
       "\t<tr><td>10</td><td>a </td></tr>\n",
       "\t<tr><td>12</td><td>a </td></tr>\n",
       "\t<tr><td> 1</td><td>b </td></tr>\n",
       "\t<tr><td> 2</td><td>b </td></tr>\n",
       "\t<tr><td> 3</td><td>b </td></tr>\n",
       "\t<tr><td> 9</td><td>b </td></tr>\n",
       "\t<tr><td>10</td><td>b </td></tr>\n",
       "\t<tr><td>10</td><td>b </td></tr>\n",
       "\t<tr><td>11</td><td>b </td></tr>\n",
       "\t<tr><td> 1</td><td>c </td></tr>\n",
       "\t<tr><td> 4</td><td>c </td></tr>\n",
       "\t<tr><td> 5</td><td>c </td></tr>\n",
       "\t<tr><td> 5</td><td>c </td></tr>\n",
       "\t<tr><td> 8</td><td>c </td></tr>\n",
       "\t<tr><td> 9</td><td>c </td></tr>\n",
       "\t<tr><td>10</td><td>c </td></tr>\n",
       "</tbody>\n",
       "</table>\n"
      ],
      "text/latex": [
       "\\begin{tabular}{r|ll}\n",
       " values & ind\\\\\n",
       "\\hline\n",
       "\t  0 & a \\\\\n",
       "\t  2 & a \\\\\n",
       "\t  3 & a \\\\\n",
       "\t  5 & a \\\\\n",
       "\t  8 & a \\\\\n",
       "\t 10 & a \\\\\n",
       "\t 12 & a \\\\\n",
       "\t  1 & b \\\\\n",
       "\t  2 & b \\\\\n",
       "\t  3 & b \\\\\n",
       "\t  9 & b \\\\\n",
       "\t 10 & b \\\\\n",
       "\t 10 & b \\\\\n",
       "\t 11 & b \\\\\n",
       "\t  1 & c \\\\\n",
       "\t  4 & c \\\\\n",
       "\t  5 & c \\\\\n",
       "\t  5 & c \\\\\n",
       "\t  8 & c \\\\\n",
       "\t  9 & c \\\\\n",
       "\t 10 & c \\\\\n",
       "\\end{tabular}\n"
      ],
      "text/markdown": [
       "\n",
       "| values | ind |\n",
       "|---|---|\n",
       "|  0 | a  |\n",
       "|  2 | a  |\n",
       "|  3 | a  |\n",
       "|  5 | a  |\n",
       "|  8 | a  |\n",
       "| 10 | a  |\n",
       "| 12 | a  |\n",
       "|  1 | b  |\n",
       "|  2 | b  |\n",
       "|  3 | b  |\n",
       "|  9 | b  |\n",
       "| 10 | b  |\n",
       "| 10 | b  |\n",
       "| 11 | b  |\n",
       "|  1 | c  |\n",
       "|  4 | c  |\n",
       "|  5 | c  |\n",
       "|  5 | c  |\n",
       "|  8 | c  |\n",
       "|  9 | c  |\n",
       "| 10 | c  |\n",
       "\n"
      ],
      "text/plain": [
       "   values ind\n",
       "1   0     a  \n",
       "2   2     a  \n",
       "3   3     a  \n",
       "4   5     a  \n",
       "5   8     a  \n",
       "6  10     a  \n",
       "7  12     a  \n",
       "8   1     b  \n",
       "9   2     b  \n",
       "10  3     b  \n",
       "11  9     b  \n",
       "12 10     b  \n",
       "13 10     b  \n",
       "14 11     b  \n",
       "15  1     c  \n",
       "16  4     c  \n",
       "17  5     c  \n",
       "18  5     c  \n",
       "19  8     c  \n",
       "20  9     c  \n",
       "21 10     c  "
      ]
     },
     "metadata": {},
     "output_type": "display_data"
    },
    {
     "data": {
      "text/plain": [
       "            Df Sum Sq Mean Sq F value Pr(>F)\n",
       "ind          2   2.67   1.333   0.082  0.921\n",
       "Residuals   18 291.14  16.175               "
      ]
     },
     "metadata": {},
     "output_type": "display_data"
    }
   ],
   "source": [
    "#2. ANOVA\n",
    "#Excel sheet\n",
    "#R Program\n",
    "a<-c(0,2,3,5,8,10,12)\n",
    "b<-c(1,2,3,9,10,10,11)\n",
    "c<-c(1,4,5,5,8,9,10)\n",
    "compile=data.frame(cbind(a,b,c))\n",
    "compile\n",
    "grp=stack(compile)\n",
    "grp\n",
    "#result\n",
    "anova_result=aov(values~ind,data=grp)\n",
    "summary(anova_result)"
   ]
  },
  {
   "cell_type": "code",
   "execution_count": 28,
   "metadata": {},
   "outputs": [
    {
     "name": "stderr",
     "output_type": "stream",
     "text": [
      "Registered S3 methods overwritten by 'ggplot2':\n",
      "  method         from \n",
      "  [.quosures     rlang\n",
      "  c.quosures     rlang\n",
      "  print.quosures rlang\n"
     ]
    },
    {
     "data": {
      "image/png": "[encoded data removed]",
      "text/plain": [
       "plot without title"
      ]
     },
     "metadata": {},
     "output_type": "display_data"
    }
   ],
   "source": [
    "#voilin plot\n",
    "library(ggplot2)\n",
    "p=ggplot(ToothGrowth,aes(x=dose,y=len,fill=\"pink\"))+geom_violin(trim=FALSE)\n",
    "p"
   ]
  },
  {
   "cell_type": "code",
   "execution_count": 29,
   "metadata": {},
   "outputs": [
    {
     "name": "stderr",
     "output_type": "stream",
     "text": [
      "Warning message:\n",
      "\"Ignoring unknown parameters: bin\"`stat_bin()` using `bins = 30`. Pick better value with `binwidth`.\n"
     ]
    },
    {
     "data": {
      "image/png": "[encoded data removed]",
      "text/plain": [
       "plot without title"
      ]
     },
     "metadata": {},
     "output_type": "display_data"
    },
    {
     "data": {
      "image/png": "[encoded data removed]",
      "text/plain": [
       "plot without title"
      ]
     },
     "metadata": {},
     "output_type": "display_data"
    },
    {
     "data": {
      "image/png": "[encoded data removed]",
      "text/plain": [
       "plot without title"
      ]
     },
     "metadata": {},
     "output_type": "display_data"
    },
    {
     "data": {
      "image/png": "[encoded data removed]",
      "text/plain": [
       "plot without title"
      ]
     },
     "metadata": {},
     "output_type": "display_data"
    },
    {
     "data": {
      "image/png": "[encoded data removed]",
      "text/plain": [
       "plot without title"
      ]
     },
     "metadata": {},
     "output_type": "display_data"
    }
   ],
   "source": [
    "#qplot:\n",
    "library(ggplot2)\n",
    "qplot(x=mpg$hwy,geom = \"density\")\n",
    "qplot(mpg$hwy,geom = \"histogram\",bin=10,color=I(\"black\"),fill=I(\"pink\"))\n",
    "qplot(mpg$cty,mpg$hwy,geom = \"point\")\n",
    "x=jitter(mpg$hwy)\n",
    "y=jitter(mpg$cty)\n",
    "z=factor(mpg$drv)\n",
    "qplot(x,y,color=z)\n",
    "qplot(x=mpg$class,y=mpg$hwy,geom=\"boxplot\")"
   ]
  },
  {
   "cell_type": "code",
   "execution_count": 30,
   "metadata": {},
   "outputs": [
    {
     "data": {
      "text/html": [
       "0.000735732513487144"
      ],
      "text/latex": [
       "0.000735732513487144"
      ],
      "text/markdown": [
       "0.000735732513487144"
      ],
      "text/plain": [
       "[1] 0.0007357325"
      ]
     },
     "metadata": {},
     "output_type": "display_data"
    },
    {
     "data": {
      "image/png": "[encoded data removed]",
      "text/plain": [
       "Plot with title \"density.default(x = data1$amount)\""
      ]
     },
     "metadata": {},
     "output_type": "display_data"
    }
   ],
   "source": [
    "library(e1071)\n",
    "data1=read.csv(\"/Users/anbun/Documents/r_programming_exercise/incomedata.csv\")\n",
    "skewness(data1$amount)\n",
    "plot(density(data1$amount))"
   ]
  },
  {
   "cell_type": "code",
   "execution_count": 31,
   "metadata": {},
   "outputs": [
    {
     "data": {
      "text/html": [
       "-0.427713463082604"
      ],
      "text/latex": [
       "-0.427713463082604"
      ],
      "text/markdown": [
       "-0.427713463082604"
      ],
      "text/plain": [
       "[1] -0.4277135"
      ]
     },
     "metadata": {},
     "output_type": "display_data"
    },
    {
     "name": "stdout",
     "output_type": "stream",
     "text": [
      "  [1]  9.10  6.70  7.32  7.54  4.79 10.28 17.29 13.39 18.22 11.09 15.05 10.60\n",
      " [13] 14.77 15.48 15.48 28.91 29.51 20.49 28.98 25.17 20.60 25.70 26.73 21.55\n",
      " [25] 27.00 27.01 25.60 28.39 28.86 23.98 34.19 31.39 32.86 30.98 31.45 31.91\n",
      " [37] 30.04 35.55 39.77 33.71 36.83 35.42 30.60 33.89 37.31 32.98 37.10 31.83\n",
      " [49] 30.89 34.91 49.05 48.40 47.29 42.38 45.74 40.94 47.71 49.49 42.31 46.25\n",
      " [61] 42.91 47.03 43.82 40.60 45.85 49.52 41.68 40.65 42.35 48.10 46.25 49.28\n",
      " [73] 40.59 40.90 40.49 58.27 51.40 56.02 59.48 54.14 53.82 59.73 53.82 56.97\n",
      " [85] 56.53 52.58 57.11 53.82 59.46 51.83 53.40 57.45 53.12 57.74 50.67 56.79\n",
      " [97] 50.91 57.21 51.52 52.61 51.68 57.49 51.91 59.86 58.06 62.97 69.80 62.24\n",
      "[109] 65.36 63.27 62.50 63.98 68.54 63.21 67.77 63.33 62.53 66.49 62.38 66.51\n",
      "[121] 65.31 69.63 65.28 60.62 62.11 62.03 67.26 60.90 64.50 68.76 67.68 65.16\n",
      "[133] 65.11 62.56 60.23 63.65 69.15 61.15 64.98 63.45 78.38 71.06 78.15 75.35\n",
      "[145] 79.72 79.43 76.66 71.78 74.15 77.09 76.14 79.10 74.51 74.97 78.92 79.79\n",
      "[157] 74.91 73.38 78.42 72.32 73.35 77.80 77.36 73.96 71.35 70.05 71.56 74.81\n",
      "[169] 74.18 73.09 74.46 73.33 79.58 73.89 79.49 70.26 73.97 72.88 74.19 76.18\n",
      "[181] 88.59 85.12 87.80 88.36 80.95 84.52 84.94 83.49 81.18 80.80 81.91 84.78\n",
      "[193] 84.72 84.80 80.64 83.59 84.66 83.03 85.99 80.40 80.60 83.05 85.36 81.59\n",
      "[205] 84.13 86.64 80.44 86.07 80.62 86.11 94.40 98.53 91.96 93.94 92.23 93.20\n",
      "[217] 93.75 93.09 91.69 92.18 93.51 96.00 98.26 94.09 92.48 94.21 92.84 94.42\n",
      "[229] 92.93 91.12\n"
     ]
    },
    {
     "data": {
      "text/plain": [
       "       X               mark      \n",
       " Min.   :  1.00   Min.   : 4.79  \n",
       " 1st Qu.: 58.25   1st Qu.:42.32  \n",
       " Median :115.50   Median :62.55  \n",
       " Mean   :115.50   Mean   :59.45  \n",
       " 3rd Qu.:172.75   3rd Qu.:78.41  \n",
       " Max.   :230.00   Max.   :98.53  "
      ]
     },
     "metadata": {},
     "output_type": "display_data"
    },
    {
     "data": {
      "image/png": "[encoded data removed]",
      "text/plain": [
       "Plot with title \"density.default(x = data2$mark)\""
      ]
     },
     "metadata": {},
     "output_type": "display_data"
    }
   ],
   "source": [
    "library(e1071)\n",
    "data2=read.csv(\"/Users/anbun/Documents/r_programming_exercise/markdata.csv\")\n",
    "skewness(data2$mark)\n",
    "plot(density(data2$mark))  \n",
    "print(data2$mark)\n",
    "summary(data2)"
   ]
  },
  {
   "cell_type": "code",
   "execution_count": 32,
   "metadata": {},
   "outputs": [
    {
     "data": {
      "text/html": [
       "0.274697524727959"
      ],
      "text/latex": [
       "0.274697524727959"
      ],
      "text/markdown": [
       "0.274697524727959"
      ],
      "text/plain": [
       "[1] 0.2746975"
      ]
     },
     "metadata": {},
     "output_type": "display_data"
    },
    {
     "name": "stdout",
     "output_type": "stream",
     "text": [
      "  [1] 152.02 151.00 152.61 153.77 155.87 155.54 155.49 154.00 154.59 155.56\n",
      " [11] 154.59 154.82 157.59 157.38 157.58 157.93 156.28 158.23 156.08 157.45\n",
      " [21] 158.98 157.14 157.90 156.47 156.01 157.88 158.76 160.93 160.39 161.74\n",
      " [31] 161.02 161.82 161.61 161.66 159.52 161.47 159.55 159.23 159.57 161.86\n",
      " [41] 159.58 160.98 159.57 161.88 161.32 159.12 159.94 161.91 163.63 162.62\n",
      " [51] 162.41 163.12 163.86 164.95 163.34 164.51 164.90 164.02 164.54 162.89\n",
      " [61] 162.36 164.66 163.59 162.39 162.34 162.87 164.03 162.76 164.84 164.17\n",
      " [71] 162.96 164.50 164.45 162.64 162.88 167.33 165.28 165.94 166.60 166.17\n",
      " [81] 166.70 165.55 166.73 166.69 166.45 166.81 167.28 167.74 167.86 166.18\n",
      " [91] 165.79 166.40 167.83 167.64 165.24 165.28 167.91 165.55 165.64 170.74\n",
      "[101] 170.49 169.14 169.65 168.29 169.02 168.98 169.23 169.68 169.32 168.86\n",
      "[111] 168.60 169.35 170.75 168.03 169.77 169.96 170.31 170.22 169.22 170.53\n",
      "[121] 171.70 173.90 173.24 171.46 173.57 173.50 173.85 171.20 171.19 173.79\n",
      "[131] 171.32 171.99 172.20 173.99 172.20 172.39 173.54 173.98 176.71 175.25\n",
      "[141] 176.68 176.01 176.54 175.05 175.24 175.54 175.89 176.34 176.83 176.42\n",
      "[151] 174.62 175.70 176.07 179.20 178.43 178.80 178.76 178.19 179.81 177.52\n",
      "[161] 177.69 177.97 178.00 177.27 177.25 180.91 182.57 180.47 182.93 182.21\n",
      "[171] 182.59 180.30 181.94 181.29 184.54 184.37 183.05 184.41 184.96 185.53\n",
      "[181] 186.25 186.40 187.46\n"
     ]
    },
    {
     "data": {
      "image/png": "[encoded data removed]",
      "text/plain": [
       "Plot with title \"density.default(x = data3$height)\""
      ]
     },
     "metadata": {},
     "output_type": "display_data"
    }
   ],
   "source": [
    "library(e1071)\n",
    "data3=read.csv(\"/Users/anbun/Documents/r_programming_exercise/heightdata.csv\")\n",
    "skewness(data3$height)\n",
    "plot(density(data3$height))\n",
    "print(data3$height)"
   ]
  },
  {
   "cell_type": "code",
   "execution_count": 33,
   "metadata": {},
   "outputs": [
    {
     "data": {
      "text/html": [
       "-0.726152472951616"
      ],
      "text/latex": [
       "-0.726152472951616"
      ],
      "text/markdown": [
       "-0.726152472951616"
      ],
      "text/plain": [
       "[1] -0.7261525"
      ]
     },
     "metadata": {},
     "output_type": "display_data"
    }
   ],
   "source": [
    "#Kurtosis:peakness of distribution\n",
    "#>3 leptokurtic\n",
    "#<3 platykurtic\n",
    "#==3 mesokurtic-normal distribution\n",
    "library(e1071)\n",
    "data=read.csv(\"/Users/anbun/Documents/r_programming_exercise/markdata.csv\")\n",
    "kurtosis(data$mark)"
   ]
  },
  {
   "cell_type": "code",
   "execution_count": 34,
   "metadata": {},
   "outputs": [
    {
     "data": {
      "text/plain": [
       "\n",
       "\tWelch Two Sample t-test\n",
       "\n",
       "data:  v1 and v2\n",
       "t = -2.3388, df = 28.123, p-value = 0.02668\n",
       "alternative hypothesis: true difference in means is not equal to 0\n",
       "95 percent confidence interval:\n",
       " -0.56269667 -0.03730333\n",
       "sample estimates:\n",
       "mean of x mean of y \n",
       " 15.38125  15.68125 \n"
      ]
     },
     "metadata": {},
     "output_type": "display_data"
    }
   ],
   "source": [
    "#hypothesis:a premise or claim or fact that we want to test\n",
    "#null hypothesis-fact\n",
    "#alternative hypothesis-opposite\n",
    "#outcome\n",
    "#reject null\n",
    "#fail to reject-if the null hypothesis is not rejected we have to accept it\n",
    "\n",
    "##level of confident:\n",
    "##L=1-c -level of confident is calculated by\n",
    "\n",
    "#when to use t-test\n",
    "#data independent.\n",
    "#normally distributed\n",
    "#similar amount of varience\n",
    "\n",
    "#t-test:\n",
    "library(e1071)\n",
    "v1<-c(15.2,15.3,16,15.8,15.6,14.9,15,15.4,15.6,15.7,15.5,15.2,15.5,15.1,15.3,15)\n",
    "v2<-c(15.9,15.9,15.2,16.6,15.2,15.8,15.8,16.2,15.6,15.6,15.8,15.5,15.5,15.5,14.9,15.9)\n",
    "t.test(v1,v2)"
   ]
  },
  {
   "cell_type": "code",
   "execution_count": 35,
   "metadata": {},
   "outputs": [
    {
     "data": {
      "text/html": [
       "<table>\n",
       "<thead><tr><th scope=col>g1</th><th scope=col>g2</th><th scope=col>g3</th></tr></thead>\n",
       "<tbody>\n",
       "\t<tr><td>2 </td><td>10</td><td>10</td></tr>\n",
       "\t<tr><td>3 </td><td> 8</td><td>13</td></tr>\n",
       "\t<tr><td>7 </td><td> 7</td><td>14</td></tr>\n",
       "\t<tr><td>2 </td><td> 5</td><td>13</td></tr>\n",
       "\t<tr><td>6 </td><td>10</td><td>15</td></tr>\n",
       "</tbody>\n",
       "</table>\n"
      ],
      "text/latex": [
       "\\begin{tabular}{r|lll}\n",
       " g1 & g2 & g3\\\\\n",
       "\\hline\n",
       "\t 2  & 10 & 10\\\\\n",
       "\t 3  &  8 & 13\\\\\n",
       "\t 7  &  7 & 14\\\\\n",
       "\t 2  &  5 & 13\\\\\n",
       "\t 6  & 10 & 15\\\\\n",
       "\\end{tabular}\n"
      ],
      "text/markdown": [
       "\n",
       "| g1 | g2 | g3 |\n",
       "|---|---|---|\n",
       "| 2  | 10 | 10 |\n",
       "| 3  |  8 | 13 |\n",
       "| 7  |  7 | 14 |\n",
       "| 2  |  5 | 13 |\n",
       "| 6  | 10 | 15 |\n",
       "\n"
      ],
      "text/plain": [
       "  g1 g2 g3\n",
       "1 2  10 10\n",
       "2 3   8 13\n",
       "3 7   7 14\n",
       "4 2   5 13\n",
       "5 6  10 15"
      ]
     },
     "metadata": {},
     "output_type": "display_data"
    },
    {
     "data": {
      "text/html": [
       "<table>\n",
       "<thead><tr><th scope=col>values</th><th scope=col>ind</th></tr></thead>\n",
       "<tbody>\n",
       "\t<tr><td> 2</td><td>g1</td></tr>\n",
       "\t<tr><td> 3</td><td>g1</td></tr>\n",
       "\t<tr><td> 7</td><td>g1</td></tr>\n",
       "\t<tr><td> 2</td><td>g1</td></tr>\n",
       "\t<tr><td> 6</td><td>g1</td></tr>\n",
       "\t<tr><td>10</td><td>g2</td></tr>\n",
       "\t<tr><td> 8</td><td>g2</td></tr>\n",
       "\t<tr><td> 7</td><td>g2</td></tr>\n",
       "\t<tr><td> 5</td><td>g2</td></tr>\n",
       "\t<tr><td>10</td><td>g2</td></tr>\n",
       "\t<tr><td>10</td><td>g3</td></tr>\n",
       "\t<tr><td>13</td><td>g3</td></tr>\n",
       "\t<tr><td>14</td><td>g3</td></tr>\n",
       "\t<tr><td>13</td><td>g3</td></tr>\n",
       "\t<tr><td>15</td><td>g3</td></tr>\n",
       "</tbody>\n",
       "</table>\n"
      ],
      "text/latex": [
       "\\begin{tabular}{r|ll}\n",
       " values & ind\\\\\n",
       "\\hline\n",
       "\t  2 & g1\\\\\n",
       "\t  3 & g1\\\\\n",
       "\t  7 & g1\\\\\n",
       "\t  2 & g1\\\\\n",
       "\t  6 & g1\\\\\n",
       "\t 10 & g2\\\\\n",
       "\t  8 & g2\\\\\n",
       "\t  7 & g2\\\\\n",
       "\t  5 & g2\\\\\n",
       "\t 10 & g2\\\\\n",
       "\t 10 & g3\\\\\n",
       "\t 13 & g3\\\\\n",
       "\t 14 & g3\\\\\n",
       "\t 13 & g3\\\\\n",
       "\t 15 & g3\\\\\n",
       "\\end{tabular}\n"
      ],
      "text/markdown": [
       "\n",
       "| values | ind |\n",
       "|---|---|\n",
       "|  2 | g1 |\n",
       "|  3 | g1 |\n",
       "|  7 | g1 |\n",
       "|  2 | g1 |\n",
       "|  6 | g1 |\n",
       "| 10 | g2 |\n",
       "|  8 | g2 |\n",
       "|  7 | g2 |\n",
       "|  5 | g2 |\n",
       "| 10 | g2 |\n",
       "| 10 | g3 |\n",
       "| 13 | g3 |\n",
       "| 14 | g3 |\n",
       "| 13 | g3 |\n",
       "| 15 | g3 |\n",
       "\n"
      ],
      "text/plain": [
       "   values ind\n",
       "1   2     g1 \n",
       "2   3     g1 \n",
       "3   7     g1 \n",
       "4   2     g1 \n",
       "5   6     g1 \n",
       "6  10     g2 \n",
       "7   8     g2 \n",
       "8   7     g2 \n",
       "9   5     g2 \n",
       "10 10     g2 \n",
       "11 10     g3 \n",
       "12 13     g3 \n",
       "13 14     g3 \n",
       "14 13     g3 \n",
       "15 15     g3 "
      ]
     },
     "metadata": {},
     "output_type": "display_data"
    },
    {
     "data": {
      "text/plain": [
       "            Df Sum Sq Mean Sq F value   Pr(>F)    \n",
       "ind          2  203.3   101.7   22.59 8.54e-05 ***\n",
       "Residuals   12   54.0     4.5                     \n",
       "---\n",
       "Signif. codes:  0 '***' 0.001 '**' 0.01 '*' 0.05 '.' 0.1 ' ' 1"
      ]
     },
     "metadata": {},
     "output_type": "display_data"
    }
   ],
   "source": [
    "#ANOVA:\n",
    "g1=c(2,3,7,2,6)\n",
    "g2=c(10,8,7,5,10)\n",
    "g3=c(10,13,14,13,15)\n",
    "com=data.frame(cbind(g1,g2,g3))\n",
    "com\n",
    "stck_grp=stack(com)\n",
    "stck_grp\n",
    "#result\n",
    "anova_result=aov(values~ind,data=stck_grp)\n",
    "summary(anova_result)"
   ]
  },
  {
   "cell_type": "code",
   "execution_count": 36,
   "metadata": {},
   "outputs": [],
   "source": [
    "#graphical visvalisation od data- data visvalization\n",
    "#ggplot-grammer of graphics\n",
    "#install.packages(\"ggplot2\")\n",
    "library(ggplot2)"
   ]
  },
  {
   "cell_type": "code",
   "execution_count": 37,
   "metadata": {},
   "outputs": [
    {
     "name": "stderr",
     "output_type": "stream",
     "text": [
      "`geom_smooth()` using method = 'loess' and formula 'y ~ x'\n"
     ]
    },
    {
     "data": {
      "image/png": "[encoded data removed]",
      "text/plain": [
       "plot without title"
      ]
     },
     "metadata": {},
     "output_type": "display_data"
    }
   ],
   "source": [
    "#mtcars\n",
    "#colnames(mtcars)# to get the column names\n",
    "pl=ggplot(data=mtcars,aes(x=mpg,y=hp))\n",
    "pl2=pl+geom_point()+facet_grid(cyl~.)+stat_smooth()\n",
    "pl2+coord_cartesian(xlim=c(10,30))+theme_bw()"
   ]
  },
  {
   "cell_type": "code",
   "execution_count": 41,
   "metadata": {},
   "outputs": [],
   "source": [
    "#ggplot(data=mtcars,aes(x,y),geom_point(),facet_grid()+stat_smooth(),coord_cartesian())\n",
    "#histogram with ggplots:\n",
    "#install.packages(\"ggplot2movies\")\n",
    "library(ggplot2movies)"
   ]
  },
  {
   "cell_type": "code",
   "execution_count": 43,
   "metadata": {},
   "outputs": [
    {
     "data": {
      "image/png": "[encoded data removed]",
      "text/plain": [
       "plot without title"
      ]
     },
     "metadata": {},
     "output_type": "display_data"
    }
   ],
   "source": [
    "#head(movies)\n",
    "pt=ggplot(data=movies,aes(x=rating))\n",
    "pt1=pt+geom_histogram(binwidth=5,color=\"black\",fill=\"pink\",alpha=.5)\n",
    "pt2=pt1+xlab(\"movie Rating\")+ylab(\"movies count\")+ggtitle(\"movie histogram\")\n",
    "plot(pt2)"
   ]
  },
  {
   "cell_type": "code",
   "execution_count": 44,
   "metadata": {},
   "outputs": [
    {
     "data": {
      "image/png": "[encoded data removed]",
      "text/plain": [
       "plot without title"
      ]
     },
     "metadata": {},
     "output_type": "display_data"
    },
    {
     "data": {
      "image/png": "[encoded data removed]",
      "text/plain": [
       "Plot with title \"bar charts\""
      ]
     },
     "metadata": {},
     "output_type": "display_data"
    }
   ],
   "source": [
    "#bar charts:\n",
    "#represented in two ways horizontal and vertical.\n",
    "count=table(mtcars$gear)\n",
    "barplot(count)\n",
    "barplot(count,\n",
    "        main=\"bar charts\",\n",
    "        xlab=\"improvements\",\n",
    "        ylab=\"frequency\",\n",
    "        legend=rownames(count),\n",
    "        col=c(\"pink\",\" light blue\",\"light green\"))\n",
    "##mtcars$gear\n",
    "##mtcars$vs"
   ]
  },
  {
   "cell_type": "code",
   "execution_count": 45,
   "metadata": {},
   "outputs": [
    {
     "data": {
      "image/png": "[encoded data removed]",
      "text/plain": [
       "plot without title"
      ]
     },
     "metadata": {},
     "output_type": "display_data"
    },
    {
     "data": {
      "image/png": "[encoded data removed]",
      "text/plain": [
       "Plot with title \"grouped bar charts\""
      ]
     },
     "metadata": {},
     "output_type": "display_data"
    }
   ],
   "source": [
    "#grouped output\n",
    "count1=table(mtcars$vs,mtcars$gear)\n",
    "barplot(count1)\n",
    "barplot(count1,\n",
    "        beside=TRUE,\n",
    "        main=\"grouped bar charts\",\n",
    "        xlab=\"no.of gear\",\n",
    "        ylab=\"frequency\",\n",
    "        legend=rownames(count1),\n",
    "        col=c(\"pink\",\" light blue\"))"
   ]
  },
  {
   "cell_type": "code",
   "execution_count": 46,
   "metadata": {},
   "outputs": [
    {
     "data": {
      "image/png": "[encoded data removed]",
      "text/plain": [
       "Plot with title \"pie chart\""
      ]
     },
     "metadata": {},
     "output_type": "display_data"
    }
   ],
   "source": [
    "## pie chart\n",
    "x=c(10,20,50,20)\n",
    "lab=c(\"C\",\"Python\",\"R\",\"Web Designing\")\n",
    "pct=round(x/sum(x)*100)\n",
    "la=paste(lab,pct,\"%\",sep=\"\")\n",
    "pie(x,\n",
    "    labels = la,\n",
    "    main = \"pie chart\")"
   ]
  },
  {
   "cell_type": "code",
   "execution_count": 48,
   "metadata": {},
   "outputs": [
    {
     "name": "stdout",
     "output_type": "stream",
     "text": [
      "package 'plotrix' successfully unpacked and MD5 sums checked\n",
      "\n",
      "The downloaded binary packages are in\n",
      "\tC:\\Users\\anbun\\AppData\\Local\\Temp\\RtmpSMOpMH\\downloaded_packages\n"
     ]
    }
   ],
   "source": [
    "#install.packages(\"plotrix\")"
   ]
  },
  {
   "cell_type": "code",
   "execution_count": 49,
   "metadata": {},
   "outputs": [
    {
     "name": "stderr",
     "output_type": "stream",
     "text": [
      "Warning message:\n",
      "\"package 'plotrix' was built under R version 3.6.3\""
     ]
    },
    {
     "data": {
      "image/png": "[encoded data removed]",
      "text/plain": [
       "Plot with title \"pie chart\""
      ]
     },
     "metadata": {},
     "output_type": "display_data"
    }
   ],
   "source": [
    "#to print a 3d pie\n",
    "library(plotrix)\n",
    "x1=c(10,20,50,20)\n",
    "lab1=c(\"C\",\"Python\",\"R\",\"Web Designing\")\n",
    "pct1=round(x/sum(x)*100)\n",
    "la1=paste(lab1,pct1,\"%\",sep=\"\")\n",
    "pie3D(x1,\n",
    "      labels = la1,\n",
    "      main = \"pie chart\",\n",
    "      col = c(\"pink\",\" light blue\",\"light green\",\"orange\"),\n",
    "      explode=0.1,theta=0.8\n",
    "      )"
   ]
  },
  {
   "cell_type": "code",
   "execution_count": 50,
   "metadata": {},
   "outputs": [
    {
     "data": {
      "image/png": "[encoded data removed]",
      "text/plain": [
       "Plot with title \"Histogram of v\""
      ]
     },
     "metadata": {},
     "output_type": "display_data"
    }
   ],
   "source": [
    "#histogram\n",
    "v=mtcars$mpg\n",
    "hist(v,col = \"pink\")"
   ]
  },
  {
   "cell_type": "code",
   "execution_count": 51,
   "metadata": {},
   "outputs": [
    {
     "data": {
      "image/png": "[encoded data removed]",
      "text/plain": [
       "Plot with title \"Kernal density \""
      ]
     },
     "metadata": {},
     "output_type": "display_data"
    }
   ],
   "source": [
    "#density plot\n",
    "d <- density(mtcars$mpg)\n",
    "plot(d, main=\"Kernal density \")\n",
    "polygon(d, col=\"pink\", border=\"black\")"
   ]
  },
  {
   "cell_type": "code",
   "execution_count": 52,
   "metadata": {},
   "outputs": [
    {
     "data": {
      "text/html": [
       "<table>\n",
       "<thead><tr><th scope=col>height</th><th scope=col>weight</th></tr></thead>\n",
       "<tbody>\n",
       "\t<tr><td>58 </td><td>115</td></tr>\n",
       "\t<tr><td>59 </td><td>117</td></tr>\n",
       "\t<tr><td>60 </td><td>120</td></tr>\n",
       "\t<tr><td>61 </td><td>123</td></tr>\n",
       "\t<tr><td>62 </td><td>126</td></tr>\n",
       "\t<tr><td>63 </td><td>129</td></tr>\n",
       "\t<tr><td>64 </td><td>132</td></tr>\n",
       "\t<tr><td>65 </td><td>135</td></tr>\n",
       "\t<tr><td>66 </td><td>139</td></tr>\n",
       "\t<tr><td>67 </td><td>142</td></tr>\n",
       "\t<tr><td>68 </td><td>146</td></tr>\n",
       "\t<tr><td>69 </td><td>150</td></tr>\n",
       "\t<tr><td>70 </td><td>154</td></tr>\n",
       "\t<tr><td>71 </td><td>159</td></tr>\n",
       "\t<tr><td>72 </td><td>164</td></tr>\n",
       "</tbody>\n",
       "</table>\n"
      ],
      "text/latex": [
       "\\begin{tabular}{r|ll}\n",
       " height & weight\\\\\n",
       "\\hline\n",
       "\t 58  & 115\\\\\n",
       "\t 59  & 117\\\\\n",
       "\t 60  & 120\\\\\n",
       "\t 61  & 123\\\\\n",
       "\t 62  & 126\\\\\n",
       "\t 63  & 129\\\\\n",
       "\t 64  & 132\\\\\n",
       "\t 65  & 135\\\\\n",
       "\t 66  & 139\\\\\n",
       "\t 67  & 142\\\\\n",
       "\t 68  & 146\\\\\n",
       "\t 69  & 150\\\\\n",
       "\t 70  & 154\\\\\n",
       "\t 71  & 159\\\\\n",
       "\t 72  & 164\\\\\n",
       "\\end{tabular}\n"
      ],
      "text/markdown": [
       "\n",
       "| height | weight |\n",
       "|---|---|\n",
       "| 58  | 115 |\n",
       "| 59  | 117 |\n",
       "| 60  | 120 |\n",
       "| 61  | 123 |\n",
       "| 62  | 126 |\n",
       "| 63  | 129 |\n",
       "| 64  | 132 |\n",
       "| 65  | 135 |\n",
       "| 66  | 139 |\n",
       "| 67  | 142 |\n",
       "| 68  | 146 |\n",
       "| 69  | 150 |\n",
       "| 70  | 154 |\n",
       "| 71  | 159 |\n",
       "| 72  | 164 |\n",
       "\n"
      ],
      "text/plain": [
       "   height weight\n",
       "1  58     115   \n",
       "2  59     117   \n",
       "3  60     120   \n",
       "4  61     123   \n",
       "5  62     126   \n",
       "6  63     129   \n",
       "7  64     132   \n",
       "8  65     135   \n",
       "9  66     139   \n",
       "10 67     142   \n",
       "11 68     146   \n",
       "12 69     150   \n",
       "13 70     154   \n",
       "14 71     159   \n",
       "15 72     164   "
      ]
     },
     "metadata": {},
     "output_type": "display_data"
    },
    {
     "data": {
      "image/png": "[encoded data removed]",
      "text/plain": [
       "Plot with title \"line chart\""
      ]
     },
     "metadata": {},
     "output_type": "display_data"
    },
    {
     "data": {
      "image/png": "[encoded data removed]",
      "text/plain": [
       "Plot with title \"line chart\""
      ]
     },
     "metadata": {},
     "output_type": "display_data"
    }
   ],
   "source": [
    "#line chart\n",
    "women\n",
    "plot(women$weight,women$height,type=\"o\",main = \"line chart\")\n",
    "plot(women$weight,women$height,type=\"b\",main = \"line chart\")"
   ]
  },
  {
   "cell_type": "code",
   "execution_count": 54,
   "metadata": {},
   "outputs": [
    {
     "name": "stdout",
     "output_type": "stream",
     "text": [
      "package 'wordcloud' successfully unpacked and MD5 sums checked\n",
      "\n",
      "The downloaded binary packages are in\n",
      "\tC:\\Users\\anbun\\AppData\\Local\\Temp\\RtmpSMOpMH\\downloaded_packages\n"
     ]
    }
   ],
   "source": [
    "#install.packages(\"wordcloud\")"
   ]
  },
  {
   "cell_type": "code",
   "execution_count": 55,
   "metadata": {},
   "outputs": [
    {
     "name": "stderr",
     "output_type": "stream",
     "text": [
      "Warning message:\n",
      "\"package 'wordcloud' was built under R version 3.6.3\"Loading required package: RColorBrewer\n"
     ]
    },
    {
     "name": "stdout",
     "output_type": "stream",
     "text": [
      "  ï..name freq\n",
      "1   harry 1000\n",
      "2   louis  500\n",
      "3    liam  700\n",
      "4   niall  800\n",
      "5    zyan  900\n"
     ]
    },
    {
     "data": {
      "text/html": [
       "<table>\n",
       "<thead><tr><th scope=col>ï..name</th><th scope=col>freq</th></tr></thead>\n",
       "<tbody>\n",
       "\t<tr><td>harry</td><td>1000 </td></tr>\n",
       "\t<tr><td>louis</td><td> 500 </td></tr>\n",
       "\t<tr><td>liam </td><td> 700 </td></tr>\n",
       "\t<tr><td>niall</td><td> 800 </td></tr>\n",
       "\t<tr><td>zyan </td><td> 900 </td></tr>\n",
       "</tbody>\n",
       "</table>\n"
      ],
      "text/latex": [
       "\\begin{tabular}{r|ll}\n",
       " ï..name & freq\\\\\n",
       "\\hline\n",
       "\t harry & 1000 \\\\\n",
       "\t louis &  500 \\\\\n",
       "\t liam  &  700 \\\\\n",
       "\t niall &  800 \\\\\n",
       "\t zyan  &  900 \\\\\n",
       "\\end{tabular}\n"
      ],
      "text/markdown": [
       "\n",
       "| ï..name | freq |\n",
       "|---|---|\n",
       "| harry | 1000  |\n",
       "| louis |  500  |\n",
       "| liam  |  700  |\n",
       "| niall |  800  |\n",
       "| zyan  |  900  |\n",
       "\n"
      ],
      "text/plain": [
       "  ï..name freq\n",
       "1 harry   1000\n",
       "2 louis    500\n",
       "3 liam     700\n",
       "4 niall    800\n",
       "5 zyan     900"
      ]
     },
     "metadata": {},
     "output_type": "display_data"
    },
    {
     "ename": "ERROR",
     "evalue": "Error in if (grepl(tails, words[i])) ht <- ht + ht * 0.2: argument is of length zero\n",
     "output_type": "error",
     "traceback": [
      "Error in if (grepl(tails, words[i])) ht <- ht + ht * 0.2: argument is of length zero\nTraceback:\n",
      "1. wordcloud(words = data$name, freq = data$freq, min.freq = 2, \n .     max.words = 50, random.order = FALSE)"
     ]
    },
    {
     "data": {
      "image/png": "[encoded data removed]",
      "text/plain": [
       "plot without title"
      ]
     },
     "metadata": {},
     "output_type": "display_data"
    }
   ],
   "source": [
    "#word cloud\n",
    "library(wordcloud)\n",
    "setwd(\"/Users/anbun/Documents/r_programming_exercise\")\n",
    "data= read.csv(\"onedata.csv\")\n",
    "print(data)\n",
    "head(data)\n",
    "wordcloud(words=data$name,\n",
    "          freq = data$freq ,\n",
    "          min.freq = 2,\n",
    "          max.words = 50,\n",
    "          random.order = FALSE\n",
    "          )"
   ]
  },
  {
   "cell_type": "code",
   "execution_count": 56,
   "metadata": {},
   "outputs": [
    {
     "data": {
      "text/html": [
       "0.000735732513487144"
      ],
      "text/latex": [
       "0.000735732513487144"
      ],
      "text/markdown": [
       "0.000735732513487144"
      ],
      "text/plain": [
       "[1] 0.0007357325"
      ]
     },
     "metadata": {},
     "output_type": "display_data"
    },
    {
     "data": {
      "image/png": "[encoded data removed]",
      "text/plain": [
       "Plot with title \"density.default(x = data1$amount)\""
      ]
     },
     "metadata": {},
     "output_type": "display_data"
    }
   ],
   "source": [
    "library(e1071)\n",
    "data1=read.csv(\"/Users/anbun/Documents/r_programming_exercise/incomedata.csv\")\n",
    "skewness(data1$amount)\n",
    "plot(density(data1$amount))\n"
   ]
  },
  {
   "cell_type": "code",
   "execution_count": 57,
   "metadata": {},
   "outputs": [
    {
     "data": {
      "text/html": [
       "-0.427713463082604"
      ],
      "text/latex": [
       "-0.427713463082604"
      ],
      "text/markdown": [
       "-0.427713463082604"
      ],
      "text/plain": [
       "[1] -0.4277135"
      ]
     },
     "metadata": {},
     "output_type": "display_data"
    },
    {
     "name": "stdout",
     "output_type": "stream",
     "text": [
      "  [1]  9.10  6.70  7.32  7.54  4.79 10.28 17.29 13.39 18.22 11.09 15.05 10.60\n",
      " [13] 14.77 15.48 15.48 28.91 29.51 20.49 28.98 25.17 20.60 25.70 26.73 21.55\n",
      " [25] 27.00 27.01 25.60 28.39 28.86 23.98 34.19 31.39 32.86 30.98 31.45 31.91\n",
      " [37] 30.04 35.55 39.77 33.71 36.83 35.42 30.60 33.89 37.31 32.98 37.10 31.83\n",
      " [49] 30.89 34.91 49.05 48.40 47.29 42.38 45.74 40.94 47.71 49.49 42.31 46.25\n",
      " [61] 42.91 47.03 43.82 40.60 45.85 49.52 41.68 40.65 42.35 48.10 46.25 49.28\n",
      " [73] 40.59 40.90 40.49 58.27 51.40 56.02 59.48 54.14 53.82 59.73 53.82 56.97\n",
      " [85] 56.53 52.58 57.11 53.82 59.46 51.83 53.40 57.45 53.12 57.74 50.67 56.79\n",
      " [97] 50.91 57.21 51.52 52.61 51.68 57.49 51.91 59.86 58.06 62.97 69.80 62.24\n",
      "[109] 65.36 63.27 62.50 63.98 68.54 63.21 67.77 63.33 62.53 66.49 62.38 66.51\n",
      "[121] 65.31 69.63 65.28 60.62 62.11 62.03 67.26 60.90 64.50 68.76 67.68 65.16\n",
      "[133] 65.11 62.56 60.23 63.65 69.15 61.15 64.98 63.45 78.38 71.06 78.15 75.35\n",
      "[145] 79.72 79.43 76.66 71.78 74.15 77.09 76.14 79.10 74.51 74.97 78.92 79.79\n",
      "[157] 74.91 73.38 78.42 72.32 73.35 77.80 77.36 73.96 71.35 70.05 71.56 74.81\n",
      "[169] 74.18 73.09 74.46 73.33 79.58 73.89 79.49 70.26 73.97 72.88 74.19 76.18\n",
      "[181] 88.59 85.12 87.80 88.36 80.95 84.52 84.94 83.49 81.18 80.80 81.91 84.78\n",
      "[193] 84.72 84.80 80.64 83.59 84.66 83.03 85.99 80.40 80.60 83.05 85.36 81.59\n",
      "[205] 84.13 86.64 80.44 86.07 80.62 86.11 94.40 98.53 91.96 93.94 92.23 93.20\n",
      "[217] 93.75 93.09 91.69 92.18 93.51 96.00 98.26 94.09 92.48 94.21 92.84 94.42\n",
      "[229] 92.93 91.12\n"
     ]
    },
    {
     "data": {
      "text/plain": [
       "       X               mark      \n",
       " Min.   :  1.00   Min.   : 4.79  \n",
       " 1st Qu.: 58.25   1st Qu.:42.32  \n",
       " Median :115.50   Median :62.55  \n",
       " Mean   :115.50   Mean   :59.45  \n",
       " 3rd Qu.:172.75   3rd Qu.:78.41  \n",
       " Max.   :230.00   Max.   :98.53  "
      ]
     },
     "metadata": {},
     "output_type": "display_data"
    },
    {
     "data": {
      "image/png": "[encoded data removed]",
      "text/plain": [
       "Plot with title \"density.default(x = data2$mark)\""
      ]
     },
     "metadata": {},
     "output_type": "display_data"
    }
   ],
   "source": [
    "library(e1071)\n",
    "data2=read.csv(\"/Users/anbun/Documents/r_programming_exercise/markdata.csv\")\n",
    "skewness(data2$mark)\n",
    "plot(density(data2$mark))  \n",
    "print(data2$mark)\n",
    "summary(data2)"
   ]
  },
  {
   "cell_type": "code",
   "execution_count": 58,
   "metadata": {},
   "outputs": [
    {
     "data": {
      "text/html": [
       "0.274697524727959"
      ],
      "text/latex": [
       "0.274697524727959"
      ],
      "text/markdown": [
       "0.274697524727959"
      ],
      "text/plain": [
       "[1] 0.2746975"
      ]
     },
     "metadata": {},
     "output_type": "display_data"
    },
    {
     "name": "stdout",
     "output_type": "stream",
     "text": [
      "  [1] 152.02 151.00 152.61 153.77 155.87 155.54 155.49 154.00 154.59 155.56\n",
      " [11] 154.59 154.82 157.59 157.38 157.58 157.93 156.28 158.23 156.08 157.45\n",
      " [21] 158.98 157.14 157.90 156.47 156.01 157.88 158.76 160.93 160.39 161.74\n",
      " [31] 161.02 161.82 161.61 161.66 159.52 161.47 159.55 159.23 159.57 161.86\n",
      " [41] 159.58 160.98 159.57 161.88 161.32 159.12 159.94 161.91 163.63 162.62\n",
      " [51] 162.41 163.12 163.86 164.95 163.34 164.51 164.90 164.02 164.54 162.89\n",
      " [61] 162.36 164.66 163.59 162.39 162.34 162.87 164.03 162.76 164.84 164.17\n",
      " [71] 162.96 164.50 164.45 162.64 162.88 167.33 165.28 165.94 166.60 166.17\n",
      " [81] 166.70 165.55 166.73 166.69 166.45 166.81 167.28 167.74 167.86 166.18\n",
      " [91] 165.79 166.40 167.83 167.64 165.24 165.28 167.91 165.55 165.64 170.74\n",
      "[101] 170.49 169.14 169.65 168.29 169.02 168.98 169.23 169.68 169.32 168.86\n",
      "[111] 168.60 169.35 170.75 168.03 169.77 169.96 170.31 170.22 169.22 170.53\n",
      "[121] 171.70 173.90 173.24 171.46 173.57 173.50 173.85 171.20 171.19 173.79\n",
      "[131] 171.32 171.99 172.20 173.99 172.20 172.39 173.54 173.98 176.71 175.25\n",
      "[141] 176.68 176.01 176.54 175.05 175.24 175.54 175.89 176.34 176.83 176.42\n",
      "[151] 174.62 175.70 176.07 179.20 178.43 178.80 178.76 178.19 179.81 177.52\n",
      "[161] 177.69 177.97 178.00 177.27 177.25 180.91 182.57 180.47 182.93 182.21\n",
      "[171] 182.59 180.30 181.94 181.29 184.54 184.37 183.05 184.41 184.96 185.53\n",
      "[181] 186.25 186.40 187.46\n"
     ]
    },
    {
     "data": {
      "image/png": "[encoded data removed]",
      "text/plain": [
       "Plot with title \"density.default(x = data3$height)\""
      ]
     },
     "metadata": {},
     "output_type": "display_data"
    }
   ],
   "source": [
    "\n",
    "library(e1071)\n",
    "data3=read.csv(\"/Users/anbun/Documents/r_programming_exercise/heightdata.csv\")\n",
    "skewness(data3$height)\n",
    "plot(density(data3$height))\n",
    "print(data3$height)\n"
   ]
  },
  {
   "cell_type": "code",
   "execution_count": 59,
   "metadata": {},
   "outputs": [
    {
     "data": {
      "text/html": [
       "-0.726152472951616"
      ],
      "text/latex": [
       "-0.726152472951616"
      ],
      "text/markdown": [
       "-0.726152472951616"
      ],
      "text/plain": [
       "[1] -0.7261525"
      ]
     },
     "metadata": {},
     "output_type": "display_data"
    }
   ],
   "source": [
    "#Kurtosis:peakness of distribution\n",
    "#>3 leptokurtic\n",
    "#<3 platykurtic\n",
    "#==3 mesokurtic-normal distribution\n",
    "library(e1071)\n",
    "data=read.csv(\"/Users/anbun/Documents/r_programming_exercise/markdata.csv\")\n",
    "kurtosis(data$mark)"
   ]
  },
  {
   "cell_type": "code",
   "execution_count": 60,
   "metadata": {},
   "outputs": [
    {
     "data": {
      "text/plain": [
       "\n",
       "\tWelch Two Sample t-test\n",
       "\n",
       "data:  v1 and v2\n",
       "t = -2.3388, df = 28.123, p-value = 0.02668\n",
       "alternative hypothesis: true difference in means is not equal to 0\n",
       "95 percent confidence interval:\n",
       " -0.56269667 -0.03730333\n",
       "sample estimates:\n",
       "mean of x mean of y \n",
       " 15.38125  15.68125 \n"
      ]
     },
     "metadata": {},
     "output_type": "display_data"
    }
   ],
   "source": [
    "#hypothesis:a premise or claim or fact that we want to test\n",
    "#null hypothesis-fact\n",
    "#alternative hypothesis-opposite\n",
    "#outcome\n",
    "#reject null\n",
    "#fail to reject-if the null hypothesis is not rejected we have to accept it\n",
    "\n",
    "##level of confident:\n",
    "##L=1-c -level of confident is calculated by\n",
    "\n",
    "#when to use t-test\n",
    "#data independent.\n",
    "#normally distributed\n",
    "#similar amount of varience\n",
    "\n",
    "#t-test:\n",
    "library(e1071)\n",
    "v1<-c(15.2,15.3,16,15.8,15.6,14.9,15,15.4,15.6,15.7,15.5,15.2,15.5,15.1,15.3,15)\n",
    "v2<-c(15.9,15.9,15.2,16.6,15.2,15.8,15.8,16.2,15.6,15.6,15.8,15.5,15.5,15.5,14.9,15.9)\n",
    "t.test(v1,v2)\n",
    "\n"
   ]
  },
  {
   "cell_type": "code",
   "execution_count": 61,
   "metadata": {},
   "outputs": [
    {
     "data": {
      "text/html": [
       "<table>\n",
       "<thead><tr><th scope=col>g1</th><th scope=col>g2</th><th scope=col>g3</th></tr></thead>\n",
       "<tbody>\n",
       "\t<tr><td>2 </td><td>10</td><td>10</td></tr>\n",
       "\t<tr><td>3 </td><td> 8</td><td>13</td></tr>\n",
       "\t<tr><td>7 </td><td> 7</td><td>14</td></tr>\n",
       "\t<tr><td>2 </td><td> 5</td><td>13</td></tr>\n",
       "\t<tr><td>6 </td><td>10</td><td>15</td></tr>\n",
       "</tbody>\n",
       "</table>\n"
      ],
      "text/latex": [
       "\\begin{tabular}{r|lll}\n",
       " g1 & g2 & g3\\\\\n",
       "\\hline\n",
       "\t 2  & 10 & 10\\\\\n",
       "\t 3  &  8 & 13\\\\\n",
       "\t 7  &  7 & 14\\\\\n",
       "\t 2  &  5 & 13\\\\\n",
       "\t 6  & 10 & 15\\\\\n",
       "\\end{tabular}\n"
      ],
      "text/markdown": [
       "\n",
       "| g1 | g2 | g3 |\n",
       "|---|---|---|\n",
       "| 2  | 10 | 10 |\n",
       "| 3  |  8 | 13 |\n",
       "| 7  |  7 | 14 |\n",
       "| 2  |  5 | 13 |\n",
       "| 6  | 10 | 15 |\n",
       "\n"
      ],
      "text/plain": [
       "  g1 g2 g3\n",
       "1 2  10 10\n",
       "2 3   8 13\n",
       "3 7   7 14\n",
       "4 2   5 13\n",
       "5 6  10 15"
      ]
     },
     "metadata": {},
     "output_type": "display_data"
    },
    {
     "data": {
      "text/html": [
       "<table>\n",
       "<thead><tr><th scope=col>values</th><th scope=col>ind</th></tr></thead>\n",
       "<tbody>\n",
       "\t<tr><td> 2</td><td>g1</td></tr>\n",
       "\t<tr><td> 3</td><td>g1</td></tr>\n",
       "\t<tr><td> 7</td><td>g1</td></tr>\n",
       "\t<tr><td> 2</td><td>g1</td></tr>\n",
       "\t<tr><td> 6</td><td>g1</td></tr>\n",
       "\t<tr><td>10</td><td>g2</td></tr>\n",
       "\t<tr><td> 8</td><td>g2</td></tr>\n",
       "\t<tr><td> 7</td><td>g2</td></tr>\n",
       "\t<tr><td> 5</td><td>g2</td></tr>\n",
       "\t<tr><td>10</td><td>g2</td></tr>\n",
       "\t<tr><td>10</td><td>g3</td></tr>\n",
       "\t<tr><td>13</td><td>g3</td></tr>\n",
       "\t<tr><td>14</td><td>g3</td></tr>\n",
       "\t<tr><td>13</td><td>g3</td></tr>\n",
       "\t<tr><td>15</td><td>g3</td></tr>\n",
       "</tbody>\n",
       "</table>\n"
      ],
      "text/latex": [
       "\\begin{tabular}{r|ll}\n",
       " values & ind\\\\\n",
       "\\hline\n",
       "\t  2 & g1\\\\\n",
       "\t  3 & g1\\\\\n",
       "\t  7 & g1\\\\\n",
       "\t  2 & g1\\\\\n",
       "\t  6 & g1\\\\\n",
       "\t 10 & g2\\\\\n",
       "\t  8 & g2\\\\\n",
       "\t  7 & g2\\\\\n",
       "\t  5 & g2\\\\\n",
       "\t 10 & g2\\\\\n",
       "\t 10 & g3\\\\\n",
       "\t 13 & g3\\\\\n",
       "\t 14 & g3\\\\\n",
       "\t 13 & g3\\\\\n",
       "\t 15 & g3\\\\\n",
       "\\end{tabular}\n"
      ],
      "text/markdown": [
       "\n",
       "| values | ind |\n",
       "|---|---|\n",
       "|  2 | g1 |\n",
       "|  3 | g1 |\n",
       "|  7 | g1 |\n",
       "|  2 | g1 |\n",
       "|  6 | g1 |\n",
       "| 10 | g2 |\n",
       "|  8 | g2 |\n",
       "|  7 | g2 |\n",
       "|  5 | g2 |\n",
       "| 10 | g2 |\n",
       "| 10 | g3 |\n",
       "| 13 | g3 |\n",
       "| 14 | g3 |\n",
       "| 13 | g3 |\n",
       "| 15 | g3 |\n",
       "\n"
      ],
      "text/plain": [
       "   values ind\n",
       "1   2     g1 \n",
       "2   3     g1 \n",
       "3   7     g1 \n",
       "4   2     g1 \n",
       "5   6     g1 \n",
       "6  10     g2 \n",
       "7   8     g2 \n",
       "8   7     g2 \n",
       "9   5     g2 \n",
       "10 10     g2 \n",
       "11 10     g3 \n",
       "12 13     g3 \n",
       "13 14     g3 \n",
       "14 13     g3 \n",
       "15 15     g3 "
      ]
     },
     "metadata": {},
     "output_type": "display_data"
    },
    {
     "data": {
      "text/plain": [
       "            Df Sum Sq Mean Sq F value   Pr(>F)    \n",
       "ind          2  203.3   101.7   22.59 8.54e-05 ***\n",
       "Residuals   12   54.0     4.5                     \n",
       "---\n",
       "Signif. codes:  0 '***' 0.001 '**' 0.01 '*' 0.05 '.' 0.1 ' ' 1"
      ]
     },
     "metadata": {},
     "output_type": "display_data"
    }
   ],
   "source": [
    "\n",
    "#ANOVA:\n",
    "g1=c(2,3,7,2,6)\n",
    "g2=c(10,8,7,5,10)\n",
    "g3=c(10,13,14,13,15)\n",
    "com=data.frame(cbind(g1,g2,g3))\n",
    "com\n",
    "stck_grp=stack(com)\n",
    "stck_grp\n",
    "#result\n",
    "anova_result=aov(values~ind,data=stck_grp)\n",
    "summary(anova_result)\n",
    "\n",
    "#install.packages(\"caTools\")## this is used to test,train,and split in liner regression\n"
   ]
  },
  {
   "cell_type": "code",
   "execution_count": 62,
   "metadata": {},
   "outputs": [
    {
     "data": {
      "text/html": [
       "0.92744450048"
      ],
      "text/latex": [
       "0.92744450048"
      ],
      "text/markdown": [
       "0.92744450048"
      ],
      "text/plain": [
       "[1] 0.9274445"
      ]
     },
     "metadata": {},
     "output_type": "display_data"
    }
   ],
   "source": [
    "# probability distribution: \n",
    "#    A probability distribution describes how the values of a random variable is \n",
    "#distributed\n",
    "#QUESTION:\n",
    "#Suppose there are twelve multiple choice questions in an English class \n",
    "#quiz. Each question has five possible answers, and only one of them is \n",
    "#correct. Find the probability of having four or less correct answers \n",
    "#if a student attempts to answer every question at random.\n",
    "#pbinom(trials, size , p success)\n",
    "pbinom(4,12,1/5)\n"
   ]
  },
  {
   "cell_type": "code",
   "execution_count": 63,
   "metadata": {},
   "outputs": [
    {
     "data": {
      "text/html": [
       "0.101291007439838"
      ],
      "text/latex": [
       "0.101291007439838"
      ],
      "text/markdown": [
       "0.101291007439838"
      ],
      "text/plain": [
       "[1] 0.101291"
      ]
     },
     "metadata": {},
     "output_type": "display_data"
    }
   ],
   "source": [
    "#poission distribution:\n",
    "#QUESTION:\n",
    "#If there are 12 cars crossing a bridge per minute on average, \n",
    "#find the probability of having 17 or more cars crossing the bridge \n",
    "#in a particular minute.\n",
    "##    //ppois(no of trail ,lambda,lower=FALSE)//\n",
    "ppois(16,lambda = 12,lower=FALSE)\n",
    "#result:10.12%"
   ]
  },
  {
   "cell_type": "code",
   "execution_count": 64,
   "metadata": {},
   "outputs": [
    {
     "data": {
      "text/html": [
       "<ol class=list-inline>\n",
       "\t<li>1.27159397536889</li>\n",
       "\t<li>1.03175372863188</li>\n",
       "\t<li>2.13124413741753</li>\n",
       "\t<li>1.06053138896823</li>\n",
       "\t<li>2.93509750720114</li>\n",
       "\t<li>1.01772832078859</li>\n",
       "\t<li>1.50901316618547</li>\n",
       "\t<li>2.25231468258426</li>\n",
       "\t<li>1.55133567517623</li>\n",
       "\t<li>1.25695191975683</li>\n",
       "</ol>\n"
      ],
      "text/latex": [
       "\\begin{enumerate*}\n",
       "\\item 1.27159397536889\n",
       "\\item 1.03175372863188\n",
       "\\item 2.13124413741753\n",
       "\\item 1.06053138896823\n",
       "\\item 2.93509750720114\n",
       "\\item 1.01772832078859\n",
       "\\item 1.50901316618547\n",
       "\\item 2.25231468258426\n",
       "\\item 1.55133567517623\n",
       "\\item 1.25695191975683\n",
       "\\end{enumerate*}\n"
      ],
      "text/markdown": [
       "1. 1.27159397536889\n",
       "2. 1.03175372863188\n",
       "3. 2.13124413741753\n",
       "4. 1.06053138896823\n",
       "5. 2.93509750720114\n",
       "6. 1.01772832078859\n",
       "7. 1.50901316618547\n",
       "8. 2.25231468258426\n",
       "9. 1.55133567517623\n",
       "10. 1.25695191975683\n",
       "\n",
       "\n"
      ],
      "text/plain": [
       " [1] 1.271594 1.031754 2.131244 1.060531 2.935098 1.017728 1.509013 2.252315\n",
       " [9] 1.551336 1.256952"
      ]
     },
     "metadata": {},
     "output_type": "display_data"
    }
   ],
   "source": [
    "#continuous random distribution:\n",
    "#QUESTION:\n",
    "#Select ten random numbers between one and three.\n",
    "runif(10, min=1, max=3)"
   ]
  },
  {
   "cell_type": "code",
   "execution_count": 65,
   "metadata": {},
   "outputs": [
    {
     "data": {
      "text/html": [
       "0.486582880967408"
      ],
      "text/latex": [
       "0.486582880967408"
      ],
      "text/markdown": [
       "0.486582880967408"
      ],
      "text/plain": [
       "[1] 0.4865829"
      ]
     },
     "metadata": {},
     "output_type": "display_data"
    }
   ],
   "source": [
    "#exponential distibution:\n",
    "#desbribe the arrival time of randomly occuring independent event\n",
    "#QUESTION:\n",
    "#suppose the mean check out time of a supermarket cashier is 3 min \n",
    "#find the probabily of customer check out being completed in less than \n",
    "#2 mins\n",
    "pexp(2,rate = 1/3)\n",
    "#result=48.65%"
   ]
  },
  {
   "cell_type": "code",
   "execution_count": 66,
   "metadata": {},
   "outputs": [
    {
     "data": {
      "text/html": [
       "0.214917602311272"
      ],
      "text/latex": [
       "0.214917602311272"
      ],
      "text/markdown": [
       "0.214917602311272"
      ],
      "text/plain": [
       "[1] 0.2149176"
      ]
     },
     "metadata": {},
     "output_type": "display_data"
    }
   ],
   "source": [
    "#normal distribution:\n",
    "#Question:\n",
    "#Assume that the test score of a college enterance exam fits a \n",
    "#normal distribution manner ,mean=72,standard deviation is 15.2\n",
    "#what is the % of students scoring 84 or more in the exam\n",
    "##    //pnorm(no of trials, mean=, sd=, lower.tail=FALSE) //\n",
    "pnorm(84,mean=72,sd=15.2,lower.tail = FALSE)\n",
    "#result=21.49%"
   ]
  },
  {
   "cell_type": "code",
   "execution_count": 67,
   "metadata": {},
   "outputs": [
    {
     "data": {
      "text/html": [
       "14.0671404493402"
      ],
      "text/latex": [
       "14.0671404493402"
      ],
      "text/markdown": [
       "14.0671404493402"
      ],
      "text/plain": [
       "[1] 14.06714"
      ]
     },
     "metadata": {},
     "output_type": "display_data"
    }
   ],
   "source": [
    "#chi-suqare:\n",
    "#Find the 95th percentile of the ChiSquared distribution with 7 degrees\n",
    "#of freedom.\n",
    "##    //qchisq(percentile ,df)//\n",
    "qchisq(0.95,df=7)\n",
    "#result=14.06% for df=7"
   ]
  },
  {
   "cell_type": "code",
   "execution_count": 68,
   "metadata": {},
   "outputs": [
    {
     "data": {
      "text/html": [
       "<ol class=list-inline>\n",
       "\t<li>-2.57058183563631</li>\n",
       "\t<li>2.42158470939533</li>\n",
       "</ol>\n"
      ],
      "text/latex": [
       "\\begin{enumerate*}\n",
       "\\item -2.57058183563631\n",
       "\\item 2.42158470939533\n",
       "\\end{enumerate*}\n"
      ],
      "text/markdown": [
       "1. -2.57058183563631\n",
       "2. 2.42158470939533\n",
       "\n",
       "\n"
      ],
      "text/plain": [
       "[1] -2.570582  2.421585"
      ]
     },
     "metadata": {},
     "output_type": "display_data"
    }
   ],
   "source": [
    "#t-distribution:\n",
    "#find the 2.5th  and 97 th distribution with degree of freedom is 5\n",
    "##    //qt(c(percentile1,percentile 2),df=)//\n",
    "qt(c(0.025,0.97),df=5)"
   ]
  },
  {
   "cell_type": "code",
   "execution_count": 69,
   "metadata": {},
   "outputs": [
    {
     "data": {
      "text/html": [
       "19.2964096520172"
      ],
      "text/latex": [
       "19.2964096520172"
      ],
      "text/markdown": [
       "19.2964096520172"
      ],
      "text/plain": [
       "[1] 19.29641"
      ]
     },
     "metadata": {},
     "output_type": "display_data"
    }
   ],
   "source": [
    "#f-distribution:\n",
    "##    //qf(percentile df1=, df2=)// \n",
    "qf(0.95,df1=5,df2=2)\n"
   ]
  },
  {
   "cell_type": "code",
   "execution_count": 70,
   "metadata": {},
   "outputs": [
    {
     "name": "stdout",
     "output_type": "stream",
     "text": [
      "     Jan Feb Mar Apr May Jun Jul Aug Sep Oct Nov Dec\n",
      "2017  30  24  56  78  90  56  35  40  20  10  50  65\n"
     ]
    },
    {
     "data": {
      "image/png": "[encoded data removed]",
      "text/plain": [
       "plot without title"
      ]
     },
     "metadata": {},
     "output_type": "display_data"
    },
    {
     "data": {
      "image/png": "[encoded data removed]",
      "text/plain": [
       "Plot with title \"Histogram of result\""
      ]
     },
     "metadata": {},
     "output_type": "display_data"
    },
    {
     "data": {
      "image/png": "[encoded data removed]",
      "text/plain": [
       "Plot with title \"pie chart\""
      ]
     },
     "metadata": {},
     "output_type": "display_data"
    }
   ],
   "source": [
    "#time series data and graphical representation:\n",
    "rain=c(30,24,56,78,90,56,35,40,20,10,50,65)\n",
    "result=ts(rain,start=c(2017,1),frequency=12)\n",
    "print(result)\n",
    "#plot for time series\n",
    "plot(result)\n",
    "hist(result,col=\"light blue\")\n",
    "pie(rain,labels = result,main=\"pie chart\",col = c(\"pink\",\"light blue\",\"light green\",\"orange\"))"
   ]
  },
  {
   "cell_type": "code",
   "execution_count": 71,
   "metadata": {},
   "outputs": [
    {
     "name": "stdout",
     "output_type": "stream",
     "text": [
      "      [,1] [,2]\n",
      " [1,] 1128  342\n",
      " [2,]  833   57\n",
      " [3,] 1142  234\n",
      " [4,]  456 4657\n",
      " [5,]  677  478\n",
      " [6,]  465  324\n",
      " [7,] 6878  578\n",
      " [8,]  345  196\n",
      " [9,]  234 4365\n",
      "[10,] 4565  685\n",
      "[11,]  547  789\n",
      "[12,]  233  879\n",
      "         Series 1 Series 2\n",
      "Jan 2017     1128      342\n",
      "Feb 2017      833       57\n",
      "Mar 2017     1142      234\n",
      "Apr 2017      456     4657\n",
      "May 2017      677      478\n",
      "Jun 2017      465      324\n",
      "Jul 2017     6878      578\n",
      "Aug 2017      345      196\n",
      "Sep 2017      234     4365\n",
      "Oct 2017     4565      685\n",
      "Nov 2017      547      789\n",
      "Dec 2017      233      879\n"
     ]
    },
    {
     "data": {
      "image/png": "[encoded data removed]",
      "text/plain": [
       "plot without title"
      ]
     },
     "metadata": {},
     "output_type": "display_data"
    }
   ],
   "source": [
    "#time series data and graphical representation:\n",
    "r=c(1128,833,1142,456,677,465,6878,345,234,4565,547,233)\n",
    "r1=c(342,57,234,4657,478,324,578,196,4365,685,789,879)\n",
    "m=matrix(c(r,r1),nrow=12)\n",
    "print(m)\n",
    "rms=ts(m,start=c(2017,1),frequency=12)\n",
    "print(rms)\n",
    "#plot for time series\n",
    "plot(rms)"
   ]
  },
  {
   "cell_type": "code",
   "execution_count": 72,
   "metadata": {},
   "outputs": [
    {
     "name": "stdout",
     "output_type": "stream",
     "text": [
      "       Jan   Feb   Mar   Apr   May   Jun   Jul   Aug   Sep   Oct   Nov   Dec\n",
      "2012        6938  7524  8475  9401  9558  9182  9103 10513  9573 10254 11187\n",
      "2013 18395  7502  7524  8766  9867 10063  9635  9794 10628 10013 10346 11760\n",
      "2014 18851  7280  7902  9921  9869 10009  9893  9735 11157 10217 10730 12354\n",
      "2015 20016  7518  7961  9815 10168 10620 10301  9784 11264 10710 10439 12751\n",
      "2016 20002  7684  8991 10349 10570 11405 10554 10202 12134 10623 11250 12875\n",
      "2017 19944  8194  8835 10840 10131 11505 10654 10734 12461 10942 11635 13244\n",
      "2018 21118  8800  9499 10863 11825 12239 11451 11633 12971 11214 12384 13854\n",
      "2019 22418  9237 10171 12081 12386 13167 12280 12461 13734 12357 12948 14643\n",
      "2020 24286  9447 11170 12841 13124 13735 12953 12500 14610 13375 13369 15675\n",
      "2021 24875 10060 11450 13067 13362 13787 12935 12600 14818 12104 13218 15352\n",
      "2022 24534 10344 11730 13977 13195 14150 13210 12873 15113 12445 14006 15911\n",
      "2023 25350 10804 11662 13452 13691 14730 13496 13854 15522 13567 14601 16555\n",
      "2024 26760 11790 13344 14760 15058 15379 14237 14667 15588 14224 15570 17230\n",
      "2025 28406 12046 13878 15727 15708 15989 15559 15218 16697 14960 16509 18402\n",
      "2026 30276 12893 14474 16386 16848 17103 16505 16275 17832 16767 17253 19391\n",
      "2027 31462 13927 15077 18045 17096 18474 17289 16883 18850 16765 17614 20550\n",
      "2028 30635 14170 15877 17764 17098 19081 17006 17366 19038 15881 16791 18753\n",
      "2029 26718 13382 14681 15560 16334 17260 15429 16002 17650 15624 17046 18324\n",
      "2030 27110 13208 14809 17384 17034 17717 16129 16834 17915 16224 17403 19995\n",
      "2031 28526 13692 15920 18241 18634 18756 17772 17925 19246 17984 18242 20941\n",
      "2032 31085 14340 17909 20144 18586 19938 18709 18265 20751 18400 18860 22040\n",
      "2033 31551 15230 17484 20681 19285 20914 19056 19280 21676 18244 19992 22611\n",
      "2034 31860 15252 17608 20146 20388 21631 18984 19848 21987 18640 20214 23473\n",
      "2035 32604 15733 17919 20711 20346 22093 19612 20499 22197 19080 20563 23007\n",
      "2036 33123 15564 18712 21264 20221 21389 19883 20381 22086 19538 20306 23438\n",
      "2037 34300 15748 18511                                                      \n"
     ]
    },
    {
     "data": {
      "image/png": "[encoded data removed]",
      "text/plain": [
       "plot without title"
      ]
     },
     "metadata": {},
     "output_type": "display_data"
    },
    {
     "data": {
      "image/png": "[encoded data removed]",
      "text/plain": [
       "Plot with title \"density.default(x = result)\""
      ]
     },
     "metadata": {},
     "output_type": "display_data"
    },
    {
     "data": {
      "text/plain": [
       "   Min. 1st Qu.  Median    Mean 3rd Qu.    Max. \n",
       "   6938   11768   15302   15718   18639   34300 "
      ]
     },
     "metadata": {},
     "output_type": "display_data"
    },
    {
     "data": {
      "image/png": "[encoded data removed]",
      "text/plain": [
       "Plot with title \"Histogram of result\""
      ]
     },
     "metadata": {},
     "output_type": "display_data"
    }
   ],
   "source": [
    "#time series data and graphical representation:\n",
    "data=read.csv(\"/Users/anbun/Documents/r_programming_exercise/sales.csv\")\n",
    "a=data$\"Retail.trade.clothing\"\n",
    "b=c(a)\n",
    "result=ts(b,start=c(2012,2),frequency=12)\n",
    "print(result)\n",
    "#plot for time series\n",
    "plot(result)\n",
    "plot(density(result))\n",
    "hist(result)\n",
    "summary(result)"
   ]
  },
  {
   "cell_type": "code",
   "execution_count": 73,
   "metadata": {},
   "outputs": [
    {
     "data": {
      "text/plain": [
       "\n",
       "\tPearson's product-moment correlation\n",
       "\n",
       "data:  hrs and marks\n",
       "t = 5.6011, df = 11, p-value = 0.0001601\n",
       "alternative hypothesis: true correlation is not equal to 0\n",
       "95 percent confidence interval:\n",
       " 0.5884739 0.9574966\n",
       "sample estimates:\n",
       "      cor \n",
       "0.8604624 \n"
      ]
     },
     "metadata": {},
     "output_type": "display_data"
    },
    {
     "data": {
      "text/plain": [
       "\n",
       "\tPearson's product-moment correlation\n",
       "\n",
       "data:  v and v1\n",
       "t = -3.1011, df = 30, p-value = 0.004173\n",
       "alternative hypothesis: true correlation is not equal to 0\n",
       "95 percent confidence interval:\n",
       " -0.7180260 -0.1738615\n",
       "sample estimates:\n",
       "       cor \n",
       "-0.4926866 \n"
      ]
     },
     "metadata": {},
     "output_type": "display_data"
    },
    {
     "data": {
      "text/plain": [
       "\n",
       "\tPearson's product-moment correlation\n",
       "\n",
       "data:  v and v2\n",
       "t = -8.9197, df = 30, p-value = 6.113e-10\n",
       "alternative hypothesis: true correlation is not equal to 0\n",
       "95 percent confidence interval:\n",
       " -0.9257694 -0.7163171\n",
       "sample estimates:\n",
       "      cor \n",
       "-0.852162 \n"
      ]
     },
     "metadata": {},
     "output_type": "display_data"
    }
   ],
   "source": [
    "##correlation:\n",
    "hrs = c(8,11,3,6,14,9,2,0,7,13,10,4,9)\n",
    "marks = c(82,94,70,75,98,80,68,53,76,87,89,83,72)\n",
    "cor.test(hrs,marks)\n",
    "\n",
    "v=mtcars$cyl\n",
    "v1=mtcars$gear\n",
    "v2=mtcars$mpg\n",
    "cor.test(v,v1)\n",
    "cor.test(v,v2)\n",
    "# \"-\" _ weak correlation\n",
    "# \"+\" _ medium /strong correlation"
   ]
  },
  {
   "cell_type": "code",
   "execution_count": 74,
   "metadata": {},
   "outputs": [
    {
     "data": {
      "text/plain": [
       "\n",
       "Call:\n",
       "lm(formula = w ~ h)\n",
       "\n",
       "Residuals:\n",
       "    Min      1Q  Median      3Q     Max \n",
       "-3.0166 -1.1985 -0.1395  0.5183  4.6678 \n",
       "\n",
       "Coefficients:\n",
       "            Estimate Std. Error t value Pr(>|t|)    \n",
       "(Intercept)   24.515      7.765   3.157 0.013454 *  \n",
       "h              7.807      1.313   5.945 0.000344 ***\n",
       "---\n",
       "Signif. codes:  0 '***' 0.001 '**' 0.01 '*' 0.05 '.' 0.1 ' ' 1\n",
       "\n",
       "Residual standard error: 2.161 on 8 degrees of freedom\n",
       "Multiple R-squared:  0.8154,\tAdjusted R-squared:  0.7924 \n",
       "F-statistic: 35.34 on 1 and 8 DF,  p-value: 0.0003439\n"
      ]
     },
     "metadata": {},
     "output_type": "display_data"
    },
    {
     "data": {
      "text/html": [
       "<strong>1:</strong> 73.7009966777409"
      ],
      "text/latex": [
       "\\textbf{1:} 73.7009966777409"
      ],
      "text/markdown": [
       "**1:** 73.7009966777409"
      ],
      "text/plain": [
       "     1 \n",
       "73.701 "
      ]
     },
     "metadata": {},
     "output_type": "display_data"
    }
   ],
   "source": [
    "##single linear regression\n",
    "#predict:\n",
    "h=c(5.1,5.5,5.8,6.1,6.4,6.7,6.4,6.1,5.10,5.7)\n",
    "#response:\n",
    "w=c(63,66,69,72,75,78,75,72,69,66)\n",
    "\n",
    "relation=lm(w~h)\n",
    "summary(relation)\n",
    "r=data.frame(h=6.3)\n",
    "final=predict(relation,r)\n",
    "final"
   ]
  },
  {
   "cell_type": "code",
   "execution_count": 75,
   "metadata": {},
   "outputs": [
    {
     "data": {
      "text/plain": [
       "\n",
       "Call:\n",
       "lm(formula = marks ~ hrs)\n",
       "\n",
       "Residuals:\n",
       "    Min      1Q  Median      3Q     Max \n",
       "-10.922  -2.922   1.506   2.940  12.217 \n",
       "\n",
       "Coefficients:\n",
       "            Estimate Std. Error t value Pr(>|t|)    \n",
       "(Intercept)  61.0723     3.6581  16.695 3.67e-09 ***\n",
       "hrs           2.4277     0.4334   5.601  0.00016 ***\n",
       "---\n",
       "Signif. codes:  0 '***' 0.001 '**' 0.01 '*' 0.05 '.' 0.1 ' ' 1\n",
       "\n",
       "Residual standard error: 6.386 on 11 degrees of freedom\n",
       "Multiple R-squared:  0.7404,\tAdjusted R-squared:  0.7168 \n",
       "F-statistic: 31.37 on 1 and 11 DF,  p-value: 0.0001601\n"
      ]
     },
     "metadata": {},
     "output_type": "display_data"
    },
    {
     "data": {
      "text/html": [
       "<strong>1:</strong> 97.4879518072289"
      ],
      "text/latex": [
       "\\textbf{1:} 97.4879518072289"
      ],
      "text/markdown": [
       "**1:** 97.4879518072289"
      ],
      "text/plain": [
       "       1 \n",
       "97.48795 "
      ]
     },
     "metadata": {},
     "output_type": "display_data"
    }
   ],
   "source": [
    "hrs= c(8,11,3,6,14,9,2,0,7,13,10,4,9)\n",
    "marks = c(82,94,70,75,98,80,68,53,76,87,89,83,72)\n",
    "relation = lm(marks~hrs)\n",
    "summary(relation)\n",
    "r = data.frame(hrs=15)\n",
    "fin = predict(relation,r)\n",
    "fin"
   ]
  },
  {
   "cell_type": "code",
   "execution_count": 76,
   "metadata": {},
   "outputs": [
    {
     "data": {
      "text/plain": [
       "\n",
       "Call:\n",
       "lm(formula = size ~ weight + tail)\n",
       "\n",
       "Residuals:\n",
       "ALL 3 residuals are 0: no residual degrees of freedom!\n",
       "\n",
       "Coefficients:\n",
       "            Estimate Std. Error t value Pr(>|t|)\n",
       "(Intercept)      1.6         NA      NA       NA\n",
       "weight           1.0         NA      NA       NA\n",
       "tail            -2.0         NA      NA       NA\n",
       "\n",
       "Residual standard error: NaN on 0 degrees of freedom\n",
       "Multiple R-squared:      1,\tAdjusted R-squared:    NaN \n",
       "F-statistic:   NaN on 2 and 0 DF,  p-value: NA\n"
      ]
     },
     "metadata": {},
     "output_type": "display_data"
    },
    {
     "data": {
      "text/html": [
       "<strong>1:</strong> 2.5"
      ],
      "text/latex": [
       "\\textbf{1:} 2.5"
      ],
      "text/markdown": [
       "**1:** 2.5"
      ],
      "text/plain": [
       "  1 \n",
       "2.5 "
      ]
     },
     "metadata": {},
     "output_type": "display_data"
    }
   ],
   "source": [
    "#multiple linear regression\n",
    "weight=c(1.4,2.8,3.4)\n",
    "size=c(1.2,2.4,3.4)\n",
    "tail=c(0.9,1,0.8)\n",
    "relation=lm(size~weight+tail)\n",
    "summary(relation)\n",
    "r=data.frame(weight=2.5,tail=0.8)\n",
    "fin=predict(relation,r)\n",
    "fin\n"
   ]
  },
  {
   "cell_type": "code",
   "execution_count": 77,
   "metadata": {},
   "outputs": [
    {
     "data": {
      "text/plain": [
       "\n",
       "Call:\n",
       "lm(formula = p ~ per)\n",
       "\n",
       "Residuals:\n",
       "      1       2       3       4       5 \n",
       "-0.9292 -0.9027 -0.3894 -0.1195  2.3407 \n",
       "\n",
       "Coefficients:\n",
       "            Estimate Std. Error t value Pr(>|t|)\n",
       "(Intercept)  -0.5044     3.4186  -0.148    0.892\n",
       "per           0.4867     0.4648   1.047    0.372\n",
       "\n",
       "Residual standard error: 1.562 on 3 degrees of freedom\n",
       "Multiple R-squared:  0.2677,\tAdjusted R-squared:  0.0236 \n",
       "F-statistic: 1.097 on 1 and 3 DF,  p-value: 0.3719\n"
      ]
     },
     "metadata": {},
     "output_type": "display_data"
    },
    {
     "data": {
      "text/html": [
       "<strong>1:</strong> 4.36283185840708"
      ],
      "text/latex": [
       "\\textbf{1:} 4.36283185840708"
      ],
      "text/markdown": [
       "**1:** 4.36283185840708"
      ],
      "text/plain": [
       "       1 \n",
       "4.362832 "
      ]
     },
     "metadata": {},
     "output_type": "display_data"
    }
   ],
   "source": [
    "#in linear regression multiple independent -\n",
    "#value cannot be pridicted\n",
    "p =c(1,2,3,4,5)\n",
    "per =c(5,7,8,9.5,6.5)\n",
    "relation = lm(p ~ per)\n",
    "summary(relation)\n",
    "r = data.frame(per =10)\n",
    "fin = predict(relation,r)\n",
    "fin"
   ]
  },
  {
   "cell_type": "code",
   "execution_count": 78,
   "metadata": {},
   "outputs": [
    {
     "name": "stdout",
     "output_type": "stream",
     "text": [
      "      mydata1  mydata2    mydata3\n",
      "[1,] 6.554327 77.91682 0.27864352\n",
      "[2,] 5.719728 75.31737 0.01656612\n",
      "[3,] 7.775163 76.93840 0.86765504\n",
      "[4,] 6.187320 78.83783 0.47517723\n",
      "[5,] 7.142526 75.75849 0.89428873\n",
      "[6,] 6.415526 78.30384 0.93067461\n",
      "NULL\n"
     ]
    },
    {
     "data": {
      "image/png": "[encoded data removed]",
      "text/plain": [
       "Plot with title \"Time Series\""
      ]
     },
     "metadata": {},
     "output_type": "display_data"
    }
   ],
   "source": [
    "#EXERCISE:\n",
    "#time series and graphical representation :\n",
    "set.seed(13)\n",
    "mydata1 = rnorm(500,6)\n",
    "mydata2 = rnorm(500,77)\n",
    "mydata3 = runif(500)\n",
    "mydata=data.frame(mydata1,mydata2,mydata3)\n",
    "mydataMatrix = as.matrix(mydata)\n",
    "#print(mydataMatrix)\n",
    "myts = ts(mydata,start=c(1980,5),frequency=12)\n",
    "print(head(myts))\n",
    "print(plot(density(myts),col=\"pink\",type=\"h\",main=\"Time Series\"))"
   ]
  },
  {
   "cell_type": "code",
   "execution_count": 79,
   "metadata": {},
   "outputs": [
    {
     "data": {
      "text/html": [
       "<table>\n",
       "<thead><tr><th scope=col>ne</th><th scope=col>s</th><th scope=col>w</th><th scope=col>e</th><th scope=col>c</th></tr></thead>\n",
       "<tbody>\n",
       "\t<tr><td>16.3</td><td>16.9</td><td>16.4</td><td>17.1</td><td>16.2</td></tr>\n",
       "\t<tr><td>16.1</td><td>16.5</td><td>16.5</td><td>17.2</td><td>16.6</td></tr>\n",
       "\t<tr><td>16.4</td><td>16.4</td><td>16.6</td><td>16.6</td><td>16.5</td></tr>\n",
       "\t<tr><td>16.5</td><td>16.2</td><td>16.1</td><td>16.8</td><td>16.4</td></tr>\n",
       "</tbody>\n",
       "</table>\n"
      ],
      "text/latex": [
       "\\begin{tabular}{r|lllll}\n",
       " ne & s & w & e & c\\\\\n",
       "\\hline\n",
       "\t 16.3 & 16.9 & 16.4 & 17.1 & 16.2\\\\\n",
       "\t 16.1 & 16.5 & 16.5 & 17.2 & 16.6\\\\\n",
       "\t 16.4 & 16.4 & 16.6 & 16.6 & 16.5\\\\\n",
       "\t 16.5 & 16.2 & 16.1 & 16.8 & 16.4\\\\\n",
       "\\end{tabular}\n"
      ],
      "text/markdown": [
       "\n",
       "| ne | s | w | e | c |\n",
       "|---|---|---|---|---|\n",
       "| 16.3 | 16.9 | 16.4 | 17.1 | 16.2 |\n",
       "| 16.1 | 16.5 | 16.5 | 17.2 | 16.6 |\n",
       "| 16.4 | 16.4 | 16.6 | 16.6 | 16.5 |\n",
       "| 16.5 | 16.2 | 16.1 | 16.8 | 16.4 |\n",
       "\n"
      ],
      "text/plain": [
       "  ne   s    w    e    c   \n",
       "1 16.3 16.9 16.4 17.1 16.2\n",
       "2 16.1 16.5 16.5 17.2 16.6\n",
       "3 16.4 16.4 16.6 16.6 16.5\n",
       "4 16.5 16.2 16.1 16.8 16.4"
      ]
     },
     "metadata": {},
     "output_type": "display_data"
    },
    {
     "data": {
      "text/html": [
       "<table>\n",
       "<thead><tr><th scope=col>values</th><th scope=col>ind</th></tr></thead>\n",
       "<tbody>\n",
       "\t<tr><td>16.3</td><td>ne  </td></tr>\n",
       "\t<tr><td>16.1</td><td>ne  </td></tr>\n",
       "\t<tr><td>16.4</td><td>ne  </td></tr>\n",
       "\t<tr><td>16.5</td><td>ne  </td></tr>\n",
       "\t<tr><td>16.9</td><td>s   </td></tr>\n",
       "\t<tr><td>16.5</td><td>s   </td></tr>\n",
       "\t<tr><td>16.4</td><td>s   </td></tr>\n",
       "\t<tr><td>16.2</td><td>s   </td></tr>\n",
       "\t<tr><td>16.4</td><td>w   </td></tr>\n",
       "\t<tr><td>16.5</td><td>w   </td></tr>\n",
       "\t<tr><td>16.6</td><td>w   </td></tr>\n",
       "\t<tr><td>16.1</td><td>w   </td></tr>\n",
       "\t<tr><td>17.1</td><td>e   </td></tr>\n",
       "\t<tr><td>17.2</td><td>e   </td></tr>\n",
       "\t<tr><td>16.6</td><td>e   </td></tr>\n",
       "\t<tr><td>16.8</td><td>e   </td></tr>\n",
       "\t<tr><td>16.2</td><td>c   </td></tr>\n",
       "\t<tr><td>16.6</td><td>c   </td></tr>\n",
       "\t<tr><td>16.5</td><td>c   </td></tr>\n",
       "\t<tr><td>16.4</td><td>c   </td></tr>\n",
       "</tbody>\n",
       "</table>\n"
      ],
      "text/latex": [
       "\\begin{tabular}{r|ll}\n",
       " values & ind\\\\\n",
       "\\hline\n",
       "\t 16.3 & ne  \\\\\n",
       "\t 16.1 & ne  \\\\\n",
       "\t 16.4 & ne  \\\\\n",
       "\t 16.5 & ne  \\\\\n",
       "\t 16.9 & s   \\\\\n",
       "\t 16.5 & s   \\\\\n",
       "\t 16.4 & s   \\\\\n",
       "\t 16.2 & s   \\\\\n",
       "\t 16.4 & w   \\\\\n",
       "\t 16.5 & w   \\\\\n",
       "\t 16.6 & w   \\\\\n",
       "\t 16.1 & w   \\\\\n",
       "\t 17.1 & e   \\\\\n",
       "\t 17.2 & e   \\\\\n",
       "\t 16.6 & e   \\\\\n",
       "\t 16.8 & e   \\\\\n",
       "\t 16.2 & c   \\\\\n",
       "\t 16.6 & c   \\\\\n",
       "\t 16.5 & c   \\\\\n",
       "\t 16.4 & c   \\\\\n",
       "\\end{tabular}\n"
      ],
      "text/markdown": [
       "\n",
       "| values | ind |\n",
       "|---|---|\n",
       "| 16.3 | ne   |\n",
       "| 16.1 | ne   |\n",
       "| 16.4 | ne   |\n",
       "| 16.5 | ne   |\n",
       "| 16.9 | s    |\n",
       "| 16.5 | s    |\n",
       "| 16.4 | s    |\n",
       "| 16.2 | s    |\n",
       "| 16.4 | w    |\n",
       "| 16.5 | w    |\n",
       "| 16.6 | w    |\n",
       "| 16.1 | w    |\n",
       "| 17.1 | e    |\n",
       "| 17.2 | e    |\n",
       "| 16.6 | e    |\n",
       "| 16.8 | e    |\n",
       "| 16.2 | c    |\n",
       "| 16.6 | c    |\n",
       "| 16.5 | c    |\n",
       "| 16.4 | c    |\n",
       "\n"
      ],
      "text/plain": [
       "   values ind\n",
       "1  16.3   ne \n",
       "2  16.1   ne \n",
       "3  16.4   ne \n",
       "4  16.5   ne \n",
       "5  16.9   s  \n",
       "6  16.5   s  \n",
       "7  16.4   s  \n",
       "8  16.2   s  \n",
       "9  16.4   w  \n",
       "10 16.5   w  \n",
       "11 16.6   w  \n",
       "12 16.1   w  \n",
       "13 17.1   e  \n",
       "14 17.2   e  \n",
       "15 16.6   e  \n",
       "16 16.8   e  \n",
       "17 16.2   c  \n",
       "18 16.6   c  \n",
       "19 16.5   c  \n",
       "20 16.4   c  "
      ]
     },
     "metadata": {},
     "output_type": "display_data"
    },
    {
     "data": {
      "text/plain": [
       "            Df Sum Sq Mean Sq F value Pr(>F)  \n",
       "ind          4 0.9030  0.2258    4.22 0.0174 *\n",
       "Residuals   15 0.8025  0.0535                 \n",
       "---\n",
       "Signif. codes:  0 '***' 0.001 '**' 0.01 '*' 0.05 '.' 0.1 ' ' 1"
      ]
     },
     "metadata": {},
     "output_type": "display_data"
    }
   ],
   "source": [
    "#EXERCISE\n",
    "##anova:\n",
    "ne=c(16.3,16.1,16.4,16.5)\n",
    "s=c(16.9,16.5,16.4,16.2)\n",
    "w=c(16.4,16.5,16.6,16.1)\n",
    "e=c(17.1,17.2,16.6,16.8)\n",
    "c=c(16.2,16.6,16.5,16.4)\n",
    "com=data.frame(cbind(ne,s,w,e,c))\n",
    "com\n",
    "stack_grp=stack(com)\n",
    "stack_grp\n",
    "#result\n",
    "anova_result=aov(values~ind,data=stack_grp)\n",
    "summary(anova_result)"
   ]
  },
  {
   "cell_type": "code",
   "execution_count": 80,
   "metadata": {},
   "outputs": [
    {
     "data": {
      "text/html": [
       "0.1171875"
      ],
      "text/latex": [
       "0.1171875"
      ],
      "text/markdown": [
       "0.1171875"
      ],
      "text/plain": [
       "[1] 0.1171875"
      ]
     },
     "metadata": {},
     "output_type": "display_data"
    },
    {
     "data": {
      "text/html": [
       "0.122894856622667"
      ],
      "text/latex": [
       "0.122894856622667"
      ],
      "text/markdown": [
       "0.122894856622667"
      ],
      "text/plain": [
       "[1] 0.1228949"
      ]
     },
     "metadata": {},
     "output_type": "display_data"
    },
    {
     "data": {
      "text/html": [
       "12"
      ],
      "text/latex": [
       "12"
      ],
      "text/markdown": [
       "12"
      ],
      "text/plain": [
       "[1] 12"
      ]
     },
     "metadata": {},
     "output_type": "display_data"
    },
    {
     "data": {
      "text/html": [
       "0.0227501319481792"
      ],
      "text/latex": [
       "0.0227501319481792"
      ],
      "text/markdown": [
       "0.0227501319481792"
      ],
      "text/plain": [
       "[1] 0.02275013"
      ]
     },
     "metadata": {},
     "output_type": "display_data"
    }
   ],
   "source": [
    "#ex1\n",
    "#The coin is flipped ten times. Find the probability of 7 heads occurring\n",
    "#this is binomial distribution cause here we are finding probability of success or failure\n",
    "#so prob of getting 1head per toss is 1/2=0.5\n",
    "#pbinom(7,size=10,prob=1/2)\n",
    "dbinom(7,size=10,prob=1/2)\n",
    "#ex2\n",
    "#A card is selected three times (and replaced). \n",
    "#Find the probability of 2 face cards occurring.\n",
    "#pbinom(2,size=3,prob=3/13)\n",
    "dbinom(2,size=3,prob=3/13)\n",
    "#ex3\n",
    "#A student decides to guess on a section of his ACT test. \n",
    "#The section contains 50 multiple choice questions and each question has \n",
    "#5 possible answers.\n",
    "qbinom(0.75,size=50,prob=1/5)\n",
    "#ex4\n",
    "#A company ships 5000 cell phones. \n",
    "#They are expected to last an average of 10,000 hours before\n",
    "#needing repair; with a standard deviation of 500 hours.\n",
    "#Assume the survival time of the phones are normally distributed.\n",
    "#If a phone is randomly selected to be tracked for repairs \n",
    "#find the expected number that needs repair,\n",
    "#a) after 11,000 hours\n",
    "pnorm(11000,mean=10000,sd=500,lower.tail=FALSE)"
   ]
  },
  {
   "cell_type": "code",
   "execution_count": 82,
   "metadata": {},
   "outputs": [
    {
     "name": "stderr",
     "output_type": "stream",
     "text": [
      "also installing the dependency 'bitops'\n",
      "\n"
     ]
    },
    {
     "name": "stdout",
     "output_type": "stream",
     "text": [
      "package 'bitops' successfully unpacked and MD5 sums checked\n",
      "package 'caTools' successfully unpacked and MD5 sums checked\n",
      "\n",
      "The downloaded binary packages are in\n",
      "\tC:\\Users\\anbun\\AppData\\Local\\Temp\\RtmpSMOpMH\\downloaded_packages\n"
     ]
    }
   ],
   "source": [
    "install.packages(\"caTools\")"
   ]
  },
  {
   "cell_type": "code",
   "execution_count": 83,
   "metadata": {},
   "outputs": [
    {
     "name": "stderr",
     "output_type": "stream",
     "text": [
      "Warning message:\n",
      "\"package 'caTools' was built under R version 3.6.3\""
     ]
    },
    {
     "name": "stdout",
     "output_type": "stream",
     "text": [
      "          Mazda RX4       Mazda RX4 Wag          Datsun 710      Hornet 4 Drive \n",
      "           22.59951            22.11189            26.25064            21.23740 \n",
      "  Hornet Sportabout             Valiant          Duster 360           Merc 240D \n",
      "           17.69343            20.38304            14.38626            22.49601 \n",
      "           Merc 230            Merc 280           Merc 280C          Merc 450SE \n",
      "           24.41909            18.69903            19.19165            14.17216 \n",
      "         Merc 450SL         Merc 450SLC  Cadillac Fleetwood Lincoln Continental \n",
      "           15.59957            15.74222            12.03401            10.93644 \n",
      "  Chrysler Imperial            Fiat 128         Honda Civic      Toyota Corolla \n",
      "           10.49363            27.77291            29.89674            29.51237 \n",
      "      Toyota Corona    Dodge Challenger         AMC Javelin          Camaro Z28 \n",
      "           23.64310            16.94305            17.73218            13.30602 \n",
      "   Pontiac Firebird           Fiat X1-9       Porsche 914-2        Lotus Europa \n",
      "           16.69168            28.29347            26.15295            27.63627 \n",
      "     Ford Pantera L        Ferrari Dino       Maserati Bora          Volvo 142E \n",
      "           18.87004            19.69383            13.94112            24.36827 \n"
     ]
    },
    {
     "data": {
      "image/png": "[encoded data removed]",
      "text/plain": [
       "plot without title"
      ]
     },
     "metadata": {},
     "output_type": "display_data"
    }
   ],
   "source": [
    "#linear regression:\n",
    "set.seed(10)\n",
    "library(caTools)\n",
    "s=sample.split(mtcars,SplitRatio = 0.8)\n",
    "train=subset(mtcars,split=TRUE)\n",
    "test=subset(mtcars,split=FALSE)\n",
    "model=lm(mtcars$mpg~.,data=train)\n",
    "prt=predict(model,test)\n",
    "print(prt)\n",
    "plot(prt,type='l',col=\"red\")\n",
    "lines(mtcars$mpg,type=\"l\",col=\"blue\")"
   ]
  },
  {
   "cell_type": "code",
   "execution_count": 84,
   "metadata": {},
   "outputs": [
    {
     "name": "stderr",
     "output_type": "stream",
     "text": [
      "Warning message in predict.lm(m, test):\n",
      "\"prediction from a rank-deficient fit may be misleading\"Warning message:\n",
      "\"Ignoring unknown parameters: shape\""
     ]
    },
    {
     "data": {
      "image/png": "[encoded data removed]",
      "text/plain": [
       "plot without title"
      ]
     },
     "metadata": {},
     "output_type": "display_data"
    }
   ],
   "source": [
    "#linear regression:\n",
    "data = head(mtcars,20)\n",
    "s = sample.split(data,SplitRatio = 0.7)\n",
    "train = subset(data,s==TRUE)\n",
    "test = subset(data,s == FALSE)\n",
    "m = lm(mpg~.,train)\n",
    "ypred = predict(m,test)\n",
    "data = data.frame(ypred,test$mpg)\n",
    "library(ggplot2)\n",
    "ggplot(test, aes(x = hp, y = mpg)) +\n",
    "  geom_line() +\n",
    "  geom_line(aes(y = data$ypred),colour=\"red\", shape = 1)"
   ]
  },
  {
   "cell_type": "code",
   "execution_count": 85,
   "metadata": {},
   "outputs": [
    {
     "data": {
      "text/plain": [
       "\n",
       "\tWelch Two Sample t-test\n",
       "\n",
       "data:  p and np\n",
       "t = 0.89803, df = 5.7596, p-value = 0.4051\n",
       "alternative hypothesis: true difference in means is not equal to 0\n",
       "95 percent confidence interval:\n",
       " -4.381432  9.381432\n",
       "sample estimates:\n",
       "mean of x mean of y \n",
       "     10.5       8.0 \n"
      ]
     },
     "metadata": {},
     "output_type": "display_data"
    },
    {
     "data": {
      "text/plain": [
       "\n",
       "\tOne Sample t-test\n",
       "\n",
       "data:  p\n",
       "t = 5.9797, df = 3, p-value = 0.009362\n",
       "alternative hypothesis: true mean is not equal to 0\n",
       "95 percent confidence interval:\n",
       "  4.911808 16.088192\n",
       "sample estimates:\n",
       "mean of x \n",
       "     10.5 \n"
      ]
     },
     "metadata": {},
     "output_type": "display_data"
    },
    {
     "data": {
      "text/plain": [
       "\n",
       "\tOne Sample t-test\n",
       "\n",
       "data:  np\n",
       "t = 3.7033, df = 3, p-value = 0.0342\n",
       "alternative hypothesis: true mean is not equal to 0\n",
       "95 percent confidence interval:\n",
       "  1.12513 14.87487\n",
       "sample estimates:\n",
       "mean of x \n",
       "        8 \n"
      ]
     },
     "metadata": {},
     "output_type": "display_data"
    }
   ],
   "source": [
    "library(e1071)\n",
    "p<-c(14,8,7,13)\n",
    "np<-c(8,6,4,14)\n",
    "t.test(p,np)\n",
    "t.test(p,y=NULL,mu=0,conf.level = 0.95)\n",
    "t.test(np,mean=8.6)"
   ]
  },
  {
   "cell_type": "code",
   "execution_count": 87,
   "metadata": {},
   "outputs": [
    {
     "name": "stderr",
     "output_type": "stream",
     "text": [
      "Warning message:\n",
      "\"package 'factorextra' is not available (for R version 3.6.1)\""
     ]
    },
    {
     "name": "stdout",
     "output_type": "stream",
     "text": [
      "package 'cluster' successfully unpacked and MD5 sums checked\n",
      "\n",
      "The downloaded binary packages are in\n",
      "\tC:\\Users\\anbun\\AppData\\Local\\Temp\\RtmpSMOpMH\\downloaded_packages\n"
     ]
    },
    {
     "name": "stderr",
     "output_type": "stream",
     "text": [
      "Warning message:\n",
      "\"package 'ggplot' is not available (for R version 3.6.1)\""
     ]
    }
   ],
   "source": [
    "#install.packages(\"factorextra\")\n",
    "#install.packages(\"cluster\")\n",
    "#install.packages(\"ggplot\")"
   ]
  },
  {
   "cell_type": "code",
   "execution_count": 88,
   "metadata": {},
   "outputs": [
    {
     "ename": "ERROR",
     "evalue": "Error in library(factoextra): there is no package called 'factoextra'\n",
     "output_type": "error",
     "traceback": [
      "Error in library(factoextra): there is no package called 'factoextra'\nTraceback:\n",
      "1. library(factoextra)"
     ]
    }
   ],
   "source": [
    "#unsuperviesed is a meachine learing algorithm\n",
    "#k-mean clustering : we perform iteration\n",
    "library(factoextra)\n",
    "library(ggplot2)\n",
    "library(cluster)"
   ]
  },
  {
   "cell_type": "code",
   "execution_count": 89,
   "metadata": {},
   "outputs": [
    {
     "data": {
      "text/html": [
       "<table>\n",
       "<thead><tr><th></th><th scope=col>Murder</th><th scope=col>Assault</th><th scope=col>UrbanPop</th><th scope=col>Rape</th></tr></thead>\n",
       "<tbody>\n",
       "\t<tr><th scope=row>Alabama</th><td>13.2</td><td>236 </td><td>58  </td><td>21.2</td></tr>\n",
       "\t<tr><th scope=row>Alaska</th><td>10.0</td><td>263 </td><td>48  </td><td>44.5</td></tr>\n",
       "\t<tr><th scope=row>Arizona</th><td> 8.1</td><td>294 </td><td>80  </td><td>31.0</td></tr>\n",
       "\t<tr><th scope=row>Arkansas</th><td> 8.8</td><td>190 </td><td>50  </td><td>19.5</td></tr>\n",
       "\t<tr><th scope=row>California</th><td> 9.0</td><td>276 </td><td>91  </td><td>40.6</td></tr>\n",
       "\t<tr><th scope=row>Colorado</th><td> 7.9</td><td>204 </td><td>78  </td><td>38.7</td></tr>\n",
       "</tbody>\n",
       "</table>\n"
      ],
      "text/latex": [
       "\\begin{tabular}{r|llll}\n",
       "  & Murder & Assault & UrbanPop & Rape\\\\\n",
       "\\hline\n",
       "\tAlabama & 13.2 & 236  & 58   & 21.2\\\\\n",
       "\tAlaska & 10.0 & 263  & 48   & 44.5\\\\\n",
       "\tArizona &  8.1 & 294  & 80   & 31.0\\\\\n",
       "\tArkansas &  8.8 & 190  & 50   & 19.5\\\\\n",
       "\tCalifornia &  9.0 & 276  & 91   & 40.6\\\\\n",
       "\tColorado &  7.9 & 204  & 78   & 38.7\\\\\n",
       "\\end{tabular}\n"
      ],
      "text/markdown": [
       "\n",
       "| <!--/--> | Murder | Assault | UrbanPop | Rape |\n",
       "|---|---|---|---|---|\n",
       "| Alabama | 13.2 | 236  | 58   | 21.2 |\n",
       "| Alaska | 10.0 | 263  | 48   | 44.5 |\n",
       "| Arizona |  8.1 | 294  | 80   | 31.0 |\n",
       "| Arkansas |  8.8 | 190  | 50   | 19.5 |\n",
       "| California |  9.0 | 276  | 91   | 40.6 |\n",
       "| Colorado |  7.9 | 204  | 78   | 38.7 |\n",
       "\n"
      ],
      "text/plain": [
       "           Murder Assault UrbanPop Rape\n",
       "Alabama    13.2   236     58       21.2\n",
       "Alaska     10.0   263     48       44.5\n",
       "Arizona     8.1   294     80       31.0\n",
       "Arkansas    8.8   190     50       19.5\n",
       "California  9.0   276     91       40.6\n",
       "Colorado    7.9   204     78       38.7"
      ]
     },
     "metadata": {},
     "output_type": "display_data"
    },
    {
     "data": {
      "text/plain": [
       "     Murder          Assault         UrbanPop          Rape      \n",
       " Min.   : 0.800   Min.   : 45.0   Min.   :32.00   Min.   : 7.30  \n",
       " 1st Qu.: 4.075   1st Qu.:109.0   1st Qu.:54.50   1st Qu.:15.07  \n",
       " Median : 7.250   Median :159.0   Median :66.00   Median :20.10  \n",
       " Mean   : 7.788   Mean   :170.8   Mean   :65.54   Mean   :21.23  \n",
       " 3rd Qu.:11.250   3rd Qu.:249.0   3rd Qu.:77.75   3rd Qu.:26.18  \n",
       " Max.   :17.400   Max.   :337.0   Max.   :91.00   Max.   :46.00  "
      ]
     },
     "metadata": {},
     "output_type": "display_data"
    },
    {
     "data": {
      "text/html": [
       "<table>\n",
       "<thead><tr><th></th><th scope=col>Murder</th><th scope=col>Assault</th><th scope=col>UrbanPop</th><th scope=col>Rape</th></tr></thead>\n",
       "<tbody>\n",
       "\t<tr><th scope=row>Alabama</th><td> 1.24256408 </td><td> 0.7828393  </td><td>-0.52090661 </td><td>-0.003416473</td></tr>\n",
       "\t<tr><th scope=row>Alaska</th><td> 0.50786248 </td><td> 1.1068225  </td><td>-1.21176419 </td><td> 2.484202941</td></tr>\n",
       "\t<tr><th scope=row>Arizona</th><td> 0.07163341 </td><td> 1.4788032  </td><td> 0.99898006 </td><td> 1.042878388</td></tr>\n",
       "\t<tr><th scope=row>Arkansas</th><td> 0.23234938 </td><td> 0.2308680  </td><td>-1.07359268 </td><td>-0.184916602</td></tr>\n",
       "\t<tr><th scope=row>California</th><td> 0.27826823 </td><td> 1.2628144  </td><td> 1.75892340 </td><td> 2.067820292</td></tr>\n",
       "\t<tr><th scope=row>Colorado</th><td> 0.02571456 </td><td> 0.3988593  </td><td> 0.86080854 </td><td> 1.864967207</td></tr>\n",
       "\t<tr><th scope=row>Connecticut</th><td>-1.03041900 </td><td>-0.7290821  </td><td> 0.79172279 </td><td>-1.081740768</td></tr>\n",
       "\t<tr><th scope=row>Delaware</th><td>-0.43347395 </td><td> 0.8068381  </td><td> 0.44629400 </td><td>-0.579946294</td></tr>\n",
       "\t<tr><th scope=row>Florida</th><td> 1.74767144 </td><td> 1.9707777  </td><td> 0.99898006 </td><td> 1.138966691</td></tr>\n",
       "\t<tr><th scope=row>Georgia</th><td> 2.20685994 </td><td> 0.4828549  </td><td>-0.38273510 </td><td> 0.487701523</td></tr>\n",
       "\t<tr><th scope=row>Hawaii</th><td>-0.57123050 </td><td>-1.4970423  </td><td> 1.20623733 </td><td>-0.110181255</td></tr>\n",
       "\t<tr><th scope=row>Idaho</th><td>-1.19113497 </td><td>-0.6090884  </td><td>-0.79724965 </td><td>-0.750769945</td></tr>\n",
       "\t<tr><th scope=row>Illinois</th><td> 0.59970018 </td><td> 0.9388312  </td><td> 1.20623733 </td><td> 0.295524916</td></tr>\n",
       "\t<tr><th scope=row>Indiana</th><td>-0.13500142 </td><td>-0.6930840  </td><td>-0.03730631 </td><td>-0.024769429</td></tr>\n",
       "\t<tr><th scope=row>Iowa</th><td>-1.28297267 </td><td>-1.3770485  </td><td>-0.58999237 </td><td>-1.060387812</td></tr>\n",
       "</tbody>\n",
       "</table>\n"
      ],
      "text/latex": [
       "\\begin{tabular}{r|llll}\n",
       "  & Murder & Assault & UrbanPop & Rape\\\\\n",
       "\\hline\n",
       "\tAlabama &  1.24256408  &  0.7828393   & -0.52090661  & -0.003416473\\\\\n",
       "\tAlaska &  0.50786248  &  1.1068225   & -1.21176419  &  2.484202941\\\\\n",
       "\tArizona &  0.07163341  &  1.4788032   &  0.99898006  &  1.042878388\\\\\n",
       "\tArkansas &  0.23234938  &  0.2308680   & -1.07359268  & -0.184916602\\\\\n",
       "\tCalifornia &  0.27826823  &  1.2628144   &  1.75892340  &  2.067820292\\\\\n",
       "\tColorado &  0.02571456  &  0.3988593   &  0.86080854  &  1.864967207\\\\\n",
       "\tConnecticut & -1.03041900  & -0.7290821   &  0.79172279  & -1.081740768\\\\\n",
       "\tDelaware & -0.43347395  &  0.8068381   &  0.44629400  & -0.579946294\\\\\n",
       "\tFlorida &  1.74767144  &  1.9707777   &  0.99898006  &  1.138966691\\\\\n",
       "\tGeorgia &  2.20685994  &  0.4828549   & -0.38273510  &  0.487701523\\\\\n",
       "\tHawaii & -0.57123050  & -1.4970423   &  1.20623733  & -0.110181255\\\\\n",
       "\tIdaho & -1.19113497  & -0.6090884   & -0.79724965  & -0.750769945\\\\\n",
       "\tIllinois &  0.59970018  &  0.9388312   &  1.20623733  &  0.295524916\\\\\n",
       "\tIndiana & -0.13500142  & -0.6930840   & -0.03730631  & -0.024769429\\\\\n",
       "\tIowa & -1.28297267  & -1.3770485   & -0.58999237  & -1.060387812\\\\\n",
       "\\end{tabular}\n"
      ],
      "text/markdown": [
       "\n",
       "| <!--/--> | Murder | Assault | UrbanPop | Rape |\n",
       "|---|---|---|---|---|\n",
       "| Alabama |  1.24256408  |  0.7828393   | -0.52090661  | -0.003416473 |\n",
       "| Alaska |  0.50786248  |  1.1068225   | -1.21176419  |  2.484202941 |\n",
       "| Arizona |  0.07163341  |  1.4788032   |  0.99898006  |  1.042878388 |\n",
       "| Arkansas |  0.23234938  |  0.2308680   | -1.07359268  | -0.184916602 |\n",
       "| California |  0.27826823  |  1.2628144   |  1.75892340  |  2.067820292 |\n",
       "| Colorado |  0.02571456  |  0.3988593   |  0.86080854  |  1.864967207 |\n",
       "| Connecticut | -1.03041900  | -0.7290821   |  0.79172279  | -1.081740768 |\n",
       "| Delaware | -0.43347395  |  0.8068381   |  0.44629400  | -0.579946294 |\n",
       "| Florida |  1.74767144  |  1.9707777   |  0.99898006  |  1.138966691 |\n",
       "| Georgia |  2.20685994  |  0.4828549   | -0.38273510  |  0.487701523 |\n",
       "| Hawaii | -0.57123050  | -1.4970423   |  1.20623733  | -0.110181255 |\n",
       "| Idaho | -1.19113497  | -0.6090884   | -0.79724965  | -0.750769945 |\n",
       "| Illinois |  0.59970018  |  0.9388312   |  1.20623733  |  0.295524916 |\n",
       "| Indiana | -0.13500142  | -0.6930840   | -0.03730631  | -0.024769429 |\n",
       "| Iowa | -1.28297267  | -1.3770485   | -0.58999237  | -1.060387812 |\n",
       "\n"
      ],
      "text/plain": [
       "            Murder      Assault    UrbanPop    Rape        \n",
       "Alabama      1.24256408  0.7828393 -0.52090661 -0.003416473\n",
       "Alaska       0.50786248  1.1068225 -1.21176419  2.484202941\n",
       "Arizona      0.07163341  1.4788032  0.99898006  1.042878388\n",
       "Arkansas     0.23234938  0.2308680 -1.07359268 -0.184916602\n",
       "California   0.27826823  1.2628144  1.75892340  2.067820292\n",
       "Colorado     0.02571456  0.3988593  0.86080854  1.864967207\n",
       "Connecticut -1.03041900 -0.7290821  0.79172279 -1.081740768\n",
       "Delaware    -0.43347395  0.8068381  0.44629400 -0.579946294\n",
       "Florida      1.74767144  1.9707777  0.99898006  1.138966691\n",
       "Georgia      2.20685994  0.4828549 -0.38273510  0.487701523\n",
       "Hawaii      -0.57123050 -1.4970423  1.20623733 -0.110181255\n",
       "Idaho       -1.19113497 -0.6090884 -0.79724965 -0.750769945\n",
       "Illinois     0.59970018  0.9388312  1.20623733  0.295524916\n",
       "Indiana     -0.13500142 -0.6930840 -0.03730631 -0.024769429\n",
       "Iowa        -1.28297267 -1.3770485 -0.58999237 -1.060387812"
      ]
     },
     "metadata": {},
     "output_type": "display_data"
    },
    {
     "data": {
      "text/plain": [
       "     Murder           Assault           UrbanPop             Rape        \n",
       " Min.   :-1.6044   Min.   :-1.5090   Min.   :-2.31714   Min.   :-1.4874  \n",
       " 1st Qu.:-0.8525   1st Qu.:-0.7411   1st Qu.:-0.76271   1st Qu.:-0.6574  \n",
       " Median :-0.1235   Median :-0.1411   Median : 0.03178   Median :-0.1209  \n",
       " Mean   : 0.0000   Mean   : 0.0000   Mean   : 0.00000   Mean   : 0.0000  \n",
       " 3rd Qu.: 0.7949   3rd Qu.: 0.9388   3rd Qu.: 0.84354   3rd Qu.: 0.5277  \n",
       " Max.   : 2.2069   Max.   : 1.9948   Max.   : 1.75892   Max.   : 2.6444  "
      ]
     },
     "metadata": {},
     "output_type": "display_data"
    },
    {
     "data": {
      "text/plain": [
       "K-means clustering with 4 clusters of sizes 16, 13, 8, 13\n",
       "\n",
       "Cluster means:\n",
       "      Murder    Assault   UrbanPop        Rape\n",
       "1 -0.4894375 -0.3826001  0.5758298 -0.26165379\n",
       "2  0.6950701  1.0394414  0.7226370  1.27693964\n",
       "3  1.4118898  0.8743346 -0.8145211  0.01927104\n",
       "4 -0.9615407 -1.1066010 -0.9301069 -0.96676331\n",
       "\n",
       "Clustering vector:\n",
       "       Alabama         Alaska        Arizona       Arkansas     California \n",
       "             3              2              2              3              2 \n",
       "      Colorado    Connecticut       Delaware        Florida        Georgia \n",
       "             2              1              1              2              3 \n",
       "        Hawaii          Idaho       Illinois        Indiana           Iowa \n",
       "             1              4              2              1              4 \n",
       "        Kansas       Kentucky      Louisiana          Maine       Maryland \n",
       "             1              4              3              4              2 \n",
       " Massachusetts       Michigan      Minnesota    Mississippi       Missouri \n",
       "             1              2              4              3              2 \n",
       "       Montana       Nebraska         Nevada  New Hampshire     New Jersey \n",
       "             4              4              2              4              1 \n",
       "    New Mexico       New York North Carolina   North Dakota           Ohio \n",
       "             2              2              3              4              1 \n",
       "      Oklahoma         Oregon   Pennsylvania   Rhode Island South Carolina \n",
       "             1              1              1              1              3 \n",
       "  South Dakota      Tennessee          Texas           Utah        Vermont \n",
       "             4              3              2              1              4 \n",
       "      Virginia     Washington  West Virginia      Wisconsin        Wyoming \n",
       "             1              1              4              4              1 \n",
       "\n",
       "Within cluster sum of squares by cluster:\n",
       "[1] 16.212213 19.922437  8.316061 11.952463\n",
       " (between_SS / total_SS =  71.2 %)\n",
       "\n",
       "Available components:\n",
       "\n",
       "[1] \"cluster\"      \"centers\"      \"totss\"        \"withinss\"     \"tot.withinss\"\n",
       "[6] \"betweenss\"    \"size\"         \"iter\"         \"ifault\"      "
      ]
     },
     "metadata": {},
     "output_type": "display_data"
    },
    {
     "data": {
      "text/plain": [
       "\n",
       "56.4031734582928 \n",
       "               1 "
      ]
     },
     "metadata": {},
     "output_type": "display_data"
    },
    {
     "data": {
      "text/plain": [
       "\n",
       " 1  2  3  4 \n",
       "16 13  8 13 "
      ]
     },
     "metadata": {},
     "output_type": "display_data"
    }
   ],
   "source": [
    "#loadind data set\n",
    "df=USArrests\n",
    "head(df)\n",
    "summary(df)\n",
    "df <- scale(USArrests) # Scaling the data\n",
    "head(df, n = 15)\n",
    "summary(df)\n",
    "set.seed(27)\n",
    "kmcluster <- kmeans(df, 4, nstart = 25)\n",
    "#Syntax <- kmeans(\"dataframe_name\",Number of clusters,nstart = no. of different random starting choices)\n",
    "kmcluster\n",
    "table(kmcluster$tot.withinss)\n",
    "table(kmcluster$cluster)"
   ]
  },
  {
   "cell_type": "code",
   "execution_count": 90,
   "metadata": {},
   "outputs": [
    {
     "data": {
      "text/html": [
       "<table>\n",
       "<thead><tr><th scope=col>Girth</th><th scope=col>Height</th><th scope=col>Volume</th></tr></thead>\n",
       "<tbody>\n",
       "\t<tr><td> 8.3</td><td>70  </td><td>10.3</td></tr>\n",
       "\t<tr><td> 8.6</td><td>65  </td><td>10.3</td></tr>\n",
       "\t<tr><td> 8.8</td><td>63  </td><td>10.2</td></tr>\n",
       "\t<tr><td>10.5</td><td>72  </td><td>16.4</td></tr>\n",
       "\t<tr><td>10.7</td><td>81  </td><td>18.8</td></tr>\n",
       "\t<tr><td>10.8</td><td>83  </td><td>19.7</td></tr>\n",
       "\t<tr><td>11.0</td><td>66  </td><td>15.6</td></tr>\n",
       "\t<tr><td>11.0</td><td>75  </td><td>18.2</td></tr>\n",
       "\t<tr><td>11.1</td><td>80  </td><td>22.6</td></tr>\n",
       "\t<tr><td>11.2</td><td>75  </td><td>19.9</td></tr>\n",
       "\t<tr><td>11.3</td><td>79  </td><td>24.2</td></tr>\n",
       "\t<tr><td>11.4</td><td>76  </td><td>21.0</td></tr>\n",
       "\t<tr><td>11.4</td><td>76  </td><td>21.4</td></tr>\n",
       "\t<tr><td>11.7</td><td>69  </td><td>21.3</td></tr>\n",
       "\t<tr><td>12.0</td><td>75  </td><td>19.1</td></tr>\n",
       "\t<tr><td>12.9</td><td>74  </td><td>22.2</td></tr>\n",
       "\t<tr><td>12.9</td><td>85  </td><td>33.8</td></tr>\n",
       "\t<tr><td>13.3</td><td>86  </td><td>27.4</td></tr>\n",
       "\t<tr><td>13.7</td><td>71  </td><td>25.7</td></tr>\n",
       "\t<tr><td>13.8</td><td>64  </td><td>24.9</td></tr>\n",
       "\t<tr><td>14.0</td><td>78  </td><td>34.5</td></tr>\n",
       "\t<tr><td>14.2</td><td>80  </td><td>31.7</td></tr>\n",
       "\t<tr><td>14.5</td><td>74  </td><td>36.3</td></tr>\n",
       "\t<tr><td>16.0</td><td>72  </td><td>38.3</td></tr>\n",
       "\t<tr><td>16.3</td><td>77  </td><td>42.6</td></tr>\n",
       "\t<tr><td>17.3</td><td>81  </td><td>55.4</td></tr>\n",
       "\t<tr><td>17.5</td><td>82  </td><td>55.7</td></tr>\n",
       "\t<tr><td>17.9</td><td>80  </td><td>58.3</td></tr>\n",
       "\t<tr><td>18.0</td><td>80  </td><td>51.5</td></tr>\n",
       "\t<tr><td>18.0</td><td>80  </td><td>51.0</td></tr>\n",
       "\t<tr><td>20.6</td><td>87  </td><td>77.0</td></tr>\n",
       "</tbody>\n",
       "</table>\n"
      ],
      "text/latex": [
       "\\begin{tabular}{r|lll}\n",
       " Girth & Height & Volume\\\\\n",
       "\\hline\n",
       "\t  8.3 & 70   & 10.3\\\\\n",
       "\t  8.6 & 65   & 10.3\\\\\n",
       "\t  8.8 & 63   & 10.2\\\\\n",
       "\t 10.5 & 72   & 16.4\\\\\n",
       "\t 10.7 & 81   & 18.8\\\\\n",
       "\t 10.8 & 83   & 19.7\\\\\n",
       "\t 11.0 & 66   & 15.6\\\\\n",
       "\t 11.0 & 75   & 18.2\\\\\n",
       "\t 11.1 & 80   & 22.6\\\\\n",
       "\t 11.2 & 75   & 19.9\\\\\n",
       "\t 11.3 & 79   & 24.2\\\\\n",
       "\t 11.4 & 76   & 21.0\\\\\n",
       "\t 11.4 & 76   & 21.4\\\\\n",
       "\t 11.7 & 69   & 21.3\\\\\n",
       "\t 12.0 & 75   & 19.1\\\\\n",
       "\t 12.9 & 74   & 22.2\\\\\n",
       "\t 12.9 & 85   & 33.8\\\\\n",
       "\t 13.3 & 86   & 27.4\\\\\n",
       "\t 13.7 & 71   & 25.7\\\\\n",
       "\t 13.8 & 64   & 24.9\\\\\n",
       "\t 14.0 & 78   & 34.5\\\\\n",
       "\t 14.2 & 80   & 31.7\\\\\n",
       "\t 14.5 & 74   & 36.3\\\\\n",
       "\t 16.0 & 72   & 38.3\\\\\n",
       "\t 16.3 & 77   & 42.6\\\\\n",
       "\t 17.3 & 81   & 55.4\\\\\n",
       "\t 17.5 & 82   & 55.7\\\\\n",
       "\t 17.9 & 80   & 58.3\\\\\n",
       "\t 18.0 & 80   & 51.5\\\\\n",
       "\t 18.0 & 80   & 51.0\\\\\n",
       "\t 20.6 & 87   & 77.0\\\\\n",
       "\\end{tabular}\n"
      ],
      "text/markdown": [
       "\n",
       "| Girth | Height | Volume |\n",
       "|---|---|---|\n",
       "|  8.3 | 70   | 10.3 |\n",
       "|  8.6 | 65   | 10.3 |\n",
       "|  8.8 | 63   | 10.2 |\n",
       "| 10.5 | 72   | 16.4 |\n",
       "| 10.7 | 81   | 18.8 |\n",
       "| 10.8 | 83   | 19.7 |\n",
       "| 11.0 | 66   | 15.6 |\n",
       "| 11.0 | 75   | 18.2 |\n",
       "| 11.1 | 80   | 22.6 |\n",
       "| 11.2 | 75   | 19.9 |\n",
       "| 11.3 | 79   | 24.2 |\n",
       "| 11.4 | 76   | 21.0 |\n",
       "| 11.4 | 76   | 21.4 |\n",
       "| 11.7 | 69   | 21.3 |\n",
       "| 12.0 | 75   | 19.1 |\n",
       "| 12.9 | 74   | 22.2 |\n",
       "| 12.9 | 85   | 33.8 |\n",
       "| 13.3 | 86   | 27.4 |\n",
       "| 13.7 | 71   | 25.7 |\n",
       "| 13.8 | 64   | 24.9 |\n",
       "| 14.0 | 78   | 34.5 |\n",
       "| 14.2 | 80   | 31.7 |\n",
       "| 14.5 | 74   | 36.3 |\n",
       "| 16.0 | 72   | 38.3 |\n",
       "| 16.3 | 77   | 42.6 |\n",
       "| 17.3 | 81   | 55.4 |\n",
       "| 17.5 | 82   | 55.7 |\n",
       "| 17.9 | 80   | 58.3 |\n",
       "| 18.0 | 80   | 51.5 |\n",
       "| 18.0 | 80   | 51.0 |\n",
       "| 20.6 | 87   | 77.0 |\n",
       "\n"
      ],
      "text/plain": [
       "   Girth Height Volume\n",
       "1   8.3  70     10.3  \n",
       "2   8.6  65     10.3  \n",
       "3   8.8  63     10.2  \n",
       "4  10.5  72     16.4  \n",
       "5  10.7  81     18.8  \n",
       "6  10.8  83     19.7  \n",
       "7  11.0  66     15.6  \n",
       "8  11.0  75     18.2  \n",
       "9  11.1  80     22.6  \n",
       "10 11.2  75     19.9  \n",
       "11 11.3  79     24.2  \n",
       "12 11.4  76     21.0  \n",
       "13 11.4  76     21.4  \n",
       "14 11.7  69     21.3  \n",
       "15 12.0  75     19.1  \n",
       "16 12.9  74     22.2  \n",
       "17 12.9  85     33.8  \n",
       "18 13.3  86     27.4  \n",
       "19 13.7  71     25.7  \n",
       "20 13.8  64     24.9  \n",
       "21 14.0  78     34.5  \n",
       "22 14.2  80     31.7  \n",
       "23 14.5  74     36.3  \n",
       "24 16.0  72     38.3  \n",
       "25 16.3  77     42.6  \n",
       "26 17.3  81     55.4  \n",
       "27 17.5  82     55.7  \n",
       "28 17.9  80     58.3  \n",
       "29 18.0  80     51.5  \n",
       "30 18.0  80     51.0  \n",
       "31 20.6  87     77.0  "
      ]
     },
     "metadata": {},
     "output_type": "display_data"
    },
    {
     "ename": "ERROR",
     "evalue": "Error in library(factoextra): there is no package called 'factoextra'\n",
     "output_type": "error",
     "traceback": [
      "Error in library(factoextra): there is no package called 'factoextra'\nTraceback:\n",
      "1. library(factoextra)"
     ]
    }
   ],
   "source": [
    "trees            \n",
    "library(factoextra)\n",
    "library(ggplot2)\n",
    "library(cluster)\n",
    "\n",
    "data=trees\n",
    "print(head(data))\n",
    "data=scale(data)\n",
    "print(head(data))\n",
    "val=fviz_nbclust(data,kmeans,method=\"wss\")\n",
    "print(val)\n",
    "result=kmeans(data,5,nstart = 20)\n",
    "print(result)\n",
    "print(fviz_cluster(result,data))\n"
   ]
  },
  {
   "cell_type": "code",
   "execution_count": 92,
   "metadata": {},
   "outputs": [
    {
     "data": {
      "text/html": [
       "<table>\n",
       "<thead><tr><th></th><th scope=col>Murder</th><th scope=col>Assault</th><th scope=col>UrbanPop</th><th scope=col>Rape</th></tr></thead>\n",
       "<tbody>\n",
       "\t<tr><th scope=row>Alabama</th><td>1.24256408  </td><td>0.7828393   </td><td>-0.5209066  </td><td>-0.003416473</td></tr>\n",
       "\t<tr><th scope=row>Alaska</th><td>0.50786248  </td><td>1.1068225   </td><td>-1.2117642  </td><td> 2.484202941</td></tr>\n",
       "\t<tr><th scope=row>Arizona</th><td>0.07163341  </td><td>1.4788032   </td><td> 0.9989801  </td><td> 1.042878388</td></tr>\n",
       "\t<tr><th scope=row>Arkansas</th><td>0.23234938  </td><td>0.2308680   </td><td>-1.0735927  </td><td>-0.184916602</td></tr>\n",
       "\t<tr><th scope=row>California</th><td>0.27826823  </td><td>1.2628144   </td><td> 1.7589234  </td><td> 2.067820292</td></tr>\n",
       "\t<tr><th scope=row>Colorado</th><td>0.02571456  </td><td>0.3988593   </td><td> 0.8608085  </td><td> 1.864967207</td></tr>\n",
       "</tbody>\n",
       "</table>\n"
      ],
      "text/latex": [
       "\\begin{tabular}{r|llll}\n",
       "  & Murder & Assault & UrbanPop & Rape\\\\\n",
       "\\hline\n",
       "\tAlabama & 1.24256408   & 0.7828393    & -0.5209066   & -0.003416473\\\\\n",
       "\tAlaska & 0.50786248   & 1.1068225    & -1.2117642   &  2.484202941\\\\\n",
       "\tArizona & 0.07163341   & 1.4788032    &  0.9989801   &  1.042878388\\\\\n",
       "\tArkansas & 0.23234938   & 0.2308680    & -1.0735927   & -0.184916602\\\\\n",
       "\tCalifornia & 0.27826823   & 1.2628144    &  1.7589234   &  2.067820292\\\\\n",
       "\tColorado & 0.02571456   & 0.3988593    &  0.8608085   &  1.864967207\\\\\n",
       "\\end{tabular}\n"
      ],
      "text/markdown": [
       "\n",
       "| <!--/--> | Murder | Assault | UrbanPop | Rape |\n",
       "|---|---|---|---|---|\n",
       "| Alabama | 1.24256408   | 0.7828393    | -0.5209066   | -0.003416473 |\n",
       "| Alaska | 0.50786248   | 1.1068225    | -1.2117642   |  2.484202941 |\n",
       "| Arizona | 0.07163341   | 1.4788032    |  0.9989801   |  1.042878388 |\n",
       "| Arkansas | 0.23234938   | 0.2308680    | -1.0735927   | -0.184916602 |\n",
       "| California | 0.27826823   | 1.2628144    |  1.7589234   |  2.067820292 |\n",
       "| Colorado | 0.02571456   | 0.3988593    |  0.8608085   |  1.864967207 |\n",
       "\n"
      ],
      "text/plain": [
       "           Murder     Assault   UrbanPop   Rape        \n",
       "Alabama    1.24256408 0.7828393 -0.5209066 -0.003416473\n",
       "Alaska     0.50786248 1.1068225 -1.2117642  2.484202941\n",
       "Arizona    0.07163341 1.4788032  0.9989801  1.042878388\n",
       "Arkansas   0.23234938 0.2308680 -1.0735927 -0.184916602\n",
       "California 0.27826823 1.2628144  1.7589234  2.067820292\n",
       "Colorado   0.02571456 0.3988593  0.8608085  1.864967207"
      ]
     },
     "metadata": {},
     "output_type": "display_data"
    },
    {
     "ename": "ERROR",
     "evalue": "Error in fviz_cluster(kmc, data = d): could not find function \"fviz_cluster\"\n",
     "output_type": "error",
     "traceback": [
      "Error in fviz_cluster(kmc, data = d): could not find function \"fviz_cluster\"\nTraceback:\n"
     ]
    }
   ],
   "source": [
    "# library(factoextra)\n",
    "# library(ggplot2)\n",
    "# library(cluster)\n",
    "d=scale(USArrests)\n",
    "head(d)\n",
    "set.seed(27)\n",
    "kmc=kmeans(d,4,nstart = 25)\n",
    "fviz_cluster(kmc, data = d)"
   ]
  },
  {
   "cell_type": "code",
   "execution_count": 93,
   "metadata": {},
   "outputs": [
    {
     "name": "stdout",
     "output_type": "stream",
     "text": [
      "  Girth Height Volume\n",
      "1   8.3     70   10.3\n",
      "2   8.6     65   10.3\n",
      "3   8.8     63   10.2\n",
      "4  10.5     72   16.4\n",
      "5  10.7     81   18.8\n",
      "6  10.8     83   19.7\n",
      "          Girth     Height     Volume\n",
      "[1,] -1.5768542 -0.9416472 -1.2088547\n",
      "[2,] -1.4812561 -1.7263533 -1.2088547\n",
      "[3,] -1.4175241 -2.0402357 -1.2149382\n",
      "[4,] -0.8758017 -0.6277648 -0.8377598\n",
      "[5,] -0.8120696  0.7847060 -0.6917553\n",
      "[6,] -0.7802036  1.0985884 -0.6370036\n"
     ]
    },
    {
     "ename": "ERROR",
     "evalue": "Error in fviz_nbclust(data, kmeans, method = \"wss\"): could not find function \"fviz_nbclust\"\n",
     "output_type": "error",
     "traceback": [
      "Error in fviz_nbclust(data, kmeans, method = \"wss\"): could not find function \"fviz_nbclust\"\nTraceback:\n"
     ]
    }
   ],
   "source": [
    "data=trees\n",
    "print(head(data))\n",
    "data=scale(data)\n",
    "print(head(data))\n",
    "val=fviz_nbclust(data,kmeans,method=\"wss\")\n",
    "print(val)\n",
    "result=kmeans(data,5,nstart = 20)\n",
    "print(result)\n",
    "print(fviz_cluster(result,data))"
   ]
  },
  {
   "cell_type": "code",
   "execution_count": 94,
   "metadata": {},
   "outputs": [
    {
     "data": {
      "text/html": [
       "TRUE"
      ],
      "text/latex": [
       "TRUE"
      ],
      "text/markdown": [
       "TRUE"
      ],
      "text/plain": [
       "[1] TRUE"
      ]
     },
     "metadata": {},
     "output_type": "display_data"
    }
   ],
   "source": [
    "#1\n",
    "txt1 <- \"This is 2020\"\n",
    "my_pattern <- \"[[:upper:][:digit:]]\"\n",
    "grepl(my_pattern,txt1)"
   ]
  },
  {
   "cell_type": "code",
   "execution_count": 95,
   "metadata": {},
   "outputs": [
    {
     "data": {
      "text/html": [
       "5"
      ],
      "text/latex": [
       "5"
      ],
      "text/markdown": [
       "5"
      ],
      "text/plain": [
       "[1] 5"
      ]
     },
     "metadata": {},
     "output_type": "display_data"
    },
    {
     "ename": "ERROR",
     "evalue": "Error in sub(my_pattern, \" is not \", txt1): unused argument (txt1)\n",
     "output_type": "error",
     "traceback": [
      "Error in sub(my_pattern, \" is not \", txt1): unused argument (txt1)\nTraceback:\n"
     ]
    }
   ],
   "source": [
    "#2\n",
    "my_pattern <- \"\\\\s[a-z][a-z]\\\\s\"\n",
    "strpos1 <- gregexpr(my_pattern,txt1)[[1]][1]\n",
    "strpos1\n",
    "txt2 <- sub(my_pattern,\" is not \",txt1)\n",
    "print(txt2)"
   ]
  },
  {
   "cell_type": "code",
   "execution_count": 96,
   "metadata": {},
   "outputs": [
    {
     "ename": "ERROR",
     "evalue": "Error in gregexpr(my_pattern, txt2): object 'txt2' not found\n",
     "output_type": "error",
     "traceback": [
      "Error in gregexpr(my_pattern, txt2): object 'txt2' not found\nTraceback:\n",
      "1. gregexpr(my_pattern, txt2)"
     ]
    }
   ],
   "source": [
    "#3\n",
    "my_pattern <- \"\\\\d{4}$\"\n",
    "strpos2 <- gregexpr(my_pattern,txt2)[[1]][1]\n",
    "strpos2"
   ]
  },
  {
   "cell_type": "code",
   "execution_count": 97,
   "metadata": {},
   "outputs": [
    {
     "name": "stdout",
     "output_type": "stream",
     "text": [
      "[1] 0.8643339\n",
      "[1] 0.1230244\n",
      "[1] 0.7413095\n",
      "[1] 0.9192433\n",
      "[1] 0.08075666\n",
      "[1] 0.1586553\n",
      "[1] 0.08075666\n",
      "[1] 0.7257469\n",
      "[1] 0.3550098\n"
     ]
    }
   ],
   "source": [
    "#4\n",
    "#(i)lies between 16.2 and 27.5\n",
    "a=pnorm(27.5,mean=22,sd=5)\n",
    "print(a)\n",
    "b=pnorm(16.2,mean=22,sd=5)\n",
    "print(b)\n",
    "r=a-b\n",
    "print(r)\n",
    "\n",
    "#ii)is greater than 29\n",
    "c=pnorm(29,mean=22,sd=5)\n",
    "print(c)\n",
    "print(1-c)\n",
    "\n",
    "#(iii)is less than 17 \n",
    "d=pnorm(17,mean=22,sd=5)\n",
    "print(d)\n",
    "\n",
    "#(iv)is less than 15 or greater than 25\n",
    "e=pnorm(15,mean=22,sd=5)\n",
    "print(e)\n",
    "f=pnorm(25,mean=22,sd=5)\n",
    "print(f)\n",
    "r1=e+(1-f)\n",
    "print(r1)"
   ]
  },
  {
   "cell_type": "code",
   "execution_count": 98,
   "metadata": {},
   "outputs": [
    {
     "name": "stdout",
     "output_type": "stream",
     "text": [
      "[1] 0.003635846\n",
      "[1] 0.04502946\n",
      "[1] 0.1025782\n",
      "[1] 0.1512435\n",
      "[1] 0.003108801\n",
      "[1] 0.5512891\n",
      "[1] 0.006744647\n",
      "[1] 0.5445444\n"
     ]
    }
   ],
   "source": [
    "#5\n",
    "#(i)20,25 or 30 times\n",
    "a1=dbinom(20,60,prob=0.5)\n",
    "print(a1)\n",
    "a2=dbinom(25,60,prob=0.5)\n",
    "print(a2)\n",
    "a3=dbinom(30,60,prob=0.5)\n",
    "print(a3)\n",
    "r2=sum(c(a1,a2,a3))\n",
    "print(r2)\n",
    "\n",
    "#(ii)less than 20 times\n",
    "a4=pbinom(19,60,prob=0.5)\n",
    "print(a4)\n",
    "\n",
    "#(iii)between 20 and 30 times \n",
    "a5=pbinom(30,60,prob=0.5)\n",
    "print(a5)\n",
    "a6=pbinom(20,60,prob=0.5)\n",
    "print(a6)\n",
    "r3=a5-a6\n",
    "print(r3)"
   ]
  }
 ],
 "metadata": {
  "kernelspec": {
   "display_name": "R",
   "language": "R",
   "name": "ir"
  },
  "language_info": {
   "codemirror_mode": "r",
   "file_extension": ".r",
   "mimetype": "text/x-r-source",
   "name": "R",
   "pygments_lexer": "r",
   "version": "3.6.1"
  }
 },
 "nbformat": 4,
 "nbformat_minor": 4
}
