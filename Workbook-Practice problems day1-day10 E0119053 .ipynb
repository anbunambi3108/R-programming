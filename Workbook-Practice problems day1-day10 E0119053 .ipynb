{
 "cells": [
  {
   "cell_type": "markdown",
   "metadata": {},
   "source": [
    "# Practice Day 1"
   ]
  },
  {
   "cell_type": "markdown",
   "metadata": {},
   "source": [
    "1. Consider 2 vectors c(9,10,11,12) and c(13,14,15,16).\n",
    "   Create a 4 by 2 matrix from these two vectors"
   ]
  },
  {
   "cell_type": "code",
   "execution_count": 3,
   "metadata": {},
   "outputs": [
    {
     "name": "stdout",
     "output_type": "stream",
     "text": [
      "     [,1] [,2]\n",
      "[1,]    9   10\n",
      "[2,]   11   12\n",
      "[3,]   13   14\n",
      "[4,]   15   16\n"
     ]
    }
   ],
   "source": [
    "M = matrix( c(9,10,11,12,13,14,15,16), nrow = 4, ncol = 2, byrow = TRUE)\n",
    "print(M)"
   ]
  },
  {
   "cell_type": "markdown",
   "metadata": {},
   "source": [
    "2. Write an R program to take input from the user (userID and Group/Branch) and display the values"
   ]
  },
  {
   "cell_type": "code",
   "execution_count": 4,
   "metadata": {},
   "outputs": [
    {
     "name": "stdout",
     "output_type": "stream",
     "text": [
      "Enter ID: 119053\n",
      "Enter Branch: ai\n",
      "119053 ai \n"
     ]
    }
   ],
   "source": [
    "userID <- readline(\"Enter ID: \")\n",
    "branch <- readline(\"Enter Branch: \")\n",
    "cat(userID,branch,'\\n')"
   ]
  },
  {
   "cell_type": "markdown",
   "metadata": {},
   "source": [
    "3. Create a data frame Write a R program to create a data frame from four given vectors.\n",
    "a name\n",
    "b. Subject\n",
    "C. Score \n",
    "d. Rank"
   ]
  },
  {
   "cell_type": "code",
   "execution_count": 5,
   "metadata": {},
   "outputs": [
    {
     "name": "stdout",
     "output_type": "stream",
     "text": [
      "   name subject score rank\n",
      "1 harry   maths    95    3\n",
      "2 niall science    97    2\n",
      "3  zayn      gk    99    1\n"
     ]
    }
   ],
   "source": [
    "report <- data.frame(\n",
    "  name= c('harry','niall','zayn'),\n",
    "  subject = c ('maths','science','gk'),\n",
    "  score =c(95,97,99),\n",
    "  rank =c(3,2,1))\n",
    "print(report)"
   ]
  },
  {
   "cell_type": "markdown",
   "metadata": {},
   "source": [
    "4.Write a R program to get the statistical summary and nature of the data of a given data frame. \n",
    "( use 3rd Question dataframe )"
   ]
  },
  {
   "cell_type": "code",
   "execution_count": 6,
   "metadata": {},
   "outputs": [
    {
     "data": {
      "text/plain": [
       "    name      subject      score         rank    \n",
       " harry:1   gk     :1   Min.   :95   Min.   :1.0  \n",
       " niall:1   maths  :1   1st Qu.:96   1st Qu.:1.5  \n",
       " zayn :1   science:1   Median :97   Median :2.0  \n",
       "                       Mean   :97   Mean   :2.0  \n",
       "                       3rd Qu.:98   3rd Qu.:2.5  \n",
       "                       Max.   :99   Max.   :3.0  "
      ]
     },
     "metadata": {},
     "output_type": "display_data"
    }
   ],
   "source": [
    "summary(report)"
   ]
  },
  {
   "cell_type": "markdown",
   "metadata": {},
   "source": [
    "5. Write a R program to extract specific column from a data frame using column name"
   ]
  },
  {
   "cell_type": "code",
   "execution_count": 7,
   "metadata": {},
   "outputs": [
    {
     "name": "stdout",
     "output_type": "stream",
     "text": [
      "[1] \"extracted column:\"\n",
      "[1] harry niall zayn \n",
      "Levels: harry niall zayn\n"
     ]
    }
   ],
   "source": [
    "print(\"extracted column:\")\n",
    "print(report$name)"
   ]
  },
  {
   "cell_type": "markdown",
   "metadata": {},
   "source": [
    "6. Write a R program to extract first two rows from a given data frame"
   ]
  },
  {
   "cell_type": "code",
   "execution_count": 8,
   "metadata": {},
   "outputs": [
    {
     "name": "stdout",
     "output_type": "stream",
     "text": [
      "[1] \"extractetd first two rows:\"\n",
      "   name subject score rank\n",
      "1 harry   maths    95    3\n",
      "2 niall science    97    2\n"
     ]
    }
   ],
   "source": [
    "print(\"extractetd first two rows:\")\n",
    "rows <- report[1:2,]\n",
    "print(rows)"
   ]
  },
  {
   "cell_type": "markdown",
   "metadata": {},
   "source": [
    "# Practice Day 2"
   ]
  },
  {
   "cell_type": "markdown",
   "metadata": {},
   "source": [
    "1.Create an R script that calculates the square root of a given integer vector x of length one, if the value contained in x is negative it should return NA."
   ]
  },
  {
   "cell_type": "code",
   "execution_count": 11,
   "metadata": {},
   "outputs": [
    {
     "name": "stdout",
     "output_type": "stream",
     "text": [
      "[1] 4.358899\n"
     ]
    }
   ],
   "source": [
    "num =19\n",
    "if(num > 0){\n",
    "  print(sqrt(num))\n",
    "}else {\n",
    "  print(NA)\n",
    "}"
   ]
  },
  {
   "cell_type": "markdown",
   "metadata": {},
   "source": [
    "2. Demonstrate and examine the output of letter and LETTER"
   ]
  },
  {
   "cell_type": "code",
   "execution_count": 12,
   "metadata": {},
   "outputs": [
    {
     "data": {
      "text/html": [
       "<ol class=list-inline>\n",
       "\t<li>'a'</li>\n",
       "\t<li>'b'</li>\n",
       "\t<li>'c'</li>\n",
       "\t<li>'d'</li>\n",
       "\t<li>'e'</li>\n",
       "\t<li>'f'</li>\n",
       "\t<li>'g'</li>\n",
       "\t<li>'h'</li>\n",
       "\t<li>'i'</li>\n",
       "\t<li>'j'</li>\n",
       "\t<li>'k'</li>\n",
       "\t<li>'l'</li>\n",
       "\t<li>'m'</li>\n",
       "\t<li>'n'</li>\n",
       "\t<li>'o'</li>\n",
       "\t<li>'p'</li>\n",
       "\t<li>'q'</li>\n",
       "\t<li>'r'</li>\n",
       "\t<li>'s'</li>\n",
       "\t<li>'t'</li>\n",
       "\t<li>'u'</li>\n",
       "\t<li>'v'</li>\n",
       "\t<li>'w'</li>\n",
       "\t<li>'x'</li>\n",
       "\t<li>'y'</li>\n",
       "\t<li>'z'</li>\n",
       "</ol>\n"
      ],
      "text/latex": [
       "\\begin{enumerate*}\n",
       "\\item 'a'\n",
       "\\item 'b'\n",
       "\\item 'c'\n",
       "\\item 'd'\n",
       "\\item 'e'\n",
       "\\item 'f'\n",
       "\\item 'g'\n",
       "\\item 'h'\n",
       "\\item 'i'\n",
       "\\item 'j'\n",
       "\\item 'k'\n",
       "\\item 'l'\n",
       "\\item 'm'\n",
       "\\item 'n'\n",
       "\\item 'o'\n",
       "\\item 'p'\n",
       "\\item 'q'\n",
       "\\item 'r'\n",
       "\\item 's'\n",
       "\\item 't'\n",
       "\\item 'u'\n",
       "\\item 'v'\n",
       "\\item 'w'\n",
       "\\item 'x'\n",
       "\\item 'y'\n",
       "\\item 'z'\n",
       "\\end{enumerate*}\n"
      ],
      "text/markdown": [
       "1. 'a'\n",
       "2. 'b'\n",
       "3. 'c'\n",
       "4. 'd'\n",
       "5. 'e'\n",
       "6. 'f'\n",
       "7. 'g'\n",
       "8. 'h'\n",
       "9. 'i'\n",
       "10. 'j'\n",
       "11. 'k'\n",
       "12. 'l'\n",
       "13. 'm'\n",
       "14. 'n'\n",
       "15. 'o'\n",
       "16. 'p'\n",
       "17. 'q'\n",
       "18. 'r'\n",
       "19. 's'\n",
       "20. 't'\n",
       "21. 'u'\n",
       "22. 'v'\n",
       "23. 'w'\n",
       "24. 'x'\n",
       "25. 'y'\n",
       "26. 'z'\n",
       "\n",
       "\n"
      ],
      "text/plain": [
       " [1] \"a\" \"b\" \"c\" \"d\" \"e\" \"f\" \"g\" \"h\" \"i\" \"j\" \"k\" \"l\" \"m\" \"n\" \"o\" \"p\" \"q\" \"r\" \"s\"\n",
       "[20] \"t\" \"u\" \"v\" \"w\" \"x\" \"y\" \"z\""
      ]
     },
     "metadata": {},
     "output_type": "display_data"
    },
    {
     "data": {
      "text/html": [
       "<ol class=list-inline>\n",
       "\t<li>'A'</li>\n",
       "\t<li>'B'</li>\n",
       "\t<li>'C'</li>\n",
       "\t<li>'D'</li>\n",
       "\t<li>'E'</li>\n",
       "\t<li>'F'</li>\n",
       "\t<li>'G'</li>\n",
       "\t<li>'H'</li>\n",
       "\t<li>'I'</li>\n",
       "\t<li>'J'</li>\n",
       "\t<li>'K'</li>\n",
       "\t<li>'L'</li>\n",
       "\t<li>'M'</li>\n",
       "\t<li>'N'</li>\n",
       "\t<li>'O'</li>\n",
       "\t<li>'P'</li>\n",
       "\t<li>'Q'</li>\n",
       "\t<li>'R'</li>\n",
       "\t<li>'S'</li>\n",
       "\t<li>'T'</li>\n",
       "\t<li>'U'</li>\n",
       "\t<li>'V'</li>\n",
       "\t<li>'W'</li>\n",
       "\t<li>'X'</li>\n",
       "\t<li>'Y'</li>\n",
       "\t<li>'Z'</li>\n",
       "</ol>\n"
      ],
      "text/latex": [
       "\\begin{enumerate*}\n",
       "\\item 'A'\n",
       "\\item 'B'\n",
       "\\item 'C'\n",
       "\\item 'D'\n",
       "\\item 'E'\n",
       "\\item 'F'\n",
       "\\item 'G'\n",
       "\\item 'H'\n",
       "\\item 'I'\n",
       "\\item 'J'\n",
       "\\item 'K'\n",
       "\\item 'L'\n",
       "\\item 'M'\n",
       "\\item 'N'\n",
       "\\item 'O'\n",
       "\\item 'P'\n",
       "\\item 'Q'\n",
       "\\item 'R'\n",
       "\\item 'S'\n",
       "\\item 'T'\n",
       "\\item 'U'\n",
       "\\item 'V'\n",
       "\\item 'W'\n",
       "\\item 'X'\n",
       "\\item 'Y'\n",
       "\\item 'Z'\n",
       "\\end{enumerate*}\n"
      ],
      "text/markdown": [
       "1. 'A'\n",
       "2. 'B'\n",
       "3. 'C'\n",
       "4. 'D'\n",
       "5. 'E'\n",
       "6. 'F'\n",
       "7. 'G'\n",
       "8. 'H'\n",
       "9. 'I'\n",
       "10. 'J'\n",
       "11. 'K'\n",
       "12. 'L'\n",
       "13. 'M'\n",
       "14. 'N'\n",
       "15. 'O'\n",
       "16. 'P'\n",
       "17. 'Q'\n",
       "18. 'R'\n",
       "19. 'S'\n",
       "20. 'T'\n",
       "21. 'U'\n",
       "22. 'V'\n",
       "23. 'W'\n",
       "24. 'X'\n",
       "25. 'Y'\n",
       "26. 'Z'\n",
       "\n",
       "\n"
      ],
      "text/plain": [
       " [1] \"A\" \"B\" \"C\" \"D\" \"E\" \"F\" \"G\" \"H\" \"I\" \"J\" \"K\" \"L\" \"M\" \"N\" \"O\" \"P\" \"Q\" \"R\" \"S\"\n",
       "[20] \"T\" \"U\" \"V\" \"W\" \"X\" \"Y\" \"Z\""
      ]
     },
     "metadata": {},
     "output_type": "display_data"
    }
   ],
   "source": [
    "letters\n",
    "LETTERS"
   ]
  },
  {
   "cell_type": "markdown",
   "metadata": {},
   "source": [
    "3. Create an R script that, given a numeric vector x with length 3, will print the elements by order from high to low."
   ]
  },
  {
   "cell_type": "code",
   "execution_count": 13,
   "metadata": {},
   "outputs": [
    {
     "data": {
      "text/html": [
       "<ol class=list-inline>\n",
       "\t<li>50</li>\n",
       "\t<li>12</li>\n",
       "\t<li>1</li>\n",
       "</ol>\n"
      ],
      "text/latex": [
       "\\begin{enumerate*}\n",
       "\\item 50\n",
       "\\item 12\n",
       "\\item 1\n",
       "\\end{enumerate*}\n"
      ],
      "text/markdown": [
       "1. 50\n",
       "2. 12\n",
       "3. 1\n",
       "\n",
       "\n"
      ],
      "text/plain": [
       "[1] 50 12  1"
      ]
     },
     "metadata": {},
     "output_type": "display_data"
    }
   ],
   "source": [
    "x = c(1,50,12)\n",
    "sort(x,decreasing=TRUE)"
   ]
  },
  {
   "cell_type": "markdown",
   "metadata": {},
   "source": [
    "4. Create an R script that returns the amount of values that are larger than the mean of a vector. You are allowed to use mean(). ( Use function)"
   ]
  },
  {
   "cell_type": "code",
   "execution_count": 14,
   "metadata": {},
   "outputs": [
    {
     "name": "stdout",
     "output_type": "stream",
     "text": [
      "[1] 1 2 4 5\n",
      "[1] \"Mean= 3\"\n",
      "[1] \"amount of values that are larger than mean = 2\"\n"
     ]
    }
   ],
   "source": [
    "v = c(1,2,4,5)\n",
    "n=0\n",
    "print(v)\n",
    "v1=mean(v)\n",
    "print(paste(\"Mean=\",v1))\n",
    "for(i in 1:length(v)){\n",
    "if (v[i] > v1){\n",
    "  n=n+1\n",
    "}\n",
    "}\n",
    "print(paste(\"amount of values that are larger than mean =\",n))"
   ]
  },
  {
   "cell_type": "markdown",
   "metadata": {},
   "source": [
    "5. Write a double for loop which prints 30 numbers (1:10, 2:11, 3:12). Those are three clusters of ten numbers each. The first loop determines the number of clusters (3) via its length; the second loop the numbers to be printed (1 to 10 at the beginning). Each cluster starts one number higher than the previous one"
   ]
  },
  {
   "cell_type": "code",
   "execution_count": 15,
   "metadata": {},
   "outputs": [
    {
     "name": "stdout",
     "output_type": "stream",
     "text": [
      "[1] 1\n",
      "[1] 2\n",
      "[1] 3\n",
      "[1] 4\n",
      "[1] 5\n",
      "[1] 6\n",
      "[1] 7\n",
      "[1] 8\n",
      "[1] 9\n",
      "[1] 10\n",
      "[1] 2\n",
      "[1] 3\n",
      "[1] 4\n",
      "[1] 5\n",
      "[1] 6\n",
      "[1] 7\n",
      "[1] 8\n",
      "[1] 9\n",
      "[1] 10\n",
      "[1] 11\n",
      "[1] 3\n",
      "[1] 4\n",
      "[1] 5\n",
      "[1] 6\n",
      "[1] 7\n",
      "[1] 8\n",
      "[1] 9\n",
      "[1] 10\n",
      "[1] 11\n",
      "[1] 12\n"
     ]
    }
   ],
   "source": [
    "  for (i in 1:length(1:3)) {\n",
    "    for (j in 1:10) {\n",
    "      print(j+i-1)\n",
    "    }}"
   ]
  },
  {
   "cell_type": "markdown",
   "metadata": {},
   "source": [
    "6 a. You have the data.frame ‘mydf’ with four columns like below\n",
    "\n",
    "a = c(3,7,NA, 9)\n",
    "b = c(2,NA,9,3)\n",
    "f = c(5,2,5,6)\n",
    "d = c(NA,3,4,NA)\n",
    "\n",
    "You want to add another column ‘5’:\n",
    "\n",
    "the 5th column contains the value of col 2 if col 1 is NA;\n",
    "the 5th column contains the value of col 4 if col 2 is NA;\n",
    "the 5th column contains the value of col 3 in all other cases."
   ]
  },
  {
   "cell_type": "code",
   "execution_count": 16,
   "metadata": {},
   "outputs": [
    {
     "name": "stdout",
     "output_type": "stream",
     "text": [
      "   a  b f  d\n",
      "1  3  2 5 NA\n",
      "2  7 NA 2  3\n",
      "3 NA  9 5  4\n",
      "4  9  3 6 NA\n",
      "   a  b f  d e\n",
      "1  3  2 5 NA 5\n",
      "2  7 NA 2  3 3\n",
      "3 NA  9 5  4 9\n",
      "4  9  3 6 NA 6\n"
     ]
    }
   ],
   "source": [
    "mydf=data.frame(\n",
    "  a=c(3,7,NA,9),\n",
    "  b=c(2,NA,9,3),\n",
    "  f=c(5,2,5,6),\n",
    "  d=c(NA,3,4,NA)\n",
    ")\n",
    "print(mydf)\n",
    "new_mydf=data.frame(e=c(ifelse(is.na(mydf[,1]) & !is.na(mydf[,2]),\n",
    "                               mydf[,2],ifelse(is.na(mydf[,2]) & !is.na(mydf[,4]),\n",
    "                                               mydf[,4], mydf[,3]))))\n",
    "mydf = cbind(mydf,new_mydf)\n",
    "print(mydf)"
   ]
  },
  {
   "cell_type": "markdown",
   "metadata": {},
   "source": [
    "7. Write a while loop starting with x = 0. The loop prints all numbers up to 35 but it skips number 7. Condition: If x== 7 next "
   ]
  },
  {
   "cell_type": "code",
   "execution_count": 17,
   "metadata": {},
   "outputs": [
    {
     "name": "stdout",
     "output_type": "stream",
     "text": [
      "[1] 1\n",
      "[1] 2\n",
      "[1] 3\n",
      "[1] 4\n",
      "[1] 5\n",
      "[1] 6\n",
      "[1] 8\n",
      "[1] 9\n",
      "[1] 10\n",
      "[1] 11\n",
      "[1] 12\n",
      "[1] 13\n",
      "[1] 14\n",
      "[1] 15\n",
      "[1] 16\n",
      "[1] 17\n",
      "[1] 18\n",
      "[1] 19\n",
      "[1] 20\n",
      "[1] 21\n",
      "[1] 22\n",
      "[1] 23\n",
      "[1] 24\n",
      "[1] 25\n",
      "[1] 26\n",
      "[1] 27\n",
      "[1] 28\n",
      "[1] 29\n",
      "[1] 30\n",
      "[1] 31\n",
      "[1] 32\n",
      "[1] 33\n",
      "[1] 34\n",
      "[1] 35\n"
     ]
    }
   ],
   "source": [
    "x=0\n",
    "while(x<35){\n",
    "  x=x+1    \n",
    "  if(x==7)next\n",
    "  print(x)\n",
    "}"
   ]
  },
  {
   "cell_type": "markdown",
   "metadata": {},
   "source": [
    "8. Examine the difference between typeof and class () method using R program"
   ]
  },
  {
   "cell_type": "markdown",
   "metadata": {},
   "source": [
    "9. Create a function and demonstrate their features like required, keyword, default."
   ]
  },
  {
   "cell_type": "markdown",
   "metadata": {},
   "source": [
    "10. Create a dataframe and delete the row and column. ( Use the own data values to create frame)"
   ]
  },
  {
   "cell_type": "code",
   "execution_count": 18,
   "metadata": {},
   "outputs": [
    {
     "name": "stdout",
     "output_type": "stream",
     "text": [
      "   name marks attempts qualify\n",
      "1 harry    39        0     yes\n",
      "2 niall    37        2     yes\n",
      "3  zayn    35        1     yes\n",
      "[1] \"after deleteing row-1\"\n",
      "  marks attempts qualify\n",
      "1    39        0     yes\n",
      "2    37        2     yes\n",
      "3    35        1     yes\n",
      "[1] \"after deleteing column-1\"\n",
      "   name marks attempts qualify\n",
      "2 niall    37        2     yes\n",
      "3  zayn    35        1     yes\n"
     ]
    }
   ],
   "source": [
    "name=c(\"harry\",\"niall\",\"zayn\")\n",
    "marks=c(39,37,35)\n",
    "attempts=c(0,2,1)\n",
    "qualify=c(\"yes\",\"yes\",\"yes\")\n",
    "df=data.frame(name,marks,attempts,qualify)\n",
    "print(df)\n",
    "rowdf = df[,-c(1,1)]##deletes the row\n",
    "print(\"after deleteing row-1\")\n",
    "print(rowdf)\n",
    "coldf=df[-c(1,1),]##deletes the column\n",
    "print(\"after deleteing column-1\")\n",
    "print(coldf)"
   ]
  },
  {
   "cell_type": "markdown",
   "metadata": {},
   "source": [
    "# Practice Day 3"
   ]
  },
  {
   "cell_type": "markdown",
   "metadata": {},
   "source": [
    "1. Write a function that turns (e.g.) a vector c(\"a\", \"b\", \"c\") into the string \"a, b, and c\". Think carefully about what it should do if given a vector of length 0, 1, or 2."
   ]
  },
  {
   "cell_type": "code",
   "execution_count": 21,
   "metadata": {},
   "outputs": [
    {
     "name": "stdout",
     "output_type": "stream",
     "text": [
      "[1] \"a, b, c\"\n"
     ]
    }
   ],
   "source": [
    "vectorstr=function(vec){\n",
    "    str=toString(vec)\n",
    "    print(str)\n",
    "}\n",
    "vectorstr(c(\"a\",\"b\",\"c\"))"
   ]
  },
  {
   "cell_type": "markdown",
   "metadata": {},
   "source": [
    "2. Consider a data frame df:\n",
    "\n",
    "Id=c(1:10)\n",
    "Age=c(14,12,15,10,23,21,41,56,78,12)\n",
    "Sex=c('F','M','M','F','M','F','M','M','F','M')\n",
    "Code=letters[1:10]\n",
    "df=data.frame(Id,Age,Sex,Code)\n",
    "\n",
    "Create a function that, given a data frame and two indexes, exchanges two values ​​of the Code variable with each other.\n",
    "For example, if the index is 1 and 3, you assign:\n",
    "\n",
    "df[1,'Code']=df[3,'Code']\n",
    "df[3,'Code']=df[1,'Code']"
   ]
  },
  {
   "cell_type": "code",
   "execution_count": 22,
   "metadata": {},
   "outputs": [
    {
     "name": "stdout",
     "output_type": "stream",
     "text": [
      "   id age sex code\n",
      "1   1  14   f    c\n",
      "2   2  12   m    b\n",
      "3   3  15   m    a\n",
      "4   4  10   f    d\n",
      "5   5  23   m    e\n",
      "6   6  21   f    f\n",
      "7   7  41   m    g\n",
      "8   8  56   m    h\n",
      "9   9  78   f    i\n",
      "10 10  12   m    j\n"
     ]
    }
   ],
   "source": [
    "id=c(1:10)\n",
    "age=c(14,12,15,10,23,21,41,56,78,12)\n",
    "sex=c('f','m','m','f','m','f','m','m','f','m')\n",
    "code=letters[1:10]\n",
    "df=data.frame(id,age,sex,code)\n",
    "changeframe=function(tabel,index1,index2){\n",
    "    temp=df[index1,'code']\n",
    "    df[index1,'code']=df[index2,'code']\n",
    "    df[index2,'code']=temp\n",
    "    print(df)\n",
    "}\n",
    "changeframe(df,1,3)"
   ]
  },
  {
   "cell_type": "markdown",
   "metadata": {},
   "source": [
    "3. Create a function that given a numeric vector, sort this in ascending order and duplicate it by two."
   ]
  },
  {
   "cell_type": "code",
   "execution_count": 25,
   "metadata": {},
   "outputs": [
    {
     "name": "stdout",
     "output_type": "stream",
     "text": [
      "[1] \"sorted vector is\"\n",
      "[1] 2 4 6 7 9\n"
     ]
    }
   ],
   "source": [
    "sortvec=function(vec){\n",
    "    newvec=sort(vec)\n",
    "print(\"sorted vector is\")\n",
    "print(newvec)\n",
    "}\n",
    "sortvec(c(4,7,2,6,9))"
   ]
  },
  {
   "cell_type": "markdown",
   "metadata": {},
   "source": [
    "4. Create a function that given a numeric vector X returns the digits 0 to 9 that are not in X. If X=0 2 4 8 the function return 1 3 5 6 7 9"
   ]
  },
  {
   "cell_type": "code",
   "execution_count": 26,
   "metadata": {},
   "outputs": [
    {
     "name": "stderr",
     "output_type": "stream",
     "text": [
      "Warning message in grepl(vec, x):\n",
      "\"argument 'pattern' has length > 1 and only the first element will be used\""
     ]
    },
    {
     "name": "stdout",
     "output_type": "stream",
     "text": [
      "[1] 0\n"
     ]
    },
    {
     "name": "stderr",
     "output_type": "stream",
     "text": [
      "Warning message in grepl(vec, x):\n",
      "\"argument 'pattern' has length > 1 and only the first element will be used\""
     ]
    },
    {
     "name": "stdout",
     "output_type": "stream",
     "text": [
      "[1] 1\n"
     ]
    },
    {
     "name": "stderr",
     "output_type": "stream",
     "text": [
      "Warning message in grepl(vec, x):\n",
      "\"argument 'pattern' has length > 1 and only the first element will be used\"Warning message in grepl(vec, x):\n",
      "\"argument 'pattern' has length > 1 and only the first element will be used\""
     ]
    },
    {
     "name": "stdout",
     "output_type": "stream",
     "text": [
      "[1] 3\n"
     ]
    },
    {
     "name": "stderr",
     "output_type": "stream",
     "text": [
      "Warning message in grepl(vec, x):\n",
      "\"argument 'pattern' has length > 1 and only the first element will be used\""
     ]
    },
    {
     "name": "stdout",
     "output_type": "stream",
     "text": [
      "[1] 4\n"
     ]
    },
    {
     "name": "stderr",
     "output_type": "stream",
     "text": [
      "Warning message in grepl(vec, x):\n",
      "\"argument 'pattern' has length > 1 and only the first element will be used\""
     ]
    },
    {
     "name": "stdout",
     "output_type": "stream",
     "text": [
      "[1] 5\n"
     ]
    },
    {
     "name": "stderr",
     "output_type": "stream",
     "text": [
      "Warning message in grepl(vec, x):\n",
      "\"argument 'pattern' has length > 1 and only the first element will be used\""
     ]
    },
    {
     "name": "stdout",
     "output_type": "stream",
     "text": [
      "[1] 6\n"
     ]
    },
    {
     "name": "stderr",
     "output_type": "stream",
     "text": [
      "Warning message in grepl(vec, x):\n",
      "\"argument 'pattern' has length > 1 and only the first element will be used\""
     ]
    },
    {
     "name": "stdout",
     "output_type": "stream",
     "text": [
      "[1] 7\n"
     ]
    },
    {
     "name": "stderr",
     "output_type": "stream",
     "text": [
      "Warning message in grepl(vec, x):\n",
      "\"argument 'pattern' has length > 1 and only the first element will be used\""
     ]
    },
    {
     "name": "stdout",
     "output_type": "stream",
     "text": [
      "[1] 8\n"
     ]
    },
    {
     "name": "stderr",
     "output_type": "stream",
     "text": [
      "Warning message in grepl(vec, x):\n",
      "\"argument 'pattern' has length > 1 and only the first element will be used\""
     ]
    },
    {
     "name": "stdout",
     "output_type": "stream",
     "text": [
      "[1] 9\n"
     ]
    }
   ],
   "source": [
    "nondigit=function(vec){\n",
    "    for(x in 0:9){\n",
    "        result=grepl(vec,x)\n",
    "        if(result==FALSE){\n",
    "            print(x)\n",
    "        }\n",
    "    }\n",
    "}\n",
    "nondigit(c(2,4,3,5))"
   ]
  },
  {
   "cell_type": "markdown",
   "metadata": {},
   "source": [
    "5. Create a function that given one word, return the position of word’s letters on letters vector. For example, if the word is ‘abc’, the function will return 1 2 3."
   ]
  },
  {
   "cell_type": "code",
   "execution_count": 27,
   "metadata": {},
   "outputs": [
    {
     "name": "stdout",
     "output_type": "stream",
     "text": [
      "[1] \"h\" \"e\" \"l\" \"l\" \"o\"\n",
      "[1]  8  5 12 12 15\n"
     ]
    }
   ],
   "source": [
    "indexofalpha=function(word){\n",
    "    splitword=strsplit(word,\"\")\n",
    "    for(x in splitword){\n",
    "        print(x)\n",
    "        result=match(c(x),letters)\n",
    "        print(result)\n",
    "    }\n",
    "}\n",
    "indexofalpha(\"hello\")"
   ]
  },
  {
   "cell_type": "markdown",
   "metadata": {},
   "source": [
    "6. Write a code to check the given string is anagram or not"
   ]
  },
  {
   "cell_type": "code",
   "execution_count": 35,
   "metadata": {},
   "outputs": [
    {
     "name": "stdout",
     "output_type": "stream",
     "text": [
      "[1] \"the words are anagram\"\n"
     ]
    }
   ],
   "source": [
    "anagram=function(word1,word2){\n",
    "    count=0\n",
    "    word1split=unlist(strsplit(word1,\"\"))\n",
    "    word2split=unlist(strsplit(word2,\"\"))\n",
    "    sortedword1=sort(word1split)\n",
    "    sortedword2=sort(word2split)\n",
    "    if(length(sortedword1)==length(sortedword1))\n",
    "    {\n",
    "        for(x in 1:length(sortedword1))\n",
    "        {\n",
    "            if(sortedword1[x]==sortedword2[x]){\n",
    "                count=count+1\n",
    "            }\n",
    "        }\n",
    "        if(count==length(sortedword1)){\n",
    "            print(\"the words are anagram\")\n",
    "        }\n",
    "    }else{\n",
    "        print(\"the 2 words are not anagram\")\n",
    "    }\n",
    "}\n",
    "anagram(\"kalam\",\"malak\")"
   ]
  },
  {
   "cell_type": "markdown",
   "metadata": {},
   "source": [
    "# Practice Day 4"
   ]
  },
  {
   "cell_type": "markdown",
   "metadata": {},
   "source": [
    "1. List all example files available with the readr library."
   ]
  },
  {
   "cell_type": "code",
   "execution_count": 36,
   "metadata": {},
   "outputs": [
    {
     "name": "stdout",
     "output_type": "stream",
     "text": [
      "                     X  mpg cyl  disp  hp drat    wt  qsec vs am gear carb\n",
      "1            Mazda RX4 21.0   6 160.0 110 3.90 2.620 16.46  0  1    4    4\n",
      "2        Mazda RX4 Wag 21.0   6 160.0 110 3.90 2.875 17.02  0  1    4    4\n",
      "3           Datsun 710 22.8   4 108.0  93 3.85 2.320 18.61  1  1    4    1\n",
      "4       Hornet 4 Drive 21.4   6 258.0 110 3.08 3.215 19.44  1  0    3    1\n",
      "5    Hornet Sportabout 18.7   8 360.0 175 3.15 3.440 17.02  0  0    3    2\n",
      "6              Valiant 18.1   6 225.0 105 2.76 3.460 20.22  1  0    3    1\n",
      "7           Duster 360 14.3   8 360.0 245 3.21 3.570 15.84  0  0    3    4\n",
      "8            Merc 240D 24.4   4 146.7  62 3.69 3.190 20.00  1  0    4    2\n",
      "9             Merc 230 22.8   4 140.8  95 3.92 3.150 22.90  1  0    4    2\n",
      "10            Merc 280 19.2   6 167.6 123 3.92 3.440 18.30  1  0    4    4\n",
      "11           Merc 280C 17.8   6 167.6 123 3.92 3.440 18.90  1  0    4    4\n",
      "12          Merc 450SE 16.4   8 275.8 180 3.07 4.070 17.40  0  0    3    3\n",
      "13          Merc 450SL 17.3   8 275.8 180 3.07 3.730 17.60  0  0    3    3\n",
      "14         Merc 450SLC 15.2   8 275.8 180 3.07 3.780 18.00  0  0    3    3\n",
      "15  Cadillac Fleetwood 10.4   8 472.0 205 2.93 5.250 17.98  0  0    3    4\n",
      "16 Lincoln Continental 10.4   8 460.0 215 3.00 5.424 17.82  0  0    3    4\n",
      "17   Chrysler Imperial 14.7   8 440.0 230 3.23 5.345 17.42  0  0    3    4\n",
      "18            Fiat 128 32.4   4  78.7  66 4.08 2.200 19.47  1  1    4    1\n",
      "19         Honda Civic 30.4   4  75.7  52 4.93 1.615 18.52  1  1    4    2\n",
      "20      Toyota Corolla 33.9   4  71.1  65 4.22 1.835 19.90  1  1    4    1\n",
      "21       Toyota Corona 21.5   4 120.1  97 3.70 2.465 20.01  1  0    3    1\n",
      "22    Dodge Challenger 15.5   8 318.0 150 2.76 3.520 16.87  0  0    3    2\n",
      "23         AMC Javelin 15.2   8 304.0 150 3.15 3.435 17.30  0  0    3    2\n",
      "24          Camaro Z28 13.3   8 350.0 245 3.73 3.840 15.41  0  0    3    4\n",
      "25    Pontiac Firebird 19.2   8 400.0 175 3.08 3.845 17.05  0  0    3    2\n",
      "26           Fiat X1-9 27.3   4  79.0  66 4.08 1.935 18.90  1  1    4    1\n",
      "27       Porsche 914-2 26.0   4 120.3  91 4.43 2.140 16.70  0  1    5    2\n",
      "28        Lotus Europa 30.4   4  95.1 113 3.77 1.513 16.90  1  1    5    2\n",
      "29      Ford Pantera L 15.8   8 351.0 264 4.22 3.170 14.50  0  1    5    4\n",
      "30        Ferrari Dino 19.7   6 145.0 175 3.62 2.770 15.50  0  1    5    6\n",
      "31       Maserati Bora 15.0   8 301.0 335 3.54 3.570 14.60  0  1    5    8\n",
      "32          Volvo 142E 21.4   4 121.0 109 4.11 2.780 18.60  1  1    4    2\n"
     ]
    },
    {
     "data": {
      "text/html": [
       "<table>\n",
       "<thead><tr><th scope=col>X</th><th scope=col>mpg</th><th scope=col>cyl</th><th scope=col>disp</th><th scope=col>hp</th><th scope=col>drat</th><th scope=col>wt</th><th scope=col>qsec</th><th scope=col>vs</th><th scope=col>am</th><th scope=col>gear</th><th scope=col>carb</th></tr></thead>\n",
       "<tbody>\n",
       "\t<tr><td>Mazda RX4        </td><td>21.0             </td><td>6                </td><td>160.0            </td><td>110              </td><td>3.90             </td><td>2.620            </td><td>16.46            </td><td>0                </td><td>1                </td><td>4                </td><td>4                </td></tr>\n",
       "\t<tr><td>Mazda RX4 Wag    </td><td>21.0             </td><td>6                </td><td>160.0            </td><td>110              </td><td>3.90             </td><td>2.875            </td><td>17.02            </td><td>0                </td><td>1                </td><td>4                </td><td>4                </td></tr>\n",
       "\t<tr><td>Datsun 710       </td><td>22.8             </td><td>4                </td><td>108.0            </td><td> 93              </td><td>3.85             </td><td>2.320            </td><td>18.61            </td><td>1                </td><td>1                </td><td>4                </td><td>1                </td></tr>\n",
       "\t<tr><td>Hornet 4 Drive   </td><td>21.4             </td><td>6                </td><td>258.0            </td><td>110              </td><td>3.08             </td><td>3.215            </td><td>19.44            </td><td>1                </td><td>0                </td><td>3                </td><td>1                </td></tr>\n",
       "\t<tr><td>Hornet Sportabout</td><td>18.7             </td><td>8                </td><td>360.0            </td><td>175              </td><td>3.15             </td><td>3.440            </td><td>17.02            </td><td>0                </td><td>0                </td><td>3                </td><td>2                </td></tr>\n",
       "\t<tr><td>Valiant          </td><td>18.1             </td><td>6                </td><td>225.0            </td><td>105              </td><td>2.76             </td><td>3.460            </td><td>20.22            </td><td>1                </td><td>0                </td><td>3                </td><td>1                </td></tr>\n",
       "\t<tr><td>Duster 360       </td><td>14.3             </td><td>8                </td><td>360.0            </td><td>245              </td><td>3.21             </td><td>3.570            </td><td>15.84            </td><td>0                </td><td>0                </td><td>3                </td><td>4                </td></tr>\n",
       "\t<tr><td>Merc 240D        </td><td>24.4             </td><td>4                </td><td>146.7            </td><td> 62              </td><td>3.69             </td><td>3.190            </td><td>20.00            </td><td>1                </td><td>0                </td><td>4                </td><td>2                </td></tr>\n",
       "\t<tr><td>Merc 230         </td><td>22.8             </td><td>4                </td><td>140.8            </td><td> 95              </td><td>3.92             </td><td>3.150            </td><td>22.90            </td><td>1                </td><td>0                </td><td>4                </td><td>2                </td></tr>\n",
       "\t<tr><td>Merc 280         </td><td>19.2             </td><td>6                </td><td>167.6            </td><td>123              </td><td>3.92             </td><td>3.440            </td><td>18.30            </td><td>1                </td><td>0                </td><td>4                </td><td>4                </td></tr>\n",
       "</tbody>\n",
       "</table>\n"
      ],
      "text/latex": [
       "\\begin{tabular}{r|llllllllllll}\n",
       " X & mpg & cyl & disp & hp & drat & wt & qsec & vs & am & gear & carb\\\\\n",
       "\\hline\n",
       "\t Mazda RX4         & 21.0              & 6                 & 160.0             & 110               & 3.90              & 2.620             & 16.46             & 0                 & 1                 & 4                 & 4                \\\\\n",
       "\t Mazda RX4 Wag     & 21.0              & 6                 & 160.0             & 110               & 3.90              & 2.875             & 17.02             & 0                 & 1                 & 4                 & 4                \\\\\n",
       "\t Datsun 710        & 22.8              & 4                 & 108.0             &  93               & 3.85              & 2.320             & 18.61             & 1                 & 1                 & 4                 & 1                \\\\\n",
       "\t Hornet 4 Drive    & 21.4              & 6                 & 258.0             & 110               & 3.08              & 3.215             & 19.44             & 1                 & 0                 & 3                 & 1                \\\\\n",
       "\t Hornet Sportabout & 18.7              & 8                 & 360.0             & 175               & 3.15              & 3.440             & 17.02             & 0                 & 0                 & 3                 & 2                \\\\\n",
       "\t Valiant           & 18.1              & 6                 & 225.0             & 105               & 2.76              & 3.460             & 20.22             & 1                 & 0                 & 3                 & 1                \\\\\n",
       "\t Duster 360        & 14.3              & 8                 & 360.0             & 245               & 3.21              & 3.570             & 15.84             & 0                 & 0                 & 3                 & 4                \\\\\n",
       "\t Merc 240D         & 24.4              & 4                 & 146.7             &  62               & 3.69              & 3.190             & 20.00             & 1                 & 0                 & 4                 & 2                \\\\\n",
       "\t Merc 230          & 22.8              & 4                 & 140.8             &  95               & 3.92              & 3.150             & 22.90             & 1                 & 0                 & 4                 & 2                \\\\\n",
       "\t Merc 280          & 19.2              & 6                 & 167.6             & 123               & 3.92              & 3.440             & 18.30             & 1                 & 0                 & 4                 & 4                \\\\\n",
       "\\end{tabular}\n"
      ],
      "text/markdown": [
       "\n",
       "| X | mpg | cyl | disp | hp | drat | wt | qsec | vs | am | gear | carb |\n",
       "|---|---|---|---|---|---|---|---|---|---|---|---|\n",
       "| Mazda RX4         | 21.0              | 6                 | 160.0             | 110               | 3.90              | 2.620             | 16.46             | 0                 | 1                 | 4                 | 4                 |\n",
       "| Mazda RX4 Wag     | 21.0              | 6                 | 160.0             | 110               | 3.90              | 2.875             | 17.02             | 0                 | 1                 | 4                 | 4                 |\n",
       "| Datsun 710        | 22.8              | 4                 | 108.0             |  93               | 3.85              | 2.320             | 18.61             | 1                 | 1                 | 4                 | 1                 |\n",
       "| Hornet 4 Drive    | 21.4              | 6                 | 258.0             | 110               | 3.08              | 3.215             | 19.44             | 1                 | 0                 | 3                 | 1                 |\n",
       "| Hornet Sportabout | 18.7              | 8                 | 360.0             | 175               | 3.15              | 3.440             | 17.02             | 0                 | 0                 | 3                 | 2                 |\n",
       "| Valiant           | 18.1              | 6                 | 225.0             | 105               | 2.76              | 3.460             | 20.22             | 1                 | 0                 | 3                 | 1                 |\n",
       "| Duster 360        | 14.3              | 8                 | 360.0             | 245               | 3.21              | 3.570             | 15.84             | 0                 | 0                 | 3                 | 4                 |\n",
       "| Merc 240D         | 24.4              | 4                 | 146.7             |  62               | 3.69              | 3.190             | 20.00             | 1                 | 0                 | 4                 | 2                 |\n",
       "| Merc 230          | 22.8              | 4                 | 140.8             |  95               | 3.92              | 3.150             | 22.90             | 1                 | 0                 | 4                 | 2                 |\n",
       "| Merc 280          | 19.2              | 6                 | 167.6             | 123               | 3.92              | 3.440             | 18.30             | 1                 | 0                 | 4                 | 4                 |\n",
       "\n"
      ],
      "text/plain": [
       "   X                 mpg  cyl disp  hp  drat wt    qsec  vs am gear carb\n",
       "1  Mazda RX4         21.0 6   160.0 110 3.90 2.620 16.46 0  1  4    4   \n",
       "2  Mazda RX4 Wag     21.0 6   160.0 110 3.90 2.875 17.02 0  1  4    4   \n",
       "3  Datsun 710        22.8 4   108.0  93 3.85 2.320 18.61 1  1  4    1   \n",
       "4  Hornet 4 Drive    21.4 6   258.0 110 3.08 3.215 19.44 1  0  3    1   \n",
       "5  Hornet Sportabout 18.7 8   360.0 175 3.15 3.440 17.02 0  0  3    2   \n",
       "6  Valiant           18.1 6   225.0 105 2.76 3.460 20.22 1  0  3    1   \n",
       "7  Duster 360        14.3 8   360.0 245 3.21 3.570 15.84 0  0  3    4   \n",
       "8  Merc 240D         24.4 4   146.7  62 3.69 3.190 20.00 1  0  4    2   \n",
       "9  Merc 230          22.8 4   140.8  95 3.92 3.150 22.90 1  0  4    2   \n",
       "10 Merc 280          19.2 6   167.6 123 3.92 3.440 18.30 1  0  4    4   "
      ]
     },
     "metadata": {},
     "output_type": "display_data"
    }
   ],
   "source": [
    "library(readr)\n",
    "setwd(\"/Users/anbun/Documents/r_programming_exercise\")\n",
    "data<- read.csv(\"mtcars.csv\")\n",
    "print(data)\n",
    "head(data,10)"
   ]
  },
  {
   "cell_type": "markdown",
   "metadata": {},
   "source": [
    "2. Read the mtcars.csv file."
   ]
  },
  {
   "cell_type": "code",
   "execution_count": 39,
   "metadata": {},
   "outputs": [
    {
     "name": "stderr",
     "output_type": "stream",
     "text": [
      "Registered S3 methods overwritten by 'ggplot2':\n",
      "  method         from \n",
      "  [.quosures     rlang\n",
      "  c.quosures     rlang\n",
      "  print.quosures rlang\n",
      "Registered S3 method overwritten by 'rvest':\n",
      "  method            from\n",
      "  read_xml.response xml2\n",
      "-- Attaching packages --------------------------------------- tidyverse 1.2.1 --\n",
      "v ggplot2 3.1.1       v purrr   0.3.2  \n",
      "v tibble  2.1.1       v dplyr   0.8.0.1\n",
      "v tidyr   0.8.3       v stringr 1.4.0  \n",
      "v ggplot2 3.1.1       v forcats 0.4.0  \n",
      "-- Conflicts ------------------------------------------ tidyverse_conflicts() --\n",
      "x dplyr::filter() masks stats::filter()\n",
      "x dplyr::lag()    masks stats::lag()\n"
     ]
    },
    {
     "data": {
      "text/html": [
       "<ol class=list-inline>\n",
       "\t<li>'challenge.csv'</li>\n",
       "\t<li>'epa78.txt'</li>\n",
       "\t<li>'example.log'</li>\n",
       "\t<li>'fwf-sample.txt'</li>\n",
       "\t<li>'massey-rating.txt'</li>\n",
       "\t<li>'mtcars.csv'</li>\n",
       "\t<li>'mtcars.csv.bz2'</li>\n",
       "\t<li>'mtcars.csv.zip'</li>\n",
       "</ol>\n"
      ],
      "text/latex": [
       "\\begin{enumerate*}\n",
       "\\item 'challenge.csv'\n",
       "\\item 'epa78.txt'\n",
       "\\item 'example.log'\n",
       "\\item 'fwf-sample.txt'\n",
       "\\item 'massey-rating.txt'\n",
       "\\item 'mtcars.csv'\n",
       "\\item 'mtcars.csv.bz2'\n",
       "\\item 'mtcars.csv.zip'\n",
       "\\end{enumerate*}\n"
      ],
      "text/markdown": [
       "1. 'challenge.csv'\n",
       "2. 'epa78.txt'\n",
       "3. 'example.log'\n",
       "4. 'fwf-sample.txt'\n",
       "5. 'massey-rating.txt'\n",
       "6. 'mtcars.csv'\n",
       "7. 'mtcars.csv.bz2'\n",
       "8. 'mtcars.csv.zip'\n",
       "\n",
       "\n"
      ],
      "text/plain": [
       "[1] \"challenge.csv\"     \"epa78.txt\"         \"example.log\"      \n",
       "[4] \"fwf-sample.txt\"    \"massey-rating.txt\" \"mtcars.csv\"       \n",
       "[7] \"mtcars.csv.bz2\"    \"mtcars.csv.zip\"   "
      ]
     },
     "metadata": {},
     "output_type": "display_data"
    },
    {
     "name": "stderr",
     "output_type": "stream",
     "text": [
      "Parsed with column specification:\n",
      "cols(\n",
      "  mpg = col_double(),\n",
      "  cyl = col_double(),\n",
      "  disp = col_double(),\n",
      "  hp = col_double(),\n",
      "  drat = col_double(),\n",
      "  wt = col_double(),\n",
      "  qsec = col_double(),\n",
      "  vs = col_double(),\n",
      "  am = col_double(),\n",
      "  gear = col_double(),\n",
      "  carb = col_double()\n",
      ")\n"
     ]
    },
    {
     "data": {
      "text/html": [
       "<table>\n",
       "<thead><tr><th scope=col>mpg</th><th scope=col>cyl</th><th scope=col>disp</th><th scope=col>hp</th><th scope=col>drat</th><th scope=col>wt</th><th scope=col>qsec</th><th scope=col>vs</th><th scope=col>am</th><th scope=col>gear</th><th scope=col>carb</th></tr></thead>\n",
       "<tbody>\n",
       "\t<tr><td>21.0 </td><td>6    </td><td>160.0</td><td>110  </td><td>3.90 </td><td>2.620</td><td>16.46</td><td>0    </td><td>1    </td><td>4    </td><td>4    </td></tr>\n",
       "\t<tr><td>21.0 </td><td>6    </td><td>160.0</td><td>110  </td><td>3.90 </td><td>2.875</td><td>17.02</td><td>0    </td><td>1    </td><td>4    </td><td>4    </td></tr>\n",
       "\t<tr><td>22.8 </td><td>4    </td><td>108.0</td><td> 93  </td><td>3.85 </td><td>2.320</td><td>18.61</td><td>1    </td><td>1    </td><td>4    </td><td>1    </td></tr>\n",
       "\t<tr><td>21.4 </td><td>6    </td><td>258.0</td><td>110  </td><td>3.08 </td><td>3.215</td><td>19.44</td><td>1    </td><td>0    </td><td>3    </td><td>1    </td></tr>\n",
       "\t<tr><td>18.7 </td><td>8    </td><td>360.0</td><td>175  </td><td>3.15 </td><td>3.440</td><td>17.02</td><td>0    </td><td>0    </td><td>3    </td><td>2    </td></tr>\n",
       "\t<tr><td>18.1 </td><td>6    </td><td>225.0</td><td>105  </td><td>2.76 </td><td>3.460</td><td>20.22</td><td>1    </td><td>0    </td><td>3    </td><td>1    </td></tr>\n",
       "\t<tr><td>14.3 </td><td>8    </td><td>360.0</td><td>245  </td><td>3.21 </td><td>3.570</td><td>15.84</td><td>0    </td><td>0    </td><td>3    </td><td>4    </td></tr>\n",
       "\t<tr><td>24.4 </td><td>4    </td><td>146.7</td><td> 62  </td><td>3.69 </td><td>3.190</td><td>20.00</td><td>1    </td><td>0    </td><td>4    </td><td>2    </td></tr>\n",
       "\t<tr><td>22.8 </td><td>4    </td><td>140.8</td><td> 95  </td><td>3.92 </td><td>3.150</td><td>22.90</td><td>1    </td><td>0    </td><td>4    </td><td>2    </td></tr>\n",
       "\t<tr><td>19.2 </td><td>6    </td><td>167.6</td><td>123  </td><td>3.92 </td><td>3.440</td><td>18.30</td><td>1    </td><td>0    </td><td>4    </td><td>4    </td></tr>\n",
       "\t<tr><td>17.8 </td><td>6    </td><td>167.6</td><td>123  </td><td>3.92 </td><td>3.440</td><td>18.90</td><td>1    </td><td>0    </td><td>4    </td><td>4    </td></tr>\n",
       "\t<tr><td>16.4 </td><td>8    </td><td>275.8</td><td>180  </td><td>3.07 </td><td>4.070</td><td>17.40</td><td>0    </td><td>0    </td><td>3    </td><td>3    </td></tr>\n",
       "\t<tr><td>17.3 </td><td>8    </td><td>275.8</td><td>180  </td><td>3.07 </td><td>3.730</td><td>17.60</td><td>0    </td><td>0    </td><td>3    </td><td>3    </td></tr>\n",
       "\t<tr><td>15.2 </td><td>8    </td><td>275.8</td><td>180  </td><td>3.07 </td><td>3.780</td><td>18.00</td><td>0    </td><td>0    </td><td>3    </td><td>3    </td></tr>\n",
       "\t<tr><td>10.4 </td><td>8    </td><td>472.0</td><td>205  </td><td>2.93 </td><td>5.250</td><td>17.98</td><td>0    </td><td>0    </td><td>3    </td><td>4    </td></tr>\n",
       "\t<tr><td>10.4 </td><td>8    </td><td>460.0</td><td>215  </td><td>3.00 </td><td>5.424</td><td>17.82</td><td>0    </td><td>0    </td><td>3    </td><td>4    </td></tr>\n",
       "\t<tr><td>14.7 </td><td>8    </td><td>440.0</td><td>230  </td><td>3.23 </td><td>5.345</td><td>17.42</td><td>0    </td><td>0    </td><td>3    </td><td>4    </td></tr>\n",
       "\t<tr><td>32.4 </td><td>4    </td><td> 78.7</td><td> 66  </td><td>4.08 </td><td>2.200</td><td>19.47</td><td>1    </td><td>1    </td><td>4    </td><td>1    </td></tr>\n",
       "\t<tr><td>30.4 </td><td>4    </td><td> 75.7</td><td> 52  </td><td>4.93 </td><td>1.615</td><td>18.52</td><td>1    </td><td>1    </td><td>4    </td><td>2    </td></tr>\n",
       "\t<tr><td>33.9 </td><td>4    </td><td> 71.1</td><td> 65  </td><td>4.22 </td><td>1.835</td><td>19.90</td><td>1    </td><td>1    </td><td>4    </td><td>1    </td></tr>\n",
       "\t<tr><td>21.5 </td><td>4    </td><td>120.1</td><td> 97  </td><td>3.70 </td><td>2.465</td><td>20.01</td><td>1    </td><td>0    </td><td>3    </td><td>1    </td></tr>\n",
       "\t<tr><td>15.5 </td><td>8    </td><td>318.0</td><td>150  </td><td>2.76 </td><td>3.520</td><td>16.87</td><td>0    </td><td>0    </td><td>3    </td><td>2    </td></tr>\n",
       "\t<tr><td>15.2 </td><td>8    </td><td>304.0</td><td>150  </td><td>3.15 </td><td>3.435</td><td>17.30</td><td>0    </td><td>0    </td><td>3    </td><td>2    </td></tr>\n",
       "\t<tr><td>13.3 </td><td>8    </td><td>350.0</td><td>245  </td><td>3.73 </td><td>3.840</td><td>15.41</td><td>0    </td><td>0    </td><td>3    </td><td>4    </td></tr>\n",
       "\t<tr><td>19.2 </td><td>8    </td><td>400.0</td><td>175  </td><td>3.08 </td><td>3.845</td><td>17.05</td><td>0    </td><td>0    </td><td>3    </td><td>2    </td></tr>\n",
       "\t<tr><td>27.3 </td><td>4    </td><td> 79.0</td><td> 66  </td><td>4.08 </td><td>1.935</td><td>18.90</td><td>1    </td><td>1    </td><td>4    </td><td>1    </td></tr>\n",
       "\t<tr><td>26.0 </td><td>4    </td><td>120.3</td><td> 91  </td><td>4.43 </td><td>2.140</td><td>16.70</td><td>0    </td><td>1    </td><td>5    </td><td>2    </td></tr>\n",
       "\t<tr><td>30.4 </td><td>4    </td><td> 95.1</td><td>113  </td><td>3.77 </td><td>1.513</td><td>16.90</td><td>1    </td><td>1    </td><td>5    </td><td>2    </td></tr>\n",
       "\t<tr><td>15.8 </td><td>8    </td><td>351.0</td><td>264  </td><td>4.22 </td><td>3.170</td><td>14.50</td><td>0    </td><td>1    </td><td>5    </td><td>4    </td></tr>\n",
       "\t<tr><td>19.7 </td><td>6    </td><td>145.0</td><td>175  </td><td>3.62 </td><td>2.770</td><td>15.50</td><td>0    </td><td>1    </td><td>5    </td><td>6    </td></tr>\n",
       "\t<tr><td>15.0 </td><td>8    </td><td>301.0</td><td>335  </td><td>3.54 </td><td>3.570</td><td>14.60</td><td>0    </td><td>1    </td><td>5    </td><td>8    </td></tr>\n",
       "\t<tr><td>21.4 </td><td>4    </td><td>121.0</td><td>109  </td><td>4.11 </td><td>2.780</td><td>18.60</td><td>1    </td><td>1    </td><td>4    </td><td>2    </td></tr>\n",
       "</tbody>\n",
       "</table>\n"
      ],
      "text/latex": [
       "\\begin{tabular}{r|lllllllllll}\n",
       " mpg & cyl & disp & hp & drat & wt & qsec & vs & am & gear & carb\\\\\n",
       "\\hline\n",
       "\t 21.0  & 6     & 160.0 & 110   & 3.90  & 2.620 & 16.46 & 0     & 1     & 4     & 4    \\\\\n",
       "\t 21.0  & 6     & 160.0 & 110   & 3.90  & 2.875 & 17.02 & 0     & 1     & 4     & 4    \\\\\n",
       "\t 22.8  & 4     & 108.0 &  93   & 3.85  & 2.320 & 18.61 & 1     & 1     & 4     & 1    \\\\\n",
       "\t 21.4  & 6     & 258.0 & 110   & 3.08  & 3.215 & 19.44 & 1     & 0     & 3     & 1    \\\\\n",
       "\t 18.7  & 8     & 360.0 & 175   & 3.15  & 3.440 & 17.02 & 0     & 0     & 3     & 2    \\\\\n",
       "\t 18.1  & 6     & 225.0 & 105   & 2.76  & 3.460 & 20.22 & 1     & 0     & 3     & 1    \\\\\n",
       "\t 14.3  & 8     & 360.0 & 245   & 3.21  & 3.570 & 15.84 & 0     & 0     & 3     & 4    \\\\\n",
       "\t 24.4  & 4     & 146.7 &  62   & 3.69  & 3.190 & 20.00 & 1     & 0     & 4     & 2    \\\\\n",
       "\t 22.8  & 4     & 140.8 &  95   & 3.92  & 3.150 & 22.90 & 1     & 0     & 4     & 2    \\\\\n",
       "\t 19.2  & 6     & 167.6 & 123   & 3.92  & 3.440 & 18.30 & 1     & 0     & 4     & 4    \\\\\n",
       "\t 17.8  & 6     & 167.6 & 123   & 3.92  & 3.440 & 18.90 & 1     & 0     & 4     & 4    \\\\\n",
       "\t 16.4  & 8     & 275.8 & 180   & 3.07  & 4.070 & 17.40 & 0     & 0     & 3     & 3    \\\\\n",
       "\t 17.3  & 8     & 275.8 & 180   & 3.07  & 3.730 & 17.60 & 0     & 0     & 3     & 3    \\\\\n",
       "\t 15.2  & 8     & 275.8 & 180   & 3.07  & 3.780 & 18.00 & 0     & 0     & 3     & 3    \\\\\n",
       "\t 10.4  & 8     & 472.0 & 205   & 2.93  & 5.250 & 17.98 & 0     & 0     & 3     & 4    \\\\\n",
       "\t 10.4  & 8     & 460.0 & 215   & 3.00  & 5.424 & 17.82 & 0     & 0     & 3     & 4    \\\\\n",
       "\t 14.7  & 8     & 440.0 & 230   & 3.23  & 5.345 & 17.42 & 0     & 0     & 3     & 4    \\\\\n",
       "\t 32.4  & 4     &  78.7 &  66   & 4.08  & 2.200 & 19.47 & 1     & 1     & 4     & 1    \\\\\n",
       "\t 30.4  & 4     &  75.7 &  52   & 4.93  & 1.615 & 18.52 & 1     & 1     & 4     & 2    \\\\\n",
       "\t 33.9  & 4     &  71.1 &  65   & 4.22  & 1.835 & 19.90 & 1     & 1     & 4     & 1    \\\\\n",
       "\t 21.5  & 4     & 120.1 &  97   & 3.70  & 2.465 & 20.01 & 1     & 0     & 3     & 1    \\\\\n",
       "\t 15.5  & 8     & 318.0 & 150   & 2.76  & 3.520 & 16.87 & 0     & 0     & 3     & 2    \\\\\n",
       "\t 15.2  & 8     & 304.0 & 150   & 3.15  & 3.435 & 17.30 & 0     & 0     & 3     & 2    \\\\\n",
       "\t 13.3  & 8     & 350.0 & 245   & 3.73  & 3.840 & 15.41 & 0     & 0     & 3     & 4    \\\\\n",
       "\t 19.2  & 8     & 400.0 & 175   & 3.08  & 3.845 & 17.05 & 0     & 0     & 3     & 2    \\\\\n",
       "\t 27.3  & 4     &  79.0 &  66   & 4.08  & 1.935 & 18.90 & 1     & 1     & 4     & 1    \\\\\n",
       "\t 26.0  & 4     & 120.3 &  91   & 4.43  & 2.140 & 16.70 & 0     & 1     & 5     & 2    \\\\\n",
       "\t 30.4  & 4     &  95.1 & 113   & 3.77  & 1.513 & 16.90 & 1     & 1     & 5     & 2    \\\\\n",
       "\t 15.8  & 8     & 351.0 & 264   & 4.22  & 3.170 & 14.50 & 0     & 1     & 5     & 4    \\\\\n",
       "\t 19.7  & 6     & 145.0 & 175   & 3.62  & 2.770 & 15.50 & 0     & 1     & 5     & 6    \\\\\n",
       "\t 15.0  & 8     & 301.0 & 335   & 3.54  & 3.570 & 14.60 & 0     & 1     & 5     & 8    \\\\\n",
       "\t 21.4  & 4     & 121.0 & 109   & 4.11  & 2.780 & 18.60 & 1     & 1     & 4     & 2    \\\\\n",
       "\\end{tabular}\n"
      ],
      "text/markdown": [
       "\n",
       "| mpg | cyl | disp | hp | drat | wt | qsec | vs | am | gear | carb |\n",
       "|---|---|---|---|---|---|---|---|---|---|---|\n",
       "| 21.0  | 6     | 160.0 | 110   | 3.90  | 2.620 | 16.46 | 0     | 1     | 4     | 4     |\n",
       "| 21.0  | 6     | 160.0 | 110   | 3.90  | 2.875 | 17.02 | 0     | 1     | 4     | 4     |\n",
       "| 22.8  | 4     | 108.0 |  93   | 3.85  | 2.320 | 18.61 | 1     | 1     | 4     | 1     |\n",
       "| 21.4  | 6     | 258.0 | 110   | 3.08  | 3.215 | 19.44 | 1     | 0     | 3     | 1     |\n",
       "| 18.7  | 8     | 360.0 | 175   | 3.15  | 3.440 | 17.02 | 0     | 0     | 3     | 2     |\n",
       "| 18.1  | 6     | 225.0 | 105   | 2.76  | 3.460 | 20.22 | 1     | 0     | 3     | 1     |\n",
       "| 14.3  | 8     | 360.0 | 245   | 3.21  | 3.570 | 15.84 | 0     | 0     | 3     | 4     |\n",
       "| 24.4  | 4     | 146.7 |  62   | 3.69  | 3.190 | 20.00 | 1     | 0     | 4     | 2     |\n",
       "| 22.8  | 4     | 140.8 |  95   | 3.92  | 3.150 | 22.90 | 1     | 0     | 4     | 2     |\n",
       "| 19.2  | 6     | 167.6 | 123   | 3.92  | 3.440 | 18.30 | 1     | 0     | 4     | 4     |\n",
       "| 17.8  | 6     | 167.6 | 123   | 3.92  | 3.440 | 18.90 | 1     | 0     | 4     | 4     |\n",
       "| 16.4  | 8     | 275.8 | 180   | 3.07  | 4.070 | 17.40 | 0     | 0     | 3     | 3     |\n",
       "| 17.3  | 8     | 275.8 | 180   | 3.07  | 3.730 | 17.60 | 0     | 0     | 3     | 3     |\n",
       "| 15.2  | 8     | 275.8 | 180   | 3.07  | 3.780 | 18.00 | 0     | 0     | 3     | 3     |\n",
       "| 10.4  | 8     | 472.0 | 205   | 2.93  | 5.250 | 17.98 | 0     | 0     | 3     | 4     |\n",
       "| 10.4  | 8     | 460.0 | 215   | 3.00  | 5.424 | 17.82 | 0     | 0     | 3     | 4     |\n",
       "| 14.7  | 8     | 440.0 | 230   | 3.23  | 5.345 | 17.42 | 0     | 0     | 3     | 4     |\n",
       "| 32.4  | 4     |  78.7 |  66   | 4.08  | 2.200 | 19.47 | 1     | 1     | 4     | 1     |\n",
       "| 30.4  | 4     |  75.7 |  52   | 4.93  | 1.615 | 18.52 | 1     | 1     | 4     | 2     |\n",
       "| 33.9  | 4     |  71.1 |  65   | 4.22  | 1.835 | 19.90 | 1     | 1     | 4     | 1     |\n",
       "| 21.5  | 4     | 120.1 |  97   | 3.70  | 2.465 | 20.01 | 1     | 0     | 3     | 1     |\n",
       "| 15.5  | 8     | 318.0 | 150   | 2.76  | 3.520 | 16.87 | 0     | 0     | 3     | 2     |\n",
       "| 15.2  | 8     | 304.0 | 150   | 3.15  | 3.435 | 17.30 | 0     | 0     | 3     | 2     |\n",
       "| 13.3  | 8     | 350.0 | 245   | 3.73  | 3.840 | 15.41 | 0     | 0     | 3     | 4     |\n",
       "| 19.2  | 8     | 400.0 | 175   | 3.08  | 3.845 | 17.05 | 0     | 0     | 3     | 2     |\n",
       "| 27.3  | 4     |  79.0 |  66   | 4.08  | 1.935 | 18.90 | 1     | 1     | 4     | 1     |\n",
       "| 26.0  | 4     | 120.3 |  91   | 4.43  | 2.140 | 16.70 | 0     | 1     | 5     | 2     |\n",
       "| 30.4  | 4     |  95.1 | 113   | 3.77  | 1.513 | 16.90 | 1     | 1     | 5     | 2     |\n",
       "| 15.8  | 8     | 351.0 | 264   | 4.22  | 3.170 | 14.50 | 0     | 1     | 5     | 4     |\n",
       "| 19.7  | 6     | 145.0 | 175   | 3.62  | 2.770 | 15.50 | 0     | 1     | 5     | 6     |\n",
       "| 15.0  | 8     | 301.0 | 335   | 3.54  | 3.570 | 14.60 | 0     | 1     | 5     | 8     |\n",
       "| 21.4  | 4     | 121.0 | 109   | 4.11  | 2.780 | 18.60 | 1     | 1     | 4     | 2     |\n",
       "\n"
      ],
      "text/plain": [
       "   mpg  cyl disp  hp  drat wt    qsec  vs am gear carb\n",
       "1  21.0 6   160.0 110 3.90 2.620 16.46 0  1  4    4   \n",
       "2  21.0 6   160.0 110 3.90 2.875 17.02 0  1  4    4   \n",
       "3  22.8 4   108.0  93 3.85 2.320 18.61 1  1  4    1   \n",
       "4  21.4 6   258.0 110 3.08 3.215 19.44 1  0  3    1   \n",
       "5  18.7 8   360.0 175 3.15 3.440 17.02 0  0  3    2   \n",
       "6  18.1 6   225.0 105 2.76 3.460 20.22 1  0  3    1   \n",
       "7  14.3 8   360.0 245 3.21 3.570 15.84 0  0  3    4   \n",
       "8  24.4 4   146.7  62 3.69 3.190 20.00 1  0  4    2   \n",
       "9  22.8 4   140.8  95 3.92 3.150 22.90 1  0  4    2   \n",
       "10 19.2 6   167.6 123 3.92 3.440 18.30 1  0  4    4   \n",
       "11 17.8 6   167.6 123 3.92 3.440 18.90 1  0  4    4   \n",
       "12 16.4 8   275.8 180 3.07 4.070 17.40 0  0  3    3   \n",
       "13 17.3 8   275.8 180 3.07 3.730 17.60 0  0  3    3   \n",
       "14 15.2 8   275.8 180 3.07 3.780 18.00 0  0  3    3   \n",
       "15 10.4 8   472.0 205 2.93 5.250 17.98 0  0  3    4   \n",
       "16 10.4 8   460.0 215 3.00 5.424 17.82 0  0  3    4   \n",
       "17 14.7 8   440.0 230 3.23 5.345 17.42 0  0  3    4   \n",
       "18 32.4 4    78.7  66 4.08 2.200 19.47 1  1  4    1   \n",
       "19 30.4 4    75.7  52 4.93 1.615 18.52 1  1  4    2   \n",
       "20 33.9 4    71.1  65 4.22 1.835 19.90 1  1  4    1   \n",
       "21 21.5 4   120.1  97 3.70 2.465 20.01 1  0  3    1   \n",
       "22 15.5 8   318.0 150 2.76 3.520 16.87 0  0  3    2   \n",
       "23 15.2 8   304.0 150 3.15 3.435 17.30 0  0  3    2   \n",
       "24 13.3 8   350.0 245 3.73 3.840 15.41 0  0  3    4   \n",
       "25 19.2 8   400.0 175 3.08 3.845 17.05 0  0  3    2   \n",
       "26 27.3 4    79.0  66 4.08 1.935 18.90 1  1  4    1   \n",
       "27 26.0 4   120.3  91 4.43 2.140 16.70 0  1  5    2   \n",
       "28 30.4 4    95.1 113 3.77 1.513 16.90 1  1  5    2   \n",
       "29 15.8 8   351.0 264 4.22 3.170 14.50 0  1  5    4   \n",
       "30 19.7 6   145.0 175 3.62 2.770 15.50 0  1  5    6   \n",
       "31 15.0 8   301.0 335 3.54 3.570 14.60 0  1  5    8   \n",
       "32 21.4 4   121.0 109 4.11 2.780 18.60 1  1  4    2   "
      ]
     },
     "metadata": {},
     "output_type": "display_data"
    }
   ],
   "source": [
    "system.file(dir(\"extdata\",package = \"readr\"))\n",
    "library(tidyverse)\n",
    "list.files(readr_example(\"\"))\n",
    "read_csv(readr_example('mtcars.csv'))"
   ]
  },
  {
   "cell_type": "markdown",
   "metadata": {},
   "source": [
    "3. Read the first 10 lines from the mtcars.csv file."
   ]
  },
  {
   "cell_type": "code",
   "execution_count": 38,
   "metadata": {},
   "outputs": [
    {
     "name": "stderr",
     "output_type": "stream",
     "text": [
      "Parsed with column specification:\n",
      "cols(\n",
      "  mpg = col_double(),\n",
      "  cyl = col_double(),\n",
      "  disp = col_double(),\n",
      "  hp = col_double(),\n",
      "  drat = col_double(),\n",
      "  wt = col_double(),\n",
      "  qsec = col_double(),\n",
      "  vs = col_double(),\n",
      "  am = col_double(),\n",
      "  gear = col_double(),\n",
      "  carb = col_double()\n",
      ")\n"
     ]
    },
    {
     "data": {
      "text/html": [
       "<table>\n",
       "<thead><tr><th scope=col>mpg</th><th scope=col>cyl</th><th scope=col>disp</th><th scope=col>hp</th><th scope=col>drat</th><th scope=col>wt</th><th scope=col>qsec</th><th scope=col>vs</th><th scope=col>am</th><th scope=col>gear</th><th scope=col>carb</th></tr></thead>\n",
       "<tbody>\n",
       "\t<tr><td>21.0 </td><td>6    </td><td>160.0</td><td>110  </td><td>3.90 </td><td>2.620</td><td>16.46</td><td>0    </td><td>1    </td><td>4    </td><td>4    </td></tr>\n",
       "\t<tr><td>21.0 </td><td>6    </td><td>160.0</td><td>110  </td><td>3.90 </td><td>2.875</td><td>17.02</td><td>0    </td><td>1    </td><td>4    </td><td>4    </td></tr>\n",
       "\t<tr><td>22.8 </td><td>4    </td><td>108.0</td><td> 93  </td><td>3.85 </td><td>2.320</td><td>18.61</td><td>1    </td><td>1    </td><td>4    </td><td>1    </td></tr>\n",
       "\t<tr><td>21.4 </td><td>6    </td><td>258.0</td><td>110  </td><td>3.08 </td><td>3.215</td><td>19.44</td><td>1    </td><td>0    </td><td>3    </td><td>1    </td></tr>\n",
       "\t<tr><td>18.7 </td><td>8    </td><td>360.0</td><td>175  </td><td>3.15 </td><td>3.440</td><td>17.02</td><td>0    </td><td>0    </td><td>3    </td><td>2    </td></tr>\n",
       "\t<tr><td>18.1 </td><td>6    </td><td>225.0</td><td>105  </td><td>2.76 </td><td>3.460</td><td>20.22</td><td>1    </td><td>0    </td><td>3    </td><td>1    </td></tr>\n",
       "\t<tr><td>14.3 </td><td>8    </td><td>360.0</td><td>245  </td><td>3.21 </td><td>3.570</td><td>15.84</td><td>0    </td><td>0    </td><td>3    </td><td>4    </td></tr>\n",
       "\t<tr><td>24.4 </td><td>4    </td><td>146.7</td><td> 62  </td><td>3.69 </td><td>3.190</td><td>20.00</td><td>1    </td><td>0    </td><td>4    </td><td>2    </td></tr>\n",
       "\t<tr><td>22.8 </td><td>4    </td><td>140.8</td><td> 95  </td><td>3.92 </td><td>3.150</td><td>22.90</td><td>1    </td><td>0    </td><td>4    </td><td>2    </td></tr>\n",
       "\t<tr><td>19.2 </td><td>6    </td><td>167.6</td><td>123  </td><td>3.92 </td><td>3.440</td><td>18.30</td><td>1    </td><td>0    </td><td>4    </td><td>4    </td></tr>\n",
       "</tbody>\n",
       "</table>\n"
      ],
      "text/latex": [
       "\\begin{tabular}{r|lllllllllll}\n",
       " mpg & cyl & disp & hp & drat & wt & qsec & vs & am & gear & carb\\\\\n",
       "\\hline\n",
       "\t 21.0  & 6     & 160.0 & 110   & 3.90  & 2.620 & 16.46 & 0     & 1     & 4     & 4    \\\\\n",
       "\t 21.0  & 6     & 160.0 & 110   & 3.90  & 2.875 & 17.02 & 0     & 1     & 4     & 4    \\\\\n",
       "\t 22.8  & 4     & 108.0 &  93   & 3.85  & 2.320 & 18.61 & 1     & 1     & 4     & 1    \\\\\n",
       "\t 21.4  & 6     & 258.0 & 110   & 3.08  & 3.215 & 19.44 & 1     & 0     & 3     & 1    \\\\\n",
       "\t 18.7  & 8     & 360.0 & 175   & 3.15  & 3.440 & 17.02 & 0     & 0     & 3     & 2    \\\\\n",
       "\t 18.1  & 6     & 225.0 & 105   & 2.76  & 3.460 & 20.22 & 1     & 0     & 3     & 1    \\\\\n",
       "\t 14.3  & 8     & 360.0 & 245   & 3.21  & 3.570 & 15.84 & 0     & 0     & 3     & 4    \\\\\n",
       "\t 24.4  & 4     & 146.7 &  62   & 3.69  & 3.190 & 20.00 & 1     & 0     & 4     & 2    \\\\\n",
       "\t 22.8  & 4     & 140.8 &  95   & 3.92  & 3.150 & 22.90 & 1     & 0     & 4     & 2    \\\\\n",
       "\t 19.2  & 6     & 167.6 & 123   & 3.92  & 3.440 & 18.30 & 1     & 0     & 4     & 4    \\\\\n",
       "\\end{tabular}\n"
      ],
      "text/markdown": [
       "\n",
       "| mpg | cyl | disp | hp | drat | wt | qsec | vs | am | gear | carb |\n",
       "|---|---|---|---|---|---|---|---|---|---|---|\n",
       "| 21.0  | 6     | 160.0 | 110   | 3.90  | 2.620 | 16.46 | 0     | 1     | 4     | 4     |\n",
       "| 21.0  | 6     | 160.0 | 110   | 3.90  | 2.875 | 17.02 | 0     | 1     | 4     | 4     |\n",
       "| 22.8  | 4     | 108.0 |  93   | 3.85  | 2.320 | 18.61 | 1     | 1     | 4     | 1     |\n",
       "| 21.4  | 6     | 258.0 | 110   | 3.08  | 3.215 | 19.44 | 1     | 0     | 3     | 1     |\n",
       "| 18.7  | 8     | 360.0 | 175   | 3.15  | 3.440 | 17.02 | 0     | 0     | 3     | 2     |\n",
       "| 18.1  | 6     | 225.0 | 105   | 2.76  | 3.460 | 20.22 | 1     | 0     | 3     | 1     |\n",
       "| 14.3  | 8     | 360.0 | 245   | 3.21  | 3.570 | 15.84 | 0     | 0     | 3     | 4     |\n",
       "| 24.4  | 4     | 146.7 |  62   | 3.69  | 3.190 | 20.00 | 1     | 0     | 4     | 2     |\n",
       "| 22.8  | 4     | 140.8 |  95   | 3.92  | 3.150 | 22.90 | 1     | 0     | 4     | 2     |\n",
       "| 19.2  | 6     | 167.6 | 123   | 3.92  | 3.440 | 18.30 | 1     | 0     | 4     | 4     |\n",
       "\n"
      ],
      "text/plain": [
       "   mpg  cyl disp  hp  drat wt    qsec  vs am gear carb\n",
       "1  21.0 6   160.0 110 3.90 2.620 16.46 0  1  4    4   \n",
       "2  21.0 6   160.0 110 3.90 2.875 17.02 0  1  4    4   \n",
       "3  22.8 4   108.0  93 3.85 2.320 18.61 1  1  4    1   \n",
       "4  21.4 6   258.0 110 3.08 3.215 19.44 1  0  3    1   \n",
       "5  18.7 8   360.0 175 3.15 3.440 17.02 0  0  3    2   \n",
       "6  18.1 6   225.0 105 2.76 3.460 20.22 1  0  3    1   \n",
       "7  14.3 8   360.0 245 3.21 3.570 15.84 0  0  3    4   \n",
       "8  24.4 4   146.7  62 3.69 3.190 20.00 1  0  4    2   \n",
       "9  22.8 4   140.8  95 3.92 3.150 22.90 1  0  4    2   \n",
       "10 19.2 6   167.6 123 3.92 3.440 18.30 1  0  4    4   "
      ]
     },
     "metadata": {},
     "output_type": "display_data"
    }
   ],
   "source": [
    "read_csv(readr_example('mtcars.csv'), n_max = 10)"
   ]
  },
  {
   "cell_type": "markdown",
   "metadata": {},
   "source": [
    "# Practice Day 5"
   ]
  },
  {
   "cell_type": "markdown",
   "metadata": {},
   "source": [
    "1. Bar plot"
   ]
  },
  {
   "cell_type": "code",
   "execution_count": 54,
   "metadata": {},
   "outputs": [],
   "source": [
    "#install.packages(\"ggplot2\")\n",
    "#install.packages(\"ggplot2movies\")\n",
    "#install.packages(\"plotrix\")"
   ]
  },
  {
   "cell_type": "code",
   "execution_count": 55,
   "metadata": {},
   "outputs": [
    {
     "data": {
      "text/html": [
       "<table>\n",
       "<thead><tr><th scope=col>title</th><th scope=col>year</th><th scope=col>length</th><th scope=col>budget</th><th scope=col>rating</th><th scope=col>votes</th><th scope=col>r1</th><th scope=col>r2</th><th scope=col>r3</th><th scope=col>r4</th><th scope=col>...</th><th scope=col>r9</th><th scope=col>r10</th><th scope=col>mpaa</th><th scope=col>Action</th><th scope=col>Animation</th><th scope=col>Comedy</th><th scope=col>Drama</th><th scope=col>Documentary</th><th scope=col>Romance</th><th scope=col>Short</th></tr></thead>\n",
       "<tbody>\n",
       "\t<tr><td>$                                               </td><td>1971                                            </td><td>121                                             </td><td>    NA                                          </td><td>6.4                                             </td><td> 348                                            </td><td> 4.5                                            </td><td> 4.5                                            </td><td> 4.5                                            </td><td> 4.5                                            </td><td>...                                             </td><td> 4.5                                            </td><td> 4.5                                            </td><td>                                                </td><td>0                                               </td><td>0                                               </td><td>1                                               </td><td>1                                               </td><td>0                                               </td><td>0                                               </td><td>0                                               </td></tr>\n",
       "\t<tr><td>$1000 a Touchdown                               </td><td>1939                                            </td><td> 71                                             </td><td>    NA                                          </td><td>6.0                                             </td><td>  20                                            </td><td> 0.0                                            </td><td>14.5                                            </td><td> 4.5                                            </td><td>24.5                                            </td><td>...                                             </td><td> 4.5                                            </td><td>14.5                                            </td><td>                                                </td><td>0                                               </td><td>0                                               </td><td>1                                               </td><td>0                                               </td><td>0                                               </td><td>0                                               </td><td>0                                               </td></tr>\n",
       "\t<tr><td>$21 a Day Once a Month                          </td><td>1941                                            </td><td>  7                                             </td><td>    NA                                          </td><td>8.2                                             </td><td>   5                                            </td><td> 0.0                                            </td><td> 0.0                                            </td><td> 0.0                                            </td><td> 0.0                                            </td><td>...                                             </td><td>24.5                                            </td><td>24.5                                            </td><td>                                                </td><td>0                                               </td><td>1                                               </td><td>0                                               </td><td>0                                               </td><td>0                                               </td><td>0                                               </td><td>1                                               </td></tr>\n",
       "\t<tr><td>$40,000                                         </td><td>1996                                            </td><td> 70                                             </td><td>    NA                                          </td><td>8.2                                             </td><td>   6                                            </td><td>14.5                                            </td><td> 0.0                                            </td><td> 0.0                                            </td><td> 0.0                                            </td><td>...                                             </td><td>34.5                                            </td><td>45.5                                            </td><td>                                                </td><td>0                                               </td><td>0                                               </td><td>1                                               </td><td>0                                               </td><td>0                                               </td><td>0                                               </td><td>0                                               </td></tr>\n",
       "\t<tr><td>$50,000 Climax Show, The                        </td><td>1975                                            </td><td> 71                                             </td><td>    NA                                          </td><td>3.4                                             </td><td>  17                                            </td><td>24.5                                            </td><td> 4.5                                            </td><td> 0.0                                            </td><td>14.5                                            </td><td>...                                             </td><td> 0.0                                            </td><td>24.5                                            </td><td>                                                </td><td>0                                               </td><td>0                                               </td><td>0                                               </td><td>0                                               </td><td>0                                               </td><td>0                                               </td><td>0                                               </td></tr>\n",
       "\t<tr><td>$pent                                           </td><td>2000                                            </td><td> 91                                             </td><td>    NA                                          </td><td>4.3                                             </td><td>  45                                            </td><td> 4.5                                            </td><td> 4.5                                            </td><td> 4.5                                            </td><td>14.5                                            </td><td>...                                             </td><td>14.5                                            </td><td>14.5                                            </td><td>                                                </td><td>0                                               </td><td>0                                               </td><td>0                                               </td><td>1                                               </td><td>0                                               </td><td>0                                               </td><td>0                                               </td></tr>\n",
       "\t<tr><td>$windle                                         </td><td>2002                                            </td><td> 93                                             </td><td>    NA                                          </td><td>5.3                                             </td><td> 200                                            </td><td> 4.5                                            </td><td> 0.0                                            </td><td> 4.5                                            </td><td> 4.5                                            </td><td>...                                             </td><td> 4.5                                            </td><td>14.5                                            </td><td>R                                               </td><td>1                                               </td><td>0                                               </td><td>0                                               </td><td>1                                               </td><td>0                                               </td><td>0                                               </td><td>0                                               </td></tr>\n",
       "\t<tr><td>'15'                                            </td><td>2002                                            </td><td> 25                                             </td><td>    NA                                          </td><td>6.7                                             </td><td>  24                                            </td><td> 4.5                                            </td><td> 4.5                                            </td><td> 4.5                                            </td><td> 4.5                                            </td><td>...                                             </td><td> 4.5                                            </td><td>14.5                                            </td><td>                                                </td><td>0                                               </td><td>0                                               </td><td>0                                               </td><td>0                                               </td><td>1                                               </td><td>0                                               </td><td>1                                               </td></tr>\n",
       "\t<tr><td>'38                                             </td><td>1987                                            </td><td> 97                                             </td><td>    NA                                          </td><td>6.6                                             </td><td>  18                                            </td><td> 4.5                                            </td><td> 4.5                                            </td><td> 4.5                                            </td><td> 0.0                                            </td><td>...                                             </td><td> 4.5                                            </td><td>24.5                                            </td><td>                                                </td><td>0                                               </td><td>0                                               </td><td>0                                               </td><td>1                                               </td><td>0                                               </td><td>0                                               </td><td>0                                               </td></tr>\n",
       "\t<tr><td>'49-'17                                         </td><td>1917                                            </td><td> 61                                             </td><td>    NA                                          </td><td>6.0                                             </td><td>  51                                            </td><td> 4.5                                            </td><td> 0.0                                            </td><td> 4.5                                            </td><td> 4.5                                            </td><td>...                                             </td><td> 4.5                                            </td><td> 4.5                                            </td><td>                                                </td><td>0                                               </td><td>0                                               </td><td>0                                               </td><td>0                                               </td><td>0                                               </td><td>0                                               </td><td>0                                               </td></tr>\n",
       "\t<tr><td>'68                                             </td><td>1988                                            </td><td> 99                                             </td><td>    NA                                          </td><td>5.4                                             </td><td>  23                                            </td><td> 4.5                                            </td><td> 0.0                                            </td><td> 4.5                                            </td><td>14.5                                            </td><td>...                                             </td><td>14.5                                            </td><td> 4.5                                            </td><td>                                                </td><td>0                                               </td><td>0                                               </td><td>0                                               </td><td>1                                               </td><td>0                                               </td><td>0                                               </td><td>0                                               </td></tr>\n",
       "\t<tr><td>'94 du bi dao zhi qing                          </td><td>1994                                            </td><td> 96                                             </td><td>    NA                                          </td><td>5.9                                             </td><td>  53                                            </td><td> 4.5                                            </td><td> 0.0                                            </td><td> 4.5                                            </td><td> 4.5                                            </td><td>...                                             </td><td> 4.5                                            </td><td>24.5                                            </td><td>                                                </td><td>0                                               </td><td>0                                               </td><td>0                                               </td><td>0                                               </td><td>0                                               </td><td>0                                               </td><td>0                                               </td></tr>\n",
       "\t<tr><td>'?' Motorist, The                               </td><td>1906                                            </td><td> 10                                             </td><td>    NA                                          </td><td>7.0                                             </td><td>  44                                            </td><td> 4.5                                            </td><td> 0.0                                            </td><td> 0.0                                            </td><td> 0.0                                            </td><td>...                                             </td><td> 4.5                                            </td><td>14.5                                            </td><td>                                                </td><td>0                                               </td><td>0                                               </td><td>1                                               </td><td>0                                               </td><td>0                                               </td><td>0                                               </td><td>1                                               </td></tr>\n",
       "\t<tr><td>'A'                                             </td><td>1965                                            </td><td> 10                                             </td><td>    NA                                          </td><td>6.7                                             </td><td>  11                                            </td><td>14.5                                            </td><td> 0.0                                            </td><td> 0.0                                            </td><td> 0.0                                            </td><td>...                                             </td><td>14.5                                            </td><td>24.5                                            </td><td>                                                </td><td>0                                               </td><td>0                                               </td><td>0                                               </td><td>0                                               </td><td>0                                               </td><td>0                                               </td><td>1                                               </td></tr>\n",
       "\t<tr><td>'A' gai waak                                    </td><td>1983                                            </td><td>106                                             </td><td>    NA                                          </td><td>7.1                                             </td><td>1259                                            </td><td> 4.5                                            </td><td> 4.5                                            </td><td> 4.5                                            </td><td> 4.5                                            </td><td>...                                             </td><td>14.5                                            </td><td>24.5                                            </td><td>PG-13                                           </td><td>1                                               </td><td>0                                               </td><td>1                                               </td><td>0                                               </td><td>0                                               </td><td>0                                               </td><td>0                                               </td></tr>\n",
       "\t<tr><td>'A' gai waak juk jaap                           </td><td>1987                                            </td><td>101                                             </td><td>    NA                                          </td><td>7.2                                             </td><td> 614                                            </td><td> 4.5                                            </td><td> 4.5                                            </td><td> 4.5                                            </td><td> 4.5                                            </td><td>...                                             </td><td>14.5                                            </td><td>14.5                                            </td><td>PG-13                                           </td><td>1                                               </td><td>0                                               </td><td>1                                               </td><td>0                                               </td><td>0                                               </td><td>0                                               </td><td>0                                               </td></tr>\n",
       "\t<tr><td>'Breaker' Morant                                </td><td>1980                                            </td><td>107                                             </td><td>    NA                                          </td><td>7.9                                             </td><td>2718                                            </td><td> 4.5                                            </td><td> 4.5                                            </td><td> 4.5                                            </td><td> 4.5                                            </td><td>...                                             </td><td>24.5                                            </td><td>24.5                                            </td><td>                                                </td><td>0                                               </td><td>0                                               </td><td>0                                               </td><td>1                                               </td><td>0                                               </td><td>0                                               </td><td>0                                               </td></tr>\n",
       "\t<tr><td>'Bullitt': Steve McQueen's Commitment to Reality</td><td>1968                                            </td><td> 10                                             </td><td>    NA                                          </td><td>6.6                                             </td><td>  37                                            </td><td> 0.0                                            </td><td> 0.0                                            </td><td> 4.5                                            </td><td> 4.5                                            </td><td>...                                             </td><td> 4.5                                            </td><td> 4.5                                            </td><td>                                                </td><td>0                                               </td><td>0                                               </td><td>0                                               </td><td>0                                               </td><td>1                                               </td><td>0                                               </td><td>1                                               </td></tr>\n",
       "\t<tr><td>'Crocodile' Dundee II                           </td><td>1988                                            </td><td>110                                             </td><td>    NA                                          </td><td>5.0                                             </td><td>7252                                            </td><td> 4.5                                            </td><td> 4.5                                            </td><td> 4.5                                            </td><td>14.5                                            </td><td>...                                             </td><td> 4.5                                            </td><td> 4.5                                            </td><td>                                                </td><td>1                                               </td><td>0                                               </td><td>1                                               </td><td>0                                               </td><td>0                                               </td><td>0                                               </td><td>0                                               </td></tr>\n",
       "\t<tr><td>'E'                                             </td><td>1981                                            </td><td>  7                                             </td><td>    NA                                          </td><td>8.6                                             </td><td>  15                                            </td><td> 0.0                                            </td><td> 0.0                                            </td><td> 0.0                                            </td><td> 0.0                                            </td><td>...                                             </td><td>24.5                                            </td><td>45.5                                            </td><td>                                                </td><td>0                                               </td><td>1                                               </td><td>1                                               </td><td>0                                               </td><td>0                                               </td><td>0                                               </td><td>1                                               </td></tr>\n",
       "\t<tr><td>'El Chicko' - der Verdacht                      </td><td>1995                                            </td><td> 90                                             </td><td>    NA                                          </td><td>3.9                                             </td><td>  10                                            </td><td>24.5                                            </td><td>14.5                                            </td><td>24.5                                            </td><td>14.5                                            </td><td>...                                             </td><td> 0.0                                            </td><td>24.5                                            </td><td>                                                </td><td>0                                               </td><td>0                                               </td><td>1                                               </td><td>0                                               </td><td>0                                               </td><td>0                                               </td><td>0                                               </td></tr>\n",
       "\t<tr><td>'G' Men                                         </td><td>1935                                            </td><td> 85                                             </td><td>450000                                          </td><td>7.2                                             </td><td> 281                                            </td><td> 0.0                                            </td><td> 4.5                                            </td><td> 4.5                                            </td><td> 4.5                                            </td><td>...                                             </td><td> 4.5                                            </td><td> 4.5                                            </td><td>                                                </td><td>0                                               </td><td>0                                               </td><td>0                                               </td><td>1                                               </td><td>0                                               </td><td>0                                               </td><td>0                                               </td></tr>\n",
       "\t<tr><td>'Gator Bait                                     </td><td>1974                                            </td><td> 88                                             </td><td>    NA                                          </td><td>3.5                                             </td><td> 100                                            </td><td>14.5                                            </td><td>14.5                                            </td><td>24.5                                            </td><td>14.5                                            </td><td>...                                             </td><td> 4.5                                            </td><td> 4.5                                            </td><td>                                                </td><td>1                                               </td><td>0                                               </td><td>0                                               </td><td>1                                               </td><td>0                                               </td><td>0                                               </td><td>0                                               </td></tr>\n",
       "\t<tr><td>'Gator Bait II: Cajun Justice                   </td><td>1988                                            </td><td> 95                                             </td><td>    NA                                          </td><td>3.1                                             </td><td>  54                                            </td><td>24.5                                            </td><td>14.5                                            </td><td> 4.5                                            </td><td>14.5                                            </td><td>...                                             </td><td> 0.0                                            </td><td> 4.5                                            </td><td>                                                </td><td>0                                               </td><td>0                                               </td><td>0                                               </td><td>0                                               </td><td>0                                               </td><td>0                                               </td><td>0                                               </td></tr>\n",
       "\t<tr><td>'High Sign', The                                </td><td>1921                                            </td><td> 18                                             </td><td>    NA                                          </td><td>7.8                                             </td><td> 145                                            </td><td> 0.0                                            </td><td> 0.0                                            </td><td> 4.5                                            </td><td> 0.0                                            </td><td>...                                             </td><td>24.5                                            </td><td>14.5                                            </td><td>                                                </td><td>0                                               </td><td>0                                               </td><td>1                                               </td><td>0                                               </td><td>0                                               </td><td>0                                               </td><td>1                                               </td></tr>\n",
       "\t<tr><td>'Hukkunud Alpinisti' hotell                     </td><td>1979                                            </td><td> 80                                             </td><td>    NA                                          </td><td>7.7                                             </td><td>  45                                            </td><td> 4.5                                            </td><td> 0.0                                            </td><td> 4.5                                            </td><td> 4.5                                            </td><td>...                                             </td><td>14.5                                            </td><td>34.5                                            </td><td>                                                </td><td>0                                               </td><td>0                                               </td><td>0                                               </td><td>0                                               </td><td>0                                               </td><td>0                                               </td><td>0                                               </td></tr>\n",
       "\t<tr><td>'Hyp-Nut-Tist', The                             </td><td>1935                                            </td><td>  6                                             </td><td>    NA                                          </td><td>6.2                                             </td><td>  18                                            </td><td> 4.5                                            </td><td> 0.0                                            </td><td> 0.0                                            </td><td>24.5                                            </td><td>...                                             </td><td>14.5                                            </td><td> 0.0                                            </td><td>                                                </td><td>0                                               </td><td>1                                               </td><td>1                                               </td><td>0                                               </td><td>0                                               </td><td>0                                               </td><td>1                                               </td></tr>\n",
       "\t<tr><td>'I Do...'                                       </td><td>1989                                            </td><td> 86                                             </td><td>    NA                                          </td><td>6.2                                             </td><td>  10                                            </td><td> 0.0                                            </td><td> 0.0                                            </td><td> 0.0                                            </td><td>24.5                                            </td><td>...                                             </td><td>14.5                                            </td><td>14.5                                            </td><td>                                                </td><td>0                                               </td><td>0                                               </td><td>0                                               </td><td>0                                               </td><td>0                                               </td><td>0                                               </td><td>0                                               </td></tr>\n",
       "\t<tr><td>'I Know Where I'm Going!'                       </td><td>1945                                            </td><td> 92                                             </td><td>    NA                                          </td><td>7.7                                             </td><td> 825                                            </td><td> 4.5                                            </td><td> 4.5                                            </td><td> 4.5                                            </td><td> 4.5                                            </td><td>...                                             </td><td>14.5                                            </td><td>34.5                                            </td><td>                                                </td><td>0                                               </td><td>0                                               </td><td>0                                               </td><td>1                                               </td><td>0                                               </td><td>1                                               </td><td>0                                               </td></tr>\n",
       "\t<tr><td>'Java Madness' formerly titled 'Coffee Madness' </td><td>1995                                            </td><td>  7                                             </td><td>    NA                                          </td><td>6.8                                             </td><td>  10                                            </td><td> 0.0                                            </td><td>14.5                                            </td><td> 0.0                                            </td><td> 0.0                                            </td><td>...                                             </td><td>14.5                                            </td><td>34.5                                            </td><td>                                                </td><td>0                                               </td><td>0                                               </td><td>1                                               </td><td>0                                               </td><td>0                                               </td><td>0                                               </td><td>1                                               </td></tr>\n",
       "\t<tr><td>...</td><td>...</td><td>...</td><td>...</td><td>...</td><td>...</td><td>...</td><td>...</td><td>...</td><td>...</td><td>   </td><td>...</td><td>...</td><td>...</td><td>...</td><td>...</td><td>...</td><td>...</td><td>...</td><td>...</td><td>...</td></tr>\n",
       "\t<tr><td>Zwoele zomeravond, Een                                 </td><td>1982                                                   </td><td> 95                                                    </td><td>      NA                                               </td><td>6.4                                                    </td><td>   13                                                  </td><td> 0.0                                                   </td><td> 0.0                                                   </td><td> 0.0                                                   </td><td> 0.0                                                   </td><td>...                                                    </td><td>24.5                                                   </td><td> 4.5                                                   </td><td>                                                       </td><td>0                                                      </td><td>0                                                      </td><td>0                                                      </td><td>0                                                      </td><td>0                                                      </td><td>0                                                      </td><td>0                                                      </td></tr>\n",
       "\t<tr><td>Zwolnieni z zycia                                      </td><td>1992                                                   </td><td> 90                                                    </td><td>      NA                                               </td><td>6.9                                                    </td><td>    9                                                  </td><td> 0.0                                                   </td><td> 0.0                                                   </td><td> 0.0                                                   </td><td> 0.0                                                   </td><td>...                                                    </td><td> 0.0                                                   </td><td>24.5                                                   </td><td>                                                       </td><td>0                                                      </td><td>0                                                      </td><td>0                                                      </td><td>0                                                      </td><td>0                                                      </td><td>0                                                      </td><td>0                                                      </td></tr>\n",
       "\t<tr><td>Zycie jako smiertelna choroba przenoszona droga plciowa</td><td>2000                                                   </td><td> 99                                                    </td><td>      NA                                               </td><td>7.0                                                    </td><td>   97                                                  </td><td> 4.5                                                   </td><td> 0.0                                                   </td><td> 0.0                                                   </td><td> 4.5                                                   </td><td>...                                                    </td><td>14.5                                                   </td><td>14.5                                                   </td><td>                                                       </td><td>0                                                      </td><td>0                                                      </td><td>0                                                      </td><td>1                                                      </td><td>0                                                      </td><td>0                                                      </td><td>0                                                      </td></tr>\n",
       "\t<tr><td>Zycie rodzinne                                         </td><td>1971                                                   </td><td> 88                                                    </td><td>      NA                                               </td><td>6.0                                                    </td><td>   14                                                  </td><td> 0.0                                                   </td><td> 4.5                                                   </td><td> 0.0                                                   </td><td> 0.0                                                   </td><td>...                                                    </td><td>34.5                                                   </td><td> 4.5                                                   </td><td>                                                       </td><td>0                                                      </td><td>0                                                      </td><td>0                                                      </td><td>1                                                      </td><td>0                                                      </td><td>0                                                      </td><td>0                                                      </td></tr>\n",
       "\t<tr><td>Zycie wewnetrzne                                       </td><td>1987                                                   </td><td> 86                                                    </td><td>      NA                                               </td><td>6.5                                                    </td><td>    8                                                  </td><td>14.5                                                   </td><td> 0.0                                                   </td><td> 0.0                                                   </td><td> 0.0                                                   </td><td>...                                                    </td><td> 0.0                                                   </td><td>24.5                                                   </td><td>                                                       </td><td>0                                                      </td><td>0                                                      </td><td>0                                                      </td><td>0                                                      </td><td>0                                                      </td><td>0                                                      </td><td>0                                                      </td></tr>\n",
       "\t<tr><td>Zycie za zycie                                         </td><td>1991                                                   </td><td> 90                                                    </td><td>      NA                                               </td><td>5.1                                                    </td><td>   10                                                  </td><td> 0.0                                                   </td><td> 0.0                                                   </td><td>14.5                                                   </td><td>14.5                                                   </td><td>...                                                    </td><td>14.5                                                   </td><td>34.5                                                   </td><td>                                                       </td><td>0                                                      </td><td>0                                                      </td><td>0                                                      </td><td>0                                                      </td><td>0                                                      </td><td>0                                                      </td><td>0                                                      </td></tr>\n",
       "\t<tr><td>Zyciorys                                               </td><td>1975                                                   </td><td> 46                                                    </td><td>      NA                                               </td><td>3.6                                                    </td><td>    5                                                  </td><td>24.5                                                   </td><td> 0.0                                                   </td><td> 0.0                                                   </td><td>24.5                                                   </td><td>...                                                    </td><td> 0.0                                                   </td><td>44.5                                                   </td><td>                                                       </td><td>0                                                      </td><td>0                                                      </td><td>0                                                      </td><td>1                                                      </td><td>0                                                      </td><td>0                                                      </td><td>0                                                      </td></tr>\n",
       "\t<tr><td>Zyklus von Kleinigkeiten                               </td><td>1999                                                   </td><td> 86                                                    </td><td>      NA                                               </td><td>6.0                                                    </td><td>    5                                                  </td><td> 0.0                                                   </td><td> 0.0                                                   </td><td>44.5                                                   </td><td> 0.0                                                   </td><td>...                                                    </td><td> 0.0                                                   </td><td>24.5                                                   </td><td>                                                       </td><td>0                                                      </td><td>0                                                      </td><td>0                                                      </td><td>1                                                      </td><td>0                                                      </td><td>0                                                      </td><td>0                                                      </td></tr>\n",
       "\t<tr><td>Zyosyuu syukeininn Maria                               </td><td>1995                                                   </td><td> 75                                                    </td><td>      NA                                               </td><td>3.7                                                    </td><td>   19                                                  </td><td>14.5                                                   </td><td> 4.5                                                   </td><td>14.5                                                   </td><td>14.5                                                   </td><td>...                                                    </td><td> 4.5                                                   </td><td> 0.0                                                   </td><td>R                                                      </td><td>0                                                      </td><td>0                                                      </td><td>0                                                      </td><td>0                                                      </td><td>0                                                      </td><td>0                                                      </td><td>0                                                      </td></tr>\n",
       "\t<tr><td>Zywot Mateusza                                         </td><td>1967                                                   </td><td> 80                                                    </td><td>      NA                                               </td><td>5.4                                                    </td><td>   31                                                  </td><td> 4.5                                                   </td><td> 4.5                                                   </td><td> 4.5                                                   </td><td> 4.5                                                   </td><td>...                                                    </td><td> 4.5                                                   </td><td>34.5                                                   </td><td>                                                       </td><td>0                                                      </td><td>0                                                      </td><td>0                                                      </td><td>1                                                      </td><td>0                                                      </td><td>0                                                      </td><td>0                                                      </td></tr>\n",
       "\t<tr><td>Zzikhimyeon jukneunda                                  </td><td>2000                                                   </td><td> 94                                                    </td><td>      NA                                               </td><td>4.7                                                    </td><td>   45                                                  </td><td>14.5                                                   </td><td> 4.5                                                   </td><td> 4.5                                                   </td><td>24.5                                                   </td><td>...                                                    </td><td> 0.0                                                   </td><td> 4.5                                                   </td><td>                                                       </td><td>0                                                      </td><td>0                                                      </td><td>0                                                      </td><td>0                                                      </td><td>0                                                      </td><td>0                                                      </td><td>0                                                      </td></tr>\n",
       "\t<tr><td>Zzim                                                   </td><td>1998                                                   </td><td>101                                                    </td><td>      NA                                               </td><td>4.5                                                    </td><td>   14                                                  </td><td>14.5                                                   </td><td> 4.5                                                   </td><td>24.5                                                   </td><td> 4.5                                                   </td><td>...                                                    </td><td> 4.5                                                   </td><td> 0.0                                                   </td><td>                                                       </td><td>0                                                      </td><td>0                                                      </td><td>0                                                      </td><td>0                                                      </td><td>0                                                      </td><td>0                                                      </td><td>0                                                      </td></tr>\n",
       "\t<tr><td>Zzyzx                                                  </td><td>2005                                                   </td><td> 90                                                    </td><td> 1000000                                               </td><td>8.0                                                    </td><td>   10                                                  </td><td>24.5                                                   </td><td> 0.0                                                   </td><td> 0.0                                                   </td><td> 0.0                                                   </td><td>...                                                    </td><td>24.5                                                   </td><td>64.5                                                   </td><td>                                                       </td><td>0                                                      </td><td>0                                                      </td><td>0                                                      </td><td>0                                                      </td><td>0                                                      </td><td>0                                                      </td><td>0                                                      </td></tr>\n",
       "\t<tr><td>alaska.de                                              </td><td>2000                                                   </td><td> 89                                                    </td><td>      NA                                               </td><td>6.2                                                    </td><td>  186                                                  </td><td> 4.5                                                   </td><td> 4.5                                                   </td><td> 4.5                                                   </td><td> 4.5                                                   </td><td>...                                                    </td><td>14.5                                                   </td><td> 4.5                                                   </td><td>                                                       </td><td>0                                                      </td><td>0                                                      </td><td>0                                                      </td><td>1                                                      </td><td>0                                                      </td><td>0                                                      </td><td>0                                                      </td></tr>\n",
       "\t<tr><td>barefootin'                                            </td><td>1987                                                   </td><td>  3                                                    </td><td>      NA                                               </td><td>5.7                                                    </td><td>    6                                                  </td><td> 0.0                                                   </td><td> 0.0                                                   </td><td> 0.0                                                   </td><td>14.5                                                   </td><td>...                                                    </td><td> 0.0                                                   </td><td> 0.0                                                   </td><td>                                                       </td><td>0                                                      </td><td>1                                                      </td><td>0                                                      </td><td>0                                                      </td><td>0                                                      </td><td>0                                                      </td><td>1                                                      </td></tr>\n",
       "\t<tr><td>deadend.com                                            </td><td>2002                                                   </td><td>120                                                    </td><td>      NA                                               </td><td>6.9                                                    </td><td>   53                                                  </td><td>64.5                                                   </td><td> 4.5                                                   </td><td> 0.0                                                   </td><td> 4.5                                                   </td><td>...                                                    </td><td> 4.5                                                   </td><td> 4.5                                                   </td><td>                                                       </td><td>0                                                      </td><td>0                                                      </td><td>0                                                      </td><td>1                                                      </td><td>0                                                      </td><td>0                                                      </td><td>0                                                      </td></tr>\n",
       "\t<tr><td>e-Dreams                                               </td><td>2001                                                   </td><td> 94                                                    </td><td>      NA                                               </td><td>6.8                                                    </td><td>   86                                                  </td><td> 4.5                                                   </td><td> 0.0                                                   </td><td> 0.0                                                   </td><td> 4.5                                                   </td><td>...                                                    </td><td> 4.5                                                   </td><td>14.5                                                   </td><td>                                                       </td><td>0                                                      </td><td>0                                                      </td><td>0                                                      </td><td>0                                                      </td><td>1                                                      </td><td>0                                                      </td><td>0                                                      </td></tr>\n",
       "\t<tr><td>eMale                                                  </td><td>2001                                                   </td><td> 17                                                    </td><td>      NA                                               </td><td>7.3                                                    </td><td>   15                                                  </td><td> 0.0                                                   </td><td> 0.0                                                   </td><td> 0.0                                                   </td><td> 4.5                                                   </td><td>...                                                    </td><td>24.5                                                   </td><td>24.5                                                   </td><td>                                                       </td><td>0                                                      </td><td>0                                                      </td><td>1                                                      </td><td>0                                                      </td><td>0                                                      </td><td>0                                                      </td><td>1                                                      </td></tr>\n",
       "\t<tr><td>eRATicate                                              </td><td>2003                                                   </td><td>  9                                                    </td><td>      NA                                               </td><td>6.0                                                    </td><td>    5                                                  </td><td> 0.0                                                   </td><td> 0.0                                                   </td><td> 0.0                                                   </td><td> 0.0                                                   </td><td>...                                                    </td><td>24.5                                                   </td><td>44.5                                                   </td><td>                                                       </td><td>0                                                      </td><td>0                                                      </td><td>1                                                      </td><td>0                                                      </td><td>0                                                      </td><td>0                                                      </td><td>1                                                      </td></tr>\n",
       "\t<tr><td>eXXXorcismos                                           </td><td>2002                                                   </td><td> 78                                                    </td><td>      NA                                               </td><td>4.2                                                    </td><td>   11                                                  </td><td>34.5                                                   </td><td> 0.0                                                   </td><td> 0.0                                                   </td><td> 0.0                                                   </td><td>...                                                    </td><td> 4.5                                                   </td><td>24.5                                                   </td><td>                                                       </td><td>0                                                      </td><td>0                                                      </td><td>0                                                      </td><td>1                                                      </td><td>0                                                      </td><td>0                                                      </td><td>0                                                      </td></tr>\n",
       "\t<tr><td>eXistenZ                                               </td><td>1999                                                   </td><td> 97                                                    </td><td>      NA                                               </td><td>6.7                                                    </td><td>14742                                                  </td><td> 4.5                                                   </td><td> 4.5                                                   </td><td> 4.5                                                   </td><td> 4.5                                                   </td><td>...                                                    </td><td>14.5                                                   </td><td> 4.5                                                   </td><td>R                                                      </td><td>0                                                      </td><td>0                                                      </td><td>0                                                      </td><td>1                                                      </td><td>0                                                      </td><td>0                                                      </td><td>0                                                      </td></tr>\n",
       "\t<tr><td>f2point8                                               </td><td>2002                                                   </td><td> 20                                                    </td><td>      NA                                               </td><td>5.0                                                    </td><td>   13                                                  </td><td> 4.5                                                   </td><td> 0.0                                                   </td><td> 4.5                                                   </td><td> 4.5                                                   </td><td>...                                                    </td><td>14.5                                                   </td><td>24.5                                                   </td><td>                                                       </td><td>0                                                      </td><td>0                                                      </td><td>0                                                      </td><td>0                                                      </td><td>0                                                      </td><td>0                                                      </td><td>1                                                      </td></tr>\n",
       "\t<tr><td>f8                                                     </td><td>2001                                                   </td><td> 13                                                    </td><td>      NA                                               </td><td>7.6                                                    </td><td>    7                                                  </td><td> 0.0                                                   </td><td> 0.0                                                   </td><td> 0.0                                                   </td><td> 0.0                                                   </td><td>...                                                    </td><td>24.5                                                   </td><td> 0.0                                                   </td><td>                                                       </td><td>0                                                      </td><td>1                                                      </td><td>0                                                      </td><td>0                                                      </td><td>0                                                      </td><td>0                                                      </td><td>1                                                      </td></tr>\n",
       "\t<tr><td>pURe kILLjoy                                           </td><td>1998                                                   </td><td> 87                                                    </td><td>      NA                                               </td><td>5.2                                                    </td><td>    6                                                  </td><td> 0.0                                                   </td><td>14.5                                                   </td><td>14.5                                                   </td><td>14.5                                                   </td><td>...                                                    </td><td> 0.0                                                   </td><td>14.5                                                   </td><td>                                                       </td><td>0                                                      </td><td>0                                                      </td><td>0                                                      </td><td>0                                                      </td><td>0                                                      </td><td>0                                                      </td><td>0                                                      </td></tr>\n",
       "\t<tr><td>sIDney                                                 </td><td>2002                                                   </td><td> 15                                                    </td><td>      NA                                               </td><td>7.0                                                    </td><td>    8                                                  </td><td>14.5                                                   </td><td> 0.0                                                   </td><td> 0.0                                                   </td><td>14.5                                                   </td><td>...                                                    </td><td>14.5                                                   </td><td>24.5                                                   </td><td>                                                       </td><td>1                                                      </td><td>0                                                      </td><td>0                                                      </td><td>0                                                      </td><td>0                                                      </td><td>0                                                      </td><td>1                                                      </td></tr>\n",
       "\t<tr><td>tom thumb                                              </td><td>1958                                                   </td><td> 98                                                    </td><td>      NA                                               </td><td>6.5                                                    </td><td>  274                                                  </td><td> 4.5                                                   </td><td> 4.5                                                   </td><td> 4.5                                                   </td><td> 4.5                                                   </td><td>...                                                    </td><td> 4.5                                                   </td><td> 4.5                                                   </td><td>                                                       </td><td>0                                                      </td><td>1                                                      </td><td>0                                                      </td><td>0                                                      </td><td>0                                                      </td><td>0                                                      </td><td>0                                                      </td></tr>\n",
       "\t<tr><td>www.XXX.com                                            </td><td>2003                                                   </td><td>105                                                    </td><td>      NA                                               </td><td>1.1                                                    </td><td>   12                                                  </td><td>45.5                                                   </td><td> 0.0                                                   </td><td> 0.0                                                   </td><td> 0.0                                                   </td><td>...                                                    </td><td> 0.0                                                   </td><td>24.5                                                   </td><td>                                                       </td><td>0                                                      </td><td>0                                                      </td><td>0                                                      </td><td>1                                                      </td><td>0                                                      </td><td>1                                                      </td><td>0                                                      </td></tr>\n",
       "\t<tr><td>www.hellssoapopera.com                                 </td><td>1999                                                   </td><td>100                                                    </td><td>      NA                                               </td><td>6.6                                                    </td><td>    5                                                  </td><td>24.5                                                   </td><td> 0.0                                                   </td><td>24.5                                                   </td><td> 0.0                                                   </td><td>...                                                    </td><td>24.5                                                   </td><td>44.5                                                   </td><td>                                                       </td><td>0                                                      </td><td>0                                                      </td><td>0                                                      </td><td>0                                                      </td><td>0                                                      </td><td>0                                                      </td><td>0                                                      </td></tr>\n",
       "\t<tr><td>xXx                                                    </td><td>2002                                                   </td><td>132                                                    </td><td>85000000                                               </td><td>5.5                                                    </td><td>18514                                                  </td><td> 4.5                                                   </td><td> 4.5                                                   </td><td> 4.5                                                   </td><td> 4.5                                                   </td><td>...                                                    </td><td> 4.5                                                   </td><td> 4.5                                                   </td><td>PG-13                                                  </td><td>1                                                      </td><td>0                                                      </td><td>0                                                      </td><td>0                                                      </td><td>0                                                      </td><td>0                                                      </td><td>0                                                      </td></tr>\n",
       "\t<tr><td>xXx: State of the Union                                </td><td>2005                                                   </td><td>101                                                    </td><td>87000000                                               </td><td>3.9                                                    </td><td> 1584                                                  </td><td>24.5                                                   </td><td> 4.5                                                   </td><td> 4.5                                                   </td><td> 4.5                                                   </td><td>...                                                    </td><td> 4.5                                                   </td><td>14.5                                                   </td><td>PG-13                                                  </td><td>1                                                      </td><td>0                                                      </td><td>0                                                      </td><td>0                                                      </td><td>0                                                      </td><td>0                                                      </td><td>0                                                      </td></tr>\n",
       "</tbody>\n",
       "</table>\n"
      ],
      "text/latex": [
       "\\begin{tabular}{r|llllllllllllllllllllllll}\n",
       " title & year & length & budget & rating & votes & r1 & r2 & r3 & r4 & ... & r9 & r10 & mpaa & Action & Animation & Comedy & Drama & Documentary & Romance & Short\\\\\n",
       "\\hline\n",
       "\t \\$                                                & 1971                                               & 121                                                &     NA                                             & 6.4                                                &  348                                               &  4.5                                               &  4.5                                               &  4.5                                               &  4.5                                               & ...                                                &  4.5                                               &  4.5                                               &                                                    & 0                                                  & 0                                                  & 1                                                  & 1                                                  & 0                                                  & 0                                                  & 0                                                 \\\\\n",
       "\t \\$1000 a Touchdown                                & 1939                                               &  71                                                &     NA                                             & 6.0                                                &   20                                               &  0.0                                               & 14.5                                               &  4.5                                               & 24.5                                               & ...                                                &  4.5                                               & 14.5                                               &                                                    & 0                                                  & 0                                                  & 1                                                  & 0                                                  & 0                                                  & 0                                                  & 0                                                 \\\\\n",
       "\t \\$21 a Day Once a Month                           & 1941                                               &   7                                                &     NA                                             & 8.2                                                &    5                                               &  0.0                                               &  0.0                                               &  0.0                                               &  0.0                                               & ...                                                & 24.5                                               & 24.5                                               &                                                    & 0                                                  & 1                                                  & 0                                                  & 0                                                  & 0                                                  & 0                                                  & 1                                                 \\\\\n",
       "\t \\$40,000                                          & 1996                                               &  70                                                &     NA                                             & 8.2                                                &    6                                               & 14.5                                               &  0.0                                               &  0.0                                               &  0.0                                               & ...                                                & 34.5                                               & 45.5                                               &                                                    & 0                                                  & 0                                                  & 1                                                  & 0                                                  & 0                                                  & 0                                                  & 0                                                 \\\\\n",
       "\t \\$50,000 Climax Show, The                         & 1975                                               &  71                                                &     NA                                             & 3.4                                                &   17                                               & 24.5                                               &  4.5                                               &  0.0                                               & 14.5                                               & ...                                                &  0.0                                               & 24.5                                               &                                                    & 0                                                  & 0                                                  & 0                                                  & 0                                                  & 0                                                  & 0                                                  & 0                                                 \\\\\n",
       "\t \\$pent                                            & 2000                                               &  91                                                &     NA                                             & 4.3                                                &   45                                               &  4.5                                               &  4.5                                               &  4.5                                               & 14.5                                               & ...                                                & 14.5                                               & 14.5                                               &                                                    & 0                                                  & 0                                                  & 0                                                  & 1                                                  & 0                                                  & 0                                                  & 0                                                 \\\\\n",
       "\t \\$windle                                          & 2002                                               &  93                                                &     NA                                             & 5.3                                                &  200                                               &  4.5                                               &  0.0                                               &  4.5                                               &  4.5                                               & ...                                                &  4.5                                               & 14.5                                               & R                                                  & 1                                                  & 0                                                  & 0                                                  & 1                                                  & 0                                                  & 0                                                  & 0                                                 \\\\\n",
       "\t '15'                                             & 2002                                             &  25                                              &     NA                                           & 6.7                                              &   24                                             &  4.5                                             &  4.5                                             &  4.5                                             &  4.5                                             & ...                                              &  4.5                                             & 14.5                                             &                                                  & 0                                                & 0                                                & 0                                                & 0                                                & 1                                                & 0                                                & 1                                               \\\\\n",
       "\t '38                                              & 1987                                             &  97                                              &     NA                                           & 6.6                                              &   18                                             &  4.5                                             &  4.5                                             &  4.5                                             &  0.0                                             & ...                                              &  4.5                                             & 24.5                                             &                                                  & 0                                                & 0                                                & 0                                                & 1                                                & 0                                                & 0                                                & 0                                               \\\\\n",
       "\t '49-'17                                          & 1917                                             &  61                                              &     NA                                           & 6.0                                              &   51                                             &  4.5                                             &  0.0                                             &  4.5                                             &  4.5                                             & ...                                              &  4.5                                             &  4.5                                             &                                                  & 0                                                & 0                                                & 0                                                & 0                                                & 0                                                & 0                                                & 0                                               \\\\\n",
       "\t '68                                              & 1988                                             &  99                                              &     NA                                           & 5.4                                              &   23                                             &  4.5                                             &  0.0                                             &  4.5                                             & 14.5                                             & ...                                              & 14.5                                             &  4.5                                             &                                                  & 0                                                & 0                                                & 0                                                & 1                                                & 0                                                & 0                                                & 0                                               \\\\\n",
       "\t '94 du bi dao zhi qing                           & 1994                                             &  96                                              &     NA                                           & 5.9                                              &   53                                             &  4.5                                             &  0.0                                             &  4.5                                             &  4.5                                             & ...                                              &  4.5                                             & 24.5                                             &                                                  & 0                                                & 0                                                & 0                                                & 0                                                & 0                                                & 0                                                & 0                                               \\\\\n",
       "\t '?' Motorist, The                                & 1906                                             &  10                                              &     NA                                           & 7.0                                              &   44                                             &  4.5                                             &  0.0                                             &  0.0                                             &  0.0                                             & ...                                              &  4.5                                             & 14.5                                             &                                                  & 0                                                & 0                                                & 1                                                & 0                                                & 0                                                & 0                                                & 1                                               \\\\\n",
       "\t 'A'                                              & 1965                                             &  10                                              &     NA                                           & 6.7                                              &   11                                             & 14.5                                             &  0.0                                             &  0.0                                             &  0.0                                             & ...                                              & 14.5                                             & 24.5                                             &                                                  & 0                                                & 0                                                & 0                                                & 0                                                & 0                                                & 0                                                & 1                                               \\\\\n",
       "\t 'A' gai waak                                     & 1983                                             & 106                                              &     NA                                           & 7.1                                              & 1259                                             &  4.5                                             &  4.5                                             &  4.5                                             &  4.5                                             & ...                                              & 14.5                                             & 24.5                                             & PG-13                                            & 1                                                & 0                                                & 1                                                & 0                                                & 0                                                & 0                                                & 0                                               \\\\\n",
       "\t 'A' gai waak juk jaap                            & 1987                                             & 101                                              &     NA                                           & 7.2                                              &  614                                             &  4.5                                             &  4.5                                             &  4.5                                             &  4.5                                             & ...                                              & 14.5                                             & 14.5                                             & PG-13                                            & 1                                                & 0                                                & 1                                                & 0                                                & 0                                                & 0                                                & 0                                               \\\\\n",
       "\t 'Breaker' Morant                                 & 1980                                             & 107                                              &     NA                                           & 7.9                                              & 2718                                             &  4.5                                             &  4.5                                             &  4.5                                             &  4.5                                             & ...                                              & 24.5                                             & 24.5                                             &                                                  & 0                                                & 0                                                & 0                                                & 1                                                & 0                                                & 0                                                & 0                                               \\\\\n",
       "\t 'Bullitt': Steve McQueen's Commitment to Reality & 1968                                             &  10                                              &     NA                                           & 6.6                                              &   37                                             &  0.0                                             &  0.0                                             &  4.5                                             &  4.5                                             & ...                                              &  4.5                                             &  4.5                                             &                                                  & 0                                                & 0                                                & 0                                                & 0                                                & 1                                                & 0                                                & 1                                               \\\\\n",
       "\t 'Crocodile' Dundee II                            & 1988                                             & 110                                              &     NA                                           & 5.0                                              & 7252                                             &  4.5                                             &  4.5                                             &  4.5                                             & 14.5                                             & ...                                              &  4.5                                             &  4.5                                             &                                                  & 1                                                & 0                                                & 1                                                & 0                                                & 0                                                & 0                                                & 0                                               \\\\\n",
       "\t 'E'                                              & 1981                                             &   7                                              &     NA                                           & 8.6                                              &   15                                             &  0.0                                             &  0.0                                             &  0.0                                             &  0.0                                             & ...                                              & 24.5                                             & 45.5                                             &                                                  & 0                                                & 1                                                & 1                                                & 0                                                & 0                                                & 0                                                & 1                                               \\\\\n",
       "\t 'El Chicko' - der Verdacht                       & 1995                                             &  90                                              &     NA                                           & 3.9                                              &   10                                             & 24.5                                             & 14.5                                             & 24.5                                             & 14.5                                             & ...                                              &  0.0                                             & 24.5                                             &                                                  & 0                                                & 0                                                & 1                                                & 0                                                & 0                                                & 0                                                & 0                                               \\\\\n",
       "\t 'G' Men                                          & 1935                                             &  85                                              & 450000                                           & 7.2                                              &  281                                             &  0.0                                             &  4.5                                             &  4.5                                             &  4.5                                             & ...                                              &  4.5                                             &  4.5                                             &                                                  & 0                                                & 0                                                & 0                                                & 1                                                & 0                                                & 0                                                & 0                                               \\\\\n",
       "\t 'Gator Bait                                      & 1974                                             &  88                                              &     NA                                           & 3.5                                              &  100                                             & 14.5                                             & 14.5                                             & 24.5                                             & 14.5                                             & ...                                              &  4.5                                             &  4.5                                             &                                                  & 1                                                & 0                                                & 0                                                & 1                                                & 0                                                & 0                                                & 0                                               \\\\\n",
       "\t 'Gator Bait II: Cajun Justice                    & 1988                                             &  95                                              &     NA                                           & 3.1                                              &   54                                             & 24.5                                             & 14.5                                             &  4.5                                             & 14.5                                             & ...                                              &  0.0                                             &  4.5                                             &                                                  & 0                                                & 0                                                & 0                                                & 0                                                & 0                                                & 0                                                & 0                                               \\\\\n",
       "\t 'High Sign', The                                 & 1921                                             &  18                                              &     NA                                           & 7.8                                              &  145                                             &  0.0                                             &  0.0                                             &  4.5                                             &  0.0                                             & ...                                              & 24.5                                             & 14.5                                             &                                                  & 0                                                & 0                                                & 1                                                & 0                                                & 0                                                & 0                                                & 1                                               \\\\\n",
       "\t 'Hukkunud Alpinisti' hotell                      & 1979                                             &  80                                              &     NA                                           & 7.7                                              &   45                                             &  4.5                                             &  0.0                                             &  4.5                                             &  4.5                                             & ...                                              & 14.5                                             & 34.5                                             &                                                  & 0                                                & 0                                                & 0                                                & 0                                                & 0                                                & 0                                                & 0                                               \\\\\n",
       "\t 'Hyp-Nut-Tist', The                              & 1935                                             &   6                                              &     NA                                           & 6.2                                              &   18                                             &  4.5                                             &  0.0                                             &  0.0                                             & 24.5                                             & ...                                              & 14.5                                             &  0.0                                             &                                                  & 0                                                & 1                                                & 1                                                & 0                                                & 0                                                & 0                                                & 1                                               \\\\\n",
       "\t 'I Do...'                                        & 1989                                             &  86                                              &     NA                                           & 6.2                                              &   10                                             &  0.0                                             &  0.0                                             &  0.0                                             & 24.5                                             & ...                                              & 14.5                                             & 14.5                                             &                                                  & 0                                                & 0                                                & 0                                                & 0                                                & 0                                                & 0                                                & 0                                               \\\\\n",
       "\t 'I Know Where I'm Going!'                        & 1945                                             &  92                                              &     NA                                           & 7.7                                              &  825                                             &  4.5                                             &  4.5                                             &  4.5                                             &  4.5                                             & ...                                              & 14.5                                             & 34.5                                             &                                                  & 0                                                & 0                                                & 0                                                & 1                                                & 0                                                & 1                                                & 0                                               \\\\\n",
       "\t 'Java Madness' formerly titled 'Coffee Madness'  & 1995                                             &   7                                              &     NA                                           & 6.8                                              &   10                                             &  0.0                                             & 14.5                                             &  0.0                                             &  0.0                                             & ...                                              & 14.5                                             & 34.5                                             &                                                  & 0                                                & 0                                                & 1                                                & 0                                                & 0                                                & 0                                                & 1                                               \\\\\n",
       "\t ... & ... & ... & ... & ... & ... & ... & ... & ... & ... &     & ... & ... & ... & ... & ... & ... & ... & ... & ... & ...\\\\\n",
       "\t Zwoele zomeravond, Een                                  & 1982                                                    &  95                                                     &       NA                                                & 6.4                                                     &    13                                                   &  0.0                                                    &  0.0                                                    &  0.0                                                    &  0.0                                                    & ...                                                     & 24.5                                                    &  4.5                                                    &                                                         & 0                                                       & 0                                                       & 0                                                       & 0                                                       & 0                                                       & 0                                                       & 0                                                      \\\\\n",
       "\t Zwolnieni z zycia                                       & 1992                                                    &  90                                                     &       NA                                                & 6.9                                                     &     9                                                   &  0.0                                                    &  0.0                                                    &  0.0                                                    &  0.0                                                    & ...                                                     &  0.0                                                    & 24.5                                                    &                                                         & 0                                                       & 0                                                       & 0                                                       & 0                                                       & 0                                                       & 0                                                       & 0                                                      \\\\\n",
       "\t Zycie jako smiertelna choroba przenoszona droga plciowa & 2000                                                    &  99                                                     &       NA                                                & 7.0                                                     &    97                                                   &  4.5                                                    &  0.0                                                    &  0.0                                                    &  4.5                                                    & ...                                                     & 14.5                                                    & 14.5                                                    &                                                         & 0                                                       & 0                                                       & 0                                                       & 1                                                       & 0                                                       & 0                                                       & 0                                                      \\\\\n",
       "\t Zycie rodzinne                                          & 1971                                                    &  88                                                     &       NA                                                & 6.0                                                     &    14                                                   &  0.0                                                    &  4.5                                                    &  0.0                                                    &  0.0                                                    & ...                                                     & 34.5                                                    &  4.5                                                    &                                                         & 0                                                       & 0                                                       & 0                                                       & 1                                                       & 0                                                       & 0                                                       & 0                                                      \\\\\n",
       "\t Zycie wewnetrzne                                        & 1987                                                    &  86                                                     &       NA                                                & 6.5                                                     &     8                                                   & 14.5                                                    &  0.0                                                    &  0.0                                                    &  0.0                                                    & ...                                                     &  0.0                                                    & 24.5                                                    &                                                         & 0                                                       & 0                                                       & 0                                                       & 0                                                       & 0                                                       & 0                                                       & 0                                                      \\\\\n",
       "\t Zycie za zycie                                          & 1991                                                    &  90                                                     &       NA                                                & 5.1                                                     &    10                                                   &  0.0                                                    &  0.0                                                    & 14.5                                                    & 14.5                                                    & ...                                                     & 14.5                                                    & 34.5                                                    &                                                         & 0                                                       & 0                                                       & 0                                                       & 0                                                       & 0                                                       & 0                                                       & 0                                                      \\\\\n",
       "\t Zyciorys                                                & 1975                                                    &  46                                                     &       NA                                                & 3.6                                                     &     5                                                   & 24.5                                                    &  0.0                                                    &  0.0                                                    & 24.5                                                    & ...                                                     &  0.0                                                    & 44.5                                                    &                                                         & 0                                                       & 0                                                       & 0                                                       & 1                                                       & 0                                                       & 0                                                       & 0                                                      \\\\\n",
       "\t Zyklus von Kleinigkeiten                                & 1999                                                    &  86                                                     &       NA                                                & 6.0                                                     &     5                                                   &  0.0                                                    &  0.0                                                    & 44.5                                                    &  0.0                                                    & ...                                                     &  0.0                                                    & 24.5                                                    &                                                         & 0                                                       & 0                                                       & 0                                                       & 1                                                       & 0                                                       & 0                                                       & 0                                                      \\\\\n",
       "\t Zyosyuu syukeininn Maria                                & 1995                                                    &  75                                                     &       NA                                                & 3.7                                                     &    19                                                   & 14.5                                                    &  4.5                                                    & 14.5                                                    & 14.5                                                    & ...                                                     &  4.5                                                    &  0.0                                                    & R                                                       & 0                                                       & 0                                                       & 0                                                       & 0                                                       & 0                                                       & 0                                                       & 0                                                      \\\\\n",
       "\t Zywot Mateusza                                          & 1967                                                    &  80                                                     &       NA                                                & 5.4                                                     &    31                                                   &  4.5                                                    &  4.5                                                    &  4.5                                                    &  4.5                                                    & ...                                                     &  4.5                                                    & 34.5                                                    &                                                         & 0                                                       & 0                                                       & 0                                                       & 1                                                       & 0                                                       & 0                                                       & 0                                                      \\\\\n",
       "\t Zzikhimyeon jukneunda                                   & 2000                                                    &  94                                                     &       NA                                                & 4.7                                                     &    45                                                   & 14.5                                                    &  4.5                                                    &  4.5                                                    & 24.5                                                    & ...                                                     &  0.0                                                    &  4.5                                                    &                                                         & 0                                                       & 0                                                       & 0                                                       & 0                                                       & 0                                                       & 0                                                       & 0                                                      \\\\\n",
       "\t Zzim                                                    & 1998                                                    & 101                                                     &       NA                                                & 4.5                                                     &    14                                                   & 14.5                                                    &  4.5                                                    & 24.5                                                    &  4.5                                                    & ...                                                     &  4.5                                                    &  0.0                                                    &                                                         & 0                                                       & 0                                                       & 0                                                       & 0                                                       & 0                                                       & 0                                                       & 0                                                      \\\\\n",
       "\t Zzyzx                                                   & 2005                                                    &  90                                                     &  1000000                                                & 8.0                                                     &    10                                                   & 24.5                                                    &  0.0                                                    &  0.0                                                    &  0.0                                                    & ...                                                     & 24.5                                                    & 64.5                                                    &                                                         & 0                                                       & 0                                                       & 0                                                       & 0                                                       & 0                                                       & 0                                                       & 0                                                      \\\\\n",
       "\t alaska.de                                               & 2000                                                    &  89                                                     &       NA                                                & 6.2                                                     &   186                                                   &  4.5                                                    &  4.5                                                    &  4.5                                                    &  4.5                                                    & ...                                                     & 14.5                                                    &  4.5                                                    &                                                         & 0                                                       & 0                                                       & 0                                                       & 1                                                       & 0                                                       & 0                                                       & 0                                                      \\\\\n",
       "\t barefootin'                                             & 1987                                                    &   3                                                     &       NA                                                & 5.7                                                     &     6                                                   &  0.0                                                    &  0.0                                                    &  0.0                                                    & 14.5                                                    & ...                                                     &  0.0                                                    &  0.0                                                    &                                                         & 0                                                       & 1                                                       & 0                                                       & 0                                                       & 0                                                       & 0                                                       & 1                                                      \\\\\n",
       "\t deadend.com                                             & 2002                                                    & 120                                                     &       NA                                                & 6.9                                                     &    53                                                   & 64.5                                                    &  4.5                                                    &  0.0                                                    &  4.5                                                    & ...                                                     &  4.5                                                    &  4.5                                                    &                                                         & 0                                                       & 0                                                       & 0                                                       & 1                                                       & 0                                                       & 0                                                       & 0                                                      \\\\\n",
       "\t e-Dreams                                                & 2001                                                    &  94                                                     &       NA                                                & 6.8                                                     &    86                                                   &  4.5                                                    &  0.0                                                    &  0.0                                                    &  4.5                                                    & ...                                                     &  4.5                                                    & 14.5                                                    &                                                         & 0                                                       & 0                                                       & 0                                                       & 0                                                       & 1                                                       & 0                                                       & 0                                                      \\\\\n",
       "\t eMale                                                   & 2001                                                    &  17                                                     &       NA                                                & 7.3                                                     &    15                                                   &  0.0                                                    &  0.0                                                    &  0.0                                                    &  4.5                                                    & ...                                                     & 24.5                                                    & 24.5                                                    &                                                         & 0                                                       & 0                                                       & 1                                                       & 0                                                       & 0                                                       & 0                                                       & 1                                                      \\\\\n",
       "\t eRATicate                                               & 2003                                                    &   9                                                     &       NA                                                & 6.0                                                     &     5                                                   &  0.0                                                    &  0.0                                                    &  0.0                                                    &  0.0                                                    & ...                                                     & 24.5                                                    & 44.5                                                    &                                                         & 0                                                       & 0                                                       & 1                                                       & 0                                                       & 0                                                       & 0                                                       & 1                                                      \\\\\n",
       "\t eXXXorcismos                                            & 2002                                                    &  78                                                     &       NA                                                & 4.2                                                     &    11                                                   & 34.5                                                    &  0.0                                                    &  0.0                                                    &  0.0                                                    & ...                                                     &  4.5                                                    & 24.5                                                    &                                                         & 0                                                       & 0                                                       & 0                                                       & 1                                                       & 0                                                       & 0                                                       & 0                                                      \\\\\n",
       "\t eXistenZ                                                & 1999                                                    &  97                                                     &       NA                                                & 6.7                                                     & 14742                                                   &  4.5                                                    &  4.5                                                    &  4.5                                                    &  4.5                                                    & ...                                                     & 14.5                                                    &  4.5                                                    & R                                                       & 0                                                       & 0                                                       & 0                                                       & 1                                                       & 0                                                       & 0                                                       & 0                                                      \\\\\n",
       "\t f2point8                                                & 2002                                                    &  20                                                     &       NA                                                & 5.0                                                     &    13                                                   &  4.5                                                    &  0.0                                                    &  4.5                                                    &  4.5                                                    & ...                                                     & 14.5                                                    & 24.5                                                    &                                                         & 0                                                       & 0                                                       & 0                                                       & 0                                                       & 0                                                       & 0                                                       & 1                                                      \\\\\n",
       "\t f8                                                      & 2001                                                    &  13                                                     &       NA                                                & 7.6                                                     &     7                                                   &  0.0                                                    &  0.0                                                    &  0.0                                                    &  0.0                                                    & ...                                                     & 24.5                                                    &  0.0                                                    &                                                         & 0                                                       & 1                                                       & 0                                                       & 0                                                       & 0                                                       & 0                                                       & 1                                                      \\\\\n",
       "\t pURe kILLjoy                                            & 1998                                                    &  87                                                     &       NA                                                & 5.2                                                     &     6                                                   &  0.0                                                    & 14.5                                                    & 14.5                                                    & 14.5                                                    & ...                                                     &  0.0                                                    & 14.5                                                    &                                                         & 0                                                       & 0                                                       & 0                                                       & 0                                                       & 0                                                       & 0                                                       & 0                                                      \\\\\n",
       "\t sIDney                                                  & 2002                                                    &  15                                                     &       NA                                                & 7.0                                                     &     8                                                   & 14.5                                                    &  0.0                                                    &  0.0                                                    & 14.5                                                    & ...                                                     & 14.5                                                    & 24.5                                                    &                                                         & 1                                                       & 0                                                       & 0                                                       & 0                                                       & 0                                                       & 0                                                       & 1                                                      \\\\\n",
       "\t tom thumb                                               & 1958                                                    &  98                                                     &       NA                                                & 6.5                                                     &   274                                                   &  4.5                                                    &  4.5                                                    &  4.5                                                    &  4.5                                                    & ...                                                     &  4.5                                                    &  4.5                                                    &                                                         & 0                                                       & 1                                                       & 0                                                       & 0                                                       & 0                                                       & 0                                                       & 0                                                      \\\\\n",
       "\t www.XXX.com                                             & 2003                                                    & 105                                                     &       NA                                                & 1.1                                                     &    12                                                   & 45.5                                                    &  0.0                                                    &  0.0                                                    &  0.0                                                    & ...                                                     &  0.0                                                    & 24.5                                                    &                                                         & 0                                                       & 0                                                       & 0                                                       & 1                                                       & 0                                                       & 1                                                       & 0                                                      \\\\\n",
       "\t www.hellssoapopera.com                                  & 1999                                                    & 100                                                     &       NA                                                & 6.6                                                     &     5                                                   & 24.5                                                    &  0.0                                                    & 24.5                                                    &  0.0                                                    & ...                                                     & 24.5                                                    & 44.5                                                    &                                                         & 0                                                       & 0                                                       & 0                                                       & 0                                                       & 0                                                       & 0                                                       & 0                                                      \\\\\n",
       "\t xXx                                                     & 2002                                                    & 132                                                     & 85000000                                                & 5.5                                                     & 18514                                                   &  4.5                                                    &  4.5                                                    &  4.5                                                    &  4.5                                                    & ...                                                     &  4.5                                                    &  4.5                                                    & PG-13                                                   & 1                                                       & 0                                                       & 0                                                       & 0                                                       & 0                                                       & 0                                                       & 0                                                      \\\\\n",
       "\t xXx: State of the Union                                 & 2005                                                    & 101                                                     & 87000000                                                & 3.9                                                     &  1584                                                   & 24.5                                                    &  4.5                                                    &  4.5                                                    &  4.5                                                    & ...                                                     &  4.5                                                    & 14.5                                                    & PG-13                                                   & 1                                                       & 0                                                       & 0                                                       & 0                                                       & 0                                                       & 0                                                       & 0                                                      \\\\\n",
       "\\end{tabular}\n"
      ],
      "text/markdown": [
       "\n",
       "| title | year | length | budget | rating | votes | r1 | r2 | r3 | r4 | ... | r9 | r10 | mpaa | Action | Animation | Comedy | Drama | Documentary | Romance | Short |\n",
       "|---|---|---|---|---|---|---|---|---|---|---|---|---|---|---|---|---|---|---|---|---|\n",
       "| $                                                | 1971                                             | 121                                              |     NA                                           | 6.4                                              |  348                                             |  4.5                                             |  4.5                                             |  4.5                                             |  4.5                                             | ...                                              |  4.5                                             |  4.5                                             |                                                  | 0                                                | 0                                                | 1                                                | 1                                                | 0                                                | 0                                                | 0                                                |\n",
       "| $1000 a Touchdown                                | 1939                                             |  71                                              |     NA                                           | 6.0                                              |   20                                             |  0.0                                             | 14.5                                             |  4.5                                             | 24.5                                             | ...                                              |  4.5                                             | 14.5                                             |                                                  | 0                                                | 0                                                | 1                                                | 0                                                | 0                                                | 0                                                | 0                                                |\n",
       "| $21 a Day Once a Month                           | 1941                                             |   7                                              |     NA                                           | 8.2                                              |    5                                             |  0.0                                             |  0.0                                             |  0.0                                             |  0.0                                             | ...                                              | 24.5                                             | 24.5                                             |                                                  | 0                                                | 1                                                | 0                                                | 0                                                | 0                                                | 0                                                | 1                                                |\n",
       "| $40,000                                          | 1996                                             |  70                                              |     NA                                           | 8.2                                              |    6                                             | 14.5                                             |  0.0                                             |  0.0                                             |  0.0                                             | ...                                              | 34.5                                             | 45.5                                             |                                                  | 0                                                | 0                                                | 1                                                | 0                                                | 0                                                | 0                                                | 0                                                |\n",
       "| $50,000 Climax Show, The                         | 1975                                             |  71                                              |     NA                                           | 3.4                                              |   17                                             | 24.5                                             |  4.5                                             |  0.0                                             | 14.5                                             | ...                                              |  0.0                                             | 24.5                                             |                                                  | 0                                                | 0                                                | 0                                                | 0                                                | 0                                                | 0                                                | 0                                                |\n",
       "| $pent                                            | 2000                                             |  91                                              |     NA                                           | 4.3                                              |   45                                             |  4.5                                             |  4.5                                             |  4.5                                             | 14.5                                             | ...                                              | 14.5                                             | 14.5                                             |                                                  | 0                                                | 0                                                | 0                                                | 1                                                | 0                                                | 0                                                | 0                                                |\n",
       "| $windle                                          | 2002                                             |  93                                              |     NA                                           | 5.3                                              |  200                                             |  4.5                                             |  0.0                                             |  4.5                                             |  4.5                                             | ...                                              |  4.5                                             | 14.5                                             | R                                                | 1                                                | 0                                                | 0                                                | 1                                                | 0                                                | 0                                                | 0                                                |\n",
       "| '15'                                             | 2002                                             |  25                                              |     NA                                           | 6.7                                              |   24                                             |  4.5                                             |  4.5                                             |  4.5                                             |  4.5                                             | ...                                              |  4.5                                             | 14.5                                             |                                                  | 0                                                | 0                                                | 0                                                | 0                                                | 1                                                | 0                                                | 1                                                |\n",
       "| '38                                              | 1987                                             |  97                                              |     NA                                           | 6.6                                              |   18                                             |  4.5                                             |  4.5                                             |  4.5                                             |  0.0                                             | ...                                              |  4.5                                             | 24.5                                             |                                                  | 0                                                | 0                                                | 0                                                | 1                                                | 0                                                | 0                                                | 0                                                |\n",
       "| '49-'17                                          | 1917                                             |  61                                              |     NA                                           | 6.0                                              |   51                                             |  4.5                                             |  0.0                                             |  4.5                                             |  4.5                                             | ...                                              |  4.5                                             |  4.5                                             |                                                  | 0                                                | 0                                                | 0                                                | 0                                                | 0                                                | 0                                                | 0                                                |\n",
       "| '68                                              | 1988                                             |  99                                              |     NA                                           | 5.4                                              |   23                                             |  4.5                                             |  0.0                                             |  4.5                                             | 14.5                                             | ...                                              | 14.5                                             |  4.5                                             |                                                  | 0                                                | 0                                                | 0                                                | 1                                                | 0                                                | 0                                                | 0                                                |\n",
       "| '94 du bi dao zhi qing                           | 1994                                             |  96                                              |     NA                                           | 5.9                                              |   53                                             |  4.5                                             |  0.0                                             |  4.5                                             |  4.5                                             | ...                                              |  4.5                                             | 24.5                                             |                                                  | 0                                                | 0                                                | 0                                                | 0                                                | 0                                                | 0                                                | 0                                                |\n",
       "| '?' Motorist, The                                | 1906                                             |  10                                              |     NA                                           | 7.0                                              |   44                                             |  4.5                                             |  0.0                                             |  0.0                                             |  0.0                                             | ...                                              |  4.5                                             | 14.5                                             |                                                  | 0                                                | 0                                                | 1                                                | 0                                                | 0                                                | 0                                                | 1                                                |\n",
       "| 'A'                                              | 1965                                             |  10                                              |     NA                                           | 6.7                                              |   11                                             | 14.5                                             |  0.0                                             |  0.0                                             |  0.0                                             | ...                                              | 14.5                                             | 24.5                                             |                                                  | 0                                                | 0                                                | 0                                                | 0                                                | 0                                                | 0                                                | 1                                                |\n",
       "| 'A' gai waak                                     | 1983                                             | 106                                              |     NA                                           | 7.1                                              | 1259                                             |  4.5                                             |  4.5                                             |  4.5                                             |  4.5                                             | ...                                              | 14.5                                             | 24.5                                             | PG-13                                            | 1                                                | 0                                                | 1                                                | 0                                                | 0                                                | 0                                                | 0                                                |\n",
       "| 'A' gai waak juk jaap                            | 1987                                             | 101                                              |     NA                                           | 7.2                                              |  614                                             |  4.5                                             |  4.5                                             |  4.5                                             |  4.5                                             | ...                                              | 14.5                                             | 14.5                                             | PG-13                                            | 1                                                | 0                                                | 1                                                | 0                                                | 0                                                | 0                                                | 0                                                |\n",
       "| 'Breaker' Morant                                 | 1980                                             | 107                                              |     NA                                           | 7.9                                              | 2718                                             |  4.5                                             |  4.5                                             |  4.5                                             |  4.5                                             | ...                                              | 24.5                                             | 24.5                                             |                                                  | 0                                                | 0                                                | 0                                                | 1                                                | 0                                                | 0                                                | 0                                                |\n",
       "| 'Bullitt': Steve McQueen's Commitment to Reality | 1968                                             |  10                                              |     NA                                           | 6.6                                              |   37                                             |  0.0                                             |  0.0                                             |  4.5                                             |  4.5                                             | ...                                              |  4.5                                             |  4.5                                             |                                                  | 0                                                | 0                                                | 0                                                | 0                                                | 1                                                | 0                                                | 1                                                |\n",
       "| 'Crocodile' Dundee II                            | 1988                                             | 110                                              |     NA                                           | 5.0                                              | 7252                                             |  4.5                                             |  4.5                                             |  4.5                                             | 14.5                                             | ...                                              |  4.5                                             |  4.5                                             |                                                  | 1                                                | 0                                                | 1                                                | 0                                                | 0                                                | 0                                                | 0                                                |\n",
       "| 'E'                                              | 1981                                             |   7                                              |     NA                                           | 8.6                                              |   15                                             |  0.0                                             |  0.0                                             |  0.0                                             |  0.0                                             | ...                                              | 24.5                                             | 45.5                                             |                                                  | 0                                                | 1                                                | 1                                                | 0                                                | 0                                                | 0                                                | 1                                                |\n",
       "| 'El Chicko' - der Verdacht                       | 1995                                             |  90                                              |     NA                                           | 3.9                                              |   10                                             | 24.5                                             | 14.5                                             | 24.5                                             | 14.5                                             | ...                                              |  0.0                                             | 24.5                                             |                                                  | 0                                                | 0                                                | 1                                                | 0                                                | 0                                                | 0                                                | 0                                                |\n",
       "| 'G' Men                                          | 1935                                             |  85                                              | 450000                                           | 7.2                                              |  281                                             |  0.0                                             |  4.5                                             |  4.5                                             |  4.5                                             | ...                                              |  4.5                                             |  4.5                                             |                                                  | 0                                                | 0                                                | 0                                                | 1                                                | 0                                                | 0                                                | 0                                                |\n",
       "| 'Gator Bait                                      | 1974                                             |  88                                              |     NA                                           | 3.5                                              |  100                                             | 14.5                                             | 14.5                                             | 24.5                                             | 14.5                                             | ...                                              |  4.5                                             |  4.5                                             |                                                  | 1                                                | 0                                                | 0                                                | 1                                                | 0                                                | 0                                                | 0                                                |\n",
       "| 'Gator Bait II: Cajun Justice                    | 1988                                             |  95                                              |     NA                                           | 3.1                                              |   54                                             | 24.5                                             | 14.5                                             |  4.5                                             | 14.5                                             | ...                                              |  0.0                                             |  4.5                                             |                                                  | 0                                                | 0                                                | 0                                                | 0                                                | 0                                                | 0                                                | 0                                                |\n",
       "| 'High Sign', The                                 | 1921                                             |  18                                              |     NA                                           | 7.8                                              |  145                                             |  0.0                                             |  0.0                                             |  4.5                                             |  0.0                                             | ...                                              | 24.5                                             | 14.5                                             |                                                  | 0                                                | 0                                                | 1                                                | 0                                                | 0                                                | 0                                                | 1                                                |\n",
       "| 'Hukkunud Alpinisti' hotell                      | 1979                                             |  80                                              |     NA                                           | 7.7                                              |   45                                             |  4.5                                             |  0.0                                             |  4.5                                             |  4.5                                             | ...                                              | 14.5                                             | 34.5                                             |                                                  | 0                                                | 0                                                | 0                                                | 0                                                | 0                                                | 0                                                | 0                                                |\n",
       "| 'Hyp-Nut-Tist', The                              | 1935                                             |   6                                              |     NA                                           | 6.2                                              |   18                                             |  4.5                                             |  0.0                                             |  0.0                                             | 24.5                                             | ...                                              | 14.5                                             |  0.0                                             |                                                  | 0                                                | 1                                                | 1                                                | 0                                                | 0                                                | 0                                                | 1                                                |\n",
       "| 'I Do...'                                        | 1989                                             |  86                                              |     NA                                           | 6.2                                              |   10                                             |  0.0                                             |  0.0                                             |  0.0                                             | 24.5                                             | ...                                              | 14.5                                             | 14.5                                             |                                                  | 0                                                | 0                                                | 0                                                | 0                                                | 0                                                | 0                                                | 0                                                |\n",
       "| 'I Know Where I'm Going!'                        | 1945                                             |  92                                              |     NA                                           | 7.7                                              |  825                                             |  4.5                                             |  4.5                                             |  4.5                                             |  4.5                                             | ...                                              | 14.5                                             | 34.5                                             |                                                  | 0                                                | 0                                                | 0                                                | 1                                                | 0                                                | 1                                                | 0                                                |\n",
       "| 'Java Madness' formerly titled 'Coffee Madness'  | 1995                                             |   7                                              |     NA                                           | 6.8                                              |   10                                             |  0.0                                             | 14.5                                             |  0.0                                             |  0.0                                             | ...                                              | 14.5                                             | 34.5                                             |                                                  | 0                                                | 0                                                | 1                                                | 0                                                | 0                                                | 0                                                | 1                                                |\n",
       "| ... | ... | ... | ... | ... | ... | ... | ... | ... | ... |     | ... | ... | ... | ... | ... | ... | ... | ... | ... | ... |\n",
       "| Zwoele zomeravond, Een                                  | 1982                                                    |  95                                                     |       NA                                                | 6.4                                                     |    13                                                   |  0.0                                                    |  0.0                                                    |  0.0                                                    |  0.0                                                    | ...                                                     | 24.5                                                    |  4.5                                                    |                                                         | 0                                                       | 0                                                       | 0                                                       | 0                                                       | 0                                                       | 0                                                       | 0                                                       |\n",
       "| Zwolnieni z zycia                                       | 1992                                                    |  90                                                     |       NA                                                | 6.9                                                     |     9                                                   |  0.0                                                    |  0.0                                                    |  0.0                                                    |  0.0                                                    | ...                                                     |  0.0                                                    | 24.5                                                    |                                                         | 0                                                       | 0                                                       | 0                                                       | 0                                                       | 0                                                       | 0                                                       | 0                                                       |\n",
       "| Zycie jako smiertelna choroba przenoszona droga plciowa | 2000                                                    |  99                                                     |       NA                                                | 7.0                                                     |    97                                                   |  4.5                                                    |  0.0                                                    |  0.0                                                    |  4.5                                                    | ...                                                     | 14.5                                                    | 14.5                                                    |                                                         | 0                                                       | 0                                                       | 0                                                       | 1                                                       | 0                                                       | 0                                                       | 0                                                       |\n",
       "| Zycie rodzinne                                          | 1971                                                    |  88                                                     |       NA                                                | 6.0                                                     |    14                                                   |  0.0                                                    |  4.5                                                    |  0.0                                                    |  0.0                                                    | ...                                                     | 34.5                                                    |  4.5                                                    |                                                         | 0                                                       | 0                                                       | 0                                                       | 1                                                       | 0                                                       | 0                                                       | 0                                                       |\n",
       "| Zycie wewnetrzne                                        | 1987                                                    |  86                                                     |       NA                                                | 6.5                                                     |     8                                                   | 14.5                                                    |  0.0                                                    |  0.0                                                    |  0.0                                                    | ...                                                     |  0.0                                                    | 24.5                                                    |                                                         | 0                                                       | 0                                                       | 0                                                       | 0                                                       | 0                                                       | 0                                                       | 0                                                       |\n",
       "| Zycie za zycie                                          | 1991                                                    |  90                                                     |       NA                                                | 5.1                                                     |    10                                                   |  0.0                                                    |  0.0                                                    | 14.5                                                    | 14.5                                                    | ...                                                     | 14.5                                                    | 34.5                                                    |                                                         | 0                                                       | 0                                                       | 0                                                       | 0                                                       | 0                                                       | 0                                                       | 0                                                       |\n",
       "| Zyciorys                                                | 1975                                                    |  46                                                     |       NA                                                | 3.6                                                     |     5                                                   | 24.5                                                    |  0.0                                                    |  0.0                                                    | 24.5                                                    | ...                                                     |  0.0                                                    | 44.5                                                    |                                                         | 0                                                       | 0                                                       | 0                                                       | 1                                                       | 0                                                       | 0                                                       | 0                                                       |\n",
       "| Zyklus von Kleinigkeiten                                | 1999                                                    |  86                                                     |       NA                                                | 6.0                                                     |     5                                                   |  0.0                                                    |  0.0                                                    | 44.5                                                    |  0.0                                                    | ...                                                     |  0.0                                                    | 24.5                                                    |                                                         | 0                                                       | 0                                                       | 0                                                       | 1                                                       | 0                                                       | 0                                                       | 0                                                       |\n",
       "| Zyosyuu syukeininn Maria                                | 1995                                                    |  75                                                     |       NA                                                | 3.7                                                     |    19                                                   | 14.5                                                    |  4.5                                                    | 14.5                                                    | 14.5                                                    | ...                                                     |  4.5                                                    |  0.0                                                    | R                                                       | 0                                                       | 0                                                       | 0                                                       | 0                                                       | 0                                                       | 0                                                       | 0                                                       |\n",
       "| Zywot Mateusza                                          | 1967                                                    |  80                                                     |       NA                                                | 5.4                                                     |    31                                                   |  4.5                                                    |  4.5                                                    |  4.5                                                    |  4.5                                                    | ...                                                     |  4.5                                                    | 34.5                                                    |                                                         | 0                                                       | 0                                                       | 0                                                       | 1                                                       | 0                                                       | 0                                                       | 0                                                       |\n",
       "| Zzikhimyeon jukneunda                                   | 2000                                                    |  94                                                     |       NA                                                | 4.7                                                     |    45                                                   | 14.5                                                    |  4.5                                                    |  4.5                                                    | 24.5                                                    | ...                                                     |  0.0                                                    |  4.5                                                    |                                                         | 0                                                       | 0                                                       | 0                                                       | 0                                                       | 0                                                       | 0                                                       | 0                                                       |\n",
       "| Zzim                                                    | 1998                                                    | 101                                                     |       NA                                                | 4.5                                                     |    14                                                   | 14.5                                                    |  4.5                                                    | 24.5                                                    |  4.5                                                    | ...                                                     |  4.5                                                    |  0.0                                                    |                                                         | 0                                                       | 0                                                       | 0                                                       | 0                                                       | 0                                                       | 0                                                       | 0                                                       |\n",
       "| Zzyzx                                                   | 2005                                                    |  90                                                     |  1000000                                                | 8.0                                                     |    10                                                   | 24.5                                                    |  0.0                                                    |  0.0                                                    |  0.0                                                    | ...                                                     | 24.5                                                    | 64.5                                                    |                                                         | 0                                                       | 0                                                       | 0                                                       | 0                                                       | 0                                                       | 0                                                       | 0                                                       |\n",
       "| alaska.de                                               | 2000                                                    |  89                                                     |       NA                                                | 6.2                                                     |   186                                                   |  4.5                                                    |  4.5                                                    |  4.5                                                    |  4.5                                                    | ...                                                     | 14.5                                                    |  4.5                                                    |                                                         | 0                                                       | 0                                                       | 0                                                       | 1                                                       | 0                                                       | 0                                                       | 0                                                       |\n",
       "| barefootin'                                             | 1987                                                    |   3                                                     |       NA                                                | 5.7                                                     |     6                                                   |  0.0                                                    |  0.0                                                    |  0.0                                                    | 14.5                                                    | ...                                                     |  0.0                                                    |  0.0                                                    |                                                         | 0                                                       | 1                                                       | 0                                                       | 0                                                       | 0                                                       | 0                                                       | 1                                                       |\n",
       "| deadend.com                                             | 2002                                                    | 120                                                     |       NA                                                | 6.9                                                     |    53                                                   | 64.5                                                    |  4.5                                                    |  0.0                                                    |  4.5                                                    | ...                                                     |  4.5                                                    |  4.5                                                    |                                                         | 0                                                       | 0                                                       | 0                                                       | 1                                                       | 0                                                       | 0                                                       | 0                                                       |\n",
       "| e-Dreams                                                | 2001                                                    |  94                                                     |       NA                                                | 6.8                                                     |    86                                                   |  4.5                                                    |  0.0                                                    |  0.0                                                    |  4.5                                                    | ...                                                     |  4.5                                                    | 14.5                                                    |                                                         | 0                                                       | 0                                                       | 0                                                       | 0                                                       | 1                                                       | 0                                                       | 0                                                       |\n",
       "| eMale                                                   | 2001                                                    |  17                                                     |       NA                                                | 7.3                                                     |    15                                                   |  0.0                                                    |  0.0                                                    |  0.0                                                    |  4.5                                                    | ...                                                     | 24.5                                                    | 24.5                                                    |                                                         | 0                                                       | 0                                                       | 1                                                       | 0                                                       | 0                                                       | 0                                                       | 1                                                       |\n",
       "| eRATicate                                               | 2003                                                    |   9                                                     |       NA                                                | 6.0                                                     |     5                                                   |  0.0                                                    |  0.0                                                    |  0.0                                                    |  0.0                                                    | ...                                                     | 24.5                                                    | 44.5                                                    |                                                         | 0                                                       | 0                                                       | 1                                                       | 0                                                       | 0                                                       | 0                                                       | 1                                                       |\n",
       "| eXXXorcismos                                            | 2002                                                    |  78                                                     |       NA                                                | 4.2                                                     |    11                                                   | 34.5                                                    |  0.0                                                    |  0.0                                                    |  0.0                                                    | ...                                                     |  4.5                                                    | 24.5                                                    |                                                         | 0                                                       | 0                                                       | 0                                                       | 1                                                       | 0                                                       | 0                                                       | 0                                                       |\n",
       "| eXistenZ                                                | 1999                                                    |  97                                                     |       NA                                                | 6.7                                                     | 14742                                                   |  4.5                                                    |  4.5                                                    |  4.5                                                    |  4.5                                                    | ...                                                     | 14.5                                                    |  4.5                                                    | R                                                       | 0                                                       | 0                                                       | 0                                                       | 1                                                       | 0                                                       | 0                                                       | 0                                                       |\n",
       "| f2point8                                                | 2002                                                    |  20                                                     |       NA                                                | 5.0                                                     |    13                                                   |  4.5                                                    |  0.0                                                    |  4.5                                                    |  4.5                                                    | ...                                                     | 14.5                                                    | 24.5                                                    |                                                         | 0                                                       | 0                                                       | 0                                                       | 0                                                       | 0                                                       | 0                                                       | 1                                                       |\n",
       "| f8                                                      | 2001                                                    |  13                                                     |       NA                                                | 7.6                                                     |     7                                                   |  0.0                                                    |  0.0                                                    |  0.0                                                    |  0.0                                                    | ...                                                     | 24.5                                                    |  0.0                                                    |                                                         | 0                                                       | 1                                                       | 0                                                       | 0                                                       | 0                                                       | 0                                                       | 1                                                       |\n",
       "| pURe kILLjoy                                            | 1998                                                    |  87                                                     |       NA                                                | 5.2                                                     |     6                                                   |  0.0                                                    | 14.5                                                    | 14.5                                                    | 14.5                                                    | ...                                                     |  0.0                                                    | 14.5                                                    |                                                         | 0                                                       | 0                                                       | 0                                                       | 0                                                       | 0                                                       | 0                                                       | 0                                                       |\n",
       "| sIDney                                                  | 2002                                                    |  15                                                     |       NA                                                | 7.0                                                     |     8                                                   | 14.5                                                    |  0.0                                                    |  0.0                                                    | 14.5                                                    | ...                                                     | 14.5                                                    | 24.5                                                    |                                                         | 1                                                       | 0                                                       | 0                                                       | 0                                                       | 0                                                       | 0                                                       | 1                                                       |\n",
       "| tom thumb                                               | 1958                                                    |  98                                                     |       NA                                                | 6.5                                                     |   274                                                   |  4.5                                                    |  4.5                                                    |  4.5                                                    |  4.5                                                    | ...                                                     |  4.5                                                    |  4.5                                                    |                                                         | 0                                                       | 1                                                       | 0                                                       | 0                                                       | 0                                                       | 0                                                       | 0                                                       |\n",
       "| www.XXX.com                                             | 2003                                                    | 105                                                     |       NA                                                | 1.1                                                     |    12                                                   | 45.5                                                    |  0.0                                                    |  0.0                                                    |  0.0                                                    | ...                                                     |  0.0                                                    | 24.5                                                    |                                                         | 0                                                       | 0                                                       | 0                                                       | 1                                                       | 0                                                       | 1                                                       | 0                                                       |\n",
       "| www.hellssoapopera.com                                  | 1999                                                    | 100                                                     |       NA                                                | 6.6                                                     |     5                                                   | 24.5                                                    |  0.0                                                    | 24.5                                                    |  0.0                                                    | ...                                                     | 24.5                                                    | 44.5                                                    |                                                         | 0                                                       | 0                                                       | 0                                                       | 0                                                       | 0                                                       | 0                                                       | 0                                                       |\n",
       "| xXx                                                     | 2002                                                    | 132                                                     | 85000000                                                | 5.5                                                     | 18514                                                   |  4.5                                                    |  4.5                                                    |  4.5                                                    |  4.5                                                    | ...                                                     |  4.5                                                    |  4.5                                                    | PG-13                                                   | 1                                                       | 0                                                       | 0                                                       | 0                                                       | 0                                                       | 0                                                       | 0                                                       |\n",
       "| xXx: State of the Union                                 | 2005                                                    | 101                                                     | 87000000                                                | 3.9                                                     |  1584                                                   | 24.5                                                    |  4.5                                                    |  4.5                                                    |  4.5                                                    | ...                                                     |  4.5                                                    | 14.5                                                    | PG-13                                                   | 1                                                       | 0                                                       | 0                                                       | 0                                                       | 0                                                       | 0                                                       | 0                                                       |\n",
       "\n"
      ],
      "text/plain": [
       "      title                                                   year length\n",
       "1     $                                                       1971 121   \n",
       "2     $1000 a Touchdown                                       1939  71   \n",
       "3     $21 a Day Once a Month                                  1941   7   \n",
       "4     $40,000                                                 1996  70   \n",
       "5     $50,000 Climax Show, The                                1975  71   \n",
       "6     $pent                                                   2000  91   \n",
       "7     $windle                                                 2002  93   \n",
       "8     '15'                                                    2002  25   \n",
       "9     '38                                                     1987  97   \n",
       "10    '49-'17                                                 1917  61   \n",
       "11    '68                                                     1988  99   \n",
       "12    '94 du bi dao zhi qing                                  1994  96   \n",
       "13    '?' Motorist, The                                       1906  10   \n",
       "14    'A'                                                     1965  10   \n",
       "15    'A' gai waak                                            1983 106   \n",
       "16    'A' gai waak juk jaap                                   1987 101   \n",
       "17    'Breaker' Morant                                        1980 107   \n",
       "18    'Bullitt': Steve McQueen's Commitment to Reality        1968  10   \n",
       "19    'Crocodile' Dundee II                                   1988 110   \n",
       "20    'E'                                                     1981   7   \n",
       "21    'El Chicko' - der Verdacht                              1995  90   \n",
       "22    'G' Men                                                 1935  85   \n",
       "23    'Gator Bait                                             1974  88   \n",
       "24    'Gator Bait II: Cajun Justice                           1988  95   \n",
       "25    'High Sign', The                                        1921  18   \n",
       "26    'Hukkunud Alpinisti' hotell                             1979  80   \n",
       "27    'Hyp-Nut-Tist', The                                     1935   6   \n",
       "28    'I Do...'                                               1989  86   \n",
       "29    'I Know Where I'm Going!'                               1945  92   \n",
       "30    'Java Madness' formerly titled 'Coffee Madness'         1995   7   \n",
       "...   ...                                                     ...  ...   \n",
       "58759 Zwoele zomeravond, Een                                  1982  95   \n",
       "58760 Zwolnieni z zycia                                       1992  90   \n",
       "58761 Zycie jako smiertelna choroba przenoszona droga plciowa 2000  99   \n",
       "58762 Zycie rodzinne                                          1971  88   \n",
       "58763 Zycie wewnetrzne                                        1987  86   \n",
       "58764 Zycie za zycie                                          1991  90   \n",
       "58765 Zyciorys                                                1975  46   \n",
       "58766 Zyklus von Kleinigkeiten                                1999  86   \n",
       "58767 Zyosyuu syukeininn Maria                                1995  75   \n",
       "58768 Zywot Mateusza                                          1967  80   \n",
       "58769 Zzikhimyeon jukneunda                                   2000  94   \n",
       "58770 Zzim                                                    1998 101   \n",
       "58771 Zzyzx                                                   2005  90   \n",
       "58772 alaska.de                                               2000  89   \n",
       "58773 barefootin'                                             1987   3   \n",
       "58774 deadend.com                                             2002 120   \n",
       "58775 e-Dreams                                                2001  94   \n",
       "58776 eMale                                                   2001  17   \n",
       "58777 eRATicate                                               2003   9   \n",
       "58778 eXXXorcismos                                            2002  78   \n",
       "58779 eXistenZ                                                1999  97   \n",
       "58780 f2point8                                                2002  20   \n",
       "58781 f8                                                      2001  13   \n",
       "58782 pURe kILLjoy                                            1998  87   \n",
       "58783 sIDney                                                  2002  15   \n",
       "58784 tom thumb                                               1958  98   \n",
       "58785 www.XXX.com                                             2003 105   \n",
       "58786 www.hellssoapopera.com                                  1999 100   \n",
       "58787 xXx                                                     2002 132   \n",
       "58788 xXx: State of the Union                                 2005 101   \n",
       "      budget   rating votes r1   r2   r3   r4   ... r9   r10  mpaa  Action\n",
       "1         NA   6.4     348   4.5  4.5  4.5  4.5 ...  4.5  4.5       0     \n",
       "2         NA   6.0      20   0.0 14.5  4.5 24.5 ...  4.5 14.5       0     \n",
       "3         NA   8.2       5   0.0  0.0  0.0  0.0 ... 24.5 24.5       0     \n",
       "4         NA   8.2       6  14.5  0.0  0.0  0.0 ... 34.5 45.5       0     \n",
       "5         NA   3.4      17  24.5  4.5  0.0 14.5 ...  0.0 24.5       0     \n",
       "6         NA   4.3      45   4.5  4.5  4.5 14.5 ... 14.5 14.5       0     \n",
       "7         NA   5.3     200   4.5  0.0  4.5  4.5 ...  4.5 14.5 R     1     \n",
       "8         NA   6.7      24   4.5  4.5  4.5  4.5 ...  4.5 14.5       0     \n",
       "9         NA   6.6      18   4.5  4.5  4.5  0.0 ...  4.5 24.5       0     \n",
       "10        NA   6.0      51   4.5  0.0  4.5  4.5 ...  4.5  4.5       0     \n",
       "11        NA   5.4      23   4.5  0.0  4.5 14.5 ... 14.5  4.5       0     \n",
       "12        NA   5.9      53   4.5  0.0  4.5  4.5 ...  4.5 24.5       0     \n",
       "13        NA   7.0      44   4.5  0.0  0.0  0.0 ...  4.5 14.5       0     \n",
       "14        NA   6.7      11  14.5  0.0  0.0  0.0 ... 14.5 24.5       0     \n",
       "15        NA   7.1    1259   4.5  4.5  4.5  4.5 ... 14.5 24.5 PG-13 1     \n",
       "16        NA   7.2     614   4.5  4.5  4.5  4.5 ... 14.5 14.5 PG-13 1     \n",
       "17        NA   7.9    2718   4.5  4.5  4.5  4.5 ... 24.5 24.5       0     \n",
       "18        NA   6.6      37   0.0  0.0  4.5  4.5 ...  4.5  4.5       0     \n",
       "19        NA   5.0    7252   4.5  4.5  4.5 14.5 ...  4.5  4.5       1     \n",
       "20        NA   8.6      15   0.0  0.0  0.0  0.0 ... 24.5 45.5       0     \n",
       "21        NA   3.9      10  24.5 14.5 24.5 14.5 ...  0.0 24.5       0     \n",
       "22    450000   7.2     281   0.0  4.5  4.5  4.5 ...  4.5  4.5       0     \n",
       "23        NA   3.5     100  14.5 14.5 24.5 14.5 ...  4.5  4.5       1     \n",
       "24        NA   3.1      54  24.5 14.5  4.5 14.5 ...  0.0  4.5       0     \n",
       "25        NA   7.8     145   0.0  0.0  4.5  0.0 ... 24.5 14.5       0     \n",
       "26        NA   7.7      45   4.5  0.0  4.5  4.5 ... 14.5 34.5       0     \n",
       "27        NA   6.2      18   4.5  0.0  0.0 24.5 ... 14.5  0.0       0     \n",
       "28        NA   6.2      10   0.0  0.0  0.0 24.5 ... 14.5 14.5       0     \n",
       "29        NA   7.7     825   4.5  4.5  4.5  4.5 ... 14.5 34.5       0     \n",
       "30        NA   6.8      10   0.0 14.5  0.0  0.0 ... 14.5 34.5       0     \n",
       "...   ...      ...    ...   ...  ...  ...  ...      ...  ...  ...   ...   \n",
       "58759       NA 6.4       13  0.0  0.0  0.0  0.0 ... 24.5  4.5       0     \n",
       "58760       NA 6.9        9  0.0  0.0  0.0  0.0 ...  0.0 24.5       0     \n",
       "58761       NA 7.0       97  4.5  0.0  0.0  4.5 ... 14.5 14.5       0     \n",
       "58762       NA 6.0       14  0.0  4.5  0.0  0.0 ... 34.5  4.5       0     \n",
       "58763       NA 6.5        8 14.5  0.0  0.0  0.0 ...  0.0 24.5       0     \n",
       "58764       NA 5.1       10  0.0  0.0 14.5 14.5 ... 14.5 34.5       0     \n",
       "58765       NA 3.6        5 24.5  0.0  0.0 24.5 ...  0.0 44.5       0     \n",
       "58766       NA 6.0        5  0.0  0.0 44.5  0.0 ...  0.0 24.5       0     \n",
       "58767       NA 3.7       19 14.5  4.5 14.5 14.5 ...  4.5  0.0 R     0     \n",
       "58768       NA 5.4       31  4.5  4.5  4.5  4.5 ...  4.5 34.5       0     \n",
       "58769       NA 4.7       45 14.5  4.5  4.5 24.5 ...  0.0  4.5       0     \n",
       "58770       NA 4.5       14 14.5  4.5 24.5  4.5 ...  4.5  0.0       0     \n",
       "58771  1000000 8.0       10 24.5  0.0  0.0  0.0 ... 24.5 64.5       0     \n",
       "58772       NA 6.2      186  4.5  4.5  4.5  4.5 ... 14.5  4.5       0     \n",
       "58773       NA 5.7        6  0.0  0.0  0.0 14.5 ...  0.0  0.0       0     \n",
       "58774       NA 6.9       53 64.5  4.5  0.0  4.5 ...  4.5  4.5       0     \n",
       "58775       NA 6.8       86  4.5  0.0  0.0  4.5 ...  4.5 14.5       0     \n",
       "58776       NA 7.3       15  0.0  0.0  0.0  4.5 ... 24.5 24.5       0     \n",
       "58777       NA 6.0        5  0.0  0.0  0.0  0.0 ... 24.5 44.5       0     \n",
       "58778       NA 4.2       11 34.5  0.0  0.0  0.0 ...  4.5 24.5       0     \n",
       "58779       NA 6.7    14742  4.5  4.5  4.5  4.5 ... 14.5  4.5 R     0     \n",
       "58780       NA 5.0       13  4.5  0.0  4.5  4.5 ... 14.5 24.5       0     \n",
       "58781       NA 7.6        7  0.0  0.0  0.0  0.0 ... 24.5  0.0       0     \n",
       "58782       NA 5.2        6  0.0 14.5 14.5 14.5 ...  0.0 14.5       0     \n",
       "58783       NA 7.0        8 14.5  0.0  0.0 14.5 ... 14.5 24.5       1     \n",
       "58784       NA 6.5      274  4.5  4.5  4.5  4.5 ...  4.5  4.5       0     \n",
       "58785       NA 1.1       12 45.5  0.0  0.0  0.0 ...  0.0 24.5       0     \n",
       "58786       NA 6.6        5 24.5  0.0 24.5  0.0 ... 24.5 44.5       0     \n",
       "58787 85000000 5.5    18514  4.5  4.5  4.5  4.5 ...  4.5  4.5 PG-13 1     \n",
       "58788 87000000 3.9     1584 24.5  4.5  4.5  4.5 ...  4.5 14.5 PG-13 1     \n",
       "      Animation Comedy Drama Documentary Romance Short\n",
       "1     0         1      1     0           0       0    \n",
       "2     0         1      0     0           0       0    \n",
       "3     1         0      0     0           0       1    \n",
       "4     0         1      0     0           0       0    \n",
       "5     0         0      0     0           0       0    \n",
       "6     0         0      1     0           0       0    \n",
       "7     0         0      1     0           0       0    \n",
       "8     0         0      0     1           0       1    \n",
       "9     0         0      1     0           0       0    \n",
       "10    0         0      0     0           0       0    \n",
       "11    0         0      1     0           0       0    \n",
       "12    0         0      0     0           0       0    \n",
       "13    0         1      0     0           0       1    \n",
       "14    0         0      0     0           0       1    \n",
       "15    0         1      0     0           0       0    \n",
       "16    0         1      0     0           0       0    \n",
       "17    0         0      1     0           0       0    \n",
       "18    0         0      0     1           0       1    \n",
       "19    0         1      0     0           0       0    \n",
       "20    1         1      0     0           0       1    \n",
       "21    0         1      0     0           0       0    \n",
       "22    0         0      1     0           0       0    \n",
       "23    0         0      1     0           0       0    \n",
       "24    0         0      0     0           0       0    \n",
       "25    0         1      0     0           0       1    \n",
       "26    0         0      0     0           0       0    \n",
       "27    1         1      0     0           0       1    \n",
       "28    0         0      0     0           0       0    \n",
       "29    0         0      1     0           1       0    \n",
       "30    0         1      0     0           0       1    \n",
       "...   ...       ...    ...   ...         ...     ...  \n",
       "58759 0         0      0     0           0       0    \n",
       "58760 0         0      0     0           0       0    \n",
       "58761 0         0      1     0           0       0    \n",
       "58762 0         0      1     0           0       0    \n",
       "58763 0         0      0     0           0       0    \n",
       "58764 0         0      0     0           0       0    \n",
       "58765 0         0      1     0           0       0    \n",
       "58766 0         0      1     0           0       0    \n",
       "58767 0         0      0     0           0       0    \n",
       "58768 0         0      1     0           0       0    \n",
       "58769 0         0      0     0           0       0    \n",
       "58770 0         0      0     0           0       0    \n",
       "58771 0         0      0     0           0       0    \n",
       "58772 0         0      1     0           0       0    \n",
       "58773 1         0      0     0           0       1    \n",
       "58774 0         0      1     0           0       0    \n",
       "58775 0         0      0     1           0       0    \n",
       "58776 0         1      0     0           0       1    \n",
       "58777 0         1      0     0           0       1    \n",
       "58778 0         0      1     0           0       0    \n",
       "58779 0         0      1     0           0       0    \n",
       "58780 0         0      0     0           0       1    \n",
       "58781 1         0      0     0           0       1    \n",
       "58782 0         0      0     0           0       0    \n",
       "58783 0         0      0     0           0       1    \n",
       "58784 1         0      0     0           0       0    \n",
       "58785 0         0      1     0           1       0    \n",
       "58786 0         0      0     0           0       0    \n",
       "58787 0         0      0     0           0       0    \n",
       "58788 0         0      0     0           0       0    "
      ]
     },
     "metadata": {},
     "output_type": "display_data"
    },
    {
     "data": {
      "text/html": [
       "<ol class=list-inline>\n",
       "\t<li>'title'</li>\n",
       "\t<li>'year'</li>\n",
       "\t<li>'length'</li>\n",
       "\t<li>'budget'</li>\n",
       "\t<li>'rating'</li>\n",
       "\t<li>'votes'</li>\n",
       "\t<li>'r1'</li>\n",
       "\t<li>'r2'</li>\n",
       "\t<li>'r3'</li>\n",
       "\t<li>'r4'</li>\n",
       "\t<li>'r5'</li>\n",
       "\t<li>'r6'</li>\n",
       "\t<li>'r7'</li>\n",
       "\t<li>'r8'</li>\n",
       "\t<li>'r9'</li>\n",
       "\t<li>'r10'</li>\n",
       "\t<li>'mpaa'</li>\n",
       "\t<li>'Action'</li>\n",
       "\t<li>'Animation'</li>\n",
       "\t<li>'Comedy'</li>\n",
       "\t<li>'Drama'</li>\n",
       "\t<li>'Documentary'</li>\n",
       "\t<li>'Romance'</li>\n",
       "\t<li>'Short'</li>\n",
       "</ol>\n"
      ],
      "text/latex": [
       "\\begin{enumerate*}\n",
       "\\item 'title'\n",
       "\\item 'year'\n",
       "\\item 'length'\n",
       "\\item 'budget'\n",
       "\\item 'rating'\n",
       "\\item 'votes'\n",
       "\\item 'r1'\n",
       "\\item 'r2'\n",
       "\\item 'r3'\n",
       "\\item 'r4'\n",
       "\\item 'r5'\n",
       "\\item 'r6'\n",
       "\\item 'r7'\n",
       "\\item 'r8'\n",
       "\\item 'r9'\n",
       "\\item 'r10'\n",
       "\\item 'mpaa'\n",
       "\\item 'Action'\n",
       "\\item 'Animation'\n",
       "\\item 'Comedy'\n",
       "\\item 'Drama'\n",
       "\\item 'Documentary'\n",
       "\\item 'Romance'\n",
       "\\item 'Short'\n",
       "\\end{enumerate*}\n"
      ],
      "text/markdown": [
       "1. 'title'\n",
       "2. 'year'\n",
       "3. 'length'\n",
       "4. 'budget'\n",
       "5. 'rating'\n",
       "6. 'votes'\n",
       "7. 'r1'\n",
       "8. 'r2'\n",
       "9. 'r3'\n",
       "10. 'r4'\n",
       "11. 'r5'\n",
       "12. 'r6'\n",
       "13. 'r7'\n",
       "14. 'r8'\n",
       "15. 'r9'\n",
       "16. 'r10'\n",
       "17. 'mpaa'\n",
       "18. 'Action'\n",
       "19. 'Animation'\n",
       "20. 'Comedy'\n",
       "21. 'Drama'\n",
       "22. 'Documentary'\n",
       "23. 'Romance'\n",
       "24. 'Short'\n",
       "\n",
       "\n"
      ],
      "text/plain": [
       " [1] \"title\"       \"year\"        \"length\"      \"budget\"      \"rating\"     \n",
       " [6] \"votes\"       \"r1\"          \"r2\"          \"r3\"          \"r4\"         \n",
       "[11] \"r5\"          \"r6\"          \"r7\"          \"r8\"          \"r9\"         \n",
       "[16] \"r10\"         \"mpaa\"        \"Action\"      \"Animation\"   \"Comedy\"     \n",
       "[21] \"Drama\"       \"Documentary\" \"Romance\"     \"Short\"      "
      ]
     },
     "metadata": {},
     "output_type": "display_data"
    },
    {
     "data": {
      "text/html": [
       "<table>\n",
       "<thead><tr><th scope=col>title</th><th scope=col>year</th><th scope=col>length</th><th scope=col>budget</th><th scope=col>rating</th><th scope=col>votes</th><th scope=col>r1</th><th scope=col>r2</th><th scope=col>r3</th><th scope=col>r4</th><th scope=col>...</th><th scope=col>r9</th><th scope=col>r10</th><th scope=col>mpaa</th><th scope=col>Action</th><th scope=col>Animation</th><th scope=col>Comedy</th><th scope=col>Drama</th><th scope=col>Documentary</th><th scope=col>Romance</th><th scope=col>Short</th></tr></thead>\n",
       "<tbody>\n",
       "\t<tr><td>$                       </td><td>1971                    </td><td>121                     </td><td>NA                      </td><td>6.4                     </td><td>348                     </td><td> 4.5                    </td><td> 4.5                    </td><td>4.5                     </td><td> 4.5                    </td><td>...                     </td><td> 4.5                    </td><td> 4.5                    </td><td>                        </td><td>0                       </td><td>0                       </td><td>1                       </td><td>1                       </td><td>0                       </td><td>0                       </td><td>0                       </td></tr>\n",
       "\t<tr><td>$1000 a Touchdown       </td><td>1939                    </td><td> 71                     </td><td>NA                      </td><td>6.0                     </td><td> 20                     </td><td> 0.0                    </td><td>14.5                    </td><td>4.5                     </td><td>24.5                    </td><td>...                     </td><td> 4.5                    </td><td>14.5                    </td><td>                        </td><td>0                       </td><td>0                       </td><td>1                       </td><td>0                       </td><td>0                       </td><td>0                       </td><td>0                       </td></tr>\n",
       "\t<tr><td>$21 a Day Once a Month  </td><td>1941                    </td><td>  7                     </td><td>NA                      </td><td>8.2                     </td><td>  5                     </td><td> 0.0                    </td><td> 0.0                    </td><td>0.0                     </td><td> 0.0                    </td><td>...                     </td><td>24.5                    </td><td>24.5                    </td><td>                        </td><td>0                       </td><td>1                       </td><td>0                       </td><td>0                       </td><td>0                       </td><td>0                       </td><td>1                       </td></tr>\n",
       "\t<tr><td>$40,000                 </td><td>1996                    </td><td> 70                     </td><td>NA                      </td><td>8.2                     </td><td>  6                     </td><td>14.5                    </td><td> 0.0                    </td><td>0.0                     </td><td> 0.0                    </td><td>...                     </td><td>34.5                    </td><td>45.5                    </td><td>                        </td><td>0                       </td><td>0                       </td><td>1                       </td><td>0                       </td><td>0                       </td><td>0                       </td><td>0                       </td></tr>\n",
       "\t<tr><td>$50,000 Climax Show, The</td><td>1975                    </td><td> 71                     </td><td>NA                      </td><td>3.4                     </td><td> 17                     </td><td>24.5                    </td><td> 4.5                    </td><td>0.0                     </td><td>14.5                    </td><td>...                     </td><td> 0.0                    </td><td>24.5                    </td><td>                        </td><td>0                       </td><td>0                       </td><td>0                       </td><td>0                       </td><td>0                       </td><td>0                       </td><td>0                       </td></tr>\n",
       "\t<tr><td>$pent                   </td><td>2000                    </td><td> 91                     </td><td>NA                      </td><td>4.3                     </td><td> 45                     </td><td> 4.5                    </td><td> 4.5                    </td><td>4.5                     </td><td>14.5                    </td><td>...                     </td><td>14.5                    </td><td>14.5                    </td><td>                        </td><td>0                       </td><td>0                       </td><td>0                       </td><td>1                       </td><td>0                       </td><td>0                       </td><td>0                       </td></tr>\n",
       "</tbody>\n",
       "</table>\n"
      ],
      "text/latex": [
       "\\begin{tabular}{r|llllllllllllllllllllllll}\n",
       " title & year & length & budget & rating & votes & r1 & r2 & r3 & r4 & ... & r9 & r10 & mpaa & Action & Animation & Comedy & Drama & Documentary & Romance & Short\\\\\n",
       "\\hline\n",
       "\t \\$                        & 1971                       & 121                        & NA                         & 6.4                        & 348                        &  4.5                       &  4.5                       & 4.5                        &  4.5                       & ...                        &  4.5                       &  4.5                       &                            & 0                          & 0                          & 1                          & 1                          & 0                          & 0                          & 0                         \\\\\n",
       "\t \\$1000 a Touchdown        & 1939                       &  71                        & NA                         & 6.0                        &  20                        &  0.0                       & 14.5                       & 4.5                        & 24.5                       & ...                        &  4.5                       & 14.5                       &                            & 0                          & 0                          & 1                          & 0                          & 0                          & 0                          & 0                         \\\\\n",
       "\t \\$21 a Day Once a Month   & 1941                       &   7                        & NA                         & 8.2                        &   5                        &  0.0                       &  0.0                       & 0.0                        &  0.0                       & ...                        & 24.5                       & 24.5                       &                            & 0                          & 1                          & 0                          & 0                          & 0                          & 0                          & 1                         \\\\\n",
       "\t \\$40,000                  & 1996                       &  70                        & NA                         & 8.2                        &   6                        & 14.5                       &  0.0                       & 0.0                        &  0.0                       & ...                        & 34.5                       & 45.5                       &                            & 0                          & 0                          & 1                          & 0                          & 0                          & 0                          & 0                         \\\\\n",
       "\t \\$50,000 Climax Show, The & 1975                       &  71                        & NA                         & 3.4                        &  17                        & 24.5                       &  4.5                       & 0.0                        & 14.5                       & ...                        &  0.0                       & 24.5                       &                            & 0                          & 0                          & 0                          & 0                          & 0                          & 0                          & 0                         \\\\\n",
       "\t \\$pent                    & 2000                       &  91                        & NA                         & 4.3                        &  45                        &  4.5                       &  4.5                       & 4.5                        & 14.5                       & ...                        & 14.5                       & 14.5                       &                            & 0                          & 0                          & 0                          & 1                          & 0                          & 0                          & 0                         \\\\\n",
       "\\end{tabular}\n"
      ],
      "text/markdown": [
       "\n",
       "| title | year | length | budget | rating | votes | r1 | r2 | r3 | r4 | ... | r9 | r10 | mpaa | Action | Animation | Comedy | Drama | Documentary | Romance | Short |\n",
       "|---|---|---|---|---|---|---|---|---|---|---|---|---|---|---|---|---|---|---|---|---|\n",
       "| $                        | 1971                     | 121                      | NA                       | 6.4                      | 348                      |  4.5                     |  4.5                     | 4.5                      |  4.5                     | ...                      |  4.5                     |  4.5                     |                          | 0                        | 0                        | 1                        | 1                        | 0                        | 0                        | 0                        |\n",
       "| $1000 a Touchdown        | 1939                     |  71                      | NA                       | 6.0                      |  20                      |  0.0                     | 14.5                     | 4.5                      | 24.5                     | ...                      |  4.5                     | 14.5                     |                          | 0                        | 0                        | 1                        | 0                        | 0                        | 0                        | 0                        |\n",
       "| $21 a Day Once a Month   | 1941                     |   7                      | NA                       | 8.2                      |   5                      |  0.0                     |  0.0                     | 0.0                      |  0.0                     | ...                      | 24.5                     | 24.5                     |                          | 0                        | 1                        | 0                        | 0                        | 0                        | 0                        | 1                        |\n",
       "| $40,000                  | 1996                     |  70                      | NA                       | 8.2                      |   6                      | 14.5                     |  0.0                     | 0.0                      |  0.0                     | ...                      | 34.5                     | 45.5                     |                          | 0                        | 0                        | 1                        | 0                        | 0                        | 0                        | 0                        |\n",
       "| $50,000 Climax Show, The | 1975                     |  71                      | NA                       | 3.4                      |  17                      | 24.5                     |  4.5                     | 0.0                      | 14.5                     | ...                      |  0.0                     | 24.5                     |                          | 0                        | 0                        | 0                        | 0                        | 0                        | 0                        | 0                        |\n",
       "| $pent                    | 2000                     |  91                      | NA                       | 4.3                      |  45                      |  4.5                     |  4.5                     | 4.5                      | 14.5                     | ...                      | 14.5                     | 14.5                     |                          | 0                        | 0                        | 0                        | 1                        | 0                        | 0                        | 0                        |\n",
       "\n"
      ],
      "text/plain": [
       "  title                    year length budget rating votes r1   r2   r3  r4  \n",
       "1 $                        1971 121    NA     6.4    348    4.5  4.5 4.5  4.5\n",
       "2 $1000 a Touchdown        1939  71    NA     6.0     20    0.0 14.5 4.5 24.5\n",
       "3 $21 a Day Once a Month   1941   7    NA     8.2      5    0.0  0.0 0.0  0.0\n",
       "4 $40,000                  1996  70    NA     8.2      6   14.5  0.0 0.0  0.0\n",
       "5 $50,000 Climax Show, The 1975  71    NA     3.4     17   24.5  4.5 0.0 14.5\n",
       "6 $pent                    2000  91    NA     4.3     45    4.5  4.5 4.5 14.5\n",
       "  ... r9   r10  mpaa Action Animation Comedy Drama Documentary Romance Short\n",
       "1 ...  4.5  4.5      0      0         1      1     0           0       0    \n",
       "2 ...  4.5 14.5      0      0         1      0     0           0       0    \n",
       "3 ... 24.5 24.5      0      1         0      0     0           0       1    \n",
       "4 ... 34.5 45.5      0      0         1      0     0           0       0    \n",
       "5 ...  0.0 24.5      0      0         0      0     0           0       0    \n",
       "6 ... 14.5 14.5      0      0         0      1     0           0       0    "
      ]
     },
     "metadata": {},
     "output_type": "display_data"
    },
    {
     "data": {
      "text/plain": [
       "    title                year          length            budget         \n",
       " Length:58788       Min.   :1893   Min.   :   1.00   Min.   :        0  \n",
       " Class :character   1st Qu.:1958   1st Qu.:  74.00   1st Qu.:   250000  \n",
       " Mode  :character   Median :1983   Median :  90.00   Median :  3000000  \n",
       "                    Mean   :1976   Mean   :  82.34   Mean   : 13412513  \n",
       "                    3rd Qu.:1997   3rd Qu.: 100.00   3rd Qu.: 15000000  \n",
       "                    Max.   :2005   Max.   :5220.00   Max.   :200000000  \n",
       "                                                     NA's   :53573      \n",
       "     rating           votes                r1                r2        \n",
       " Min.   : 1.000   Min.   :     5.0   Min.   :  0.000   Min.   : 0.000  \n",
       " 1st Qu.: 5.000   1st Qu.:    11.0   1st Qu.:  0.000   1st Qu.: 0.000  \n",
       " Median : 6.100   Median :    30.0   Median :  4.500   Median : 4.500  \n",
       " Mean   : 5.933   Mean   :   632.1   Mean   :  7.014   Mean   : 4.022  \n",
       " 3rd Qu.: 7.000   3rd Qu.:   112.0   3rd Qu.:  4.500   3rd Qu.: 4.500  \n",
       " Max.   :10.000   Max.   :157608.0   Max.   :100.000   Max.   :84.500  \n",
       "                                                                       \n",
       "       r3               r4                r5                r6       \n",
       " Min.   : 0.000   Min.   :  0.000   Min.   :  0.000   Min.   : 0.00  \n",
       " 1st Qu.: 0.000   1st Qu.:  0.000   1st Qu.:  4.500   1st Qu.: 4.50  \n",
       " Median : 4.500   Median :  4.500   Median :  4.500   Median :14.50  \n",
       " Mean   : 4.721   Mean   :  6.375   Mean   :  9.797   Mean   :13.04  \n",
       " 3rd Qu.: 4.500   3rd Qu.:  4.500   3rd Qu.: 14.500   3rd Qu.:14.50  \n",
       " Max.   :84.500   Max.   :100.000   Max.   :100.000   Max.   :84.50  \n",
       "                                                                     \n",
       "       r7               r8               r9               r10        \n",
       " Min.   :  0.00   Min.   :  0.00   Min.   :  0.000   Min.   :  0.00  \n",
       " 1st Qu.:  4.50   1st Qu.:  4.50   1st Qu.:  4.500   1st Qu.:  4.50  \n",
       " Median : 14.50   Median : 14.50   Median :  4.500   Median : 14.50  \n",
       " Mean   : 15.55   Mean   : 13.88   Mean   :  8.954   Mean   : 16.85  \n",
       " 3rd Qu.: 24.50   3rd Qu.: 24.50   3rd Qu.: 14.500   3rd Qu.: 24.50  \n",
       " Max.   :100.00   Max.   :100.00   Max.   :100.000   Max.   :100.00  \n",
       "                                                                     \n",
       "     mpaa               Action          Animation           Comedy      \n",
       " Length:58788       Min.   :0.00000   Min.   :0.00000   Min.   :0.0000  \n",
       " Class :character   1st Qu.:0.00000   1st Qu.:0.00000   1st Qu.:0.0000  \n",
       " Mode  :character   Median :0.00000   Median :0.00000   Median :0.0000  \n",
       "                    Mean   :0.07974   Mean   :0.06277   Mean   :0.2938  \n",
       "                    3rd Qu.:0.00000   3rd Qu.:0.00000   3rd Qu.:1.0000  \n",
       "                    Max.   :1.00000   Max.   :1.00000   Max.   :1.0000  \n",
       "                                                                        \n",
       "     Drama        Documentary         Romance           Short       \n",
       " Min.   :0.000   Min.   :0.00000   Min.   :0.0000   Min.   :0.0000  \n",
       " 1st Qu.:0.000   1st Qu.:0.00000   1st Qu.:0.0000   1st Qu.:0.0000  \n",
       " Median :0.000   Median :0.00000   Median :0.0000   Median :0.0000  \n",
       " Mean   :0.371   Mean   :0.05906   Mean   :0.0807   Mean   :0.1609  \n",
       " 3rd Qu.:1.000   3rd Qu.:0.00000   3rd Qu.:0.0000   3rd Qu.:0.0000  \n",
       " Max.   :1.000   Max.   :1.00000   Max.   :1.0000   Max.   :1.0000  \n",
       "                                                                    "
      ]
     },
     "metadata": {},
     "output_type": "display_data"
    },
    {
     "name": "stdout",
     "output_type": "stream",
     "text": [
      "Classes 'tbl_df', 'tbl' and 'data.frame':\t58788 obs. of  24 variables:\n",
      " $ title      : chr  \"$\" \"$1000 a Touchdown\" \"$21 a Day Once a Month\" \"$40,000\" ...\n",
      " $ year       : int  1971 1939 1941 1996 1975 2000 2002 2002 1987 1917 ...\n",
      " $ length     : int  121 71 7 70 71 91 93 25 97 61 ...\n",
      " $ budget     : int  NA NA NA NA NA NA NA NA NA NA ...\n",
      " $ rating     : num  6.4 6 8.2 8.2 3.4 4.3 5.3 6.7 6.6 6 ...\n",
      " $ votes      : int  348 20 5 6 17 45 200 24 18 51 ...\n",
      " $ r1         : num  4.5 0 0 14.5 24.5 4.5 4.5 4.5 4.5 4.5 ...\n",
      " $ r2         : num  4.5 14.5 0 0 4.5 4.5 0 4.5 4.5 0 ...\n",
      " $ r3         : num  4.5 4.5 0 0 0 4.5 4.5 4.5 4.5 4.5 ...\n",
      " $ r4         : num  4.5 24.5 0 0 14.5 14.5 4.5 4.5 0 4.5 ...\n",
      " $ r5         : num  14.5 14.5 0 0 14.5 14.5 24.5 4.5 0 4.5 ...\n",
      " $ r6         : num  24.5 14.5 24.5 0 4.5 14.5 24.5 14.5 0 44.5 ...\n",
      " $ r7         : num  24.5 14.5 0 0 0 4.5 14.5 14.5 34.5 14.5 ...\n",
      " $ r8         : num  14.5 4.5 44.5 0 0 4.5 4.5 14.5 14.5 4.5 ...\n",
      " $ r9         : num  4.5 4.5 24.5 34.5 0 14.5 4.5 4.5 4.5 4.5 ...\n",
      " $ r10        : num  4.5 14.5 24.5 45.5 24.5 14.5 14.5 14.5 24.5 4.5 ...\n",
      " $ mpaa       : chr  \"\" \"\" \"\" \"\" ...\n",
      " $ Action     : int  0 0 0 0 0 0 1 0 0 0 ...\n",
      " $ Animation  : int  0 0 1 0 0 0 0 0 0 0 ...\n",
      " $ Comedy     : int  1 1 0 1 0 0 0 0 0 0 ...\n",
      " $ Drama      : int  1 0 0 0 0 1 1 0 1 0 ...\n",
      " $ Documentary: int  0 0 0 0 0 0 0 1 0 0 ...\n",
      " $ Romance    : int  0 0 0 0 0 0 0 0 0 0 ...\n",
      " $ Short      : int  0 0 1 0 0 0 0 1 0 0 ...\n"
     ]
    }
   ],
   "source": [
    "library(ggplot2)\n",
    "library(ggplot2movies)\n",
    "movies\n",
    "colnames(movies)\n",
    "head(movies)\n",
    "summary(movies)\n",
    "str(movies)"
   ]
  },
  {
   "cell_type": "code",
   "execution_count": 56,
   "metadata": {},
   "outputs": [
    {
     "name": "stderr",
     "output_type": "stream",
     "text": [
      "Warning message in plot.window(xlim, ylim, log = log, ...):\n",
      "\"\"legent\" is not a graphical parameter\"Warning message in axis(if (horiz) 2 else 1, at = at.l, labels = names.arg, lty = axis.lty, :\n",
      "\"\"legent\" is not a graphical parameter\"Warning message in title(main = main, sub = sub, xlab = xlab, ylab = ylab, ...):\n",
      "\"\"legent\" is not a graphical parameter\"Warning message in axis(if (horiz) 1 else 2, cex.axis = cex.axis, ...):\n",
      "\"\"legent\" is not a graphical parameter\""
     ]
    },
    {
     "data": {
      "image/png": "[encoded data removed]",
      "text/plain": [
       "Plot with title \"Movies bar plot\""
      ]
     },
     "metadata": {},
     "output_type": "display_data"
    }
   ],
   "source": [
    "#bar plot:\n",
    "a=table(movies$Action)\n",
    "barplot(a,\n",
    "        main = \"Movies bar plot\",\n",
    "    xlab=\"improvements\",\n",
    "        ylab=\"frequency\",\n",
    "        legent=rownames(a),\n",
    "        col=c(\"pink\",\" light blue\"))"
   ]
  },
  {
   "cell_type": "markdown",
   "metadata": {},
   "source": [
    "2. Grouped bar plot"
   ]
  },
  {
   "cell_type": "code",
   "execution_count": 57,
   "metadata": {},
   "outputs": [
    {
     "data": {
      "image/png": "[encoded data removed]",
      "text/plain": [
       "plot without title"
      ]
     },
     "metadata": {},
     "output_type": "display_data"
    },
    {
     "data": {
      "image/png": "[encoded data removed]",
      "text/plain": [
       "Plot with title \"Movies grouped bar plot\""
      ]
     },
     "metadata": {},
     "output_type": "display_data"
    }
   ],
   "source": [
    "a1=table(movies$Action,movies$Comedy)\n",
    "barplot(a1)\n",
    "barplot(a1,\n",
    "        beside=TRUE,\n",
    "        main=\"Movies grouped bar plot\",\n",
    "        xlab=\"gener\",\n",
    "        ylab=\"frequency\",\n",
    "        legend=rownames(a1),\n",
    "        col=c(\"pink\",\" light blue\"))\n"
   ]
  },
  {
   "cell_type": "markdown",
   "metadata": {},
   "source": [
    "3. Line chart"
   ]
  },
  {
   "cell_type": "code",
   "execution_count": 58,
   "metadata": {},
   "outputs": [
    {
     "data": {
      "image/png": "[encoded data removed]",
      "text/plain": [
       "Plot with title \"Movies line chart\""
      ]
     },
     "metadata": {},
     "output_type": "display_data"
    },
    {
     "data": {
      "image/png": "[encoded data removed]",
      "text/plain": [
       "Plot with title \"Movies line chart\""
      ]
     },
     "metadata": {},
     "output_type": "display_data"
    }
   ],
   "source": [
    "plot(movies$Action,movies$votes,type=\"o\",main = \"Movies line chart\")\n",
    "plot(movies$Comedy,movies$votes,type=\"b\",main = \"Movies line chart\")\n"
   ]
  },
  {
   "cell_type": "markdown",
   "metadata": {},
   "source": [
    "4. Scatter plot "
   ]
  },
  {
   "cell_type": "code",
   "execution_count": 59,
   "metadata": {},
   "outputs": [
    {
     "data": {
      "image/png": "[encoded data removed]",
      "text/plain": [
       "Plot with title \"MOVIES:year vs length\""
      ]
     },
     "metadata": {},
     "output_type": "display_data"
    }
   ],
   "source": [
    "plot(x=movies$year,\n",
    "     y=movies$length,\n",
    "     main = \"MOVIES:year vs length\",\n",
    "     xlab = \"year\",\n",
    "     ylab = \"length\",\n",
    "     xlim=c(1939,2000),\n",
    "     ylim= c(1,130))\n"
   ]
  },
  {
   "cell_type": "markdown",
   "metadata": {},
   "source": [
    "5. Pie chart and 3D pie chart "
   ]
  },
  {
   "cell_type": "code",
   "execution_count": 62,
   "metadata": {},
   "outputs": [
    {
     "data": {
      "image/png": "[encoded data removed]",
      "text/plain": [
       "Plot with title \"movies pie chart\""
      ]
     },
     "metadata": {},
     "output_type": "display_data"
    }
   ],
   "source": [
    "x<-c(35,10,15,25,15)\n",
    "labels<-c(\"Action\",\"Horror\",\"Drama\",\"Comedy\",\"Thriller\")\n",
    "pieper=round(x/sum(x)*100)\n",
    "b=paste(labels,pieper,\"%\",sep=\"\")\n",
    "pie(x1,\n",
    "    labels=pieper,\n",
    "    main = \"movies pie chart\",\n",
    "    col = c(\"pink\",\" light blue\",\"light green\",\"orange\",\"green\")\n",
    "    )\n",
    "legend(\"topright\",\n",
    "    c(\"Action\",\"Horror\",\"Drama\",\"Comedy\",\"Thriller\"),\n",
    "    fill = c(\"pink\",\" light blue\",\"light green\",\"orange\",\"green\") \n",
    "      )\n"
   ]
  },
  {
   "cell_type": "code",
   "execution_count": 61,
   "metadata": {},
   "outputs": [
    {
     "name": "stderr",
     "output_type": "stream",
     "text": [
      "Warning message:\n",
      "\"package 'plotrix' was built under R version 3.6.3\""
     ]
    },
    {
     "data": {
      "image/png": "[encoded data removed]",
      "text/plain": [
       "Plot with title \"movies pie chart\""
      ]
     },
     "metadata": {},
     "output_type": "display_data"
    }
   ],
   "source": [
    "#3d pie chart:\n",
    "library(plotrix)\n",
    "x1<-c(35,10,15,25,15)\n",
    "labels1<-c(\"Action\",\"Horror\",\"Drama\",\"Comedy\",\"Thriller\")\n",
    "pieper1=round(x1/sum(x1)*100)\n",
    "b1=paste(labels1,pieper1,\"%\",sep=\"\")\n",
    "pie3D(x1,\n",
    "    labels=pieper1,\n",
    "    main = \"movies pie chart\",\n",
    "    col = c(\"pink\",\" light blue\",\"light green\",\"orange\",\"#99ffff\"),\n",
    "    explode = 0.4\n",
    ")\n"
   ]
  },
  {
   "cell_type": "markdown",
   "metadata": {},
   "source": [
    "6. Histogram "
   ]
  },
  {
   "cell_type": "code",
   "execution_count": 47,
   "metadata": {},
   "outputs": [
    {
     "data": {
      "image/png": "[encoded data removed]",
      "text/plain": [
       "Plot with title \"Histogram of v\""
      ]
     },
     "metadata": {},
     "output_type": "display_data"
    }
   ],
   "source": [
    "v=c(1,3,27,32,5,63,26,25,18,16,4,45,29,19,51,58,9,42,6)\n",
    "hist(v,\n",
    "     xlab=\"age\",\n",
    "     col = \"pink\",\n",
    "     border = \"black\",\n",
    "     xlim = c(0,70),\n",
    "     breaks=5)\n"
   ]
  },
  {
   "cell_type": "markdown",
   "metadata": {},
   "source": [
    "7. Compare and analysis the difference plot"
   ]
  },
  {
   "cell_type": "code",
   "execution_count": 70,
   "metadata": {},
   "outputs": [
    {
     "name": "stderr",
     "output_type": "stream",
     "text": [
      "`geom_smooth()` using method = 'gam' and formula 'y ~ s(x, bs = \"cs\")'\n",
      "Warning message:\n",
      "\"Computation failed in `stat_smooth()`:\n",
      "x has insufficient unique values to support 10 knots: reduce k.\"Warning message:\n",
      "\"Computation failed in `stat_smooth()`:\n",
      "x has insufficient unique values to support 10 knots: reduce k.\"Warning message:\n",
      "\"Computation failed in `stat_smooth()`:\n",
      "x has insufficient unique values to support 10 knots: reduce k.\"Warning message:\n",
      "\"Computation failed in `stat_smooth()`:\n",
      "x has insufficient unique values to support 10 knots: reduce k.\"Warning message:\n",
      "\"Computation failed in `stat_smooth()`:\n",
      "x has insufficient unique values to support 10 knots: reduce k.\"Warning message:\n",
      "\"Computation failed in `stat_smooth()`:\n",
      "x has insufficient unique values to support 10 knots: reduce k.\""
     ]
    },
    {
     "data": {
      "image/png": "[encoded data removed]",
      "text/plain": [
       "plot without title"
      ]
     },
     "metadata": {},
     "output_type": "display_data"
    }
   ],
   "source": [
    "library(ggplot2)\n",
    "pl=ggplot(data=movies,aes(x=rating,y=length))\n",
    "pl2=pl+geom_point()+facet_grid(year~.)+stat_smooth()\n",
    "pl2+coord_cartesian(xlim=c(10,30))+theme_bw()"
   ]
  },
  {
   "cell_type": "markdown",
   "metadata": {},
   "source": [
    "8. Demonstrate the ggplot2 layer"
   ]
  },
  {
   "cell_type": "code",
   "execution_count": 67,
   "metadata": {},
   "outputs": [
    {
     "data": {
      "image/png": "[encoded data removed]",
      "text/plain": [
       "plot without title"
      ]
     },
     "metadata": {},
     "output_type": "display_data"
    }
   ],
   "source": [
    "library(ggplot2movies)\n",
    "  pt=ggplot(data=movies,aes(x=rating))\n",
    "  pt1=pt+geom_histogram(binwidth=5,color=\"black\",fill=\"pink\",alpha=.5)\n",
    "  pt2=pt1+xlab(\"movie Rating\")+ylab(\"movies count\")+ggtitle(\"movie histogram\")\n",
    "plot(pt2)"
   ]
  },
  {
   "cell_type": "markdown",
   "metadata": {},
   "source": [
    "9. Draw the histogram using ggplot2"
   ]
  },
  {
   "cell_type": "code",
   "execution_count": 68,
   "metadata": {},
   "outputs": [
    {
     "data": {
      "image/png": "[encoded data removed]",
      "text/plain": [
       "plot without title"
      ]
     },
     "metadata": {},
     "output_type": "display_data"
    }
   ],
   "source": [
    "pt=ggplot(data=movies,aes(x=rating))\n",
    "pt1=pt+geom_histogram(binwidth=5,color=\"black\",fill=\"pink\",alpha=.5)\n",
    "pt2=pt1+xlab(\"movie Rating\")+ylab(\"movies count\")+ggtitle(\"movie histogram\")\n",
    "plot(pt2)"
   ]
  },
  {
   "cell_type": "markdown",
   "metadata": {},
   "source": [
    "10. Demonstrate wordcloud"
   ]
  },
  {
   "cell_type": "markdown",
   "metadata": {},
   "source": [
    "# Practice Day 6"
   ]
  },
  {
   "cell_type": "markdown",
   "metadata": {},
   "source": [
    "1. T-Test ( score 1 and score 2)\n",
    "  Manual calculation for the T-value\n",
    "  Excel sheet\n",
    "  R- Program"
   ]
  },
  {
   "cell_type": "code",
   "execution_count": null,
   "metadata": {},
   "outputs": [],
   "source": [
    "library(e1071)\n",
    "s1<-c(3,3,3,12,15,16,17,19,23,24,32)\n",
    "s2<-c(20,13,13,20,29,32,23,20,25,15,30)\n",
    "t.test(s1,s2)"
   ]
  },
  {
   "cell_type": "markdown",
   "metadata": {},
   "source": [
    "2. ANOVA\n",
    "   Excel sheet\n",
    "   R Program"
   ]
  },
  {
   "cell_type": "code",
   "execution_count": null,
   "metadata": {},
   "outputs": [],
   "source": [
    "a<-c(0,2,3,5,8,10,12)\n",
    "b<-c(1,2,3,9,10,10,11)\n",
    "c<-c(1,4,5,5,8,9,10)\n",
    "compile=data.frame(cbind(a,b,c))\n",
    "compile\n",
    "grp=stack(compile)\n",
    "grp\n",
    "#result\n",
    "anova_result=aov(values~ind,data=grp)\n",
    "summary(anova_result)"
   ]
  },
  {
   "cell_type": "markdown",
   "metadata": {},
   "source": [
    "3. Draw the Violin plot"
   ]
  },
  {
   "cell_type": "code",
   "execution_count": null,
   "metadata": {},
   "outputs": [],
   "source": [
    "library(ggplot2)\n",
    "p=ggplot(ToothGrowth,aes(x=dose,y=len,fill=\"pink\"))+geom_violin(trim=FALSE)\n",
    "p\n"
   ]
  },
  {
   "cell_type": "markdown",
   "metadata": {},
   "source": [
    "4. Draw the Qplot for 5 Types"
   ]
  },
  {
   "cell_type": "code",
   "execution_count": null,
   "metadata": {},
   "outputs": [],
   "source": [
    "library(ggplot2)\n",
    "qplot(x=mpg$hwy,geom = \"density\")\n",
    "qplot(mpg$hwy,geom = \"histogram\",bin=10,color=I(\"black\"),fill=I(\"pink\"))\n",
    "qplot(mpg$cty,mpg$hwy,geom = \"point\")\n",
    "x=jitter(mpg$hwy)\n",
    "y=jitter(mpg$cty)\n",
    "z=factor(mpg$drv)\n",
    "qplot(x,y,color=z)\n",
    "qplot(x=mpg$class,y=mpg$hwy,geom=\"boxplot\")"
   ]
  },
  {
   "cell_type": "markdown",
   "metadata": {},
   "source": [
    "5. Demonstrate the skewness and kurtosis using built-in dataset or your own dataset to get the data summary."
   ]
  },
  {
   "cell_type": "code",
   "execution_count": 71,
   "metadata": {},
   "outputs": [
    {
     "name": "stdout",
     "output_type": "stream",
     "text": [
      "package 'e1071' successfully unpacked and MD5 sums checked\n",
      "\n",
      "The downloaded binary packages are in\n",
      "\tC:\\Users\\anbun\\AppData\\Local\\Temp\\RtmpEjZ682\\downloaded_packages\n"
     ]
    }
   ],
   "source": [
    "#install.packages(\"e1071\")"
   ]
  },
  {
   "cell_type": "code",
   "execution_count": 72,
   "metadata": {},
   "outputs": [
    {
     "name": "stderr",
     "output_type": "stream",
     "text": [
      "Warning message:\n",
      "\"package 'e1071' was built under R version 3.6.3\""
     ]
    },
    {
     "data": {
      "text/html": [
       "0.000735732513487144"
      ],
      "text/latex": [
       "0.000735732513487144"
      ],
      "text/markdown": [
       "0.000735732513487144"
      ],
      "text/plain": [
       "[1] 0.0007357325"
      ]
     },
     "metadata": {},
     "output_type": "display_data"
    },
    {
     "data": {
      "image/png": "[encoded data removed]",
      "text/plain": [
       "Plot with title \"density.default(x = data1$amount)\""
      ]
     },
     "metadata": {},
     "output_type": "display_data"
    }
   ],
   "source": [
    "library(e1071)\n",
    "data1=read.csv(\"/Users/anbun/Documents/r_programming_exercise/incomedata.csv\")\n",
    "skewness(data1$amount)\n",
    "plot(density(data1$amount))"
   ]
  },
  {
   "cell_type": "code",
   "execution_count": 73,
   "metadata": {},
   "outputs": [
    {
     "data": {
      "text/html": [
       "-0.726152472951616"
      ],
      "text/latex": [
       "-0.726152472951616"
      ],
      "text/markdown": [
       "-0.726152472951616"
      ],
      "text/plain": [
       "[1] -0.7261525"
      ]
     },
     "metadata": {},
     "output_type": "display_data"
    }
   ],
   "source": [
    "library(e1071)\n",
    "data=read.csv(\"/Users/anbun/Documents/r_programming_exercise/markdata.csv\")\n",
    "kurtosis(data$mark)"
   ]
  },
  {
   "cell_type": "markdown",
   "metadata": {},
   "source": [
    "# Practice Day 7"
   ]
  },
  {
   "cell_type": "markdown",
   "metadata": {},
   "source": [
    "1. Create a variable called my_pattern and implement the required pattern for finding one digit and one uppercase alphanumeric character, in variable text1.\n",
    "This time, combine predefined classes in the regex pattern.\n",
    "Use function grepl to verify if the searched pattern exists on the string."
   ]
  },
  {
   "cell_type": "code",
   "execution_count": 74,
   "metadata": {},
   "outputs": [
    {
     "data": {
      "text/html": [
       "TRUE"
      ],
      "text/latex": [
       "TRUE"
      ],
      "text/markdown": [
       "TRUE"
      ],
      "text/plain": [
       "[1] TRUE"
      ]
     },
     "metadata": {},
     "output_type": "display_data"
    }
   ],
   "source": [
    "txt1 <- \"This is 2020\"\n",
    "my_pattern <- \"[[:upper:][:digit:]]\"\n",
    "grepl(my_pattern,txt1)"
   ]
  },
  {
   "cell_type": "markdown",
   "metadata": {},
   "source": [
    "2. Using the sub function, replace the pattern found on the previous exercice by the string ” is not ”\n",
    "Place the resulting string in text2 variable"
   ]
  },
  {
   "cell_type": "code",
   "execution_count": 75,
   "metadata": {},
   "outputs": [
    {
     "data": {
      "text/html": [
       "5"
      ],
      "text/latex": [
       "5"
      ],
      "text/markdown": [
       "5"
      ],
      "text/plain": [
       "[1] 5"
      ]
     },
     "metadata": {},
     "output_type": "display_data"
    },
    {
     "name": "stdout",
     "output_type": "stream",
     "text": [
      "[1] \"This is not 2020\"\n"
     ]
    }
   ],
   "source": [
    "my_pattern <- \"\\\\s[a-z][a-z]\\\\s\"\n",
    "strpos1 <- gregexpr(my_pattern,txt1)[[1]][1]\n",
    "strpos1\n",
    "txt2 <- sub(my_pattern,\" is not \",txt1)\n",
    "print(txt2)"
   ]
  },
  {
   "cell_type": "markdown",
   "metadata": {},
   "source": [
    "3. Find in text2 the following pattern: Four digits starting at the end of the string.\n",
    "Use a function that returns the starting point of the found string and place its result in string_pos4."
   ]
  },
  {
   "cell_type": "code",
   "execution_count": 76,
   "metadata": {},
   "outputs": [
    {
     "data": {
      "text/html": [
       "13"
      ],
      "text/latex": [
       "13"
      ],
      "text/markdown": [
       "13"
      ],
      "text/plain": [
       "[1] 13"
      ]
     },
     "metadata": {},
     "output_type": "display_data"
    }
   ],
   "source": [
    "my_pattern <- \"\\\\d{4}$\"\n",
    "strpos2 <- gregexpr(my_pattern,txt2)[[1]][1]\n",
    "strpos2"
   ]
  },
  {
   "cell_type": "markdown",
   "metadata": {},
   "source": [
    "4. Probability that a normal random variable with mean 22 and variance 25\n",
    "(i) lies between 16.2 and 27.5\n",
    "ii) is greater than 29\n",
    "(iii) is less than 17 \n",
    "(iv) is less than 15 or greater than 25"
   ]
  },
  {
   "cell_type": "code",
   "execution_count": 77,
   "metadata": {},
   "outputs": [
    {
     "name": "stdout",
     "output_type": "stream",
     "text": [
      "[1] 0.8643339\n",
      "[1] 0.1230244\n",
      "[1] 0.7413095\n",
      "[1] 0.9192433\n",
      "[1] 0.08075666\n",
      "[1] 0.1586553\n",
      "[1] 0.08075666\n",
      "[1] 0.7257469\n",
      "[1] 0.3550098\n"
     ]
    }
   ],
   "source": [
    "#(i)lies between 16.2 and 27.5\n",
    "a=pnorm(27.5,mean=22,sd=5)\n",
    "print(a)\n",
    "b=pnorm(16.2,mean=22,sd=5)\n",
    "print(b)\n",
    "r=a-b\n",
    "print(r)\n",
    "\n",
    "#ii)is greater than 29\n",
    "c=pnorm(29,mean=22,sd=5)\n",
    "print(c)\n",
    "print(1-c)\n",
    "\n",
    "#(iii)is less than 17 \n",
    "d=pnorm(17,mean=22,sd=5)\n",
    "print(d)\n",
    "\n",
    "#(iv)is less than 15 or greater than 25\n",
    "e=pnorm(15,mean=22,sd=5)\n",
    "print(e)\n",
    "f=pnorm(25,mean=22,sd=5)\n",
    "print(f)\n",
    "r1=e+(1-f)\n",
    "print(r1)"
   ]
  },
  {
   "cell_type": "markdown",
   "metadata": {},
   "source": [
    "5. Probability that in 60 tosses of a fair coin the head comes up\n",
    "(i)20,25 or 30 times\n",
    "(ii)less than 20 times\n",
    "(iii)between 20 and 30 times"
   ]
  },
  {
   "cell_type": "code",
   "execution_count": 78,
   "metadata": {},
   "outputs": [
    {
     "name": "stdout",
     "output_type": "stream",
     "text": [
      "[1] 0.003635846\n",
      "[1] 0.04502946\n",
      "[1] 0.1025782\n",
      "[1] 0.1512435\n",
      "[1] 0.003108801\n",
      "[1] 0.5512891\n",
      "[1] 0.006744647\n",
      "[1] 0.5445444\n"
     ]
    }
   ],
   "source": [
    "#(i)20,25 or 30 times\n",
    "a1=dbinom(20,60,prob=0.5)\n",
    "print(a1)\n",
    "a2=dbinom(25,60,prob=0.5)\n",
    "print(a2)\n",
    "a3=dbinom(30,60,prob=0.5)\n",
    "print(a3)\n",
    "r2=sum(c(a1,a2,a3))\n",
    "print(r2)\n",
    "\n",
    "#(ii)less than 20 times\n",
    "a4=pbinom(19,60,prob=0.5)\n",
    "print(a4)\n",
    "\n",
    "#(iii)between 20 and 30 times \n",
    "a5=pbinom(30,60,prob=0.5)\n",
    "print(a5)\n",
    "a6=pbinom(20,60,prob=0.5)\n",
    "print(a6)\n",
    "r3=a5-a6\n",
    "print(r3)\n"
   ]
  },
  {
   "cell_type": "markdown",
   "metadata": {},
   "source": [
    "# Practice Day 8"
   ]
  },
  {
   "cell_type": "markdown",
   "metadata": {},
   "source": [
    "1) The coin is flipped ten times. Find the probability of 7 heads occurring."
   ]
  },
  {
   "cell_type": "code",
   "execution_count": 79,
   "metadata": {},
   "outputs": [
    {
     "data": {
      "text/html": [
       "0.1171875"
      ],
      "text/latex": [
       "0.1171875"
      ],
      "text/markdown": [
       "0.1171875"
      ],
      "text/plain": [
       "[1] 0.1171875"
      ]
     },
     "metadata": {},
     "output_type": "display_data"
    }
   ],
   "source": [
    "dbinom(7,size=10,prob=1/2)"
   ]
  },
  {
   "cell_type": "markdown",
   "metadata": {},
   "source": [
    "2.A card is selected three times (and replaced). Find the probability of 2 face cards occurring."
   ]
  },
  {
   "cell_type": "code",
   "execution_count": 80,
   "metadata": {},
   "outputs": [
    {
     "data": {
      "text/html": [
       "0.122894856622667"
      ],
      "text/latex": [
       "0.122894856622667"
      ],
      "text/markdown": [
       "0.122894856622667"
      ],
      "text/plain": [
       "[1] 0.1228949"
      ]
     },
     "metadata": {},
     "output_type": "display_data"
    }
   ],
   "source": [
    "dbinom(2,size=3,prob=3/13)"
   ]
  },
  {
   "cell_type": "markdown",
   "metadata": {},
   "source": [
    "3. A student decides to guess on a section of his ACT test. The section contains 50 multiple choice questions and each question has 5 possible answers.\n",
    "a) Find the expected number of correct responses."
   ]
  },
  {
   "cell_type": "code",
   "execution_count": 81,
   "metadata": {},
   "outputs": [
    {
     "data": {
      "text/html": [
       "12"
      ],
      "text/latex": [
       "12"
      ],
      "text/markdown": [
       "12"
      ],
      "text/plain": [
       "[1] 12"
      ]
     },
     "metadata": {},
     "output_type": "display_data"
    }
   ],
   "source": [
    "qbinom(0.75,size=50,prob=1/5)"
   ]
  },
  {
   "cell_type": "markdown",
   "metadata": {},
   "source": [
    "4. A company ships 5000 cell phones. They are expected to last an average of 10,000 hours before needing repair; with a standard deviation of 500 hours. Assume the survival time of the phones are normally distributed. If a phone is randomly selected to be tracked for repairs find the expected number that needs repair,\n",
    "a) after 11,000 hours"
   ]
  },
  {
   "cell_type": "code",
   "execution_count": 82,
   "metadata": {},
   "outputs": [
    {
     "data": {
      "text/html": [
       "0.0227501319481792"
      ],
      "text/latex": [
       "0.0227501319481792"
      ],
      "text/markdown": [
       "0.0227501319481792"
      ],
      "text/plain": [
       "[1] 0.02275013"
      ]
     },
     "metadata": {},
     "output_type": "display_data"
    }
   ],
   "source": [
    "pnorm(11000,mean=10000,sd=500,lower.tail=FALSE)"
   ]
  },
  {
   "cell_type": "markdown",
   "metadata": {},
   "source": [
    "\n",
    "# Practice Day 9"
   ]
  },
  {
   "cell_type": "markdown",
   "metadata": {},
   "source": [
    "Load the Boston Housing dataset from the mlbench library and inspect the different types of variables present."
   ]
  },
  {
   "cell_type": "code",
   "execution_count": 111,
   "metadata": {},
   "outputs": [
    {
     "name": "stderr",
     "output_type": "stream",
     "text": [
      "also installing the dependencies 'pillar', 'glue', 'tibble', 'dplyr', 'vctrs', 'cpp11', 'generics', 'rlang', 'tidyr', 'tidyselect', 'ModelMetrics', 'recipes', 'pROC'\n",
      "\n",
      "Warning message:\n",
      "\"packages 'tibble', 'dplyr', 'tidyr', 'caret' are in use and will not be installed\""
     ]
    },
    {
     "name": "stdout",
     "output_type": "stream",
     "text": [
      "package 'pillar' successfully unpacked and MD5 sums checked\n",
      "package 'glue' successfully unpacked and MD5 sums checked\n"
     ]
    },
    {
     "name": "stderr",
     "output_type": "stream",
     "text": [
      "Warning message:\n",
      "\"cannot remove prior installation of package 'glue'\"Warning message in file.copy(savedcopy, lib, recursive = TRUE):\n",
      "\"problem copying C:\\Users\\anbun\\anaconda3\\envs\\r_exercise\\Lib\\R\\library\\00LOCK\\glue\\libs\\x64\\glue.dll to C:\\Users\\anbun\\anaconda3\\envs\\r_exercise\\Lib\\R\\library\\glue\\libs\\x64\\glue.dll: Permission denied\"Warning message:\n",
      "\"restored 'glue'\""
     ]
    },
    {
     "name": "stdout",
     "output_type": "stream",
     "text": [
      "package 'vctrs' successfully unpacked and MD5 sums checked\n",
      "package 'cpp11' successfully unpacked and MD5 sums checked\n",
      "package 'generics' successfully unpacked and MD5 sums checked\n",
      "package 'rlang' successfully unpacked and MD5 sums checked\n"
     ]
    },
    {
     "name": "stderr",
     "output_type": "stream",
     "text": [
      "Warning message:\n",
      "\"cannot remove prior installation of package 'rlang'\"Warning message in file.copy(savedcopy, lib, recursive = TRUE):\n",
      "\"problem copying C:\\Users\\anbun\\anaconda3\\envs\\r_exercise\\Lib\\R\\library\\00LOCK\\rlang\\libs\\x64\\rlang.dll to C:\\Users\\anbun\\anaconda3\\envs\\r_exercise\\Lib\\R\\library\\rlang\\libs\\x64\\rlang.dll: Permission denied\"Warning message:\n",
      "\"restored 'rlang'\""
     ]
    },
    {
     "name": "stdout",
     "output_type": "stream",
     "text": [
      "package 'tidyselect' successfully unpacked and MD5 sums checked\n"
     ]
    },
    {
     "name": "stderr",
     "output_type": "stream",
     "text": [
      "Warning message:\n",
      "\"cannot remove prior installation of package 'tidyselect'\"Warning message in file.copy(savedcopy, lib, recursive = TRUE):\n",
      "\"problem copying C:\\Users\\anbun\\anaconda3\\envs\\r_exercise\\Lib\\R\\library\\00LOCK\\tidyselect\\libs\\x64\\tidyselect.dll to C:\\Users\\anbun\\anaconda3\\envs\\r_exercise\\Lib\\R\\library\\tidyselect\\libs\\x64\\tidyselect.dll: Permission denied\"Warning message:\n",
      "\"restored 'tidyselect'\""
     ]
    },
    {
     "name": "stdout",
     "output_type": "stream",
     "text": [
      "package 'ModelMetrics' successfully unpacked and MD5 sums checked\n"
     ]
    },
    {
     "name": "stderr",
     "output_type": "stream",
     "text": [
      "Warning message:\n",
      "\"cannot remove prior installation of package 'ModelMetrics'\"Warning message in file.copy(savedcopy, lib, recursive = TRUE):\n",
      "\"problem copying C:\\Users\\anbun\\anaconda3\\envs\\r_exercise\\Lib\\R\\library\\00LOCK\\ModelMetrics\\libs\\x64\\ModelMetrics.dll to C:\\Users\\anbun\\anaconda3\\envs\\r_exercise\\Lib\\R\\library\\ModelMetrics\\libs\\x64\\ModelMetrics.dll: Permission denied\"Warning message:\n",
      "\"restored 'ModelMetrics'\""
     ]
    },
    {
     "name": "stdout",
     "output_type": "stream",
     "text": [
      "package 'recipes' successfully unpacked and MD5 sums checked\n",
      "package 'pROC' successfully unpacked and MD5 sums checked\n",
      "\n",
      "The downloaded binary packages are in\n",
      "\tC:\\Users\\anbun\\AppData\\Local\\Temp\\RtmpEjZ682\\downloaded_packages\n"
     ]
    }
   ],
   "source": [
    "#install.packages(\"mlbench\")\n",
    "#install.packages(\"caret\")"
   ]
  },
  {
   "cell_type": "code",
   "execution_count": 105,
   "metadata": {},
   "outputs": [
    {
     "name": "stdout",
     "output_type": "stream",
     "text": [
      "        crim    zn indus chas    nox    rm   age     dis rad tax ptratio      b\n",
      "1    0.00632  18.0  2.31    0 0.5380 6.575  65.2  4.0900   1 296    15.3 396.90\n",
      "2    0.02731   0.0  7.07    0 0.4690 6.421  78.9  4.9671   2 242    17.8 396.90\n",
      "3    0.02729   0.0  7.07    0 0.4690 7.185  61.1  4.9671   2 242    17.8 392.83\n",
      "4    0.03237   0.0  2.18    0 0.4580 6.998  45.8  6.0622   3 222    18.7 394.63\n",
      "5    0.06905   0.0  2.18    0 0.4580 7.147  54.2  6.0622   3 222    18.7 396.90\n",
      "6    0.02985   0.0  2.18    0 0.4580 6.430  58.7  6.0622   3 222    18.7 394.12\n",
      "7    0.08829  12.5  7.87    0 0.5240 6.012  66.6  5.5605   5 311    15.2 395.60\n",
      "8    0.14455  12.5  7.87    0 0.5240 6.172  96.1  5.9505   5 311    15.2 396.90\n",
      "9    0.21124  12.5  7.87    0 0.5240 5.631 100.0  6.0821   5 311    15.2 386.63\n",
      "10   0.17004  12.5  7.87    0 0.5240 6.004  85.9  6.5921   5 311    15.2 386.71\n",
      "11   0.22489  12.5  7.87    0 0.5240 6.377  94.3  6.3467   5 311    15.2 392.52\n",
      "12   0.11747  12.5  7.87    0 0.5240 6.009  82.9  6.2267   5 311    15.2 396.90\n",
      "13   0.09378  12.5  7.87    0 0.5240 5.889  39.0  5.4509   5 311    15.2 390.50\n",
      "14   0.62976   0.0  8.14    0 0.5380 5.949  61.8  4.7075   4 307    21.0 396.90\n",
      "15   0.63796   0.0  8.14    0 0.5380 6.096  84.5  4.4619   4 307    21.0 380.02\n",
      "16   0.62739   0.0  8.14    0 0.5380 5.834  56.5  4.4986   4 307    21.0 395.62\n",
      "17   1.05393   0.0  8.14    0 0.5380 5.935  29.3  4.4986   4 307    21.0 386.85\n",
      "18   0.78420   0.0  8.14    0 0.5380 5.990  81.7  4.2579   4 307    21.0 386.75\n",
      "19   0.80271   0.0  8.14    0 0.5380 5.456  36.6  3.7965   4 307    21.0 288.99\n",
      "20   0.72580   0.0  8.14    0 0.5380 5.727  69.5  3.7965   4 307    21.0 390.95\n",
      "21   1.25179   0.0  8.14    0 0.5380 5.570  98.1  3.7979   4 307    21.0 376.57\n",
      "22   0.85204   0.0  8.14    0 0.5380 5.965  89.2  4.0123   4 307    21.0 392.53\n",
      "23   1.23247   0.0  8.14    0 0.5380 6.142  91.7  3.9769   4 307    21.0 396.90\n",
      "24   0.98843   0.0  8.14    0 0.5380 5.813 100.0  4.0952   4 307    21.0 394.54\n",
      "25   0.75026   0.0  8.14    0 0.5380 5.924  94.1  4.3996   4 307    21.0 394.33\n",
      "26   0.84054   0.0  8.14    0 0.5380 5.599  85.7  4.4546   4 307    21.0 303.42\n",
      "27   0.67191   0.0  8.14    0 0.5380 5.813  90.3  4.6820   4 307    21.0 376.88\n",
      "28   0.95577   0.0  8.14    0 0.5380 6.047  88.8  4.4534   4 307    21.0 306.38\n",
      "29   0.77299   0.0  8.14    0 0.5380 6.495  94.4  4.4547   4 307    21.0 387.94\n",
      "30   1.00245   0.0  8.14    0 0.5380 6.674  87.3  4.2390   4 307    21.0 380.23\n",
      "31   1.13081   0.0  8.14    0 0.5380 5.713  94.1  4.2330   4 307    21.0 360.17\n",
      "32   1.35472   0.0  8.14    0 0.5380 6.072 100.0  4.1750   4 307    21.0 376.73\n",
      "33   1.38799   0.0  8.14    0 0.5380 5.950  82.0  3.9900   4 307    21.0 232.60\n",
      "34   1.15172   0.0  8.14    0 0.5380 5.701  95.0  3.7872   4 307    21.0 358.77\n",
      "35   1.61282   0.0  8.14    0 0.5380 6.096  96.9  3.7598   4 307    21.0 248.31\n",
      "36   0.06417   0.0  5.96    0 0.4990 5.933  68.2  3.3603   5 279    19.2 396.90\n",
      "37   0.09744   0.0  5.96    0 0.4990 5.841  61.4  3.3779   5 279    19.2 377.56\n",
      "38   0.08014   0.0  5.96    0 0.4990 5.850  41.5  3.9342   5 279    19.2 396.90\n",
      "39   0.17505   0.0  5.96    0 0.4990 5.966  30.2  3.8473   5 279    19.2 393.43\n",
      "40   0.02763  75.0  2.95    0 0.4280 6.595  21.8  5.4011   3 252    18.3 395.63\n",
      "41   0.03359  75.0  2.95    0 0.4280 7.024  15.8  5.4011   3 252    18.3 395.62\n",
      "42   0.12744   0.0  6.91    0 0.4480 6.770   2.9  5.7209   3 233    17.9 385.41\n",
      "43   0.14150   0.0  6.91    0 0.4480 6.169   6.6  5.7209   3 233    17.9 383.37\n",
      "44   0.15936   0.0  6.91    0 0.4480 6.211   6.5  5.7209   3 233    17.9 394.46\n",
      "45   0.12269   0.0  6.91    0 0.4480 6.069  40.0  5.7209   3 233    17.9 389.39\n",
      "46   0.17142   0.0  6.91    0 0.4480 5.682  33.8  5.1004   3 233    17.9 396.90\n",
      "47   0.18836   0.0  6.91    0 0.4480 5.786  33.3  5.1004   3 233    17.9 396.90\n",
      "48   0.22927   0.0  6.91    0 0.4480 6.030  85.5  5.6894   3 233    17.9 392.74\n",
      "49   0.25387   0.0  6.91    0 0.4480 5.399  95.3  5.8700   3 233    17.9 396.90\n",
      "50   0.21977   0.0  6.91    0 0.4480 5.602  62.0  6.0877   3 233    17.9 396.90\n",
      "51   0.08873  21.0  5.64    0 0.4390 5.963  45.7  6.8147   4 243    16.8 395.56\n",
      "52   0.04337  21.0  5.64    0 0.4390 6.115  63.0  6.8147   4 243    16.8 393.97\n",
      "53   0.05360  21.0  5.64    0 0.4390 6.511  21.1  6.8147   4 243    16.8 396.90\n",
      "54   0.04981  21.0  5.64    0 0.4390 5.998  21.4  6.8147   4 243    16.8 396.90\n",
      "55   0.01360  75.0  4.00    0 0.4100 5.888  47.6  7.3197   3 469    21.1 396.90\n",
      "56   0.01311  90.0  1.22    0 0.4030 7.249  21.9  8.6966   5 226    17.9 395.93\n",
      "57   0.02055  85.0  0.74    0 0.4100 6.383  35.7  9.1876   2 313    17.3 396.90\n",
      "58   0.01432 100.0  1.32    0 0.4110 6.816  40.5  8.3248   5 256    15.1 392.90\n",
      "59   0.15445  25.0  5.13    0 0.4530 6.145  29.2  7.8148   8 284    19.7 390.68\n",
      "60   0.10328  25.0  5.13    0 0.4530 5.927  47.2  6.9320   8 284    19.7 396.90\n",
      "61   0.14932  25.0  5.13    0 0.4530 5.741  66.2  7.2254   8 284    19.7 395.11\n",
      "62   0.17171  25.0  5.13    0 0.4530 5.966  93.4  6.8185   8 284    19.7 378.08\n",
      "63   0.11027  25.0  5.13    0 0.4530 6.456  67.8  7.2255   8 284    19.7 396.90\n",
      "64   0.12650  25.0  5.13    0 0.4530 6.762  43.4  7.9809   8 284    19.7 395.58\n",
      "65   0.01951  17.5  1.38    0 0.4161 7.104  59.5  9.2229   3 216    18.6 393.24\n",
      "66   0.03584  80.0  3.37    0 0.3980 6.290  17.8  6.6115   4 337    16.1 396.90\n",
      "67   0.04379  80.0  3.37    0 0.3980 5.787  31.1  6.6115   4 337    16.1 396.90\n",
      "68   0.05789  12.5  6.07    0 0.4090 5.878  21.4  6.4980   4 345    18.9 396.21\n",
      "69   0.13554  12.5  6.07    0 0.4090 5.594  36.8  6.4980   4 345    18.9 396.90\n",
      "70   0.12816  12.5  6.07    0 0.4090 5.885  33.0  6.4980   4 345    18.9 396.90\n",
      "71   0.08826   0.0 10.81    0 0.4130 6.417   6.6  5.2873   4 305    19.2 383.73\n",
      "72   0.15876   0.0 10.81    0 0.4130 5.961  17.5  5.2873   4 305    19.2 376.94\n",
      "73   0.09164   0.0 10.81    0 0.4130 6.065   7.8  5.2873   4 305    19.2 390.91\n",
      "74   0.19539   0.0 10.81    0 0.4130 6.245   6.2  5.2873   4 305    19.2 377.17\n",
      "75   0.07896   0.0 12.83    0 0.4370 6.273   6.0  4.2515   5 398    18.7 394.92\n",
      "76   0.09512   0.0 12.83    0 0.4370 6.286  45.0  4.5026   5 398    18.7 383.23\n",
      "77   0.10153   0.0 12.83    0 0.4370 6.279  74.5  4.0522   5 398    18.7 373.66\n",
      "78   0.08707   0.0 12.83    0 0.4370 6.140  45.8  4.0905   5 398    18.7 386.96\n",
      "79   0.05646   0.0 12.83    0 0.4370 6.232  53.7  5.0141   5 398    18.7 386.40\n",
      "80   0.08387   0.0 12.83    0 0.4370 5.874  36.6  4.5026   5 398    18.7 396.06\n",
      "81   0.04113  25.0  4.86    0 0.4260 6.727  33.5  5.4007   4 281    19.0 396.90\n",
      "82   0.04462  25.0  4.86    0 0.4260 6.619  70.4  5.4007   4 281    19.0 395.63\n",
      "83   0.03659  25.0  4.86    0 0.4260 6.302  32.2  5.4007   4 281    19.0 396.90\n",
      "84   0.03551  25.0  4.86    0 0.4260 6.167  46.7  5.4007   4 281    19.0 390.64\n",
      "85   0.05059   0.0  4.49    0 0.4490 6.389  48.0  4.7794   3 247    18.5 396.90\n",
      "86   0.05735   0.0  4.49    0 0.4490 6.630  56.1  4.4377   3 247    18.5 392.30\n",
      "87   0.05188   0.0  4.49    0 0.4490 6.015  45.1  4.4272   3 247    18.5 395.99\n",
      "88   0.07151   0.0  4.49    0 0.4490 6.121  56.8  3.7476   3 247    18.5 395.15\n",
      "89   0.05660   0.0  3.41    0 0.4890 7.007  86.3  3.4217   2 270    17.8 396.90\n",
      "90   0.05302   0.0  3.41    0 0.4890 7.079  63.1  3.4145   2 270    17.8 396.06\n",
      "91   0.04684   0.0  3.41    0 0.4890 6.417  66.1  3.0923   2 270    17.8 392.18\n",
      "92   0.03932   0.0  3.41    0 0.4890 6.405  73.9  3.0921   2 270    17.8 393.55\n",
      "93   0.04203  28.0 15.04    0 0.4640 6.442  53.6  3.6659   4 270    18.2 395.01\n",
      "94   0.02875  28.0 15.04    0 0.4640 6.211  28.9  3.6659   4 270    18.2 396.33\n",
      "95   0.04294  28.0 15.04    0 0.4640 6.249  77.3  3.6150   4 270    18.2 396.90\n",
      "96   0.12204   0.0  2.89    0 0.4450 6.625  57.8  3.4952   2 276    18.0 357.98\n",
      "97   0.11504   0.0  2.89    0 0.4450 6.163  69.6  3.4952   2 276    18.0 391.83\n",
      "98   0.12083   0.0  2.89    0 0.4450 8.069  76.0  3.4952   2 276    18.0 396.90\n",
      "99   0.08187   0.0  2.89    0 0.4450 7.820  36.9  3.4952   2 276    18.0 393.53\n",
      "100  0.06860   0.0  2.89    0 0.4450 7.416  62.5  3.4952   2 276    18.0 396.90\n",
      "101  0.14866   0.0  8.56    0 0.5200 6.727  79.9  2.7778   5 384    20.9 394.76\n",
      "102  0.11432   0.0  8.56    0 0.5200 6.781  71.3  2.8561   5 384    20.9 395.58\n",
      "103  0.22876   0.0  8.56    0 0.5200 6.405  85.4  2.7147   5 384    20.9  70.80\n",
      "104  0.21161   0.0  8.56    0 0.5200 6.137  87.4  2.7147   5 384    20.9 394.47\n",
      "105  0.13960   0.0  8.56    0 0.5200 6.167  90.0  2.4210   5 384    20.9 392.69\n",
      "106  0.13262   0.0  8.56    0 0.5200 5.851  96.7  2.1069   5 384    20.9 394.05\n",
      "107  0.17120   0.0  8.56    0 0.5200 5.836  91.9  2.2110   5 384    20.9 395.67\n",
      "108  0.13117   0.0  8.56    0 0.5200 6.127  85.2  2.1224   5 384    20.9 387.69\n",
      "109  0.12802   0.0  8.56    0 0.5200 6.474  97.1  2.4329   5 384    20.9 395.24\n",
      "110  0.26363   0.0  8.56    0 0.5200 6.229  91.2  2.5451   5 384    20.9 391.23\n",
      "111  0.10793   0.0  8.56    0 0.5200 6.195  54.4  2.7778   5 384    20.9 393.49\n",
      "112  0.10084   0.0 10.01    0 0.5470 6.715  81.6  2.6775   6 432    17.8 395.59\n",
      "113  0.12329   0.0 10.01    0 0.5470 5.913  92.9  2.3534   6 432    17.8 394.95\n",
      "114  0.22212   0.0 10.01    0 0.5470 6.092  95.4  2.5480   6 432    17.8 396.90\n",
      "115  0.14231   0.0 10.01    0 0.5470 6.254  84.2  2.2565   6 432    17.8 388.74\n",
      "116  0.17134   0.0 10.01    0 0.5470 5.928  88.2  2.4631   6 432    17.8 344.91\n",
      "117  0.13158   0.0 10.01    0 0.5470 6.176  72.5  2.7301   6 432    17.8 393.30\n",
      "118  0.15098   0.0 10.01    0 0.5470 6.021  82.6  2.7474   6 432    17.8 394.51\n",
      "119  0.13058   0.0 10.01    0 0.5470 5.872  73.1  2.4775   6 432    17.8 338.63\n",
      "120  0.14476   0.0 10.01    0 0.5470 5.731  65.2  2.7592   6 432    17.8 391.50\n",
      "121  0.06899   0.0 25.65    0 0.5810 5.870  69.7  2.2577   2 188    19.1 389.15\n",
      "122  0.07165   0.0 25.65    0 0.5810 6.004  84.1  2.1974   2 188    19.1 377.67\n",
      "123  0.09299   0.0 25.65    0 0.5810 5.961  92.9  2.0869   2 188    19.1 378.09\n",
      "124  0.15038   0.0 25.65    0 0.5810 5.856  97.0  1.9444   2 188    19.1 370.31\n",
      "125  0.09849   0.0 25.65    0 0.5810 5.879  95.8  2.0063   2 188    19.1 379.38\n",
      "126  0.16902   0.0 25.65    0 0.5810 5.986  88.4  1.9929   2 188    19.1 385.02\n",
      "127  0.38735   0.0 25.65    0 0.5810 5.613  95.6  1.7572   2 188    19.1 359.29\n",
      "128  0.25915   0.0 21.89    0 0.6240 5.693  96.0  1.7883   4 437    21.2 392.11\n",
      "129  0.32543   0.0 21.89    0 0.6240 6.431  98.8  1.8125   4 437    21.2 396.90\n",
      "130  0.88125   0.0 21.89    0 0.6240 5.637  94.7  1.9799   4 437    21.2 396.90\n",
      "131  0.34006   0.0 21.89    0 0.6240 6.458  98.9  2.1185   4 437    21.2 395.04\n",
      "132  1.19294   0.0 21.89    0 0.6240 6.326  97.7  2.2710   4 437    21.2 396.90\n",
      "133  0.59005   0.0 21.89    0 0.6240 6.372  97.9  2.3274   4 437    21.2 385.76\n",
      "134  0.32982   0.0 21.89    0 0.6240 5.822  95.4  2.4699   4 437    21.2 388.69\n",
      "135  0.97617   0.0 21.89    0 0.6240 5.757  98.4  2.3460   4 437    21.2 262.76\n",
      "136  0.55778   0.0 21.89    0 0.6240 6.335  98.2  2.1107   4 437    21.2 394.67\n",
      "137  0.32264   0.0 21.89    0 0.6240 5.942  93.5  1.9669   4 437    21.2 378.25\n",
      "138  0.35233   0.0 21.89    0 0.6240 6.454  98.4  1.8498   4 437    21.2 394.08\n",
      "139  0.24980   0.0 21.89    0 0.6240 5.857  98.2  1.6686   4 437    21.2 392.04\n",
      "140  0.54452   0.0 21.89    0 0.6240 6.151  97.9  1.6687   4 437    21.2 396.90\n",
      "141  0.29090   0.0 21.89    0 0.6240 6.174  93.6  1.6119   4 437    21.2 388.08\n",
      "142  1.62864   0.0 21.89    0 0.6240 5.019 100.0  1.4394   4 437    21.2 396.90\n",
      "143  3.32105   0.0 19.58    1 0.8710 5.403 100.0  1.3216   5 403    14.7 396.90\n",
      "144  4.09740   0.0 19.58    0 0.8710 5.468 100.0  1.4118   5 403    14.7 396.90\n",
      "145  2.77974   0.0 19.58    0 0.8710 4.903  97.8  1.3459   5 403    14.7 396.90\n",
      "146  2.37934   0.0 19.58    0 0.8710 6.130 100.0  1.4191   5 403    14.7 172.91\n",
      "147  2.15505   0.0 19.58    0 0.8710 5.628 100.0  1.5166   5 403    14.7 169.27\n",
      "148  2.36862   0.0 19.58    0 0.8710 4.926  95.7  1.4608   5 403    14.7 391.71\n",
      "149  2.33099   0.0 19.58    0 0.8710 5.186  93.8  1.5296   5 403    14.7 356.99\n",
      "150  2.73397   0.0 19.58    0 0.8710 5.597  94.9  1.5257   5 403    14.7 351.85\n",
      "151  1.65660   0.0 19.58    0 0.8710 6.122  97.3  1.6180   5 403    14.7 372.80\n",
      "152  1.49632   0.0 19.58    0 0.8710 5.404 100.0  1.5916   5 403    14.7 341.60\n",
      "153  1.12658   0.0 19.58    1 0.8710 5.012  88.0  1.6102   5 403    14.7 343.28\n",
      "154  2.14918   0.0 19.58    0 0.8710 5.709  98.5  1.6232   5 403    14.7 261.95\n",
      "155  1.41385   0.0 19.58    1 0.8710 6.129  96.0  1.7494   5 403    14.7 321.02\n",
      "156  3.53501   0.0 19.58    1 0.8710 6.152  82.6  1.7455   5 403    14.7  88.01\n",
      "157  2.44668   0.0 19.58    0 0.8710 5.272  94.0  1.7364   5 403    14.7  88.63\n",
      "158  1.22358   0.0 19.58    0 0.6050 6.943  97.4  1.8773   5 403    14.7 363.43\n",
      "159  1.34284   0.0 19.58    0 0.6050 6.066 100.0  1.7573   5 403    14.7 353.89\n",
      "160  1.42502   0.0 19.58    0 0.8710 6.510 100.0  1.7659   5 403    14.7 364.31\n",
      "161  1.27346   0.0 19.58    1 0.6050 6.250  92.6  1.7984   5 403    14.7 338.92\n",
      "162  1.46336   0.0 19.58    0 0.6050 7.489  90.8  1.9709   5 403    14.7 374.43\n",
      "163  1.83377   0.0 19.58    1 0.6050 7.802  98.2  2.0407   5 403    14.7 389.61\n",
      "164  1.51902   0.0 19.58    1 0.6050 8.375  93.9  2.1620   5 403    14.7 388.45\n",
      "165  2.24236   0.0 19.58    0 0.6050 5.854  91.8  2.4220   5 403    14.7 395.11\n",
      "166  2.92400   0.0 19.58    0 0.6050 6.101  93.0  2.2834   5 403    14.7 240.16\n",
      "167  2.01019   0.0 19.58    0 0.6050 7.929  96.2  2.0459   5 403    14.7 369.30\n",
      "168  1.80028   0.0 19.58    0 0.6050 5.877  79.2  2.4259   5 403    14.7 227.61\n",
      "169  2.30040   0.0 19.58    0 0.6050 6.319  96.1  2.1000   5 403    14.7 297.09\n",
      "170  2.44953   0.0 19.58    0 0.6050 6.402  95.2  2.2625   5 403    14.7 330.04\n",
      "171  1.20742   0.0 19.58    0 0.6050 5.875  94.6  2.4259   5 403    14.7 292.29\n",
      "172  2.31390   0.0 19.58    0 0.6050 5.880  97.3  2.3887   5 403    14.7 348.13\n",
      "173  0.13914   0.0  4.05    0 0.5100 5.572  88.5  2.5961   5 296    16.6 396.90\n",
      "174  0.09178   0.0  4.05    0 0.5100 6.416  84.1  2.6463   5 296    16.6 395.50\n",
      "175  0.08447   0.0  4.05    0 0.5100 5.859  68.7  2.7019   5 296    16.6 393.23\n",
      "176  0.06664   0.0  4.05    0 0.5100 6.546  33.1  3.1323   5 296    16.6 390.96\n",
      "177  0.07022   0.0  4.05    0 0.5100 6.020  47.2  3.5549   5 296    16.6 393.23\n",
      "178  0.05425   0.0  4.05    0 0.5100 6.315  73.4  3.3175   5 296    16.6 395.60\n",
      "179  0.06642   0.0  4.05    0 0.5100 6.860  74.4  2.9153   5 296    16.6 391.27\n",
      "180  0.05780   0.0  2.46    0 0.4880 6.980  58.4  2.8290   3 193    17.8 396.90\n",
      "181  0.06588   0.0  2.46    0 0.4880 7.765  83.3  2.7410   3 193    17.8 395.56\n",
      "182  0.06888   0.0  2.46    0 0.4880 6.144  62.2  2.5979   3 193    17.8 396.90\n",
      "183  0.09103   0.0  2.46    0 0.4880 7.155  92.2  2.7006   3 193    17.8 394.12\n",
      "184  0.10008   0.0  2.46    0 0.4880 6.563  95.6  2.8470   3 193    17.8 396.90\n",
      "185  0.08308   0.0  2.46    0 0.4880 5.604  89.8  2.9879   3 193    17.8 391.00\n",
      "186  0.06047   0.0  2.46    0 0.4880 6.153  68.8  3.2797   3 193    17.8 387.11\n",
      "187  0.05602   0.0  2.46    0 0.4880 7.831  53.6  3.1992   3 193    17.8 392.63\n",
      "188  0.07875  45.0  3.44    0 0.4370 6.782  41.1  3.7886   5 398    15.2 393.87\n",
      "189  0.12579  45.0  3.44    0 0.4370 6.556  29.1  4.5667   5 398    15.2 382.84\n",
      "190  0.08370  45.0  3.44    0 0.4370 7.185  38.9  4.5667   5 398    15.2 396.90\n",
      "191  0.09068  45.0  3.44    0 0.4370 6.951  21.5  6.4798   5 398    15.2 377.68\n",
      "192  0.06911  45.0  3.44    0 0.4370 6.739  30.8  6.4798   5 398    15.2 389.71\n",
      "193  0.08664  45.0  3.44    0 0.4370 7.178  26.3  6.4798   5 398    15.2 390.49\n",
      "194  0.02187  60.0  2.93    0 0.4010 6.800   9.9  6.2196   1 265    15.6 393.37\n",
      "195  0.01439  60.0  2.93    0 0.4010 6.604  18.8  6.2196   1 265    15.6 376.70\n",
      "196  0.01381  80.0  0.46    0 0.4220 7.875  32.0  5.6484   4 255    14.4 394.23\n",
      "197  0.04011  80.0  1.52    0 0.4040 7.287  34.1  7.3090   2 329    12.6 396.90\n",
      "198  0.04666  80.0  1.52    0 0.4040 7.107  36.6  7.3090   2 329    12.6 354.31\n",
      "199  0.03768  80.0  1.52    0 0.4040 7.274  38.3  7.3090   2 329    12.6 392.20\n",
      "200  0.03150  95.0  1.47    0 0.4030 6.975  15.3  7.6534   3 402    17.0 396.90\n",
      "201  0.01778  95.0  1.47    0 0.4030 7.135  13.9  7.6534   3 402    17.0 384.30\n",
      "202  0.03445  82.5  2.03    0 0.4150 6.162  38.4  6.2700   2 348    14.7 393.77\n",
      "203  0.02177  82.5  2.03    0 0.4150 7.610  15.7  6.2700   2 348    14.7 395.38\n",
      "204  0.03510  95.0  2.68    0 0.4161 7.853  33.2  5.1180   4 224    14.7 392.78\n",
      "205  0.02009  95.0  2.68    0 0.4161 8.034  31.9  5.1180   4 224    14.7 390.55\n",
      "206  0.13642   0.0 10.59    0 0.4890 5.891  22.3  3.9454   4 277    18.6 396.90\n",
      "207  0.22969   0.0 10.59    0 0.4890 6.326  52.5  4.3549   4 277    18.6 394.87\n",
      "208  0.25199   0.0 10.59    0 0.4890 5.783  72.7  4.3549   4 277    18.6 389.43\n",
      "209  0.13587   0.0 10.59    1 0.4890 6.064  59.1  4.2392   4 277    18.6 381.32\n",
      "210  0.43571   0.0 10.59    1 0.4890 5.344 100.0  3.8750   4 277    18.6 396.90\n",
      "211  0.17446   0.0 10.59    1 0.4890 5.960  92.1  3.8771   4 277    18.6 393.25\n",
      "212  0.37578   0.0 10.59    1 0.4890 5.404  88.6  3.6650   4 277    18.6 395.24\n",
      "213  0.21719   0.0 10.59    1 0.4890 5.807  53.8  3.6526   4 277    18.6 390.94\n",
      "214  0.14052   0.0 10.59    0 0.4890 6.375  32.3  3.9454   4 277    18.6 385.81\n",
      "215  0.28955   0.0 10.59    0 0.4890 5.412   9.8  3.5875   4 277    18.6 348.93\n",
      "216  0.19802   0.0 10.59    0 0.4890 6.182  42.4  3.9454   4 277    18.6 393.63\n",
      "217  0.04560   0.0 13.89    1 0.5500 5.888  56.0  3.1121   5 276    16.4 392.80\n",
      "218  0.07013   0.0 13.89    0 0.5500 6.642  85.1  3.4211   5 276    16.4 392.78\n",
      "219  0.11069   0.0 13.89    1 0.5500 5.951  93.8  2.8893   5 276    16.4 396.90\n",
      "220  0.11425   0.0 13.89    1 0.5500 6.373  92.4  3.3633   5 276    16.4 393.74\n",
      "221  0.35809   0.0  6.20    1 0.5070 6.951  88.5  2.8617   8 307    17.4 391.70\n",
      "222  0.40771   0.0  6.20    1 0.5070 6.164  91.3  3.0480   8 307    17.4 395.24\n",
      "223  0.62356   0.0  6.20    1 0.5070 6.879  77.7  3.2721   8 307    17.4 390.39\n",
      "224  0.61470   0.0  6.20    0 0.5070 6.618  80.8  3.2721   8 307    17.4 396.90\n",
      "225  0.31533   0.0  6.20    0 0.5040 8.266  78.3  2.8944   8 307    17.4 385.05\n",
      "226  0.52693   0.0  6.20    0 0.5040 8.725  83.0  2.8944   8 307    17.4 382.00\n",
      "227  0.38214   0.0  6.20    0 0.5040 8.040  86.5  3.2157   8 307    17.4 387.38\n",
      "228  0.41238   0.0  6.20    0 0.5040 7.163  79.9  3.2157   8 307    17.4 372.08\n",
      "229  0.29819   0.0  6.20    0 0.5040 7.686  17.0  3.3751   8 307    17.4 377.51\n",
      "230  0.44178   0.0  6.20    0 0.5040 6.552  21.4  3.3751   8 307    17.4 380.34\n",
      "231  0.53700   0.0  6.20    0 0.5040 5.981  68.1  3.6715   8 307    17.4 378.35\n",
      "232  0.46296   0.0  6.20    0 0.5040 7.412  76.9  3.6715   8 307    17.4 376.14\n",
      "233  0.57529   0.0  6.20    0 0.5070 8.337  73.3  3.8384   8 307    17.4 385.91\n",
      "234  0.33147   0.0  6.20    0 0.5070 8.247  70.4  3.6519   8 307    17.4 378.95\n",
      "235  0.44791   0.0  6.20    1 0.5070 6.726  66.5  3.6519   8 307    17.4 360.20\n",
      "236  0.33045   0.0  6.20    0 0.5070 6.086  61.5  3.6519   8 307    17.4 376.75\n",
      "237  0.52058   0.0  6.20    1 0.5070 6.631  76.5  4.1480   8 307    17.4 388.45\n",
      "238  0.51183   0.0  6.20    0 0.5070 7.358  71.6  4.1480   8 307    17.4 390.07\n",
      "239  0.08244  30.0  4.93    0 0.4280 6.481  18.5  6.1899   6 300    16.6 379.41\n",
      "240  0.09252  30.0  4.93    0 0.4280 6.606  42.2  6.1899   6 300    16.6 383.78\n",
      "241  0.11329  30.0  4.93    0 0.4280 6.897  54.3  6.3361   6 300    16.6 391.25\n",
      "242  0.10612  30.0  4.93    0 0.4280 6.095  65.1  6.3361   6 300    16.6 394.62\n",
      "243  0.10290  30.0  4.93    0 0.4280 6.358  52.9  7.0355   6 300    16.6 372.75\n",
      "244  0.12757  30.0  4.93    0 0.4280 6.393   7.8  7.0355   6 300    16.6 374.71\n",
      "245  0.20608  22.0  5.86    0 0.4310 5.593  76.5  7.9549   7 330    19.1 372.49\n",
      "246  0.19133  22.0  5.86    0 0.4310 5.605  70.2  7.9549   7 330    19.1 389.13\n",
      "247  0.33983  22.0  5.86    0 0.4310 6.108  34.9  8.0555   7 330    19.1 390.18\n",
      "248  0.19657  22.0  5.86    0 0.4310 6.226  79.2  8.0555   7 330    19.1 376.14\n",
      "249  0.16439  22.0  5.86    0 0.4310 6.433  49.1  7.8265   7 330    19.1 374.71\n",
      "250  0.19073  22.0  5.86    0 0.4310 6.718  17.5  7.8265   7 330    19.1 393.74\n",
      "251  0.14030  22.0  5.86    0 0.4310 6.487  13.0  7.3967   7 330    19.1 396.28\n",
      "252  0.21409  22.0  5.86    0 0.4310 6.438   8.9  7.3967   7 330    19.1 377.07\n",
      "253  0.08221  22.0  5.86    0 0.4310 6.957   6.8  8.9067   7 330    19.1 386.09\n",
      "254  0.36894  22.0  5.86    0 0.4310 8.259   8.4  8.9067   7 330    19.1 396.90\n",
      "255  0.04819  80.0  3.64    0 0.3920 6.108  32.0  9.2203   1 315    16.4 392.89\n",
      "256  0.03548  80.0  3.64    0 0.3920 5.876  19.1  9.2203   1 315    16.4 395.18\n",
      "257  0.01538  90.0  3.75    0 0.3940 7.454  34.2  6.3361   3 244    15.9 386.34\n",
      "258  0.61154  20.0  3.97    0 0.6470 8.704  86.9  1.8010   5 264    13.0 389.70\n",
      "259  0.66351  20.0  3.97    0 0.6470 7.333 100.0  1.8946   5 264    13.0 383.29\n",
      "260  0.65665  20.0  3.97    0 0.6470 6.842 100.0  2.0107   5 264    13.0 391.93\n",
      "261  0.54011  20.0  3.97    0 0.6470 7.203  81.8  2.1121   5 264    13.0 392.80\n",
      "262  0.53412  20.0  3.97    0 0.6470 7.520  89.4  2.1398   5 264    13.0 388.37\n",
      "263  0.52014  20.0  3.97    0 0.6470 8.398  91.5  2.2885   5 264    13.0 386.86\n",
      "264  0.82526  20.0  3.97    0 0.6470 7.327  94.5  2.0788   5 264    13.0 393.42\n",
      "265  0.55007  20.0  3.97    0 0.6470 7.206  91.6  1.9301   5 264    13.0 387.89\n",
      "266  0.76162  20.0  3.97    0 0.6470 5.560  62.8  1.9865   5 264    13.0 392.40\n",
      "267  0.78570  20.0  3.97    0 0.6470 7.014  84.6  2.1329   5 264    13.0 384.07\n",
      "268  0.57834  20.0  3.97    0 0.5750 8.297  67.0  2.4216   5 264    13.0 384.54\n",
      "269  0.54050  20.0  3.97    0 0.5750 7.470  52.6  2.8720   5 264    13.0 390.30\n",
      "270  0.09065  20.0  6.96    1 0.4640 5.920  61.5  3.9175   3 223    18.6 391.34\n",
      "271  0.29916  20.0  6.96    0 0.4640 5.856  42.1  4.4290   3 223    18.6 388.65\n",
      "272  0.16211  20.0  6.96    0 0.4640 6.240  16.3  4.4290   3 223    18.6 396.90\n",
      "273  0.11460  20.0  6.96    0 0.4640 6.538  58.7  3.9175   3 223    18.6 394.96\n",
      "274  0.22188  20.0  6.96    1 0.4640 7.691  51.8  4.3665   3 223    18.6 390.77\n",
      "275  0.05644  40.0  6.41    1 0.4470 6.758  32.9  4.0776   4 254    17.6 396.90\n",
      "276  0.09604  40.0  6.41    0 0.4470 6.854  42.8  4.2673   4 254    17.6 396.90\n",
      "277  0.10469  40.0  6.41    1 0.4470 7.267  49.0  4.7872   4 254    17.6 389.25\n",
      "278  0.06127  40.0  6.41    1 0.4470 6.826  27.6  4.8628   4 254    17.6 393.45\n",
      "279  0.07978  40.0  6.41    0 0.4470 6.482  32.1  4.1403   4 254    17.6 396.90\n",
      "280  0.21038  20.0  3.33    0 0.4429 6.812  32.2  4.1007   5 216    14.9 396.90\n",
      "281  0.03578  20.0  3.33    0 0.4429 7.820  64.5  4.6947   5 216    14.9 387.31\n",
      "282  0.03705  20.0  3.33    0 0.4429 6.968  37.2  5.2447   5 216    14.9 392.23\n",
      "283  0.06129  20.0  3.33    1 0.4429 7.645  49.7  5.2119   5 216    14.9 377.07\n",
      "284  0.01501  90.0  1.21    1 0.4010 7.923  24.8  5.8850   1 198    13.6 395.52\n",
      "285  0.00906  90.0  2.97    0 0.4000 7.088  20.8  7.3073   1 285    15.3 394.72\n",
      "286  0.01096  55.0  2.25    0 0.3890 6.453  31.9  7.3073   1 300    15.3 394.72\n",
      "287  0.01965  80.0  1.76    0 0.3850 6.230  31.5  9.0892   1 241    18.2 341.60\n",
      "288  0.03871  52.5  5.32    0 0.4050 6.209  31.3  7.3172   6 293    16.6 396.90\n",
      "289  0.04590  52.5  5.32    0 0.4050 6.315  45.6  7.3172   6 293    16.6 396.90\n",
      "290  0.04297  52.5  5.32    0 0.4050 6.565  22.9  7.3172   6 293    16.6 371.72\n",
      "291  0.03502  80.0  4.95    0 0.4110 6.861  27.9  5.1167   4 245    19.2 396.90\n",
      "292  0.07886  80.0  4.95    0 0.4110 7.148  27.7  5.1167   4 245    19.2 396.90\n",
      "293  0.03615  80.0  4.95    0 0.4110 6.630  23.4  5.1167   4 245    19.2 396.90\n",
      "294  0.08265   0.0 13.92    0 0.4370 6.127  18.4  5.5027   4 289    16.0 396.90\n",
      "295  0.08199   0.0 13.92    0 0.4370 6.009  42.3  5.5027   4 289    16.0 396.90\n",
      "296  0.12932   0.0 13.92    0 0.4370 6.678  31.1  5.9604   4 289    16.0 396.90\n",
      "297  0.05372   0.0 13.92    0 0.4370 6.549  51.0  5.9604   4 289    16.0 392.85\n",
      "298  0.14103   0.0 13.92    0 0.4370 5.790  58.0  6.3200   4 289    16.0 396.90\n",
      "299  0.06466  70.0  2.24    0 0.4000 6.345  20.1  7.8278   5 358    14.8 368.24\n",
      "300  0.05561  70.0  2.24    0 0.4000 7.041  10.0  7.8278   5 358    14.8 371.58\n",
      "301  0.04417  70.0  2.24    0 0.4000 6.871  47.4  7.8278   5 358    14.8 390.86\n",
      "302  0.03537  34.0  6.09    0 0.4330 6.590  40.4  5.4917   7 329    16.1 395.75\n",
      "303  0.09266  34.0  6.09    0 0.4330 6.495  18.4  5.4917   7 329    16.1 383.61\n",
      "304  0.10000  34.0  6.09    0 0.4330 6.982  17.7  5.4917   7 329    16.1 390.43\n",
      "305  0.05515  33.0  2.18    0 0.4720 7.236  41.1  4.0220   7 222    18.4 393.68\n",
      "306  0.05479  33.0  2.18    0 0.4720 6.616  58.1  3.3700   7 222    18.4 393.36\n",
      "307  0.07503  33.0  2.18    0 0.4720 7.420  71.9  3.0992   7 222    18.4 396.90\n",
      "308  0.04932  33.0  2.18    0 0.4720 6.849  70.3  3.1827   7 222    18.4 396.90\n",
      "309  0.49298   0.0  9.90    0 0.5440 6.635  82.5  3.3175   4 304    18.4 396.90\n",
      "310  0.34940   0.0  9.90    0 0.5440 5.972  76.7  3.1025   4 304    18.4 396.24\n",
      "311  2.63548   0.0  9.90    0 0.5440 4.973  37.8  2.5194   4 304    18.4 350.45\n",
      "312  0.79041   0.0  9.90    0 0.5440 6.122  52.8  2.6403   4 304    18.4 396.90\n",
      "313  0.26169   0.0  9.90    0 0.5440 6.023  90.4  2.8340   4 304    18.4 396.30\n",
      "314  0.26938   0.0  9.90    0 0.5440 6.266  82.8  3.2628   4 304    18.4 393.39\n",
      "315  0.36920   0.0  9.90    0 0.5440 6.567  87.3  3.6023   4 304    18.4 395.69\n",
      "316  0.25356   0.0  9.90    0 0.5440 5.705  77.7  3.9450   4 304    18.4 396.42\n",
      "317  0.31827   0.0  9.90    0 0.5440 5.914  83.2  3.9986   4 304    18.4 390.70\n",
      "318  0.24522   0.0  9.90    0 0.5440 5.782  71.7  4.0317   4 304    18.4 396.90\n",
      "319  0.40202   0.0  9.90    0 0.5440 6.382  67.2  3.5325   4 304    18.4 395.21\n",
      "320  0.47547   0.0  9.90    0 0.5440 6.113  58.8  4.0019   4 304    18.4 396.23\n",
      "321  0.16760   0.0  7.38    0 0.4930 6.426  52.3  4.5404   5 287    19.6 396.90\n",
      "322  0.18159   0.0  7.38    0 0.4930 6.376  54.3  4.5404   5 287    19.6 396.90\n",
      "323  0.35114   0.0  7.38    0 0.4930 6.041  49.9  4.7211   5 287    19.6 396.90\n",
      "324  0.28392   0.0  7.38    0 0.4930 5.708  74.3  4.7211   5 287    19.6 391.13\n",
      "325  0.34109   0.0  7.38    0 0.4930 6.415  40.1  4.7211   5 287    19.6 396.90\n",
      "326  0.19186   0.0  7.38    0 0.4930 6.431  14.7  5.4159   5 287    19.6 393.68\n",
      "327  0.30347   0.0  7.38    0 0.4930 6.312  28.9  5.4159   5 287    19.6 396.90\n",
      "328  0.24103   0.0  7.38    0 0.4930 6.083  43.7  5.4159   5 287    19.6 396.90\n",
      "329  0.06617   0.0  3.24    0 0.4600 5.868  25.8  5.2146   4 430    16.9 382.44\n",
      "330  0.06724   0.0  3.24    0 0.4600 6.333  17.2  5.2146   4 430    16.9 375.21\n",
      "331  0.04544   0.0  3.24    0 0.4600 6.144  32.2  5.8736   4 430    16.9 368.57\n",
      "332  0.05023  35.0  6.06    0 0.4379 5.706  28.4  6.6407   1 304    16.9 394.02\n",
      "333  0.03466  35.0  6.06    0 0.4379 6.031  23.3  6.6407   1 304    16.9 362.25\n",
      "334  0.05083   0.0  5.19    0 0.5150 6.316  38.1  6.4584   5 224    20.2 389.71\n",
      "335  0.03738   0.0  5.19    0 0.5150 6.310  38.5  6.4584   5 224    20.2 389.40\n",
      "336  0.03961   0.0  5.19    0 0.5150 6.037  34.5  5.9853   5 224    20.2 396.90\n",
      "337  0.03427   0.0  5.19    0 0.5150 5.869  46.3  5.2311   5 224    20.2 396.90\n",
      "338  0.03041   0.0  5.19    0 0.5150 5.895  59.6  5.6150   5 224    20.2 394.81\n",
      "339  0.03306   0.0  5.19    0 0.5150 6.059  37.3  4.8122   5 224    20.2 396.14\n",
      "340  0.05497   0.0  5.19    0 0.5150 5.985  45.4  4.8122   5 224    20.2 396.90\n",
      "341  0.06151   0.0  5.19    0 0.5150 5.968  58.5  4.8122   5 224    20.2 396.90\n",
      "342  0.01301  35.0  1.52    0 0.4420 7.241  49.3  7.0379   1 284    15.5 394.74\n",
      "343  0.02498   0.0  1.89    0 0.5180 6.540  59.7  6.2669   1 422    15.9 389.96\n",
      "344  0.02543  55.0  3.78    0 0.4840 6.696  56.4  5.7321   5 370    17.6 396.90\n",
      "345  0.03049  55.0  3.78    0 0.4840 6.874  28.1  6.4654   5 370    17.6 387.97\n",
      "346  0.03113   0.0  4.39    0 0.4420 6.014  48.5  8.0136   3 352    18.8 385.64\n",
      "347  0.06162   0.0  4.39    0 0.4420 5.898  52.3  8.0136   3 352    18.8 364.61\n",
      "348  0.01870  85.0  4.15    0 0.4290 6.516  27.7  8.5353   4 351    17.9 392.43\n",
      "349  0.01501  80.0  2.01    0 0.4350 6.635  29.7  8.3440   4 280    17.0 390.94\n",
      "350  0.02899  40.0  1.25    0 0.4290 6.939  34.5  8.7921   1 335    19.7 389.85\n",
      "351  0.06211  40.0  1.25    0 0.4290 6.490  44.4  8.7921   1 335    19.7 396.90\n",
      "352  0.07950  60.0  1.69    0 0.4110 6.579  35.9 10.7103   4 411    18.3 370.78\n",
      "353  0.07244  60.0  1.69    0 0.4110 5.884  18.5 10.7103   4 411    18.3 392.33\n",
      "354  0.01709  90.0  2.02    0 0.4100 6.728  36.1 12.1265   5 187    17.0 384.46\n",
      "355  0.04301  80.0  1.91    0 0.4130 5.663  21.9 10.5857   4 334    22.0 382.80\n",
      "356  0.10659  80.0  1.91    0 0.4130 5.936  19.5 10.5857   4 334    22.0 376.04\n",
      "357  8.98296   0.0 18.10    1 0.7700 6.212  97.4  2.1222  24 666    20.2 377.73\n",
      "358  3.84970   0.0 18.10    1 0.7700 6.395  91.0  2.5052  24 666    20.2 391.34\n",
      "359  5.20177   0.0 18.10    1 0.7700 6.127  83.4  2.7227  24 666    20.2 395.43\n",
      "360  4.26131   0.0 18.10    0 0.7700 6.112  81.3  2.5091  24 666    20.2 390.74\n",
      "361  4.54192   0.0 18.10    0 0.7700 6.398  88.0  2.5182  24 666    20.2 374.56\n",
      "362  3.83684   0.0 18.10    0 0.7700 6.251  91.1  2.2955  24 666    20.2 350.65\n",
      "363  3.67822   0.0 18.10    0 0.7700 5.362  96.2  2.1036  24 666    20.2 380.79\n",
      "364  4.22239   0.0 18.10    1 0.7700 5.803  89.0  1.9047  24 666    20.2 353.04\n",
      "365  3.47428   0.0 18.10    1 0.7180 8.780  82.9  1.9047  24 666    20.2 354.55\n",
      "366  4.55587   0.0 18.10    0 0.7180 3.561  87.9  1.6132  24 666    20.2 354.70\n",
      "367  3.69695   0.0 18.10    0 0.7180 4.963  91.4  1.7523  24 666    20.2 316.03\n",
      "368 13.52220   0.0 18.10    0 0.6310 3.863 100.0  1.5106  24 666    20.2 131.42\n",
      "369  4.89822   0.0 18.10    0 0.6310 4.970 100.0  1.3325  24 666    20.2 375.52\n",
      "370  5.66998   0.0 18.10    1 0.6310 6.683  96.8  1.3567  24 666    20.2 375.33\n",
      "371  6.53876   0.0 18.10    1 0.6310 7.016  97.5  1.2024  24 666    20.2 392.05\n",
      "372  9.23230   0.0 18.10    0 0.6310 6.216 100.0  1.1691  24 666    20.2 366.15\n",
      "373  8.26725   0.0 18.10    1 0.6680 5.875  89.6  1.1296  24 666    20.2 347.88\n",
      "374 11.10810   0.0 18.10    0 0.6680 4.906 100.0  1.1742  24 666    20.2 396.90\n",
      "375 18.49820   0.0 18.10    0 0.6680 4.138 100.0  1.1370  24 666    20.2 396.90\n",
      "376 19.60910   0.0 18.10    0 0.6710 7.313  97.9  1.3163  24 666    20.2 396.90\n",
      "377 15.28800   0.0 18.10    0 0.6710 6.649  93.3  1.3449  24 666    20.2 363.02\n",
      "378  9.82349   0.0 18.10    0 0.6710 6.794  98.8  1.3580  24 666    20.2 396.90\n",
      "379 23.64820   0.0 18.10    0 0.6710 6.380  96.2  1.3861  24 666    20.2 396.90\n",
      "380 17.86670   0.0 18.10    0 0.6710 6.223 100.0  1.3861  24 666    20.2 393.74\n",
      "381 88.97620   0.0 18.10    0 0.6710 6.968  91.9  1.4165  24 666    20.2 396.90\n",
      "382 15.87440   0.0 18.10    0 0.6710 6.545  99.1  1.5192  24 666    20.2 396.90\n",
      "383  9.18702   0.0 18.10    0 0.7000 5.536 100.0  1.5804  24 666    20.2 396.90\n",
      "384  7.99248   0.0 18.10    0 0.7000 5.520 100.0  1.5331  24 666    20.2 396.90\n",
      "385 20.08490   0.0 18.10    0 0.7000 4.368  91.2  1.4395  24 666    20.2 285.83\n",
      "386 16.81180   0.0 18.10    0 0.7000 5.277  98.1  1.4261  24 666    20.2 396.90\n",
      "387 24.39380   0.0 18.10    0 0.7000 4.652 100.0  1.4672  24 666    20.2 396.90\n",
      "388 22.59710   0.0 18.10    0 0.7000 5.000  89.5  1.5184  24 666    20.2 396.90\n",
      "389 14.33370   0.0 18.10    0 0.7000 4.880 100.0  1.5895  24 666    20.2 372.92\n",
      "390  8.15174   0.0 18.10    0 0.7000 5.390  98.9  1.7281  24 666    20.2 396.90\n",
      "391  6.96215   0.0 18.10    0 0.7000 5.713  97.0  1.9265  24 666    20.2 394.43\n",
      "392  5.29305   0.0 18.10    0 0.7000 6.051  82.5  2.1678  24 666    20.2 378.38\n",
      "393 11.57790   0.0 18.10    0 0.7000 5.036  97.0  1.7700  24 666    20.2 396.90\n",
      "394  8.64476   0.0 18.10    0 0.6930 6.193  92.6  1.7912  24 666    20.2 396.90\n",
      "395 13.35980   0.0 18.10    0 0.6930 5.887  94.7  1.7821  24 666    20.2 396.90\n",
      "396  8.71675   0.0 18.10    0 0.6930 6.471  98.8  1.7257  24 666    20.2 391.98\n",
      "397  5.87205   0.0 18.10    0 0.6930 6.405  96.0  1.6768  24 666    20.2 396.90\n",
      "398  7.67202   0.0 18.10    0 0.6930 5.747  98.9  1.6334  24 666    20.2 393.10\n",
      "399 38.35180   0.0 18.10    0 0.6930 5.453 100.0  1.4896  24 666    20.2 396.90\n",
      "400  9.91655   0.0 18.10    0 0.6930 5.852  77.8  1.5004  24 666    20.2 338.16\n",
      "401 25.04610   0.0 18.10    0 0.6930 5.987 100.0  1.5888  24 666    20.2 396.90\n",
      "402 14.23620   0.0 18.10    0 0.6930 6.343 100.0  1.5741  24 666    20.2 396.90\n",
      "403  9.59571   0.0 18.10    0 0.6930 6.404 100.0  1.6390  24 666    20.2 376.11\n",
      "404 24.80170   0.0 18.10    0 0.6930 5.349  96.0  1.7028  24 666    20.2 396.90\n",
      "405 41.52920   0.0 18.10    0 0.6930 5.531  85.4  1.6074  24 666    20.2 329.46\n",
      "406 67.92080   0.0 18.10    0 0.6930 5.683 100.0  1.4254  24 666    20.2 384.97\n",
      "407 20.71620   0.0 18.10    0 0.6590 4.138 100.0  1.1781  24 666    20.2 370.22\n",
      "408 11.95110   0.0 18.10    0 0.6590 5.608 100.0  1.2852  24 666    20.2 332.09\n",
      "409  7.40389   0.0 18.10    0 0.5970 5.617  97.9  1.4547  24 666    20.2 314.64\n",
      "410 14.43830   0.0 18.10    0 0.5970 6.852 100.0  1.4655  24 666    20.2 179.36\n",
      "411 51.13580   0.0 18.10    0 0.5970 5.757 100.0  1.4130  24 666    20.2   2.60\n",
      "412 14.05070   0.0 18.10    0 0.5970 6.657 100.0  1.5275  24 666    20.2  35.05\n",
      "413 18.81100   0.0 18.10    0 0.5970 4.628 100.0  1.5539  24 666    20.2  28.79\n",
      "414 28.65580   0.0 18.10    0 0.5970 5.155 100.0  1.5894  24 666    20.2 210.97\n",
      "415 45.74610   0.0 18.10    0 0.6930 4.519 100.0  1.6582  24 666    20.2  88.27\n",
      "416 18.08460   0.0 18.10    0 0.6790 6.434 100.0  1.8347  24 666    20.2  27.25\n",
      "417 10.83420   0.0 18.10    0 0.6790 6.782  90.8  1.8195  24 666    20.2  21.57\n",
      "418 25.94060   0.0 18.10    0 0.6790 5.304  89.1  1.6475  24 666    20.2 127.36\n",
      "419 73.53410   0.0 18.10    0 0.6790 5.957 100.0  1.8026  24 666    20.2  16.45\n",
      "420 11.81230   0.0 18.10    0 0.7180 6.824  76.5  1.7940  24 666    20.2  48.45\n",
      "421 11.08740   0.0 18.10    0 0.7180 6.411 100.0  1.8589  24 666    20.2 318.75\n",
      "422  7.02259   0.0 18.10    0 0.7180 6.006  95.3  1.8746  24 666    20.2 319.98\n",
      "423 12.04820   0.0 18.10    0 0.6140 5.648  87.6  1.9512  24 666    20.2 291.55\n",
      "424  7.05042   0.0 18.10    0 0.6140 6.103  85.1  2.0218  24 666    20.2   2.52\n",
      "425  8.79212   0.0 18.10    0 0.5840 5.565  70.6  2.0635  24 666    20.2   3.65\n",
      "426 15.86030   0.0 18.10    0 0.6790 5.896  95.4  1.9096  24 666    20.2   7.68\n",
      "427 12.24720   0.0 18.10    0 0.5840 5.837  59.7  1.9976  24 666    20.2  24.65\n",
      "428 37.66190   0.0 18.10    0 0.6790 6.202  78.7  1.8629  24 666    20.2  18.82\n",
      "429  7.36711   0.0 18.10    0 0.6790 6.193  78.1  1.9356  24 666    20.2  96.73\n",
      "430  9.33889   0.0 18.10    0 0.6790 6.380  95.6  1.9682  24 666    20.2  60.72\n",
      "431  8.49213   0.0 18.10    0 0.5840 6.348  86.1  2.0527  24 666    20.2  83.45\n",
      "432 10.06230   0.0 18.10    0 0.5840 6.833  94.3  2.0882  24 666    20.2  81.33\n",
      "433  6.44405   0.0 18.10    0 0.5840 6.425  74.8  2.2004  24 666    20.2  97.95\n",
      "434  5.58107   0.0 18.10    0 0.7130 6.436  87.9  2.3158  24 666    20.2 100.19\n",
      "435 13.91340   0.0 18.10    0 0.7130 6.208  95.0  2.2222  24 666    20.2 100.63\n",
      "436 11.16040   0.0 18.10    0 0.7400 6.629  94.6  2.1247  24 666    20.2 109.85\n",
      "437 14.42080   0.0 18.10    0 0.7400 6.461  93.3  2.0026  24 666    20.2  27.49\n",
      "438 15.17720   0.0 18.10    0 0.7400 6.152 100.0  1.9142  24 666    20.2   9.32\n",
      "439 13.67810   0.0 18.10    0 0.7400 5.935  87.9  1.8206  24 666    20.2  68.95\n",
      "440  9.39063   0.0 18.10    0 0.7400 5.627  93.9  1.8172  24 666    20.2 396.90\n",
      "441 22.05110   0.0 18.10    0 0.7400 5.818  92.4  1.8662  24 666    20.2 391.45\n",
      "442  9.72418   0.0 18.10    0 0.7400 6.406  97.2  2.0651  24 666    20.2 385.96\n",
      "443  5.66637   0.0 18.10    0 0.7400 6.219 100.0  2.0048  24 666    20.2 395.69\n",
      "444  9.96654   0.0 18.10    0 0.7400 6.485 100.0  1.9784  24 666    20.2 386.73\n",
      "445 12.80230   0.0 18.10    0 0.7400 5.854  96.6  1.8956  24 666    20.2 240.52\n",
      "446 10.67180   0.0 18.10    0 0.7400 6.459  94.8  1.9879  24 666    20.2  43.06\n",
      "447  6.28807   0.0 18.10    0 0.7400 6.341  96.4  2.0720  24 666    20.2 318.01\n",
      "448  9.92485   0.0 18.10    0 0.7400 6.251  96.6  2.1980  24 666    20.2 388.52\n",
      "449  9.32909   0.0 18.10    0 0.7130 6.185  98.7  2.2616  24 666    20.2 396.90\n",
      "450  7.52601   0.0 18.10    0 0.7130 6.417  98.3  2.1850  24 666    20.2 304.21\n",
      "451  6.71772   0.0 18.10    0 0.7130 6.749  92.6  2.3236  24 666    20.2   0.32\n",
      "452  5.44114   0.0 18.10    0 0.7130 6.655  98.2  2.3552  24 666    20.2 355.29\n",
      "453  5.09017   0.0 18.10    0 0.7130 6.297  91.8  2.3682  24 666    20.2 385.09\n",
      "454  8.24809   0.0 18.10    0 0.7130 7.393  99.3  2.4527  24 666    20.2 375.87\n",
      "455  9.51363   0.0 18.10    0 0.7130 6.728  94.1  2.4961  24 666    20.2   6.68\n",
      "456  4.75237   0.0 18.10    0 0.7130 6.525  86.5  2.4358  24 666    20.2  50.92\n",
      "457  4.66883   0.0 18.10    0 0.7130 5.976  87.9  2.5806  24 666    20.2  10.48\n",
      "458  8.20058   0.0 18.10    0 0.7130 5.936  80.3  2.7792  24 666    20.2   3.50\n",
      "459  7.75223   0.0 18.10    0 0.7130 6.301  83.7  2.7831  24 666    20.2 272.21\n",
      "460  6.80117   0.0 18.10    0 0.7130 6.081  84.4  2.7175  24 666    20.2 396.90\n",
      "461  4.81213   0.0 18.10    0 0.7130 6.701  90.0  2.5975  24 666    20.2 255.23\n",
      "462  3.69311   0.0 18.10    0 0.7130 6.376  88.4  2.5671  24 666    20.2 391.43\n",
      "463  6.65492   0.0 18.10    0 0.7130 6.317  83.0  2.7344  24 666    20.2 396.90\n",
      "464  5.82115   0.0 18.10    0 0.7130 6.513  89.9  2.8016  24 666    20.2 393.82\n",
      "465  7.83932   0.0 18.10    0 0.6550 6.209  65.4  2.9634  24 666    20.2 396.90\n",
      "466  3.16360   0.0 18.10    0 0.6550 5.759  48.2  3.0665  24 666    20.2 334.40\n",
      "467  3.77498   0.0 18.10    0 0.6550 5.952  84.7  2.8715  24 666    20.2  22.01\n",
      "468  4.42228   0.0 18.10    0 0.5840 6.003  94.5  2.5403  24 666    20.2 331.29\n",
      "469 15.57570   0.0 18.10    0 0.5800 5.926  71.0  2.9084  24 666    20.2 368.74\n",
      "470 13.07510   0.0 18.10    0 0.5800 5.713  56.7  2.8237  24 666    20.2 396.90\n",
      "471  4.34879   0.0 18.10    0 0.5800 6.167  84.0  3.0334  24 666    20.2 396.90\n",
      "472  4.03841   0.0 18.10    0 0.5320 6.229  90.7  3.0993  24 666    20.2 395.33\n",
      "473  3.56868   0.0 18.10    0 0.5800 6.437  75.0  2.8965  24 666    20.2 393.37\n",
      "474  4.64689   0.0 18.10    0 0.6140 6.980  67.6  2.5329  24 666    20.2 374.68\n",
      "475  8.05579   0.0 18.10    0 0.5840 5.427  95.4  2.4298  24 666    20.2 352.58\n",
      "476  6.39312   0.0 18.10    0 0.5840 6.162  97.4  2.2060  24 666    20.2 302.76\n",
      "477  4.87141   0.0 18.10    0 0.6140 6.484  93.6  2.3053  24 666    20.2 396.21\n",
      "478 15.02340   0.0 18.10    0 0.6140 5.304  97.3  2.1007  24 666    20.2 349.48\n",
      "479 10.23300   0.0 18.10    0 0.6140 6.185  96.7  2.1705  24 666    20.2 379.70\n",
      "480 14.33370   0.0 18.10    0 0.6140 6.229  88.0  1.9512  24 666    20.2 383.32\n",
      "481  5.82401   0.0 18.10    0 0.5320 6.242  64.7  3.4242  24 666    20.2 396.90\n",
      "482  5.70818   0.0 18.10    0 0.5320 6.750  74.9  3.3317  24 666    20.2 393.07\n",
      "483  5.73116   0.0 18.10    0 0.5320 7.061  77.0  3.4106  24 666    20.2 395.28\n",
      "484  2.81838   0.0 18.10    0 0.5320 5.762  40.3  4.0983  24 666    20.2 392.92\n",
      "485  2.37857   0.0 18.10    0 0.5830 5.871  41.9  3.7240  24 666    20.2 370.73\n",
      "486  3.67367   0.0 18.10    0 0.5830 6.312  51.9  3.9917  24 666    20.2 388.62\n",
      "487  5.69175   0.0 18.10    0 0.5830 6.114  79.8  3.5459  24 666    20.2 392.68\n",
      "488  4.83567   0.0 18.10    0 0.5830 5.905  53.2  3.1523  24 666    20.2 388.22\n",
      "489  0.15086   0.0 27.74    0 0.6090 5.454  92.7  1.8209   4 711    20.1 395.09\n",
      "490  0.18337   0.0 27.74    0 0.6090 5.414  98.3  1.7554   4 711    20.1 344.05\n",
      "491  0.20746   0.0 27.74    0 0.6090 5.093  98.0  1.8226   4 711    20.1 318.43\n",
      "492  0.10574   0.0 27.74    0 0.6090 5.983  98.8  1.8681   4 711    20.1 390.11\n",
      "493  0.11132   0.0 27.74    0 0.6090 5.983  83.5  2.1099   4 711    20.1 396.90\n",
      "494  0.17331   0.0  9.69    0 0.5850 5.707  54.0  2.3817   6 391    19.2 396.90\n",
      "495  0.27957   0.0  9.69    0 0.5850 5.926  42.6  2.3817   6 391    19.2 396.90\n",
      "496  0.17899   0.0  9.69    0 0.5850 5.670  28.8  2.7986   6 391    19.2 393.29\n",
      "497  0.28960   0.0  9.69    0 0.5850 5.390  72.9  2.7986   6 391    19.2 396.90\n",
      "498  0.26838   0.0  9.69    0 0.5850 5.794  70.6  2.8927   6 391    19.2 396.90\n",
      "499  0.23912   0.0  9.69    0 0.5850 6.019  65.3  2.4091   6 391    19.2 396.90\n",
      "500  0.17783   0.0  9.69    0 0.5850 5.569  73.5  2.3999   6 391    19.2 395.77\n",
      "501  0.22438   0.0  9.69    0 0.5850 6.027  79.7  2.4982   6 391    19.2 396.90\n",
      "502  0.06263   0.0 11.93    0 0.5730 6.593  69.1  2.4786   1 273    21.0 391.99\n",
      "503  0.04527   0.0 11.93    0 0.5730 6.120  76.7  2.2875   1 273    21.0 396.90\n",
      "504  0.06076   0.0 11.93    0 0.5730 6.976  91.0  2.1675   1 273    21.0 396.90\n",
      "505  0.10959   0.0 11.93    0 0.5730 6.794  89.3  2.3889   1 273    21.0 393.45\n",
      "506  0.04741   0.0 11.93    0 0.5730 6.030  80.8  2.5050   1 273    21.0 396.90\n",
      "    lstat medv\n",
      "1    4.98 24.0\n",
      "2    9.14 21.6\n",
      "3    4.03 34.7\n",
      "4    2.94 33.4\n",
      "5    5.33 36.2\n",
      "6    5.21 28.7\n",
      "7   12.43 22.9\n",
      "8   19.15 27.1\n",
      "9   29.93 16.5\n",
      "10  17.10 18.9\n",
      "11  20.45 15.0\n",
      "12  13.27 18.9\n",
      "13  15.71 21.7\n",
      "14   8.26 20.4\n",
      "15  10.26 18.2\n",
      "16   8.47 19.9\n",
      "17   6.58 23.1\n",
      "18  14.67 17.5\n",
      "19  11.69 20.2\n",
      "20  11.28 18.2\n",
      "21  21.02 13.6\n",
      "22  13.83 19.6\n",
      "23  18.72 15.2\n",
      "24  19.88 14.5\n",
      "25  16.30 15.6\n",
      "26  16.51 13.9\n",
      "27  14.81 16.6\n",
      "28  17.28 14.8\n",
      "29  12.80 18.4\n",
      "30  11.98 21.0\n",
      "31  22.60 12.7\n",
      "32  13.04 14.5\n",
      "33  27.71 13.2\n",
      "34  18.35 13.1\n",
      "35  20.34 13.5\n",
      "36   9.68 18.9\n",
      "37  11.41 20.0\n",
      "38   8.77 21.0\n",
      "39  10.13 24.7\n",
      "40   4.32 30.8\n",
      "41   1.98 34.9\n",
      "42   4.84 26.6\n",
      "43   5.81 25.3\n",
      "44   7.44 24.7\n",
      "45   9.55 21.2\n",
      "46  10.21 19.3\n",
      "47  14.15 20.0\n",
      "48  18.80 16.6\n",
      "49  30.81 14.4\n",
      "50  16.20 19.4\n",
      "51  13.45 19.7\n",
      "52   9.43 20.5\n",
      "53   5.28 25.0\n",
      "54   8.43 23.4\n",
      "55  14.80 18.9\n",
      "56   4.81 35.4\n",
      "57   5.77 24.7\n",
      "58   3.95 31.6\n",
      "59   6.86 23.3\n",
      "60   9.22 19.6\n",
      "61  13.15 18.7\n",
      "62  14.44 16.0\n",
      "63   6.73 22.2\n",
      "64   9.50 25.0\n",
      "65   8.05 33.0\n",
      "66   4.67 23.5\n",
      "67  10.24 19.4\n",
      "68   8.10 22.0\n",
      "69  13.09 17.4\n",
      "70   8.79 20.9\n",
      "71   6.72 24.2\n",
      "72   9.88 21.7\n",
      "73   5.52 22.8\n",
      "74   7.54 23.4\n",
      "75   6.78 24.1\n",
      "76   8.94 21.4\n",
      "77  11.97 20.0\n",
      "78  10.27 20.8\n",
      "79  12.34 21.2\n",
      "80   9.10 20.3\n",
      "81   5.29 28.0\n",
      "82   7.22 23.9\n",
      "83   6.72 24.8\n",
      "84   7.51 22.9\n",
      "85   9.62 23.9\n",
      "86   6.53 26.6\n",
      "87  12.86 22.5\n",
      "88   8.44 22.2\n",
      "89   5.50 23.6\n",
      "90   5.70 28.7\n",
      "91   8.81 22.6\n",
      "92   8.20 22.0\n",
      "93   8.16 22.9\n",
      "94   6.21 25.0\n",
      "95  10.59 20.6\n",
      "96   6.65 28.4\n",
      "97  11.34 21.4\n",
      "98   4.21 38.7\n",
      "99   3.57 43.8\n",
      "100  6.19 33.2\n",
      "101  9.42 27.5\n",
      "102  7.67 26.5\n",
      "103 10.63 18.6\n",
      "104 13.44 19.3\n",
      "105 12.33 20.1\n",
      "106 16.47 19.5\n",
      "107 18.66 19.5\n",
      "108 14.09 20.4\n",
      "109 12.27 19.8\n",
      "110 15.55 19.4\n",
      "111 13.00 21.7\n",
      "112 10.16 22.8\n",
      "113 16.21 18.8\n",
      "114 17.09 18.7\n",
      "115 10.45 18.5\n",
      "116 15.76 18.3\n",
      "117 12.04 21.2\n",
      "118 10.30 19.2\n",
      "119 15.37 20.4\n",
      "120 13.61 19.3\n",
      "121 14.37 22.0\n",
      "122 14.27 20.3\n",
      "123 17.93 20.5\n",
      "124 25.41 17.3\n",
      "125 17.58 18.8\n",
      "126 14.81 21.4\n",
      "127 27.26 15.7\n",
      "128 17.19 16.2\n",
      "129 15.39 18.0\n",
      "130 18.34 14.3\n",
      "131 12.60 19.2\n",
      "132 12.26 19.6\n",
      "133 11.12 23.0\n",
      "134 15.03 18.4\n",
      "135 17.31 15.6\n",
      "136 16.96 18.1\n",
      "137 16.90 17.4\n",
      "138 14.59 17.1\n",
      "139 21.32 13.3\n",
      "140 18.46 17.8\n",
      "141 24.16 14.0\n",
      "142 34.41 14.4\n",
      "143 26.82 13.4\n",
      "144 26.42 15.6\n",
      "145 29.29 11.8\n",
      "146 27.80 13.8\n",
      "147 16.65 15.6\n",
      "148 29.53 14.6\n",
      "149 28.32 17.8\n",
      "150 21.45 15.4\n",
      "151 14.10 21.5\n",
      "152 13.28 19.6\n",
      "153 12.12 15.3\n",
      "154 15.79 19.4\n",
      "155 15.12 17.0\n",
      "156 15.02 15.6\n",
      "157 16.14 13.1\n",
      "158  4.59 41.3\n",
      "159  6.43 24.3\n",
      "160  7.39 23.3\n",
      "161  5.50 27.0\n",
      "162  1.73 50.0\n",
      "163  1.92 50.0\n",
      "164  3.32 50.0\n",
      "165 11.64 22.7\n",
      "166  9.81 25.0\n",
      "167  3.70 50.0\n",
      "168 12.14 23.8\n",
      "169 11.10 23.8\n",
      "170 11.32 22.3\n",
      "171 14.43 17.4\n",
      "172 12.03 19.1\n",
      "173 14.69 23.1\n",
      "174  9.04 23.6\n",
      "175  9.64 22.6\n",
      "176  5.33 29.4\n",
      "177 10.11 23.2\n",
      "178  6.29 24.6\n",
      "179  6.92 29.9\n",
      "180  5.04 37.2\n",
      "181  7.56 39.8\n",
      "182  9.45 36.2\n",
      "183  4.82 37.9\n",
      "184  5.68 32.5\n",
      "185 13.98 26.4\n",
      "186 13.15 29.6\n",
      "187  4.45 50.0\n",
      "188  6.68 32.0\n",
      "189  4.56 29.8\n",
      "190  5.39 34.9\n",
      "191  5.10 37.0\n",
      "192  4.69 30.5\n",
      "193  2.87 36.4\n",
      "194  5.03 31.1\n",
      "195  4.38 29.1\n",
      "196  2.97 50.0\n",
      "197  4.08 33.3\n",
      "198  8.61 30.3\n",
      "199  6.62 34.6\n",
      "200  4.56 34.9\n",
      "201  4.45 32.9\n",
      "202  7.43 24.1\n",
      "203  3.11 42.3\n",
      "204  3.81 48.5\n",
      "205  2.88 50.0\n",
      "206 10.87 22.6\n",
      "207 10.97 24.4\n",
      "208 18.06 22.5\n",
      "209 14.66 24.4\n",
      "210 23.09 20.0\n",
      "211 17.27 21.7\n",
      "212 23.98 19.3\n",
      "213 16.03 22.4\n",
      "214  9.38 28.1\n",
      "215 29.55 23.7\n",
      "216  9.47 25.0\n",
      "217 13.51 23.3\n",
      "218  9.69 28.7\n",
      "219 17.92 21.5\n",
      "220 10.50 23.0\n",
      "221  9.71 26.7\n",
      "222 21.46 21.7\n",
      "223  9.93 27.5\n",
      "224  7.60 30.1\n",
      "225  4.14 44.8\n",
      "226  4.63 50.0\n",
      "227  3.13 37.6\n",
      "228  6.36 31.6\n",
      "229  3.92 46.7\n",
      "230  3.76 31.5\n",
      "231 11.65 24.3\n",
      "232  5.25 31.7\n",
      "233  2.47 41.7\n",
      "234  3.95 48.3\n",
      "235  8.05 29.0\n",
      "236 10.88 24.0\n",
      "237  9.54 25.1\n",
      "238  4.73 31.5\n",
      "239  6.36 23.7\n",
      "240  7.37 23.3\n",
      "241 11.38 22.0\n",
      "242 12.40 20.1\n",
      "243 11.22 22.2\n",
      "244  5.19 23.7\n",
      "245 12.50 17.6\n",
      "246 18.46 18.5\n",
      "247  9.16 24.3\n",
      "248 10.15 20.5\n",
      "249  9.52 24.5\n",
      "250  6.56 26.2\n",
      "251  5.90 24.4\n",
      "252  3.59 24.8\n",
      "253  3.53 29.6\n",
      "254  3.54 42.8\n",
      "255  6.57 21.9\n",
      "256  9.25 20.9\n",
      "257  3.11 44.0\n",
      "258  5.12 50.0\n",
      "259  7.79 36.0\n",
      "260  6.90 30.1\n",
      "261  9.59 33.8\n",
      "262  7.26 43.1\n",
      "263  5.91 48.8\n",
      "264 11.25 31.0\n",
      "265  8.10 36.5\n",
      "266 10.45 22.8\n",
      "267 14.79 30.7\n",
      "268  7.44 50.0\n",
      "269  3.16 43.5\n",
      "270 13.65 20.7\n",
      "271 13.00 21.1\n",
      "272  6.59 25.2\n",
      "273  7.73 24.4\n",
      "274  6.58 35.2\n",
      "275  3.53 32.4\n",
      "276  2.98 32.0\n",
      "277  6.05 33.2\n",
      "278  4.16 33.1\n",
      "279  7.19 29.1\n",
      "280  4.85 35.1\n",
      "281  3.76 45.4\n",
      "282  4.59 35.4\n",
      "283  3.01 46.0\n",
      "284  3.16 50.0\n",
      "285  7.85 32.2\n",
      "286  8.23 22.0\n",
      "287 12.93 20.1\n",
      "288  7.14 23.2\n",
      "289  7.60 22.3\n",
      "290  9.51 24.8\n",
      "291  3.33 28.5\n",
      "292  3.56 37.3\n",
      "293  4.70 27.9\n",
      "294  8.58 23.9\n",
      "295 10.40 21.7\n",
      "296  6.27 28.6\n",
      "297  7.39 27.1\n",
      "298 15.84 20.3\n",
      "299  4.97 22.5\n",
      "300  4.74 29.0\n",
      "301  6.07 24.8\n",
      "302  9.50 22.0\n",
      "303  8.67 26.4\n",
      "304  4.86 33.1\n",
      "305  6.93 36.1\n",
      "306  8.93 28.4\n",
      "307  6.47 33.4\n",
      "308  7.53 28.2\n",
      "309  4.54 22.8\n",
      "310  9.97 20.3\n",
      "311 12.64 16.1\n",
      "312  5.98 22.1\n",
      "313 11.72 19.4\n",
      "314  7.90 21.6\n",
      "315  9.28 23.8\n",
      "316 11.50 16.2\n",
      "317 18.33 17.8\n",
      "318 15.94 19.8\n",
      "319 10.36 23.1\n",
      "320 12.73 21.0\n",
      "321  7.20 23.8\n",
      "322  6.87 23.1\n",
      "323  7.70 20.4\n",
      "324 11.74 18.5\n",
      "325  6.12 25.0\n",
      "326  5.08 24.6\n",
      "327  6.15 23.0\n",
      "328 12.79 22.2\n",
      "329  9.97 19.3\n",
      "330  7.34 22.6\n",
      "331  9.09 19.8\n",
      "332 12.43 17.1\n",
      "333  7.83 19.4\n",
      "334  5.68 22.2\n",
      "335  6.75 20.7\n",
      "336  8.01 21.1\n",
      "337  9.80 19.5\n",
      "338 10.56 18.5\n",
      "339  8.51 20.6\n",
      "340  9.74 19.0\n",
      "341  9.29 18.7\n",
      "342  5.49 32.7\n",
      "343  8.65 16.5\n",
      "344  7.18 23.9\n",
      "345  4.61 31.2\n",
      "346 10.53 17.5\n",
      "347 12.67 17.2\n",
      "348  6.36 23.1\n",
      "349  5.99 24.5\n",
      "350  5.89 26.6\n",
      "351  5.98 22.9\n",
      "352  5.49 24.1\n",
      "353  7.79 18.6\n",
      "354  4.50 30.1\n",
      "355  8.05 18.2\n",
      "356  5.57 20.6\n",
      "357 17.60 17.8\n",
      "358 13.27 21.7\n",
      "359 11.48 22.7\n",
      "360 12.67 22.6\n",
      "361  7.79 25.0\n",
      "362 14.19 19.9\n",
      "363 10.19 20.8\n",
      "364 14.64 16.8\n",
      "365  5.29 21.9\n",
      "366  7.12 27.5\n",
      "367 14.00 21.9\n",
      "368 13.33 23.1\n",
      "369  3.26 50.0\n",
      "370  3.73 50.0\n",
      "371  2.96 50.0\n",
      "372  9.53 50.0\n",
      "373  8.88 50.0\n",
      "374 34.77 13.8\n",
      "375 37.97 13.8\n",
      "376 13.44 15.0\n",
      "377 23.24 13.9\n",
      "378 21.24 13.3\n",
      "379 23.69 13.1\n",
      "380 21.78 10.2\n",
      "381 17.21 10.4\n",
      "382 21.08 10.9\n",
      "383 23.60 11.3\n",
      "384 24.56 12.3\n",
      "385 30.63  8.8\n",
      "386 30.81  7.2\n",
      "387 28.28 10.5\n",
      "388 31.99  7.4\n",
      "389 30.62 10.2\n",
      "390 20.85 11.5\n",
      "391 17.11 15.1\n",
      "392 18.76 23.2\n",
      "393 25.68  9.7\n",
      "394 15.17 13.8\n",
      "395 16.35 12.7\n",
      "396 17.12 13.1\n",
      "397 19.37 12.5\n",
      "398 19.92  8.5\n",
      "399 30.59  5.0\n",
      "400 29.97  6.3\n",
      "401 26.77  5.6\n",
      "402 20.32  7.2\n",
      "403 20.31 12.1\n",
      "404 19.77  8.3\n",
      "405 27.38  8.5\n",
      "406 22.98  5.0\n",
      "407 23.34 11.9\n",
      "408 12.13 27.9\n",
      "409 26.40 17.2\n",
      "410 19.78 27.5\n",
      "411 10.11 15.0\n",
      "412 21.22 17.2\n",
      "413 34.37 17.9\n",
      "414 20.08 16.3\n",
      "415 36.98  7.0\n",
      "416 29.05  7.2\n",
      "417 25.79  7.5\n",
      "418 26.64 10.4\n",
      "419 20.62  8.8\n",
      "420 22.74  8.4\n",
      "421 15.02 16.7\n",
      "422 15.70 14.2\n",
      "423 14.10 20.8\n",
      "424 23.29 13.4\n",
      "425 17.16 11.7\n",
      "426 24.39  8.3\n",
      "427 15.69 10.2\n",
      "428 14.52 10.9\n",
      "429 21.52 11.0\n",
      "430 24.08  9.5\n",
      "431 17.64 14.5\n",
      "432 19.69 14.1\n",
      "433 12.03 16.1\n",
      "434 16.22 14.3\n",
      "435 15.17 11.7\n",
      "436 23.27 13.4\n",
      "437 18.05  9.6\n",
      "438 26.45  8.7\n",
      "439 34.02  8.4\n",
      "440 22.88 12.8\n",
      "441 22.11 10.5\n",
      "442 19.52 17.1\n",
      "443 16.59 18.4\n",
      "444 18.85 15.4\n",
      "445 23.79 10.8\n",
      "446 23.98 11.8\n",
      "447 17.79 14.9\n",
      "448 16.44 12.6\n",
      "449 18.13 14.1\n",
      "450 19.31 13.0\n",
      "451 17.44 13.4\n",
      "452 17.73 15.2\n",
      "453 17.27 16.1\n",
      "454 16.74 17.8\n",
      "455 18.71 14.9\n",
      "456 18.13 14.1\n",
      "457 19.01 12.7\n",
      "458 16.94 13.5\n",
      "459 16.23 14.9\n",
      "460 14.70 20.0\n",
      "461 16.42 16.4\n",
      "462 14.65 17.7\n",
      "463 13.99 19.5\n",
      "464 10.29 20.2\n",
      "465 13.22 21.4\n",
      "466 14.13 19.9\n",
      "467 17.15 19.0\n",
      "468 21.32 19.1\n",
      "469 18.13 19.1\n",
      "470 14.76 20.1\n",
      "471 16.29 19.9\n",
      "472 12.87 19.6\n",
      "473 14.36 23.2\n",
      "474 11.66 29.8\n",
      "475 18.14 13.8\n",
      "476 24.10 13.3\n",
      "477 18.68 16.7\n",
      "478 24.91 12.0\n",
      "479 18.03 14.6\n",
      "480 13.11 21.4\n",
      "481 10.74 23.0\n",
      "482  7.74 23.7\n",
      "483  7.01 25.0\n",
      "484 10.42 21.8\n",
      "485 13.34 20.6\n",
      "486 10.58 21.2\n",
      "487 14.98 19.1\n",
      "488 11.45 20.6\n",
      "489 18.06 15.2\n",
      "490 23.97  7.0\n",
      "491 29.68  8.1\n",
      "492 18.07 13.6\n",
      "493 13.35 20.1\n",
      "494 12.01 21.8\n",
      "495 13.59 24.5\n",
      "496 17.60 23.1\n",
      "497 21.14 19.7\n",
      "498 14.10 18.3\n",
      "499 12.92 21.2\n",
      "500 15.10 17.5\n",
      "501 14.33 16.8\n",
      "502  9.67 22.4\n",
      "503  9.08 20.6\n",
      "504  5.64 23.9\n",
      "505  6.48 22.0\n",
      "506  7.88 11.9\n"
     ]
    }
   ],
   "source": [
    "setwd(\"/Users/anbun/Documents/r_programming_exercise\")\n",
    "BostonHousing<- read.csv(\"BostonHousing.csv\")\n",
    "print(BostonHousing)"
   ]
  },
  {
   "cell_type": "code",
   "execution_count": 106,
   "metadata": {},
   "outputs": [
    {
     "name": "stdout",
     "output_type": "stream",
     "text": [
      "'data.frame':\t506 obs. of  14 variables:\n",
      " $ crim   : num  0.00632 0.02731 0.02729 0.03237 0.06905 ...\n",
      " $ zn     : num  18 0 0 0 0 0 12.5 12.5 12.5 12.5 ...\n",
      " $ indus  : num  2.31 7.07 7.07 2.18 2.18 2.18 7.87 7.87 7.87 7.87 ...\n",
      " $ chas   : int  0 0 0 0 0 0 0 0 0 0 ...\n",
      " $ nox    : num  0.538 0.469 0.469 0.458 0.458 0.458 0.524 0.524 0.524 0.524 ...\n",
      " $ rm     : num  6.58 6.42 7.18 7 7.15 ...\n",
      " $ age    : num  65.2 78.9 61.1 45.8 54.2 58.7 66.6 96.1 100 85.9 ...\n",
      " $ dis    : num  4.09 4.97 4.97 6.06 6.06 ...\n",
      " $ rad    : int  1 2 2 3 3 3 5 5 5 5 ...\n",
      " $ tax    : int  296 242 242 222 222 222 311 311 311 311 ...\n",
      " $ ptratio: num  15.3 17.8 17.8 18.7 18.7 18.7 15.2 15.2 15.2 15.2 ...\n",
      " $ b      : num  397 397 393 395 397 ...\n",
      " $ lstat  : num  4.98 9.14 4.03 2.94 5.33 ...\n",
      " $ medv   : num  24 21.6 34.7 33.4 36.2 28.7 22.9 27.1 16.5 18.9 ...\n"
     ]
    }
   ],
   "source": [
    "str(BostonHousing)"
   ]
  },
  {
   "cell_type": "markdown",
   "metadata": {},
   "source": [
    "Exercise 2\n",
    "Explore and visualize the distribution of our target variable."
   ]
  },
  {
   "cell_type": "code",
   "execution_count": 107,
   "metadata": {},
   "outputs": [
    {
     "data": {
      "text/plain": [
       "   Min. 1st Qu.  Median    Mean 3rd Qu.    Max. \n",
       "   5.00   17.02   21.20   22.53   25.00   50.00 "
      ]
     },
     "metadata": {},
     "output_type": "display_data"
    },
    {
     "ename": "ERROR",
     "evalue": "Error: Cannot use `+.gg()` with a single argument. Did you accidentally put + on a new line?\n",
     "output_type": "error",
     "traceback": [
      "Error: Cannot use `+.gg()` with a single argument. Did you accidentally put + on a new line?\nTraceback:\n",
      "1. `+.gg`(theme_bw())",
      "2. stop(\"Cannot use `+.gg()` with a single argument. \", \"Did you accidentally put + on a new line?\", \n .     call. = FALSE)"
     ]
    },
    {
     "data": {
      "image/png": "[encoded data removed]",
      "text/plain": [
       "plot without title"
      ]
     },
     "metadata": {},
     "output_type": "display_data"
    }
   ],
   "source": [
    "summary(BostonHousing$medv)\n",
    "library(ggplot2)\n",
    "pl=ggplot(data=BostonHousing,aes(x=medv))\n",
    "pl2=pl+geom_density()+stat_density()\n",
    "pl2+ labs(x=\"median value($1000s)\",\n",
    "          y=\"Density\",\n",
    "          title=\"Density plot of median value house price\")\n",
    "+theme_bw()"
   ]
  },
  {
   "cell_type": "markdown",
   "metadata": {},
   "source": [
    "Exercise 3\n",
    "Explore and visualize any potential correlations between medv and the variables crim, rm, age, rad, tax and lstat."
   ]
  },
  {
   "cell_type": "code",
   "execution_count": 108,
   "metadata": {},
   "outputs": [
    {
     "ename": "ERROR",
     "evalue": "Error in melt(., , id.vars = \"medv\"): could not find function \"melt\"\n",
     "output_type": "error",
     "traceback": [
      "Error in melt(., , id.vars = \"medv\"): could not find function \"melt\"\nTraceback:\n",
      "1. `*tmp*` %>% melt(, id.vars = \"medv\")",
      "2. withVisible(eval(quote(`_fseq`(`_lhs`)), env, env))",
      "3. eval(quote(`_fseq`(`_lhs`)), env, env)",
      "4. eval(quote(`_fseq`(`_lhs`)), env, env)",
      "5. `_fseq`(`_lhs`)",
      "6. freduce(value, `_function_list`)",
      "7. withVisible(function_list[[k]](value))",
      "8. function_list[[k]](value)"
     ]
    }
   ],
   "source": [
    "BostonHousing%>%\n",
    "select(c(crim, rm, age, rad, tax, lstat, medv)) %>%\n",
    "  melt(, id.vars = \"medv\") %>%\n",
    "bh=ggplot(data=BostonHousing,aes(x=value,y=medv,colour=variable))\n",
    "bh1=bh+geom_point()+facet_wrap(~variable,scales = \"free\",ncol = 2)+stat_smooth(aes(col=\"black\"))\n",
    "bh1+labs(x=\"variable value \",\n",
    "         y=\"median house price($1000s)\")+theme_minimal()"
   ]
  },
  {
   "cell_type": "markdown",
   "metadata": {},
   "source": [
    "Exercise 4\n",
    "Set a seed of 123 and split your data into a train and test set using a 75/25 split. You may find the caret library helpful here."
   ]
  },
  {
   "cell_type": "code",
   "execution_count": 112,
   "metadata": {},
   "outputs": [],
   "source": [
    "set.seed(123)\n",
    "to_train <- createDataPartition(y = BostonHousing$medv, p = 0.75, list = FALSE)\n",
    "train <- BostonHousing[to_train, ]\n",
    "test <- BostonHousing[-to_train, ]"
   ]
  },
  {
   "cell_type": "markdown",
   "metadata": {},
   "source": [
    "Exercise 5\n",
    "We have seen that crim, rm, tax, and lstat could be good predictors of medv. To get the ball rolling, let us fit a linear model for these terms."
   ]
  },
  {
   "cell_type": "code",
   "execution_count": 113,
   "metadata": {},
   "outputs": [],
   "source": [
    "first_lm <- lm(medv ~ crim + rm + tax + lstat, data = train)"
   ]
  },
  {
   "cell_type": "markdown",
   "metadata": {},
   "source": [
    "Exercise 6\n",
    "Obtain an r-squared value for your model and examine the diagnostic plots found by plotting your linear model."
   ]
  },
  {
   "cell_type": "code",
   "execution_count": 114,
   "metadata": {},
   "outputs": [],
   "source": [
    "lm1_rsqu <- summary(first_lm)$r.squared"
   ]
  },
  {
   "cell_type": "markdown",
   "metadata": {},
   "source": [
    "Exercise 7\n",
    "Create a data frame of your predicted values and the original values."
   ]
  },
  {
   "cell_type": "code",
   "execution_count": 115,
   "metadata": {},
   "outputs": [],
   "source": [
    "predicted <- predict(first_lm, newdata = test)\n",
    "results <- data.frame(predicted = exp(predicted),\n",
    "                      original = test$medv)"
   ]
  },
  {
   "cell_type": "markdown",
   "metadata": {},
   "source": [
    "Exercise 8\n",
    "Plot this to visualize the performance of your model.\n"
   ]
  },
  {
   "cell_type": "code",
   "execution_count": 116,
   "metadata": {},
   "outputs": [
    {
     "name": "stderr",
     "output_type": "stream",
     "text": [
      "ERROR while rich displaying an object: Error in FUN(X[[i]], ...): object 'original' not found\n",
      "\n",
      "Traceback:\n",
      "1. FUN(X[[i]], ...)\n",
      "2. tryCatch(withCallingHandlers({\n",
      " .     if (!mime %in% names(repr::mime2repr)) \n",
      " .         stop(\"No repr_* for mimetype \", mime, \" in repr::mime2repr\")\n",
      " .     rpr <- repr::mime2repr[[mime]](obj)\n",
      " .     if (is.null(rpr)) \n",
      " .         return(NULL)\n",
      " .     prepare_content(is.raw(rpr), rpr)\n",
      " . }, error = error_handler), error = outer_handler)\n",
      "3. tryCatchList(expr, classes, parentenv, handlers)\n",
      "4. tryCatchOne(expr, names, parentenv, handlers[[1L]])\n",
      "5. doTryCatch(return(expr), name, parentenv, handler)\n",
      "6. withCallingHandlers({\n",
      " .     if (!mime %in% names(repr::mime2repr)) \n",
      " .         stop(\"No repr_* for mimetype \", mime, \" in repr::mime2repr\")\n",
      " .     rpr <- repr::mime2repr[[mime]](obj)\n",
      " .     if (is.null(rpr)) \n",
      " .         return(NULL)\n",
      " .     prepare_content(is.raw(rpr), rpr)\n",
      " . }, error = error_handler)\n",
      "7. repr::mime2repr[[mime]](obj)\n",
      "8. repr_text.default(obj)\n",
      "9. paste(capture.output(print(obj)), collapse = \"\\n\")\n",
      "10. capture.output(print(obj))\n",
      "11. evalVis(expr)\n",
      "12. withVisible(eval(expr, pf))\n",
      "13. eval(expr, pf)\n",
      "14. eval(expr, pf)\n",
      "15. print(obj)\n",
      "16. print.ggplot(obj)\n",
      "17. ggplot_build(x)\n",
      "18. ggplot_build.ggplot(x)\n",
      "19. by_layer(function(l, d) l$compute_aesthetics(d, plot))\n",
      "20. f(l = layers[[i]], d = data[[i]])\n",
      "21. l$compute_aesthetics(d, plot)\n",
      "22. f(..., self = self)\n",
      "23. scales_add_defaults(plot$scales, data, aesthetics, plot$plot_env)\n",
      "24. lapply(aesthetics[new_aesthetics], rlang::eval_tidy, data = data)\n",
      "25. FUN(X[[i]], ...)\n"
     ]
    },
    {
     "data": {
      "image/png": "[encoded data removed]",
      "text/plain": [
       "plot without title"
      ]
     },
     "metadata": {},
     "output_type": "display_data"
    }
   ],
   "source": [
    "ab=ggplot(data=BostonHousing,\n",
    "       aes(x = predicted, y = original)) \n",
    "ab1=ab+geom_point() +\n",
    "  stat_smooth() \n",
    "ab1+labs(x = \"Predicted Values\", \n",
    "         y = \"Original Values\", \n",
    "       title = \"Predicted vs. Original Values\") +\n",
    "  theme_minimal()\n"
   ]
  },
  {
   "cell_type": "markdown",
   "metadata": {},
   "source": [
    "# Practice Day 10"
   ]
  },
  {
   "cell_type": "code",
   "execution_count": 127,
   "metadata": {},
   "outputs": [
    {
     "name": "stdout",
     "output_type": "stream",
     "text": [
      "package 'googleVis' successfully unpacked and MD5 sums checked\n",
      "\n",
      "The downloaded binary packages are in\n",
      "\tC:\\Users\\anbun\\AppData\\Local\\Temp\\RtmpEjZ682\\downloaded_packages\n",
      "package 'XML' successfully unpacked and MD5 sums checked\n",
      "\n",
      "The downloaded binary packages are in\n",
      "\tC:\\Users\\anbun\\AppData\\Local\\Temp\\RtmpEjZ682\\downloaded_packages\n"
     ]
    }
   ],
   "source": [
    "install.packages(\"googleVis\")\n",
    "install.packages('XML')"
   ]
  },
  {
   "cell_type": "markdown",
   "metadata": {},
   "source": [
    "Install and load the package googleVis.\n",
    "\n",
    "Create a data frame\n",
    "\n",
    "First of all let’s create an experimental data.frame to use for all our plots. This is an example:\n",
    "dfr=data.frame(name=c(\"GRE\", \"ARG\", \"BRA\"),\n",
    "val1=c(20,32,19),\n",
    "val2=c(25,52,12))\n"
   ]
  },
  {
   "cell_type": "code",
   "execution_count": 118,
   "metadata": {},
   "outputs": [
    {
     "name": "stdout",
     "output_type": "stream",
     "text": [
      "  name val1 val2\n",
      "1  GRE   20   25\n",
      "2  ARG   32   52\n",
      "3  BRA   19   12\n"
     ]
    }
   ],
   "source": [
    "dfr=data.frame(name=c(\"GRE\", \"ARG\", \"BRA\"),\n",
    "              val1=c(20,32,19),\n",
    "              val2=c(25,52,12))\n",
    "print(dfr)"
   ]
  },
  {
   "cell_type": "markdown",
   "metadata": {},
   "source": [
    "Exe: 2\n",
    "Create a data frame named “df”. Give as variables the “Pts” (Points) and “Rbs” (Rebounds) of three NBA players. Names and values are up to you.Note:\n",
    "\n",
    "Note:\n",
    "Line Chart\n",
    "To produce a Line Chart you can use:\n",
    "LineC <- gvisLineChart(df)\n",
    "plot(LineC)"
   ]
  },
  {
   "cell_type": "code",
   "execution_count": 141,
   "metadata": {},
   "outputs": [
    {
     "ename": "ERROR",
     "evalue": "Error in gvisLineChart(dfr1): could not find function \"gvisLineChart\"\n",
     "output_type": "error",
     "traceback": [
      "Error in gvisLineChart(dfr1): could not find function \"gvisLineChart\"\nTraceback:\n"
     ]
    }
   ],
   "source": [
    "dfr1=data.frame(name=c(\"Harry\", \"Niall\", \"Liam\"),\n",
    "               Pts=c(20,32,19),\n",
    "               Rbs=c(25,52,12))\n",
    "LineC=gvisLineChart(dfr1)\n",
    "plot(LineC)"
   ]
  },
  {
   "cell_type": "markdown",
   "metadata": {},
   "source": [
    "Exe: 3\n",
    "Create a list named “LineC” and pass to it the “df” data frame you just created as a line chart. HINT: Use gvisLineChart()."
   ]
  },
  {
   "cell_type": "code",
   "execution_count": 142,
   "metadata": {},
   "outputs": [
    {
     "ename": "ERROR",
     "evalue": "Error in gvisLineChart(dfr2): could not find function \"gvisLineChart\"\n",
     "output_type": "error",
     "traceback": [
      "Error in gvisLineChart(dfr2): could not find function \"gvisLineChart\"\nTraceback:\n"
     ]
    }
   ],
   "source": [
    "dfr2=data.frame(name=c(\"Harry\", \"Niall\", \"Liam\"),\n",
    "                Pts=c(20,32,19),\n",
    "                Rbs=c(25,52,12))\n",
    "LineC=gvisLineChart(dfr2)\n",
    "plot(LineC)"
   ]
  },
  {
   "cell_type": "markdown",
   "metadata": {},
   "source": [
    "Exe: 4\n",
    "Create a single axis Line chart that displays only the “Pts” of the “df” data frame."
   ]
  },
  {
   "cell_type": "code",
   "execution_count": 143,
   "metadata": {},
   "outputs": [
    {
     "ename": "ERROR",
     "evalue": "Error in gvisLineChart(dfr3, \"name\", c(\"Pts\"), ): could not find function \"gvisLineChart\"\n",
     "output_type": "error",
     "traceback": [
      "Error in gvisLineChart(dfr3, \"name\", c(\"Pts\"), ): could not find function \"gvisLineChart\"\nTraceback:\n"
     ]
    }
   ],
   "source": [
    "dfr3=data.frame(name=c(\"Harry\", \"Niall\", \"Liam\"),\n",
    "                Pts=c(20,32,19),\n",
    "                Rbs=c(25,52,12))\n",
    "lcp<- gvisLineChart(dfr3, \"name\", c(\"Pts\"),\n",
    ")\n",
    "plot(lcp)"
   ]
  },
  {
   "cell_type": "markdown",
   "metadata": {},
   "source": [
    "Exe:5\n",
    "create a two axis line chart that displays both “Pts” and “Rbs” of the “df” data frame. HINT: Use list().\n",
    "Note:\n",
    "BarC <- gvisBarChart(df)\n",
    "plot(BarC)\n",
    "Exe: 5\n",
    "Create a list named “BarC” and pass to it the “df” data frame you just created as a bar chart. HINT: Use gvisBarChart()."
   ]
  },
  {
   "cell_type": "code",
   "execution_count": 144,
   "metadata": {},
   "outputs": [
    {
     "ename": "ERROR",
     "evalue": "Error in gvisLineChart(dfr4, \"name\", c(\"Pts\", \"Rbs\"), options = list(series = \"[{targetAxisIndex: 0},\\n                         {targetAxisIndex:1}]\", : could not find function \"gvisLineChart\"\n",
     "output_type": "error",
     "traceback": [
      "Error in gvisLineChart(dfr4, \"name\", c(\"Pts\", \"Rbs\"), options = list(series = \"[{targetAxisIndex: 0},\\n                         {targetAxisIndex:1}]\", : could not find function \"gvisLineChart\"\nTraceback:\n"
     ]
    }
   ],
   "source": [
    "dfr4=data.frame(name=c(\"Harry\", \"Niall\", \"Liam\"),\n",
    "                Pts=c(20,32,19),\n",
    "                Rbs=c(25,52,12))\n",
    "lcp1=gvisLineChart(dfr4, \"name\", c(\"Pts\",\"Rbs\"),\n",
    "                        options=list(\n",
    "                          series=\"[{targetAxisIndex: 0},\n",
    "                         {targetAxisIndex:1}]\",\n",
    "                          vAxes=\"[{title:'Pts'}, {title:'Rbs'}]\"\n",
    "                        ))\n",
    "plot(lcp1)"
   ]
  }
 ],
 "metadata": {
  "kernelspec": {
   "display_name": "R",
   "language": "R",
   "name": "ir"
  },
  "language_info": {
   "codemirror_mode": "r",
   "file_extension": ".r",
   "mimetype": "text/x-r-source",
   "name": "R",
   "pygments_lexer": "r",
   "version": "3.6.1"
  }
 },
 "nbformat": 4,
 "nbformat_minor": 4
}
