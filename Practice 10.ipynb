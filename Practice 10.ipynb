{
 "cells": [
  {
   "cell_type": "markdown",
   "metadata": {},
   "source": [
    "# Exercise 1\n",
    "\n",
    "Install and load the package googleVis.\n",
    "\n",
    "Create a data frame\n",
    "\n",
    "First of all let’s create an experimental data.frame to use for all our plots. This is an example:\n",
    "dfr=data.frame(name=c(\"GRE\", \"ARG\", \"BRA\"),\n",
    "val1=c(20,32,19),\n",
    "val2=c(25,52,12))"
   ]
  },
  {
   "cell_type": "code",
   "execution_count": null,
   "metadata": {
    "scrolled": true
   },
   "outputs": [],
   "source": [
    "#install.packages(\"googleVis\")\n",
    "demo(googleVis)"
   ]
  },
  {
   "cell_type": "code",
   "execution_count": 3,
   "metadata": {},
   "outputs": [
    {
     "name": "stdout",
     "output_type": "stream",
     "text": [
      "  name val1 val2\n",
      "1  GRE   20   25\n",
      "2  ARG   32   52\n",
      "3  BRA   19   12\n"
     ]
    }
   ],
   "source": [
    "dfr=data.frame(name=c(\"GRE\", \"ARG\", \"BRA\"),\n",
    "              val1=c(20,32,19),\n",
    "              val2=c(25,52,12))\n",
    "print(dfr)"
   ]
  },
  {
   "cell_type": "markdown",
   "metadata": {},
   "source": [
    "# Exercise: 2\n",
    "Create a data frame named “df”. Give as variables the “Pts” (Points) and “Rbs” (Rebounds) of three NBA players. Names and values are up to you.\n",
    "\n",
    "Note:\n",
    "Line Chart\n",
    "To produce a Line Chart you can use:\n",
    "LineC <- gvisLineChart(df)\n",
    "plot(LineC)"
   ]
  },
  {
   "cell_type": "code",
   "execution_count": 10,
   "metadata": {},
   "outputs": [],
   "source": [
    "dfr1=data.frame(name=c(\"Harry\", \"Niall\", \"Liam\"),\n",
    "               Pts=c(20,32,19),\n",
    "               Rbs=c(25,52,12))\n",
    "LineC=gvisLineChart(dfr1)\n",
    "plot(LineC)"
   ]
  },
  {
   "cell_type": "markdown",
   "metadata": {},
   "source": [
    "# Exercise: 3\n",
    "Create a list named “LineC” and pass to it the “df” data frame you just created as a line chart. HINT: Use gvisLineChart()."
   ]
  },
  {
   "cell_type": "code",
   "execution_count": 11,
   "metadata": {},
   "outputs": [],
   "source": [
    "dfr2=data.frame(name=c(\"Harry\", \"Niall\", \"Liam\"),\n",
    "                Pts=c(20,32,19),\n",
    "                Rbs=c(25,52,12))\n",
    "LineC=gvisLineChart(dfr2)\n",
    "plot(LineC)"
   ]
  },
  {
   "cell_type": "markdown",
   "metadata": {},
   "source": [
    "# Exercise: 4\n",
    "Create a single axis Line chart that displays only the “Pts” of the “df” data frame."
   ]
  },
  {
   "cell_type": "code",
   "execution_count": 12,
   "metadata": {},
   "outputs": [],
   "source": [
    "dfr3=data.frame(name=c(\"Harry\", \"Niall\", \"Liam\"),\n",
    "                Pts=c(20,32,19),\n",
    "                Rbs=c(25,52,12))\n",
    "lcp<- gvisLineChart(dfr3, \"name\", c(\"Pts\"),\n",
    ")\n",
    "plot(lcp)"
   ]
  },
  {
   "cell_type": "markdown",
   "metadata": {},
   "source": [
    "# Exercise:5\n",
    "create a two axis line chart that displays both “Pts” and “Rbs” of the “df” data frame. HINT: Use list()."
   ]
  },
  {
   "cell_type": "code",
   "execution_count": 13,
   "metadata": {},
   "outputs": [],
   "source": [
    "dfr4=data.frame(name=c(\"Harry\", \"Niall\", \"Liam\"),\n",
    "                Pts=c(20,32,19),\n",
    "                Rbs=c(25,52,12))\n",
    "lcp1=gvisLineChart(dfr4, \"name\", c(\"Pts\",\"Rbs\"),\n",
    "                        options=list(\n",
    "                          series=\"[{targetAxisIndex: 0},\n",
    "                         {targetAxisIndex:1}]\",\n",
    "                          vAxes=\"[{title:'Pts'}, {title:'Rbs'}]\"\n",
    "                        ))\n",
    "plot(lcp1)"
   ]
  },
  {
   "cell_type": "markdown",
   "metadata": {},
   "source": [
    "# Exercise:6\n",
    "Create a list named “BarC” and pass to it the “df” data frame you just created as a bar chart. HINT: Use gvisBarChart().\n",
    "BarC <- gvisBarChart(df)\n",
    "plot(BarC)"
   ]
  },
  {
   "cell_type": "code",
   "execution_count": 14,
   "metadata": {},
   "outputs": [],
   "source": [
    "dfr5=data.frame(name=c(\"Harry\", \"Niall\", \"Liam\"),\n",
    "                Pts=c(20,32,19),\n",
    "                Rbs=c(25,52,12))\n",
    "BarC <- gvisBarChart(dfr5)\n",
    "plot(BarC)"
   ]
  },
  {
   "cell_type": "code",
   "execution_count": null,
   "metadata": {},
   "outputs": [],
   "source": []
  },
  {
   "cell_type": "code",
   "execution_count": null,
   "metadata": {},
   "outputs": [],
   "source": []
  }
 ],
 "metadata": {
  "kernelspec": {
   "display_name": "R",
   "language": "R",
   "name": "ir"
  },
  "language_info": {
   "codemirror_mode": "r",
   "file_extension": ".r",
   "mimetype": "text/x-r-source",
   "name": "R",
   "pygments_lexer": "r",
   "version": "3.6.1"
  }
 },
 "nbformat": 4,
 "nbformat_minor": 4
}
